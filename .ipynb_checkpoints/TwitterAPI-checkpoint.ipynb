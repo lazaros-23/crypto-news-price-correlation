{
 "cells": [
  {
   "cell_type": "markdown",
   "metadata": {},
   "source": [
    "# Working with Twitter API"
   ]
  },
  {
   "cell_type": "markdown",
   "metadata": {},
   "source": [
    "https://www.geeksforgeeks.org/python-sentiment-analysis-using-vader/"
   ]
  },
  {
   "cell_type": "markdown",
   "metadata": {},
   "source": [
    "https://www.tweepy.org/"
   ]
  },
  {
   "cell_type": "markdown",
   "metadata": {},
   "source": [
    "https://developer.twitter.com/en/portal/dashboard"
   ]
  },
  {
   "cell_type": "markdown",
   "metadata": {},
   "source": [
    "1. Company announcements\n",
    "2. Social Media rumors"
   ]
  },
  {
   "cell_type": "markdown",
   "metadata": {},
   "source": [
    "**Tasks**\n",
    "\n",
    "1. Get Twitter API keys\n",
    "2. Download historical tweets (limit 500.000)\n",
    "3. "
   ]
  },
  {
   "cell_type": "code",
   "execution_count": 2,
   "metadata": {},
   "outputs": [],
   "source": [
    "#import files and give access to tokens and keys\n",
    "import tweepy,json"
   ]
  },
  {
   "cell_type": "code",
   "execution_count": 4,
   "metadata": {},
   "outputs": [],
   "source": [
    "access_token=\"3353127743-2OkgIlnQ1EdTdcX3ldEVEDFmwSuJkNRSkiaRKtS\"\n",
    "access_token_secret=\"vAcNTEOeaDrwrjdazhBnorzTLRRxpFia3DQQeWbIv2eGs\"\n",
    "consumer_key=\"KTcXlredK0QaFxXvSZgq1VUy3\"\n",
    "consumer_secret=\"9jEN21pVrSkeOeWsV8SDH39hslMdqly6kMakC9lwocHkefSGLY\"\n",
    "auth= tweepy.OAuthHandler(consumer_key,consumer_secret)\n",
    "auth.set_access_token(access_token,access_token_secret)"
   ]
  },
  {
   "cell_type": "code",
   "execution_count": 7,
   "metadata": {},
   "outputs": [],
   "source": [
    "tweet_list=[]\n",
    "class MyStreamListener(tweepy.StreamListener):\n",
    "    def __init__(self,api=None):\n",
    "        super(MyStreamListener,self).__init__()\n",
    "        self.num_tweets=0\n",
    "        self.file=open(\"tweet.txt\",\"w\")\n",
    "    def on_status(self,status):\n",
    "        tweet=status._json\n",
    "        self.file.write(json.dumps(tweet)+ '\\n')\n",
    "        tweet_list.append(status)\n",
    "        self.num_tweets+=1\n",
    "        if self.num_tweets<1000:\n",
    "            return True\n",
    "        else:\n",
    "            return False\n",
    "        self.file.close()"
   ]
  },
  {
   "cell_type": "code",
   "execution_count": 8,
   "metadata": {},
   "outputs": [],
   "source": [
    "#create streaming object and authenticate\n",
    "l = MyStreamListener()\n",
    "stream =tweepy.Stream(auth,l)\n",
    "#this line filters twiiter streams to capture data by keywords\n",
    "stream.filter(track=['eth','ethereum'])"
   ]
  },
  {
   "cell_type": "code",
   "execution_count": 9,
   "metadata": {
    "scrolled": true
   },
   "outputs": [
    {
     "name": "stdout",
     "output_type": "stream",
     "text": [
      "{'created_at': 'Wed Sep 08 19:40:08 +0000 2021', 'id': 1435689430514290688, 'id_str': '1435689430514290688', 'text': 'RT @BORINGHEADERS: BORING HEADERS 4TH DROP IS NOW LIVE !! \\U0001f971🥳\\n\\n40 NEW HEADERS AT 0.03 $ETH \\n\\nHERE IS THE OS LINK: https://t.co/cWQMaCwPXu ht…', 'source': '<a href=\"http://twitter.com/download/iphone\" rel=\"nofollow\">Twitter for iPhone</a>', 'truncated': False, 'in_reply_to_status_id': None, 'in_reply_to_status_id_str': None, 'in_reply_to_user_id': None, 'in_reply_to_user_id_str': None, 'in_reply_to_screen_name': None, 'user': {'id': 1425248351231021058, 'id_str': '1425248351231021058', 'name': 'BORING HEADERS SOCIETY', 'screen_name': 'BORINGHEADERS', 'location': '0.03 ETH', 'url': 'https://theboringheaderssociety.com/', 'description': 'THE FIRST COLLECTION OF HANDMADE COLLECTIBLE HEADERS.\\n\\nOPENSEA: https://opensea.io/collection/boringheadersociety\\nDISCORD: http://discord.gg/tNte75TDXe', 'translator_type': 'none', 'protected': False, 'verified': False, 'followers_count': 1196, 'friends_count': 703, 'listed_count': 5, 'favourites_count': 592, 'statuses_count': 446, 'created_at': 'Wed Aug 11 00:11:38 +0000 2021', 'utc_offset': None, 'time_zone': None, 'geo_enabled': False, 'lang': None, 'contributors_enabled': False, 'is_translator': False, 'profile_background_color': 'F5F8FA', 'profile_background_image_url': '', 'profile_background_image_url_https': '', 'profile_background_tile': False, 'profile_link_color': '1DA1F2', 'profile_sidebar_border_color': 'C0DEED', 'profile_sidebar_fill_color': 'DDEEF6', 'profile_text_color': '333333', 'profile_use_background_image': True, 'profile_image_url': 'http://pbs.twimg.com/profile_images/1428753897527595015/BKCC6ZGJ_normal.jpg', 'profile_image_url_https': 'https://pbs.twimg.com/profile_images/1428753897527595015/BKCC6ZGJ_normal.jpg', 'profile_banner_url': 'https://pbs.twimg.com/profile_banners/1425248351231021058/1629468627', 'default_profile': True, 'default_profile_image': False, 'following': None, 'follow_request_sent': None, 'notifications': None, 'withheld_in_countries': []}, 'geo': None, 'coordinates': None, 'place': None, 'contributors': None, 'retweeted_status': {'created_at': 'Wed Sep 08 19:00:02 +0000 2021', 'id': 1435679338171568128, 'id_str': '1435679338171568128', 'text': 'BORING HEADERS 4TH DROP IS NOW LIVE !! \\U0001f971🥳\\n\\n40 NEW HEADERS AT 0.03 $ETH \\n\\nHERE IS THE OS LINK:… https://t.co/nzkHRNHEjg', 'display_text_range': [0, 140], 'source': '<a href=\"https://mobile.twitter.com\" rel=\"nofollow\">Twitter Web App</a>', 'truncated': True, 'in_reply_to_status_id': None, 'in_reply_to_status_id_str': None, 'in_reply_to_user_id': None, 'in_reply_to_user_id_str': None, 'in_reply_to_screen_name': None, 'user': {'id': 1425248351231021058, 'id_str': '1425248351231021058', 'name': 'BORING HEADERS SOCIETY', 'screen_name': 'BORINGHEADERS', 'location': '0.03 ETH', 'url': 'https://theboringheaderssociety.com/', 'description': 'THE FIRST COLLECTION OF HANDMADE COLLECTIBLE HEADERS.\\n\\nOPENSEA: https://opensea.io/collection/boringheadersociety\\nDISCORD: http://discord.gg/tNte75TDXe', 'translator_type': 'none', 'protected': False, 'verified': False, 'followers_count': 1196, 'friends_count': 703, 'listed_count': 5, 'favourites_count': 592, 'statuses_count': 445, 'created_at': 'Wed Aug 11 00:11:38 +0000 2021', 'utc_offset': None, 'time_zone': None, 'geo_enabled': False, 'lang': None, 'contributors_enabled': False, 'is_translator': False, 'profile_background_color': 'F5F8FA', 'profile_background_image_url': '', 'profile_background_image_url_https': '', 'profile_background_tile': False, 'profile_link_color': '1DA1F2', 'profile_sidebar_border_color': 'C0DEED', 'profile_sidebar_fill_color': 'DDEEF6', 'profile_text_color': '333333', 'profile_use_background_image': True, 'profile_image_url': 'http://pbs.twimg.com/profile_images/1428753897527595015/BKCC6ZGJ_normal.jpg', 'profile_image_url_https': 'https://pbs.twimg.com/profile_images/1428753897527595015/BKCC6ZGJ_normal.jpg', 'profile_banner_url': 'https://pbs.twimg.com/profile_banners/1425248351231021058/1629468627', 'default_profile': True, 'default_profile_image': False, 'following': None, 'follow_request_sent': None, 'notifications': None, 'withheld_in_countries': []}, 'geo': None, 'coordinates': None, 'place': None, 'contributors': None, 'is_quote_status': False, 'extended_tweet': {'full_text': 'BORING HEADERS 4TH DROP IS NOW LIVE !! \\U0001f971🥳\\n\\n40 NEW HEADERS AT 0.03 $ETH \\n\\nHERE IS THE OS LINK: https://t.co/cWQMaCwPXu https://t.co/XnVluZTYWv', 'display_text_range': [0, 117], 'entities': {'hashtags': [], 'urls': [{'url': 'https://t.co/cWQMaCwPXu', 'expanded_url': 'https://opensea.io/collection/boringheadersociety?collectionSlug=boringheadersociety&search[sortAscending]=false&search[sortBy]=CREATED_DATE', 'display_url': 'opensea.io/collection/bor…', 'indices': [94, 117]}], 'user_mentions': [], 'symbols': [{'text': 'ETH', 'indices': [66, 70]}], 'media': [{'id': 1435666125438738433, 'id_str': '1435666125438738433', 'indices': [118, 141], 'media_url': 'http://pbs.twimg.com/tweet_video_thumb/E-yCvA7WYAEpMTx.jpg', 'media_url_https': 'https://pbs.twimg.com/tweet_video_thumb/E-yCvA7WYAEpMTx.jpg', 'url': 'https://t.co/XnVluZTYWv', 'display_url': 'pic.twitter.com/XnVluZTYWv', 'expanded_url': 'https://twitter.com/BORINGHEADERS/status/1435679338171568128/photo/1', 'type': 'animated_gif', 'video_info': {'aspect_ratio': [3, 1], 'variants': [{'bitrate': 0, 'content_type': 'video/mp4', 'url': 'https://video.twimg.com/tweet_video/E-yCvA7WYAEpMTx.mp4'}]}, 'sizes': {'thumb': {'w': 150, 'h': 150, 'resize': 'crop'}, 'medium': {'w': 1200, 'h': 400, 'resize': 'fit'}, 'large': {'w': 1500, 'h': 500, 'resize': 'fit'}, 'small': {'w': 680, 'h': 227, 'resize': 'fit'}}}]}, 'extended_entities': {'media': [{'id': 1435666125438738433, 'id_str': '1435666125438738433', 'indices': [118, 141], 'media_url': 'http://pbs.twimg.com/tweet_video_thumb/E-yCvA7WYAEpMTx.jpg', 'media_url_https': 'https://pbs.twimg.com/tweet_video_thumb/E-yCvA7WYAEpMTx.jpg', 'url': 'https://t.co/XnVluZTYWv', 'display_url': 'pic.twitter.com/XnVluZTYWv', 'expanded_url': 'https://twitter.com/BORINGHEADERS/status/1435679338171568128/photo/1', 'type': 'animated_gif', 'video_info': {'aspect_ratio': [3, 1], 'variants': [{'bitrate': 0, 'content_type': 'video/mp4', 'url': 'https://video.twimg.com/tweet_video/E-yCvA7WYAEpMTx.mp4'}]}, 'sizes': {'thumb': {'w': 150, 'h': 150, 'resize': 'crop'}, 'medium': {'w': 1200, 'h': 400, 'resize': 'fit'}, 'large': {'w': 1500, 'h': 500, 'resize': 'fit'}, 'small': {'w': 680, 'h': 227, 'resize': 'fit'}}}]}}, 'quote_count': 0, 'reply_count': 0, 'retweet_count': 2, 'favorite_count': 4, 'entities': {'hashtags': [], 'urls': [{'url': 'https://t.co/nzkHRNHEjg', 'expanded_url': 'https://twitter.com/i/web/status/1435679338171568128', 'display_url': 'twitter.com/i/web/status/1…', 'indices': [95, 118]}], 'user_mentions': [], 'symbols': [{'text': 'ETH', 'indices': [66, 70]}]}, 'favorited': False, 'retweeted': False, 'possibly_sensitive': False, 'filter_level': 'low', 'lang': 'en'}, 'is_quote_status': False, 'quote_count': 0, 'reply_count': 0, 'retweet_count': 0, 'favorite_count': 0, 'entities': {'hashtags': [], 'urls': [{'url': 'https://t.co/cWQMaCwPXu', 'expanded_url': 'https://opensea.io/collection/boringheadersociety?collectionSlug=boringheadersociety&search[sortAscending]=false&search[sortBy]=CREATED_DATE', 'display_url': 'opensea.io/collection/bor…', 'indices': [113, 136]}], 'user_mentions': [{'screen_name': 'BORINGHEADERS', 'name': 'BORING HEADERS SOCIETY', 'id': 1425248351231021058, 'id_str': '1425248351231021058', 'indices': [3, 17]}], 'symbols': [{'text': 'ETH', 'indices': [85, 89]}]}, 'favorited': False, 'retweeted': False, 'possibly_sensitive': False, 'filter_level': 'low', 'lang': 'en', 'timestamp_ms': '1631130008711'}\n"
     ]
    }
   ],
   "source": [
    "tweets_data_path='tweet.txt'\n",
    "tweets_data=[]\n",
    "tweets_file=open(tweets_data_path,\"r\")\n",
    "#read in tweets and store on list\n",
    "for line in tweets_file:\n",
    "    tweet=json.loads(line)\n",
    "    tweets_data.append(tweet)\n",
    "tweets_file.close()\n",
    "print(tweets_data[0])"
   ]
  },
  {
   "cell_type": "code",
   "execution_count": 29,
   "metadata": {},
   "outputs": [
    {
     "data": {
      "text/plain": [
       "1000"
      ]
     },
     "execution_count": 29,
     "metadata": {},
     "output_type": "execute_result"
    }
   ],
   "source": [
    "len(tweets_data)"
   ]
  },
  {
   "cell_type": "code",
   "execution_count": 30,
   "metadata": {},
   "outputs": [],
   "source": [
    "tweet = tweets_data[300]"
   ]
  },
  {
   "cell_type": "code",
   "execution_count": 31,
   "metadata": {},
   "outputs": [
    {
     "data": {
      "text/plain": [
       "dict_keys(['created_at', 'id', 'id_str', 'text', 'source', 'truncated', 'in_reply_to_status_id', 'in_reply_to_status_id_str', 'in_reply_to_user_id', 'in_reply_to_user_id_str', 'in_reply_to_screen_name', 'user', 'geo', 'coordinates', 'place', 'contributors', 'retweeted_status', 'is_quote_status', 'quote_count', 'reply_count', 'retweet_count', 'favorite_count', 'entities', 'favorited', 'retweeted', 'filter_level', 'lang', 'timestamp_ms'])"
      ]
     },
     "execution_count": 31,
     "metadata": {},
     "output_type": "execute_result"
    }
   ],
   "source": [
    "tweet.keys()"
   ]
  },
  {
   "cell_type": "code",
   "execution_count": 32,
   "metadata": {},
   "outputs": [
    {
     "data": {
      "text/plain": [
       "'🚨#TheShibLord 🚨 Day3 🚨\\n\\n⏱ #60SecondShillingShowdown ⏱\\n\\n📈Todays Token; @SBJesusToken 📈\\n\\n#Erc20 #lowcapgem \\n\\n💸 #GiveawayAlert 💸\\n🕰 24 Hours 🕰\\n💰 Prize = $100  $eth 💰\\n\\n👇To enter;\\n\\n🔂 RT &amp; LIKE ❤️\\n‼️Follow @SBJesusToken ‼️\\n👥 Tag 2 people 👥\\n\\nhttps://t.co/8zOX0WIb5I https://t.co/woVB2AwJOW'"
      ]
     },
     "execution_count": 32,
     "metadata": {},
     "output_type": "execute_result"
    }
   ],
   "source": [
    "tweet[\"retweeted_status\"][\"extended_tweet\"][\"full_text\"]"
   ]
  },
  {
   "cell_type": "markdown",
   "metadata": {},
   "source": [
    "# Detecting the sentiment in accounts"
   ]
  },
  {
   "cell_type": "code",
   "execution_count": null,
   "metadata": {},
   "outputs": [],
   "source": [
    "https://livecodestream.dev/post/detecting-the-sentiment-on-elon-musks-tweets-with-python/"
   ]
  },
  {
   "cell_type": "code",
   "execution_count": null,
   "metadata": {},
   "outputs": [],
   "source": [
    "accounts = [\"Elon Musk\", \"Binance\", \"Coinbase\", \"ethereum\"]"
   ]
  },
  {
   "cell_type": "code",
   "execution_count": null,
   "metadata": {},
   "outputs": [],
   "source": []
  }
 ],
 "metadata": {
  "interpreter": {
   "hash": "df0893f56f349688326838aaeea0de204df53a132722cbd565e54b24a8fec5f6"
  },
  "kernelspec": {
   "display_name": "Python 3",
   "language": "python",
   "name": "python3"
  },
  "language_info": {
   "codemirror_mode": {
    "name": "ipython",
    "version": 3
   },
   "file_extension": ".py",
   "mimetype": "text/x-python",
   "name": "python",
   "nbconvert_exporter": "python",
   "pygments_lexer": "ipython3",
   "version": "3.7.9"
  },
  "toc": {
   "base_numbering": 1,
   "nav_menu": {},
   "number_sections": true,
   "sideBar": true,
   "skip_h1_title": false,
   "title_cell": "Table of Contents",
   "title_sidebar": "Contents",
   "toc_cell": false,
   "toc_position": {},
   "toc_section_display": true,
   "toc_window_display": true
  }
 },
 "nbformat": 4,
 "nbformat_minor": 2
}
