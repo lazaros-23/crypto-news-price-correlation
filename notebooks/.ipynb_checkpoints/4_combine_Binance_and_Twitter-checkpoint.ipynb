{
 "cells": [
  {
   "cell_type": "markdown",
   "id": "collected-gossip",
   "metadata": {},
   "source": [
    "# Combine Binance and Twitter data"
   ]
  },
  {
   "cell_type": "markdown",
   "id": "square-growing",
   "metadata": {},
   "source": [
    "**Project Design Document:** https://docs.google.com/drawings/d/1JbpGdQX-BJsWonSfLEyi8_PxJepc_7Xjsn8U0kIOkLs/edit"
   ]
  },
  {
   "cell_type": "markdown",
   "id": "smooth-moisture",
   "metadata": {},
   "source": [
    "## Setup"
   ]
  },
  {
   "cell_type": "code",
   "execution_count": 1,
   "id": "rough-prerequisite",
   "metadata": {},
   "outputs": [],
   "source": [
    "# Python 3.7.9\n",
    "\n",
    "############### UNCOMMENT AND  RUN THIS TO INSTALL LIBRARIES\n",
    "\n",
    "# ! pip install numpy==1.19.5\n",
    "# ! pip install pandas==1.2.3\n",
    "# ! pip install plotly==4.12.0"
   ]
  },
  {
   "cell_type": "code",
   "execution_count": 2,
   "id": "modified-lloyd",
   "metadata": {},
   "outputs": [],
   "source": [
    "# Load libraries\n",
    "import numpy as np\n",
    "import pandas as pd\n",
    "from pandas import json_normalize\n",
    "from tqdm import tqdm\n",
    "tqdm.pandas()\n",
    "\n",
    "pd.set_option('display.float_format', lambda x: '%.5f' % x)\n",
    "pd.set_option('display.max_columns',500)\n",
    "pd.set_option('display.max_colwidth', None)\n",
    "\n",
    "import matplotlib.pyplot as plt\n",
    "import seaborn as sns\n",
    "sns.set(rc={'figure.figsize':(13,6)})\n",
    "\n",
    "import plotly\n",
    "import plotly.express as px\n",
    "import plotly.graph_objects as go"
   ]
  },
  {
   "cell_type": "code",
   "execution_count": 3,
   "id": "unknown-magnitude",
   "metadata": {},
   "outputs": [
    {
     "name": "stdout",
     "output_type": "stream",
     "text": [
      "Python: 3.7.9 (default, Aug 31 2020, 12:42:55) \n",
      "[GCC 7.3.0]\n",
      "Numpy: 1.19.5\n",
      "Pandas: 1.2.3\n",
      "Plotly: 4.12.0\n"
     ]
    }
   ],
   "source": [
    "print(\"Python:\", sys.version)\n",
    "print(\"Numpy:\", np.__version__)\n",
    "print(\"Pandas:\", pd.__version__)\n",
    "print(\"Plotly:\", plotly.__version__)"
   ]
  },
  {
   "cell_type": "markdown",
   "id": "julian-costs",
   "metadata": {},
   "source": [
    "## Widgets"
   ]
  },
  {
   "cell_type": "code",
   "execution_count": 4,
   "id": "duplicate-oklahoma",
   "metadata": {},
   "outputs": [],
   "source": [
    "## Widgets\n",
    "import ipywidgets as widgets"
   ]
  },
  {
   "cell_type": "code",
   "execution_count": 5,
   "id": "occupational-samba",
   "metadata": {},
   "outputs": [
    {
     "data": {
      "application/vnd.jupyter.widget-view+json": {
       "model_id": "408bc2057ae24522ac0bb05fb621094d",
       "version_major": 2,
       "version_minor": 0
      },
      "text/plain": [
       "Text(value='Hello World!', disabled=True)"
      ]
     },
     "metadata": {},
     "output_type": "display_data"
    }
   ],
   "source": [
    "widgets.Text(value='Hello World!', disabled=True)"
   ]
  },
  {
   "cell_type": "code",
   "execution_count": 73,
   "id": "institutional-lucas",
   "metadata": {},
   "outputs": [
    {
     "data": {
      "application/vnd.jupyter.widget-view+json": {
       "model_id": "8b011a6cf5704f149aac2a33fcfd8fdf",
       "version_major": 2,
       "version_minor": 0
      },
      "text/plain": [
       "Dropdown(description='Number:', index=1, options=('1', '2', '3'), value='2')"
      ]
     },
     "metadata": {},
     "output_type": "display_data"
    }
   ],
   "source": [
    "widgets.Dropdown(\n",
    "    options=['1', '2', '3'],\n",
    "    value='2',\n",
    "    description='Number:',\n",
    "    disabled=False,\n",
    ")"
   ]
  },
  {
   "cell_type": "code",
   "execution_count": null,
   "id": "acting-beads",
   "metadata": {},
   "outputs": [],
   "source": []
  },
  {
   "cell_type": "markdown",
   "id": "innocent-houston",
   "metadata": {},
   "source": [
    "## Load Binance dataset"
   ]
  },
  {
   "cell_type": "code",
   "execution_count": 6,
   "id": "threaded-republican",
   "metadata": {},
   "outputs": [],
   "source": [
    "# Binance\n",
    "# binance_df = pd.read_csv(\"../data/ETHUSDT_1d_price_data.csv\", index_col=0)\n",
    "binance_df = pd.read_csv(\"../data/NMRUSDT_1d_price_data.csv\", index_col=0)"
   ]
  },
  {
   "cell_type": "code",
   "execution_count": 7,
   "id": "difficult-change",
   "metadata": {},
   "outputs": [
    {
     "data": {
      "text/plain": [
       "(402, 18)"
      ]
     },
     "execution_count": 7,
     "metadata": {},
     "output_type": "execute_result"
    }
   ],
   "source": [
    "binance_df.shape"
   ]
  },
  {
   "cell_type": "code",
   "execution_count": 8,
   "id": "corresponding-baker",
   "metadata": {},
   "outputs": [
    {
     "data": {
      "text/html": [
       "<div>\n",
       "<style scoped>\n",
       "    .dataframe tbody tr th:only-of-type {\n",
       "        vertical-align: middle;\n",
       "    }\n",
       "\n",
       "    .dataframe tbody tr th {\n",
       "        vertical-align: top;\n",
       "    }\n",
       "\n",
       "    .dataframe thead th {\n",
       "        text-align: right;\n",
       "    }\n",
       "</style>\n",
       "<table border=\"1\" class=\"dataframe\">\n",
       "  <thead>\n",
       "    <tr style=\"text-align: right;\">\n",
       "      <th></th>\n",
       "      <th>open_time</th>\n",
       "      <th>close_time</th>\n",
       "      <th>open</th>\n",
       "      <th>high</th>\n",
       "      <th>low</th>\n",
       "      <th>close</th>\n",
       "      <th>volume</th>\n",
       "      <th>num_trades</th>\n",
       "      <th>MA_10</th>\n",
       "      <th>STD_10</th>\n",
       "      <th>Price_Change</th>\n",
       "      <th>Price_Change%</th>\n",
       "      <th>Change</th>\n",
       "      <th>upper_bound</th>\n",
       "      <th>lower_bound</th>\n",
       "      <th>above_bound</th>\n",
       "      <th>below_bound</th>\n",
       "      <th>cross_bounds</th>\n",
       "    </tr>\n",
       "  </thead>\n",
       "  <tbody>\n",
       "    <tr>\n",
       "      <th>2020-08-20 02:59:59.999</th>\n",
       "      <td>2020-08-19 00:00:00.000</td>\n",
       "      <td>2020-08-19 23:59:59.999</td>\n",
       "      <td>50.42000</td>\n",
       "      <td>50.42000</td>\n",
       "      <td>37.77000</td>\n",
       "      <td>42.07900</td>\n",
       "      <td>11838.17200</td>\n",
       "      <td>4880</td>\n",
       "      <td>NaN</td>\n",
       "      <td>NaN</td>\n",
       "      <td>NaN</td>\n",
       "      <td>NaN</td>\n",
       "      <td>NaN</td>\n",
       "      <td>NaN</td>\n",
       "      <td>NaN</td>\n",
       "      <td>False</td>\n",
       "      <td>False</td>\n",
       "      <td>neutral</td>\n",
       "    </tr>\n",
       "    <tr>\n",
       "      <th>2020-08-21 02:59:59.999</th>\n",
       "      <td>2020-08-20 00:00:00.000</td>\n",
       "      <td>2020-08-20 23:59:59.999</td>\n",
       "      <td>42.28100</td>\n",
       "      <td>53.88000</td>\n",
       "      <td>39.54200</td>\n",
       "      <td>46.93000</td>\n",
       "      <td>62972.51400</td>\n",
       "      <td>18560</td>\n",
       "      <td>NaN</td>\n",
       "      <td>NaN</td>\n",
       "      <td>4.85000</td>\n",
       "      <td>11.53000</td>\n",
       "      <td>Increase</td>\n",
       "      <td>NaN</td>\n",
       "      <td>NaN</td>\n",
       "      <td>False</td>\n",
       "      <td>False</td>\n",
       "      <td>neutral</td>\n",
       "    </tr>\n",
       "    <tr>\n",
       "      <th>2020-08-22 02:59:59.999</th>\n",
       "      <td>2020-08-21 00:00:00.000</td>\n",
       "      <td>2020-08-21 23:59:59.999</td>\n",
       "      <td>46.95200</td>\n",
       "      <td>52.10000</td>\n",
       "      <td>41.35200</td>\n",
       "      <td>41.89600</td>\n",
       "      <td>47528.20400</td>\n",
       "      <td>19241</td>\n",
       "      <td>NaN</td>\n",
       "      <td>NaN</td>\n",
       "      <td>-5.03000</td>\n",
       "      <td>-10.73000</td>\n",
       "      <td>Decrease</td>\n",
       "      <td>NaN</td>\n",
       "      <td>NaN</td>\n",
       "      <td>False</td>\n",
       "      <td>False</td>\n",
       "      <td>neutral</td>\n",
       "    </tr>\n",
       "    <tr>\n",
       "      <th>2020-08-23 02:59:59.999</th>\n",
       "      <td>2020-08-22 00:00:00.000</td>\n",
       "      <td>2020-08-22 23:59:59.999</td>\n",
       "      <td>42.18100</td>\n",
       "      <td>51.00000</td>\n",
       "      <td>41.07200</td>\n",
       "      <td>47.97800</td>\n",
       "      <td>19932.14700</td>\n",
       "      <td>8238</td>\n",
       "      <td>NaN</td>\n",
       "      <td>NaN</td>\n",
       "      <td>6.08000</td>\n",
       "      <td>14.52000</td>\n",
       "      <td>Increase</td>\n",
       "      <td>NaN</td>\n",
       "      <td>NaN</td>\n",
       "      <td>False</td>\n",
       "      <td>False</td>\n",
       "      <td>neutral</td>\n",
       "    </tr>\n",
       "    <tr>\n",
       "      <th>2020-08-24 02:59:59.999</th>\n",
       "      <td>2020-08-23 00:00:00.000</td>\n",
       "      <td>2020-08-23 23:59:59.999</td>\n",
       "      <td>48.04800</td>\n",
       "      <td>48.05700</td>\n",
       "      <td>42.82800</td>\n",
       "      <td>43.59100</td>\n",
       "      <td>17284.85500</td>\n",
       "      <td>6039</td>\n",
       "      <td>NaN</td>\n",
       "      <td>NaN</td>\n",
       "      <td>-4.39000</td>\n",
       "      <td>-9.14000</td>\n",
       "      <td>Decrease</td>\n",
       "      <td>NaN</td>\n",
       "      <td>NaN</td>\n",
       "      <td>False</td>\n",
       "      <td>False</td>\n",
       "      <td>neutral</td>\n",
       "    </tr>\n",
       "  </tbody>\n",
       "</table>\n",
       "</div>"
      ],
      "text/plain": [
       "                                       open_time               close_time  \\\n",
       "2020-08-20 02:59:59.999  2020-08-19 00:00:00.000  2020-08-19 23:59:59.999   \n",
       "2020-08-21 02:59:59.999  2020-08-20 00:00:00.000  2020-08-20 23:59:59.999   \n",
       "2020-08-22 02:59:59.999  2020-08-21 00:00:00.000  2020-08-21 23:59:59.999   \n",
       "2020-08-23 02:59:59.999  2020-08-22 00:00:00.000  2020-08-22 23:59:59.999   \n",
       "2020-08-24 02:59:59.999  2020-08-23 00:00:00.000  2020-08-23 23:59:59.999   \n",
       "\n",
       "                            open     high      low    close      volume  \\\n",
       "2020-08-20 02:59:59.999 50.42000 50.42000 37.77000 42.07900 11838.17200   \n",
       "2020-08-21 02:59:59.999 42.28100 53.88000 39.54200 46.93000 62972.51400   \n",
       "2020-08-22 02:59:59.999 46.95200 52.10000 41.35200 41.89600 47528.20400   \n",
       "2020-08-23 02:59:59.999 42.18100 51.00000 41.07200 47.97800 19932.14700   \n",
       "2020-08-24 02:59:59.999 48.04800 48.05700 42.82800 43.59100 17284.85500   \n",
       "\n",
       "                         num_trades  MA_10  STD_10  Price_Change  \\\n",
       "2020-08-20 02:59:59.999        4880    NaN     NaN           NaN   \n",
       "2020-08-21 02:59:59.999       18560    NaN     NaN       4.85000   \n",
       "2020-08-22 02:59:59.999       19241    NaN     NaN      -5.03000   \n",
       "2020-08-23 02:59:59.999        8238    NaN     NaN       6.08000   \n",
       "2020-08-24 02:59:59.999        6039    NaN     NaN      -4.39000   \n",
       "\n",
       "                         Price_Change%    Change  upper_bound  lower_bound  \\\n",
       "2020-08-20 02:59:59.999            NaN       NaN          NaN          NaN   \n",
       "2020-08-21 02:59:59.999       11.53000  Increase          NaN          NaN   \n",
       "2020-08-22 02:59:59.999      -10.73000  Decrease          NaN          NaN   \n",
       "2020-08-23 02:59:59.999       14.52000  Increase          NaN          NaN   \n",
       "2020-08-24 02:59:59.999       -9.14000  Decrease          NaN          NaN   \n",
       "\n",
       "                         above_bound  below_bound cross_bounds  \n",
       "2020-08-20 02:59:59.999        False        False      neutral  \n",
       "2020-08-21 02:59:59.999        False        False      neutral  \n",
       "2020-08-22 02:59:59.999        False        False      neutral  \n",
       "2020-08-23 02:59:59.999        False        False      neutral  \n",
       "2020-08-24 02:59:59.999        False        False      neutral  "
      ]
     },
     "execution_count": 8,
     "metadata": {},
     "output_type": "execute_result"
    }
   ],
   "source": [
    "binance_df.head()"
   ]
  },
  {
   "cell_type": "code",
   "execution_count": 9,
   "id": "together-carpet",
   "metadata": {},
   "outputs": [],
   "source": [
    "# Create open_time_date column\n",
    "binance_df[\"open_time_date\"] = pd.to_datetime(binance_df[\"open_time\"])"
   ]
  },
  {
   "cell_type": "code",
   "execution_count": 10,
   "id": "empty-topic",
   "metadata": {},
   "outputs": [
    {
     "data": {
      "text/plain": [
       "open_time                 object\n",
       "close_time                object\n",
       "open                     float64\n",
       "high                     float64\n",
       "low                      float64\n",
       "close                    float64\n",
       "volume                   float64\n",
       "num_trades                 int64\n",
       "MA_10                    float64\n",
       "STD_10                   float64\n",
       "Price_Change             float64\n",
       "Price_Change%            float64\n",
       "Change                    object\n",
       "upper_bound              float64\n",
       "lower_bound              float64\n",
       "above_bound                 bool\n",
       "below_bound                 bool\n",
       "cross_bounds              object\n",
       "open_time_date    datetime64[ns]\n",
       "dtype: object"
      ]
     },
     "execution_count": 10,
     "metadata": {},
     "output_type": "execute_result"
    }
   ],
   "source": [
    "binance_df.dtypes"
   ]
  },
  {
   "cell_type": "code",
   "execution_count": 11,
   "id": "outside-realtor",
   "metadata": {},
   "outputs": [
    {
     "data": {
      "text/plain": [
       "above_bound  below_bound\n",
       "False        False          349\n",
       "True         False           43\n",
       "False        True             9\n",
       "True         True             1\n",
       "dtype: int64"
      ]
     },
     "execution_count": 11,
     "metadata": {},
     "output_type": "execute_result"
    }
   ],
   "source": [
    "## Conclusions\n",
    "\n",
    "# - There aren't any day crossing both upper and low bound!\n",
    "# - There are 38 days crossing above bound\n",
    "# - There are 31 days crossing below bound\n",
    "\n",
    "binance_df[[\"above_bound\", \"below_bound\"]].value_counts()"
   ]
  },
  {
   "cell_type": "code",
   "execution_count": 12,
   "id": "recovered-serve",
   "metadata": {},
   "outputs": [],
   "source": [
    "# Create cross_bounds columns [above, below, neutral]\n",
    "\n",
    "def create_cross_bounds(row):\n",
    "    if row['above_bound'] :\n",
    "        return 'above'\n",
    "    elif row['below_bound'] :\n",
    "        return 'below'\n",
    "    else:\n",
    "        return \"neutral\"\n",
    "    \n",
    "binance_df[\"cross_bounds\"] = binance_df.apply(lambda row: create_cross_bounds(row), axis=1)"
   ]
  },
  {
   "cell_type": "markdown",
   "id": "optional-revision",
   "metadata": {},
   "source": [
    "## Load twitter dataset"
   ]
  },
  {
   "cell_type": "code",
   "execution_count": 13,
   "id": "driven-serum",
   "metadata": {},
   "outputs": [],
   "source": [
    "## Load tweets\n",
    "\n",
    "# tweets_df = pd.read_csv(\"../data/ETH_twitter_api_sentiment.csv\", index_col=0)\n",
    "tweets_df = pd.read_csv(\"../data/NMR_twitter_api_sentiment.csv\")"
   ]
  },
  {
   "cell_type": "code",
   "execution_count": 14,
   "id": "severe-vampire",
   "metadata": {},
   "outputs": [
    {
     "data": {
      "text/plain": [
       "(24808, 11)"
      ]
     },
     "execution_count": 14,
     "metadata": {},
     "output_type": "execute_result"
    }
   ],
   "source": [
    "tweets_df.shape"
   ]
  },
  {
   "cell_type": "code",
   "execution_count": 15,
   "id": "lovely-mason",
   "metadata": {},
   "outputs": [
    {
     "data": {
      "text/html": [
       "<div>\n",
       "<style scoped>\n",
       "    .dataframe tbody tr th:only-of-type {\n",
       "        vertical-align: middle;\n",
       "    }\n",
       "\n",
       "    .dataframe tbody tr th {\n",
       "        vertical-align: top;\n",
       "    }\n",
       "\n",
       "    .dataframe thead th {\n",
       "        text-align: right;\n",
       "    }\n",
       "</style>\n",
       "<table border=\"1\" class=\"dataframe\">\n",
       "  <thead>\n",
       "    <tr style=\"text-align: right;\">\n",
       "      <th></th>\n",
       "      <th>author_id</th>\n",
       "      <th>created_at</th>\n",
       "      <th>tweet_id</th>\n",
       "      <th>text</th>\n",
       "      <th>like_count</th>\n",
       "      <th>quote_count</th>\n",
       "      <th>reply_count</th>\n",
       "      <th>retweet_count</th>\n",
       "      <th>created_at_date</th>\n",
       "      <th>created_at_date_hour</th>\n",
       "      <th>sentiment</th>\n",
       "    </tr>\n",
       "  </thead>\n",
       "  <tbody>\n",
       "    <tr>\n",
       "      <th>0</th>\n",
       "      <td>1141208687001780225</td>\n",
       "      <td>2021-08-30 23:46:47+00:00</td>\n",
       "      <td>1432490010046078977</td>\n",
       "      <td>$nmr\\n🔻 decreased 4.34% in 9.8 hour(s)\\n💵 pric...</td>\n",
       "      <td>0</td>\n",
       "      <td>0</td>\n",
       "      <td>0</td>\n",
       "      <td>0</td>\n",
       "      <td>2021-08-30</td>\n",
       "      <td>2021-08-30 23</td>\n",
       "      <td>0.00000</td>\n",
       "    </tr>\n",
       "    <tr>\n",
       "      <th>1</th>\n",
       "      <td>1150271775273619456</td>\n",
       "      <td>2021-08-30 23:41:40+00:00</td>\n",
       "      <td>1432488721979527169</td>\n",
       "      <td>$bnt $crv $nmr $ogn $rep $req $cvc $mln keep a...</td>\n",
       "      <td>3</td>\n",
       "      <td>0</td>\n",
       "      <td>1</td>\n",
       "      <td>0</td>\n",
       "      <td>2021-08-30</td>\n",
       "      <td>2021-08-30 23</td>\n",
       "      <td>0.12800</td>\n",
       "    </tr>\n",
       "    <tr>\n",
       "      <th>2</th>\n",
       "      <td>23025079</td>\n",
       "      <td>2021-08-30 23:21:26+00:00</td>\n",
       "      <td>1432483630341820421</td>\n",
       "      <td>$coti added some 33s 💁‍♂️🙈\\n$btc $eth $mkr $aa...</td>\n",
       "      <td>4</td>\n",
       "      <td>1</td>\n",
       "      <td>14</td>\n",
       "      <td>1</td>\n",
       "      <td>2021-08-30</td>\n",
       "      <td>2021-08-30 23</td>\n",
       "      <td>0.00000</td>\n",
       "    </tr>\n",
       "    <tr>\n",
       "      <th>3</th>\n",
       "      <td>1329640297760911361</td>\n",
       "      <td>2021-08-30 23:09:30+00:00</td>\n",
       "      <td>1432480627274629130</td>\n",
       "      <td>no monster no gain!\\n\\nmarket analysis &amp;amp; r...</td>\n",
       "      <td>0</td>\n",
       "      <td>0</td>\n",
       "      <td>0</td>\n",
       "      <td>0</td>\n",
       "      <td>2021-08-30</td>\n",
       "      <td>2021-08-30 23</td>\n",
       "      <td>0.40270</td>\n",
       "    </tr>\n",
       "    <tr>\n",
       "      <th>4</th>\n",
       "      <td>2896209087</td>\n",
       "      <td>2021-08-30 22:52:57+00:00</td>\n",
       "      <td>1432476464742608906</td>\n",
       "      <td>$nmr decision time is coming soon. i see two p...</td>\n",
       "      <td>3</td>\n",
       "      <td>0</td>\n",
       "      <td>1</td>\n",
       "      <td>0</td>\n",
       "      <td>2021-08-30</td>\n",
       "      <td>2021-08-30 22</td>\n",
       "      <td>0.00000</td>\n",
       "    </tr>\n",
       "  </tbody>\n",
       "</table>\n",
       "</div>"
      ],
      "text/plain": [
       "             author_id                 created_at             tweet_id  \\\n",
       "0  1141208687001780225  2021-08-30 23:46:47+00:00  1432490010046078977   \n",
       "1  1150271775273619456  2021-08-30 23:41:40+00:00  1432488721979527169   \n",
       "2             23025079  2021-08-30 23:21:26+00:00  1432483630341820421   \n",
       "3  1329640297760911361  2021-08-30 23:09:30+00:00  1432480627274629130   \n",
       "4           2896209087  2021-08-30 22:52:57+00:00  1432476464742608906   \n",
       "\n",
       "                                                text  like_count  quote_count  \\\n",
       "0  $nmr\\n🔻 decreased 4.34% in 9.8 hour(s)\\n💵 pric...           0            0   \n",
       "1  $bnt $crv $nmr $ogn $rep $req $cvc $mln keep a...           3            0   \n",
       "2  $coti added some 33s 💁‍♂️🙈\\n$btc $eth $mkr $aa...           4            1   \n",
       "3  no monster no gain!\\n\\nmarket analysis &amp; r...           0            0   \n",
       "4  $nmr decision time is coming soon. i see two p...           3            0   \n",
       "\n",
       "   reply_count  retweet_count created_at_date created_at_date_hour  sentiment  \n",
       "0            0              0      2021-08-30        2021-08-30 23    0.00000  \n",
       "1            1              0      2021-08-30        2021-08-30 23    0.12800  \n",
       "2           14              1      2021-08-30        2021-08-30 23    0.00000  \n",
       "3            0              0      2021-08-30        2021-08-30 23    0.40270  \n",
       "4            1              0      2021-08-30        2021-08-30 22    0.00000  "
      ]
     },
     "execution_count": 15,
     "metadata": {},
     "output_type": "execute_result"
    }
   ],
   "source": [
    "tweets_df.head()"
   ]
  },
  {
   "cell_type": "code",
   "execution_count": 16,
   "id": "manufactured-blond",
   "metadata": {},
   "outputs": [],
   "source": [
    "# Fix date column\n",
    "tweets_df[\"created_at_date\"] = pd.to_datetime(tweets_df[\"created_at_date\"])"
   ]
  },
  {
   "cell_type": "code",
   "execution_count": 17,
   "id": "ultimate-hurricane",
   "metadata": {},
   "outputs": [
    {
     "data": {
      "text/plain": [
       "author_id                        int64\n",
       "created_at                      object\n",
       "tweet_id                         int64\n",
       "text                            object\n",
       "like_count                       int64\n",
       "quote_count                      int64\n",
       "reply_count                      int64\n",
       "retweet_count                    int64\n",
       "created_at_date         datetime64[ns]\n",
       "created_at_date_hour            object\n",
       "sentiment                      float64\n",
       "dtype: object"
      ]
     },
     "execution_count": 17,
     "metadata": {},
     "output_type": "execute_result"
    }
   ],
   "source": [
    "tweets_df.dtypes"
   ]
  },
  {
   "cell_type": "code",
   "execution_count": 18,
   "id": "norwegian-format",
   "metadata": {},
   "outputs": [],
   "source": [
    "## Fix columns\n",
    "tweets_df[\"like_count\"] = pd.to_numeric(tweets_df[\"like_count\"],  errors='coerce')\n",
    "tweets_df[\"quote_count\"] = pd.to_numeric(tweets_df[\"quote_count\"],  errors='coerce')\n",
    "tweets_df[\"reply_count\"] = pd.to_numeric(tweets_df[\"reply_count\"],  errors='coerce')\n",
    "tweets_df[\"retweet_count\"] = pd.to_numeric(tweets_df[\"retweet_count\"],  errors='coerce')"
   ]
  },
  {
   "cell_type": "code",
   "execution_count": 19,
   "id": "boxed-netherlands",
   "metadata": {},
   "outputs": [],
   "source": [
    "# Create weighted_sentiment_v1\n",
    "\n",
    "# ['like_count', 'quote_count', 'reply_count', 'retweet_count']\n",
    "\n",
    "tweets_df[\"weighted_sentiment_v1\"] = tweets_df[\"sentiment\"] * tweets_df[\"like_count\"]\n",
    "tweets_df[\"weighted_sentiment_v2\"] = tweets_df[\"sentiment\"] * tweets_df[\"quote_count\"]\n",
    "tweets_df[\"weighted_sentiment_v3\"] = tweets_df[\"sentiment\"] * tweets_df[\"reply_count\"]\n",
    "tweets_df[\"weighted_sentiment_v4\"] = tweets_df[\"sentiment\"] * tweets_df[\"retweet_count\"]\n",
    "\n",
    "tweets_df[\"weighted_sentiment_v5\"] = tweets_df[\"sentiment\"] * (tweets_df[\"like_count\"]+tweets_df[\"retweet_count\"])\n",
    "tweets_df[\"weighted_sentiment_v6\"] = tweets_df[\"sentiment\"] * (tweets_df[\"like_count\"]+tweets_df[\"quote_count\"]+tweets_df[\"reply_count\"]+tweets_df[\"retweet_count\"])"
   ]
  },
  {
   "cell_type": "code",
   "execution_count": 20,
   "id": "streaming-stretch",
   "metadata": {},
   "outputs": [
    {
     "data": {
      "text/html": [
       "<div>\n",
       "<style scoped>\n",
       "    .dataframe tbody tr th:only-of-type {\n",
       "        vertical-align: middle;\n",
       "    }\n",
       "\n",
       "    .dataframe tbody tr th {\n",
       "        vertical-align: top;\n",
       "    }\n",
       "\n",
       "    .dataframe thead th {\n",
       "        text-align: right;\n",
       "    }\n",
       "</style>\n",
       "<table border=\"1\" class=\"dataframe\">\n",
       "  <thead>\n",
       "    <tr style=\"text-align: right;\">\n",
       "      <th></th>\n",
       "      <th>sentiment</th>\n",
       "      <th>weighted_sentiment_v1</th>\n",
       "      <th>weighted_sentiment_v2</th>\n",
       "      <th>weighted_sentiment_v3</th>\n",
       "      <th>weighted_sentiment_v4</th>\n",
       "      <th>weighted_sentiment_v5</th>\n",
       "      <th>weighted_sentiment_v6</th>\n",
       "    </tr>\n",
       "  </thead>\n",
       "  <tbody>\n",
       "    <tr>\n",
       "      <th>count</th>\n",
       "      <td>24808.00000</td>\n",
       "      <td>24808.00000</td>\n",
       "      <td>24808.00000</td>\n",
       "      <td>24808.00000</td>\n",
       "      <td>24808.00000</td>\n",
       "      <td>24808.00000</td>\n",
       "      <td>24808.00000</td>\n",
       "    </tr>\n",
       "    <tr>\n",
       "      <th>mean</th>\n",
       "      <td>0.28982</td>\n",
       "      <td>0.82310</td>\n",
       "      <td>0.02286</td>\n",
       "      <td>0.09544</td>\n",
       "      <td>0.17207</td>\n",
       "      <td>0.99518</td>\n",
       "      <td>1.11348</td>\n",
       "    </tr>\n",
       "    <tr>\n",
       "      <th>std</th>\n",
       "      <td>0.43684</td>\n",
       "      <td>7.43767</td>\n",
       "      <td>0.24868</td>\n",
       "      <td>1.42404</td>\n",
       "      <td>1.81234</td>\n",
       "      <td>9.04719</td>\n",
       "      <td>10.05378</td>\n",
       "    </tr>\n",
       "    <tr>\n",
       "      <th>min</th>\n",
       "      <td>-0.99060</td>\n",
       "      <td>-74.03700</td>\n",
       "      <td>-2.39760</td>\n",
       "      <td>-39.31620</td>\n",
       "      <td>-35.67240</td>\n",
       "      <td>-79.14300</td>\n",
       "      <td>-119.48040</td>\n",
       "    </tr>\n",
       "    <tr>\n",
       "      <th>25%</th>\n",
       "      <td>0.00000</td>\n",
       "      <td>0.00000</td>\n",
       "      <td>0.00000</td>\n",
       "      <td>0.00000</td>\n",
       "      <td>0.00000</td>\n",
       "      <td>-0.00000</td>\n",
       "      <td>0.00000</td>\n",
       "    </tr>\n",
       "    <tr>\n",
       "      <th>50%</th>\n",
       "      <td>0.31820</td>\n",
       "      <td>0.00000</td>\n",
       "      <td>0.00000</td>\n",
       "      <td>0.00000</td>\n",
       "      <td>0.00000</td>\n",
       "      <td>0.00000</td>\n",
       "      <td>0.00000</td>\n",
       "    </tr>\n",
       "    <tr>\n",
       "      <th>75%</th>\n",
       "      <td>0.70030</td>\n",
       "      <td>0.12800</td>\n",
       "      <td>0.00000</td>\n",
       "      <td>0.00000</td>\n",
       "      <td>0.00000</td>\n",
       "      <td>0.29600</td>\n",
       "      <td>0.40710</td>\n",
       "    </tr>\n",
       "    <tr>\n",
       "      <th>max</th>\n",
       "      <td>0.98840</td>\n",
       "      <td>799.08120</td>\n",
       "      <td>13.78620</td>\n",
       "      <td>121.57840</td>\n",
       "      <td>143.04540</td>\n",
       "      <td>942.12660</td>\n",
       "      <td>965.96750</td>\n",
       "    </tr>\n",
       "  </tbody>\n",
       "</table>\n",
       "</div>"
      ],
      "text/plain": [
       "        sentiment  weighted_sentiment_v1  weighted_sentiment_v2  \\\n",
       "count 24808.00000            24808.00000            24808.00000   \n",
       "mean      0.28982                0.82310                0.02286   \n",
       "std       0.43684                7.43767                0.24868   \n",
       "min      -0.99060              -74.03700               -2.39760   \n",
       "25%       0.00000                0.00000                0.00000   \n",
       "50%       0.31820                0.00000                0.00000   \n",
       "75%       0.70030                0.12800                0.00000   \n",
       "max       0.98840              799.08120               13.78620   \n",
       "\n",
       "       weighted_sentiment_v3  weighted_sentiment_v4  weighted_sentiment_v5  \\\n",
       "count            24808.00000            24808.00000            24808.00000   \n",
       "mean                 0.09544                0.17207                0.99518   \n",
       "std                  1.42404                1.81234                9.04719   \n",
       "min                -39.31620              -35.67240              -79.14300   \n",
       "25%                  0.00000                0.00000               -0.00000   \n",
       "50%                  0.00000                0.00000                0.00000   \n",
       "75%                  0.00000                0.00000                0.29600   \n",
       "max                121.57840              143.04540              942.12660   \n",
       "\n",
       "       weighted_sentiment_v6  \n",
       "count            24808.00000  \n",
       "mean                 1.11348  \n",
       "std                 10.05378  \n",
       "min               -119.48040  \n",
       "25%                  0.00000  \n",
       "50%                  0.00000  \n",
       "75%                  0.40710  \n",
       "max                965.96750  "
      ]
     },
     "execution_count": 20,
     "metadata": {},
     "output_type": "execute_result"
    }
   ],
   "source": [
    "tweets_df[[\"sentiment\",\n",
    "           \"weighted_sentiment_v1\",\"weighted_sentiment_v2\",\"weighted_sentiment_v3\",\n",
    "           \"weighted_sentiment_v4\",\"weighted_sentiment_v5\",\"weighted_sentiment_v6\"]].describe()"
   ]
  },
  {
   "cell_type": "code",
   "execution_count": 21,
   "id": "derived-ready",
   "metadata": {},
   "outputs": [
    {
     "data": {
      "image/png": "[encoded data removed]",
      "text/plain": [
       "<Figure size 936x432 with 1 Axes>"
      ]
     },
     "metadata": {},
     "output_type": "display_data"
    }
   ],
   "source": [
    "tweets_df[\"sentiment\"].plot.hist(bins=100, title=\"Tweets Sentiment distribution\",logy=True);"
   ]
  },
  {
   "cell_type": "code",
   "execution_count": 22,
   "id": "atmospheric-comedy",
   "metadata": {},
   "outputs": [
    {
     "data": {
      "image/png": "[encoded data removed]",
      "text/plain": [
       "<Figure size 936x432 with 1 Axes>"
      ]
     },
     "metadata": {},
     "output_type": "display_data"
    }
   ],
   "source": [
    "tweets_df[\"weighted_sentiment_v1\"].plot.hist(bins=100,\n",
    "                                            logy=True,\n",
    "                                            title=\"Tweets Weighted Sentiment distribution (log-scale)\");"
   ]
  },
  {
   "cell_type": "code",
   "execution_count": 23,
   "id": "hungarian-notice",
   "metadata": {},
   "outputs": [],
   "source": [
    "## Aggregate per Day\n",
    "\n",
    "tweets_sentiment_per_day_df = (tweets_df\n",
    "                              .groupby('created_at_date')\n",
    "                              .agg({'sentiment':[\"mean\",\"median\"],\n",
    "                                    'weighted_sentiment_v1':[\"mean\",\"median\"],\n",
    "                                    'weighted_sentiment_v2':[\"mean\",\"median\"],\n",
    "                                    'weighted_sentiment_v3':[\"mean\",\"median\"],\n",
    "                                    'weighted_sentiment_v4':[\"mean\",\"median\"],\n",
    "                                    'weighted_sentiment_v5':[\"mean\",\"median\"],\n",
    "                                    'weighted_sentiment_v6':[\"mean\",\"median\"]}))\n",
    "\n",
    "tweets_sentiment_per_day_df = tweets_sentiment_per_day_df.reset_index()\n",
    "\n",
    "tweets_sentiment_per_day_df.columns = [\"_\".join(x) for x in tweets_sentiment_per_day_df.columns]\n",
    "tweets_sentiment_per_day_df = tweets_sentiment_per_day_df.rename(columns={\"created_at_date_\":\"created_at_date\"})"
   ]
  },
  {
   "cell_type": "code",
   "execution_count": 24,
   "id": "magnetic-bahrain",
   "metadata": {},
   "outputs": [
    {
     "data": {
      "text/html": [
       "<div>\n",
       "<style scoped>\n",
       "    .dataframe tbody tr th:only-of-type {\n",
       "        vertical-align: middle;\n",
       "    }\n",
       "\n",
       "    .dataframe tbody tr th {\n",
       "        vertical-align: top;\n",
       "    }\n",
       "\n",
       "    .dataframe thead th {\n",
       "        text-align: right;\n",
       "    }\n",
       "</style>\n",
       "<table border=\"1\" class=\"dataframe\">\n",
       "  <thead>\n",
       "    <tr style=\"text-align: right;\">\n",
       "      <th></th>\n",
       "      <th>created_at_date</th>\n",
       "      <th>sentiment_mean</th>\n",
       "      <th>sentiment_median</th>\n",
       "      <th>weighted_sentiment_v1_mean</th>\n",
       "      <th>weighted_sentiment_v1_median</th>\n",
       "      <th>weighted_sentiment_v2_mean</th>\n",
       "      <th>weighted_sentiment_v2_median</th>\n",
       "      <th>weighted_sentiment_v3_mean</th>\n",
       "      <th>weighted_sentiment_v3_median</th>\n",
       "      <th>weighted_sentiment_v4_mean</th>\n",
       "      <th>weighted_sentiment_v4_median</th>\n",
       "      <th>weighted_sentiment_v5_mean</th>\n",
       "      <th>weighted_sentiment_v5_median</th>\n",
       "      <th>weighted_sentiment_v6_mean</th>\n",
       "      <th>weighted_sentiment_v6_median</th>\n",
       "    </tr>\n",
       "  </thead>\n",
       "  <tbody>\n",
       "    <tr>\n",
       "      <th>0</th>\n",
       "      <td>2020-01-01</td>\n",
       "      <td>0.37254</td>\n",
       "      <td>0.40190</td>\n",
       "      <td>0.35519</td>\n",
       "      <td>0.00000</td>\n",
       "      <td>0.09926</td>\n",
       "      <td>0.00000</td>\n",
       "      <td>0.19851</td>\n",
       "      <td>0.00000</td>\n",
       "      <td>0.00000</td>\n",
       "      <td>0.00000</td>\n",
       "      <td>0.35519</td>\n",
       "      <td>0.00000</td>\n",
       "      <td>0.65296</td>\n",
       "      <td>0.00000</td>\n",
       "    </tr>\n",
       "    <tr>\n",
       "      <th>1</th>\n",
       "      <td>2020-01-02</td>\n",
       "      <td>0.35778</td>\n",
       "      <td>0.42030</td>\n",
       "      <td>-0.52253</td>\n",
       "      <td>0.00000</td>\n",
       "      <td>0.00000</td>\n",
       "      <td>0.00000</td>\n",
       "      <td>-0.06532</td>\n",
       "      <td>0.00000</td>\n",
       "      <td>-0.06532</td>\n",
       "      <td>0.00000</td>\n",
       "      <td>-0.58785</td>\n",
       "      <td>0.00000</td>\n",
       "      <td>-0.65317</td>\n",
       "      <td>0.00000</td>\n",
       "    </tr>\n",
       "    <tr>\n",
       "      <th>2</th>\n",
       "      <td>2020-01-03</td>\n",
       "      <td>0.29875</td>\n",
       "      <td>0.37455</td>\n",
       "      <td>-0.29402</td>\n",
       "      <td>0.00000</td>\n",
       "      <td>0.00000</td>\n",
       "      <td>0.00000</td>\n",
       "      <td>0.00000</td>\n",
       "      <td>0.00000</td>\n",
       "      <td>-0.23884</td>\n",
       "      <td>0.00000</td>\n",
       "      <td>-0.53286</td>\n",
       "      <td>0.00000</td>\n",
       "      <td>-0.53286</td>\n",
       "      <td>0.00000</td>\n",
       "    </tr>\n",
       "    <tr>\n",
       "      <th>3</th>\n",
       "      <td>2020-01-04</td>\n",
       "      <td>0.58883</td>\n",
       "      <td>0.56465</td>\n",
       "      <td>0.00000</td>\n",
       "      <td>0.00000</td>\n",
       "      <td>0.00000</td>\n",
       "      <td>0.00000</td>\n",
       "      <td>0.00000</td>\n",
       "      <td>0.00000</td>\n",
       "      <td>0.00000</td>\n",
       "      <td>0.00000</td>\n",
       "      <td>0.00000</td>\n",
       "      <td>0.00000</td>\n",
       "      <td>0.00000</td>\n",
       "      <td>0.00000</td>\n",
       "    </tr>\n",
       "    <tr>\n",
       "      <th>4</th>\n",
       "      <td>2020-01-05</td>\n",
       "      <td>0.65783</td>\n",
       "      <td>0.67050</td>\n",
       "      <td>0.00000</td>\n",
       "      <td>0.00000</td>\n",
       "      <td>0.00000</td>\n",
       "      <td>0.00000</td>\n",
       "      <td>0.00000</td>\n",
       "      <td>0.00000</td>\n",
       "      <td>0.00000</td>\n",
       "      <td>0.00000</td>\n",
       "      <td>0.00000</td>\n",
       "      <td>0.00000</td>\n",
       "      <td>0.00000</td>\n",
       "      <td>0.00000</td>\n",
       "    </tr>\n",
       "  </tbody>\n",
       "</table>\n",
       "</div>"
      ],
      "text/plain": [
       "  created_at_date  sentiment_mean  sentiment_median  \\\n",
       "0      2020-01-01         0.37254           0.40190   \n",
       "1      2020-01-02         0.35778           0.42030   \n",
       "2      2020-01-03         0.29875           0.37455   \n",
       "3      2020-01-04         0.58883           0.56465   \n",
       "4      2020-01-05         0.65783           0.67050   \n",
       "\n",
       "   weighted_sentiment_v1_mean  weighted_sentiment_v1_median  \\\n",
       "0                     0.35519                       0.00000   \n",
       "1                    -0.52253                       0.00000   \n",
       "2                    -0.29402                       0.00000   \n",
       "3                     0.00000                       0.00000   \n",
       "4                     0.00000                       0.00000   \n",
       "\n",
       "   weighted_sentiment_v2_mean  weighted_sentiment_v2_median  \\\n",
       "0                     0.09926                       0.00000   \n",
       "1                     0.00000                       0.00000   \n",
       "2                     0.00000                       0.00000   \n",
       "3                     0.00000                       0.00000   \n",
       "4                     0.00000                       0.00000   \n",
       "\n",
       "   weighted_sentiment_v3_mean  weighted_sentiment_v3_median  \\\n",
       "0                     0.19851                       0.00000   \n",
       "1                    -0.06532                       0.00000   \n",
       "2                     0.00000                       0.00000   \n",
       "3                     0.00000                       0.00000   \n",
       "4                     0.00000                       0.00000   \n",
       "\n",
       "   weighted_sentiment_v4_mean  weighted_sentiment_v4_median  \\\n",
       "0                     0.00000                       0.00000   \n",
       "1                    -0.06532                       0.00000   \n",
       "2                    -0.23884                       0.00000   \n",
       "3                     0.00000                       0.00000   \n",
       "4                     0.00000                       0.00000   \n",
       "\n",
       "   weighted_sentiment_v5_mean  weighted_sentiment_v5_median  \\\n",
       "0                     0.35519                       0.00000   \n",
       "1                    -0.58785                       0.00000   \n",
       "2                    -0.53286                       0.00000   \n",
       "3                     0.00000                       0.00000   \n",
       "4                     0.00000                       0.00000   \n",
       "\n",
       "   weighted_sentiment_v6_mean  weighted_sentiment_v6_median  \n",
       "0                     0.65296                       0.00000  \n",
       "1                    -0.65317                       0.00000  \n",
       "2                    -0.53286                       0.00000  \n",
       "3                     0.00000                       0.00000  \n",
       "4                     0.00000                       0.00000  "
      ]
     },
     "execution_count": 24,
     "metadata": {},
     "output_type": "execute_result"
    }
   ],
   "source": [
    "tweets_sentiment_per_day_df.head()"
   ]
  },
  {
   "cell_type": "code",
   "execution_count": 25,
   "id": "returning-reality",
   "metadata": {},
   "outputs": [
    {
     "data": {
      "image/png": "[encoded data removed]",
      "text/plain": [
       "<Figure size 936x432 with 1 Axes>"
      ]
     },
     "metadata": {},
     "output_type": "display_data"
    }
   ],
   "source": [
    "## Plot Average sentiment\n",
    "\n",
    "# ylim=[-1,1]\n",
    "\n",
    "ax1 = tweets_sentiment_per_day_df.plot.line(x=\"created_at_date\",\n",
    "                                            y=\"sentiment_mean\");\n",
    "\n",
    "ax2 = tweets_sentiment_per_day_df.plot.line(ax=ax1,\n",
    "                                            x=\"created_at_date\",\n",
    "                                            y=\"weighted_sentiment_v1_mean\",\n",
    "                                            title=\"Average Sentiment per Date\");\n",
    "\n",
    "ax3 = tweets_sentiment_per_day_df.plot.line(ax=ax2,\n",
    "                                            x=\"created_at_date\",\n",
    "                                            y=\"weighted_sentiment_v2_mean\",\n",
    "                                            title=\"Average Sentiment per Date\");\n",
    "\n",
    "\n",
    "ax4 = tweets_sentiment_per_day_df.plot.line(ax=ax3,\n",
    "                                            x=\"created_at_date\",\n",
    "                                            y=\"weighted_sentiment_v3_mean\",\n",
    "                                            title=\"Average Sentiment per Date\");"
   ]
  },
  {
   "cell_type": "markdown",
   "id": "abstract-cartoon",
   "metadata": {},
   "source": [
    "## Combine datasets [binance_df, tweets_sentiment_per_day_df]"
   ]
  },
  {
   "cell_type": "code",
   "execution_count": 26,
   "id": "pleased-caution",
   "metadata": {},
   "outputs": [
    {
     "data": {
      "text/html": [
       "<div>\n",
       "<style scoped>\n",
       "    .dataframe tbody tr th:only-of-type {\n",
       "        vertical-align: middle;\n",
       "    }\n",
       "\n",
       "    .dataframe tbody tr th {\n",
       "        vertical-align: top;\n",
       "    }\n",
       "\n",
       "    .dataframe thead th {\n",
       "        text-align: right;\n",
       "    }\n",
       "</style>\n",
       "<table border=\"1\" class=\"dataframe\">\n",
       "  <thead>\n",
       "    <tr style=\"text-align: right;\">\n",
       "      <th></th>\n",
       "      <th>open_time</th>\n",
       "      <th>close_time</th>\n",
       "      <th>open</th>\n",
       "      <th>high</th>\n",
       "      <th>low</th>\n",
       "      <th>close</th>\n",
       "      <th>volume</th>\n",
       "      <th>num_trades</th>\n",
       "      <th>MA_10</th>\n",
       "      <th>STD_10</th>\n",
       "      <th>Price_Change</th>\n",
       "      <th>Price_Change%</th>\n",
       "      <th>Change</th>\n",
       "      <th>upper_bound</th>\n",
       "      <th>lower_bound</th>\n",
       "      <th>above_bound</th>\n",
       "      <th>below_bound</th>\n",
       "      <th>cross_bounds</th>\n",
       "      <th>open_time_date</th>\n",
       "    </tr>\n",
       "  </thead>\n",
       "  <tbody>\n",
       "    <tr>\n",
       "      <th>2020-08-20 02:59:59.999</th>\n",
       "      <td>2020-08-19 00:00:00.000</td>\n",
       "      <td>2020-08-19 23:59:59.999</td>\n",
       "      <td>50.42000</td>\n",
       "      <td>50.42000</td>\n",
       "      <td>37.77000</td>\n",
       "      <td>42.07900</td>\n",
       "      <td>11838.17200</td>\n",
       "      <td>4880</td>\n",
       "      <td>NaN</td>\n",
       "      <td>NaN</td>\n",
       "      <td>NaN</td>\n",
       "      <td>NaN</td>\n",
       "      <td>NaN</td>\n",
       "      <td>NaN</td>\n",
       "      <td>NaN</td>\n",
       "      <td>False</td>\n",
       "      <td>False</td>\n",
       "      <td>neutral</td>\n",
       "      <td>2020-08-19</td>\n",
       "    </tr>\n",
       "    <tr>\n",
       "      <th>2020-08-21 02:59:59.999</th>\n",
       "      <td>2020-08-20 00:00:00.000</td>\n",
       "      <td>2020-08-20 23:59:59.999</td>\n",
       "      <td>42.28100</td>\n",
       "      <td>53.88000</td>\n",
       "      <td>39.54200</td>\n",
       "      <td>46.93000</td>\n",
       "      <td>62972.51400</td>\n",
       "      <td>18560</td>\n",
       "      <td>NaN</td>\n",
       "      <td>NaN</td>\n",
       "      <td>4.85000</td>\n",
       "      <td>11.53000</td>\n",
       "      <td>Increase</td>\n",
       "      <td>NaN</td>\n",
       "      <td>NaN</td>\n",
       "      <td>False</td>\n",
       "      <td>False</td>\n",
       "      <td>neutral</td>\n",
       "      <td>2020-08-20</td>\n",
       "    </tr>\n",
       "    <tr>\n",
       "      <th>2020-08-22 02:59:59.999</th>\n",
       "      <td>2020-08-21 00:00:00.000</td>\n",
       "      <td>2020-08-21 23:59:59.999</td>\n",
       "      <td>46.95200</td>\n",
       "      <td>52.10000</td>\n",
       "      <td>41.35200</td>\n",
       "      <td>41.89600</td>\n",
       "      <td>47528.20400</td>\n",
       "      <td>19241</td>\n",
       "      <td>NaN</td>\n",
       "      <td>NaN</td>\n",
       "      <td>-5.03000</td>\n",
       "      <td>-10.73000</td>\n",
       "      <td>Decrease</td>\n",
       "      <td>NaN</td>\n",
       "      <td>NaN</td>\n",
       "      <td>False</td>\n",
       "      <td>False</td>\n",
       "      <td>neutral</td>\n",
       "      <td>2020-08-21</td>\n",
       "    </tr>\n",
       "    <tr>\n",
       "      <th>2020-08-23 02:59:59.999</th>\n",
       "      <td>2020-08-22 00:00:00.000</td>\n",
       "      <td>2020-08-22 23:59:59.999</td>\n",
       "      <td>42.18100</td>\n",
       "      <td>51.00000</td>\n",
       "      <td>41.07200</td>\n",
       "      <td>47.97800</td>\n",
       "      <td>19932.14700</td>\n",
       "      <td>8238</td>\n",
       "      <td>NaN</td>\n",
       "      <td>NaN</td>\n",
       "      <td>6.08000</td>\n",
       "      <td>14.52000</td>\n",
       "      <td>Increase</td>\n",
       "      <td>NaN</td>\n",
       "      <td>NaN</td>\n",
       "      <td>False</td>\n",
       "      <td>False</td>\n",
       "      <td>neutral</td>\n",
       "      <td>2020-08-22</td>\n",
       "    </tr>\n",
       "    <tr>\n",
       "      <th>2020-08-24 02:59:59.999</th>\n",
       "      <td>2020-08-23 00:00:00.000</td>\n",
       "      <td>2020-08-23 23:59:59.999</td>\n",
       "      <td>48.04800</td>\n",
       "      <td>48.05700</td>\n",
       "      <td>42.82800</td>\n",
       "      <td>43.59100</td>\n",
       "      <td>17284.85500</td>\n",
       "      <td>6039</td>\n",
       "      <td>NaN</td>\n",
       "      <td>NaN</td>\n",
       "      <td>-4.39000</td>\n",
       "      <td>-9.14000</td>\n",
       "      <td>Decrease</td>\n",
       "      <td>NaN</td>\n",
       "      <td>NaN</td>\n",
       "      <td>False</td>\n",
       "      <td>False</td>\n",
       "      <td>neutral</td>\n",
       "      <td>2020-08-23</td>\n",
       "    </tr>\n",
       "  </tbody>\n",
       "</table>\n",
       "</div>"
      ],
      "text/plain": [
       "                                       open_time               close_time  \\\n",
       "2020-08-20 02:59:59.999  2020-08-19 00:00:00.000  2020-08-19 23:59:59.999   \n",
       "2020-08-21 02:59:59.999  2020-08-20 00:00:00.000  2020-08-20 23:59:59.999   \n",
       "2020-08-22 02:59:59.999  2020-08-21 00:00:00.000  2020-08-21 23:59:59.999   \n",
       "2020-08-23 02:59:59.999  2020-08-22 00:00:00.000  2020-08-22 23:59:59.999   \n",
       "2020-08-24 02:59:59.999  2020-08-23 00:00:00.000  2020-08-23 23:59:59.999   \n",
       "\n",
       "                            open     high      low    close      volume  \\\n",
       "2020-08-20 02:59:59.999 50.42000 50.42000 37.77000 42.07900 11838.17200   \n",
       "2020-08-21 02:59:59.999 42.28100 53.88000 39.54200 46.93000 62972.51400   \n",
       "2020-08-22 02:59:59.999 46.95200 52.10000 41.35200 41.89600 47528.20400   \n",
       "2020-08-23 02:59:59.999 42.18100 51.00000 41.07200 47.97800 19932.14700   \n",
       "2020-08-24 02:59:59.999 48.04800 48.05700 42.82800 43.59100 17284.85500   \n",
       "\n",
       "                         num_trades  MA_10  STD_10  Price_Change  \\\n",
       "2020-08-20 02:59:59.999        4880    NaN     NaN           NaN   \n",
       "2020-08-21 02:59:59.999       18560    NaN     NaN       4.85000   \n",
       "2020-08-22 02:59:59.999       19241    NaN     NaN      -5.03000   \n",
       "2020-08-23 02:59:59.999        8238    NaN     NaN       6.08000   \n",
       "2020-08-24 02:59:59.999        6039    NaN     NaN      -4.39000   \n",
       "\n",
       "                         Price_Change%    Change  upper_bound  lower_bound  \\\n",
       "2020-08-20 02:59:59.999            NaN       NaN          NaN          NaN   \n",
       "2020-08-21 02:59:59.999       11.53000  Increase          NaN          NaN   \n",
       "2020-08-22 02:59:59.999      -10.73000  Decrease          NaN          NaN   \n",
       "2020-08-23 02:59:59.999       14.52000  Increase          NaN          NaN   \n",
       "2020-08-24 02:59:59.999       -9.14000  Decrease          NaN          NaN   \n",
       "\n",
       "                         above_bound  below_bound cross_bounds open_time_date  \n",
       "2020-08-20 02:59:59.999        False        False      neutral     2020-08-19  \n",
       "2020-08-21 02:59:59.999        False        False      neutral     2020-08-20  \n",
       "2020-08-22 02:59:59.999        False        False      neutral     2020-08-21  \n",
       "2020-08-23 02:59:59.999        False        False      neutral     2020-08-22  \n",
       "2020-08-24 02:59:59.999        False        False      neutral     2020-08-23  "
      ]
     },
     "execution_count": 26,
     "metadata": {},
     "output_type": "execute_result"
    }
   ],
   "source": [
    "binance_df.head()"
   ]
  },
  {
   "cell_type": "code",
   "execution_count": 27,
   "id": "billion-scholar",
   "metadata": {},
   "outputs": [
    {
     "data": {
      "text/html": [
       "<div>\n",
       "<style scoped>\n",
       "    .dataframe tbody tr th:only-of-type {\n",
       "        vertical-align: middle;\n",
       "    }\n",
       "\n",
       "    .dataframe tbody tr th {\n",
       "        vertical-align: top;\n",
       "    }\n",
       "\n",
       "    .dataframe thead th {\n",
       "        text-align: right;\n",
       "    }\n",
       "</style>\n",
       "<table border=\"1\" class=\"dataframe\">\n",
       "  <thead>\n",
       "    <tr style=\"text-align: right;\">\n",
       "      <th></th>\n",
       "      <th>created_at_date</th>\n",
       "      <th>sentiment_mean</th>\n",
       "      <th>sentiment_median</th>\n",
       "      <th>weighted_sentiment_v1_mean</th>\n",
       "      <th>weighted_sentiment_v1_median</th>\n",
       "      <th>weighted_sentiment_v2_mean</th>\n",
       "      <th>weighted_sentiment_v2_median</th>\n",
       "      <th>weighted_sentiment_v3_mean</th>\n",
       "      <th>weighted_sentiment_v3_median</th>\n",
       "      <th>weighted_sentiment_v4_mean</th>\n",
       "      <th>weighted_sentiment_v4_median</th>\n",
       "      <th>weighted_sentiment_v5_mean</th>\n",
       "      <th>weighted_sentiment_v5_median</th>\n",
       "      <th>weighted_sentiment_v6_mean</th>\n",
       "      <th>weighted_sentiment_v6_median</th>\n",
       "    </tr>\n",
       "  </thead>\n",
       "  <tbody>\n",
       "    <tr>\n",
       "      <th>0</th>\n",
       "      <td>2020-01-01</td>\n",
       "      <td>0.37254</td>\n",
       "      <td>0.40190</td>\n",
       "      <td>0.35519</td>\n",
       "      <td>0.00000</td>\n",
       "      <td>0.09926</td>\n",
       "      <td>0.00000</td>\n",
       "      <td>0.19851</td>\n",
       "      <td>0.00000</td>\n",
       "      <td>0.00000</td>\n",
       "      <td>0.00000</td>\n",
       "      <td>0.35519</td>\n",
       "      <td>0.00000</td>\n",
       "      <td>0.65296</td>\n",
       "      <td>0.00000</td>\n",
       "    </tr>\n",
       "    <tr>\n",
       "      <th>1</th>\n",
       "      <td>2020-01-02</td>\n",
       "      <td>0.35778</td>\n",
       "      <td>0.42030</td>\n",
       "      <td>-0.52253</td>\n",
       "      <td>0.00000</td>\n",
       "      <td>0.00000</td>\n",
       "      <td>0.00000</td>\n",
       "      <td>-0.06532</td>\n",
       "      <td>0.00000</td>\n",
       "      <td>-0.06532</td>\n",
       "      <td>0.00000</td>\n",
       "      <td>-0.58785</td>\n",
       "      <td>0.00000</td>\n",
       "      <td>-0.65317</td>\n",
       "      <td>0.00000</td>\n",
       "    </tr>\n",
       "    <tr>\n",
       "      <th>2</th>\n",
       "      <td>2020-01-03</td>\n",
       "      <td>0.29875</td>\n",
       "      <td>0.37455</td>\n",
       "      <td>-0.29402</td>\n",
       "      <td>0.00000</td>\n",
       "      <td>0.00000</td>\n",
       "      <td>0.00000</td>\n",
       "      <td>0.00000</td>\n",
       "      <td>0.00000</td>\n",
       "      <td>-0.23884</td>\n",
       "      <td>0.00000</td>\n",
       "      <td>-0.53286</td>\n",
       "      <td>0.00000</td>\n",
       "      <td>-0.53286</td>\n",
       "      <td>0.00000</td>\n",
       "    </tr>\n",
       "    <tr>\n",
       "      <th>3</th>\n",
       "      <td>2020-01-04</td>\n",
       "      <td>0.58883</td>\n",
       "      <td>0.56465</td>\n",
       "      <td>0.00000</td>\n",
       "      <td>0.00000</td>\n",
       "      <td>0.00000</td>\n",
       "      <td>0.00000</td>\n",
       "      <td>0.00000</td>\n",
       "      <td>0.00000</td>\n",
       "      <td>0.00000</td>\n",
       "      <td>0.00000</td>\n",
       "      <td>0.00000</td>\n",
       "      <td>0.00000</td>\n",
       "      <td>0.00000</td>\n",
       "      <td>0.00000</td>\n",
       "    </tr>\n",
       "    <tr>\n",
       "      <th>4</th>\n",
       "      <td>2020-01-05</td>\n",
       "      <td>0.65783</td>\n",
       "      <td>0.67050</td>\n",
       "      <td>0.00000</td>\n",
       "      <td>0.00000</td>\n",
       "      <td>0.00000</td>\n",
       "      <td>0.00000</td>\n",
       "      <td>0.00000</td>\n",
       "      <td>0.00000</td>\n",
       "      <td>0.00000</td>\n",
       "      <td>0.00000</td>\n",
       "      <td>0.00000</td>\n",
       "      <td>0.00000</td>\n",
       "      <td>0.00000</td>\n",
       "      <td>0.00000</td>\n",
       "    </tr>\n",
       "  </tbody>\n",
       "</table>\n",
       "</div>"
      ],
      "text/plain": [
       "  created_at_date  sentiment_mean  sentiment_median  \\\n",
       "0      2020-01-01         0.37254           0.40190   \n",
       "1      2020-01-02         0.35778           0.42030   \n",
       "2      2020-01-03         0.29875           0.37455   \n",
       "3      2020-01-04         0.58883           0.56465   \n",
       "4      2020-01-05         0.65783           0.67050   \n",
       "\n",
       "   weighted_sentiment_v1_mean  weighted_sentiment_v1_median  \\\n",
       "0                     0.35519                       0.00000   \n",
       "1                    -0.52253                       0.00000   \n",
       "2                    -0.29402                       0.00000   \n",
       "3                     0.00000                       0.00000   \n",
       "4                     0.00000                       0.00000   \n",
       "\n",
       "   weighted_sentiment_v2_mean  weighted_sentiment_v2_median  \\\n",
       "0                     0.09926                       0.00000   \n",
       "1                     0.00000                       0.00000   \n",
       "2                     0.00000                       0.00000   \n",
       "3                     0.00000                       0.00000   \n",
       "4                     0.00000                       0.00000   \n",
       "\n",
       "   weighted_sentiment_v3_mean  weighted_sentiment_v3_median  \\\n",
       "0                     0.19851                       0.00000   \n",
       "1                    -0.06532                       0.00000   \n",
       "2                     0.00000                       0.00000   \n",
       "3                     0.00000                       0.00000   \n",
       "4                     0.00000                       0.00000   \n",
       "\n",
       "   weighted_sentiment_v4_mean  weighted_sentiment_v4_median  \\\n",
       "0                     0.00000                       0.00000   \n",
       "1                    -0.06532                       0.00000   \n",
       "2                    -0.23884                       0.00000   \n",
       "3                     0.00000                       0.00000   \n",
       "4                     0.00000                       0.00000   \n",
       "\n",
       "   weighted_sentiment_v5_mean  weighted_sentiment_v5_median  \\\n",
       "0                     0.35519                       0.00000   \n",
       "1                    -0.58785                       0.00000   \n",
       "2                    -0.53286                       0.00000   \n",
       "3                     0.00000                       0.00000   \n",
       "4                     0.00000                       0.00000   \n",
       "\n",
       "   weighted_sentiment_v6_mean  weighted_sentiment_v6_median  \n",
       "0                     0.65296                       0.00000  \n",
       "1                    -0.65317                       0.00000  \n",
       "2                    -0.53286                       0.00000  \n",
       "3                     0.00000                       0.00000  \n",
       "4                     0.00000                       0.00000  "
      ]
     },
     "execution_count": 27,
     "metadata": {},
     "output_type": "execute_result"
    }
   ],
   "source": [
    "tweets_sentiment_per_day_df.head()"
   ]
  },
  {
   "cell_type": "code",
   "execution_count": 28,
   "id": "simplified-construction",
   "metadata": {},
   "outputs": [],
   "source": [
    "# Merge dataset\n",
    "df = binance_df.merge(tweets_sentiment_per_day_df,\n",
    "                      left_on = \"open_time_date\",\n",
    "                      right_on = \"created_at_date\",\n",
    "                      how=\"inner\")"
   ]
  },
  {
   "cell_type": "code",
   "execution_count": 29,
   "id": "dirty-foundation",
   "metadata": {},
   "outputs": [
    {
     "data": {
      "text/plain": [
       "(377, 34)"
      ]
     },
     "execution_count": 29,
     "metadata": {},
     "output_type": "execute_result"
    }
   ],
   "source": [
    "# Check shape (8 months x ~30 days)\n",
    "df.shape"
   ]
  },
  {
   "cell_type": "markdown",
   "id": "fossil-granny",
   "metadata": {},
   "source": [
    "# Analysis"
   ]
  },
  {
   "cell_type": "markdown",
   "id": "useful-authentication",
   "metadata": {},
   "source": [
    "**Final Outputs**\n",
    "\n",
    "\n",
    "**General**\n",
    "\n",
    "1. Candlestick plot (prices and boudaries) [Binance data]\n",
    "2. Table for all tweets (raw) [Twitter data]\n",
    "\n",
    "\n",
    "**For all days**\n",
    "\n",
    "3. Combined Table per date (Prices, Price change, Aggregated Sentiment, Weighted Aggregated sentiment)\n",
    "4. Correlation plot \n",
    "5. Correlation table\n",
    "\n",
    "**Intra day**\n",
    "\n",
    "6. Table with day's tweets\n",
    "7. Plot with most liked tweets for this day"
   ]
  },
  {
   "cell_type": "markdown",
   "id": "heated-charge",
   "metadata": {},
   "source": [
    "## General"
   ]
  },
  {
   "cell_type": "code",
   "execution_count": 51,
   "id": "colored-electron",
   "metadata": {},
   "outputs": [],
   "source": [
    "symbol=\"ETHUSDT\"\n",
    "window=10\n",
    "std_times=2"
   ]
  },
  {
   "cell_type": "code",
   "execution_count": 52,
   "id": "stone-basis",
   "metadata": {},
   "outputs": [
    {
     "data": {
      "application/vnd.plotly.v1+json": {
       "config": {
        "plotlyServerURL": "https://plot.ly"
       },
       "data": [
        {
         "close": [
          42.079,
          46.93,
          41.896,
          47.978,
          43.591,
          44.729,
          42.231,
          43.708,
          52.437,
          54.69,
          52.45,
          51.355,
          55.249,
          50.891,
          48.998,
          40.711,
          42.745,
          37.638,
          38.255,
          37.396,
          35.657,
          35.962,
          36.474,
          36.283,
          37.762,
          35.547,
          35.259,
          34.98,
          32.216,
          32.061,
          29.381,
          29.223,
          33.266,
          31.196,
          30.7,
          29.101,
          31.688,
          31.128,
          31.479,
          31.675,
          31.346,
          30.736,
          30.824,
          30.648,
          28.616,
          28.534,
          28.953,
          28.795,
          27.065,
          27.359,
          27.33,
          28.858,
          28.839,
          28.752,
          31.204,
          31.65,
          29.806,
          29.356,
          28.311,
          28.636,
          29.128,
          29.069,
          26.419,
          26.551,
          26.771,
          26.346,
          26.461,
          25.97,
          26.004,
          25.189,
          24.996,
          23.976,
          24.229,
          23.233,
          23.239,
          22.94,
          25.968,
          24.312,
          23.469,
          24.095,
          22.816,
          23.312,
          23.619,
          24.536,
          24.634,
          23.688,
          24.77,
          24.199,
          24.052,
          24.158,
          24.356,
          23.789,
          23.531,
          23.988,
          27.185,
          32.473,
          34.139,
          32.773,
          29.627,
          28.003,
          27.163,
          38.3,
          35.447,
          33.535,
          31.254,
          31.67,
          31.38,
          29.964,
          31.35,
          31.181,
          30.394,
          28.409,
          28.548,
          26.813,
          26.309,
          26.505,
          29.179,
          28.619,
          27.159,
          27.167,
          27.283,
          27.115,
          29.225,
          27.019,
          25.509,
          25.257,
          22.123,
          23.902,
          24.067,
          23.582,
          23.578,
          24.031,
          23.514,
          23.056,
          22.394,
          22.926,
          22.621,
          24.098,
          27.98,
          28.354,
          28.696,
          28.408,
          26.545,
          28.156,
          27.566,
          26.464,
          27.095,
          28.201,
          27.703,
          27.158,
          28.124,
          27.75,
          30.096,
          28.265,
          28.62,
          26.216,
          26.875,
          28.012,
          27.428,
          26.831,
          27,
          25.545,
          26.396,
          26.175,
          26.412,
          26.933,
          27.989,
          27.523,
          29.862,
          32.499,
          34.863,
          32.852,
          34.442,
          35.216,
          37.979,
          42.201,
          42.612,
          43.462,
          48.716,
          44.079,
          41.22,
          42.91,
          42.622,
          41.805,
          41.529,
          39.996,
          40.648,
          44.301,
          36.941,
          38.353,
          36.571,
          39.612,
          40.442,
          39.473,
          41.786,
          40.416,
          42.643,
          39.049,
          39.606,
          39.077,
          39.42,
          41.333,
          41.759,
          40.434,
          44.09,
          41.076,
          42.838,
          41.653,
          43.613,
          44.97,
          47.825,
          59.3,
          54.219,
          51.401,
          50.068,
          46.695,
          45.403,
          42.874,
          38.934,
          46.827,
          43.864,
          45.811,
          48.318,
          52.812,
          52.339,
          53.894,
          54.335,
          50.253,
          66.022,
          67.878,
          69.1,
          63.03,
          72.654,
          76.678,
          72.25,
          72.56,
          75.696,
          72.955,
          72.009,
          74.788,
          74.211,
          88.799,
          73.383,
          84.579,
          78.52,
          70.53,
          66,
          62.509,
          57.555,
          55.363,
          63.923,
          67.402,
          65.688,
          64.345,
          69.677,
          68.649,
          66.361,
          71.889,
          65.203,
          68.341,
          68.766,
          68.099,
          66.01,
          66.971,
          59.715,
          65.37,
          58.288,
          55.769,
          58.267,
          54.381,
          76.2,
          66.793,
          61.958,
          40.511,
          48.635,
          40.392,
          37.914,
          34.332,
          40.323,
          42.513,
          53.183,
          47.723,
          40.542,
          54.604,
          52.68,
          52.2,
          49.232,
          49.331,
          50.174,
          47.169,
          48.756,
          48.327,
          43.587,
          42.669,
          45.728,
          40.86,
          39.169,
          38.292,
          39.456,
          40.693,
          40.739,
          38.339,
          38.655,
          38.644,
          36.545,
          36.703,
          30.393,
          27.299,
          28.77,
          28.639,
          26.838,
          27.111,
          28.404,
          29.109,
          29.356,
          36.104,
          33.364,
          31.7,
          31.834,
          32.22,
          33.434,
          33.003,
          33.087,
          30.369,
          32.114,
          31.377,
          31.518,
          31.079,
          31.586,
          31.401,
          30.23,
          32.9,
          30.611,
          30.56,
          28.59,
          29.795,
          30.978,
          31.14,
          32.36,
          32.825,
          35.055,
          33.866,
          37.197,
          36.338,
          38.042,
          38.719,
          38.338,
          38.577,
          38.491,
          37.895,
          38.891,
          39.15,
          38.96,
          39.594,
          38.294,
          39.274,
          39.609,
          41.408,
          39.619,
          42.779,
          41.65,
          42.091,
          40.622,
          39.371,
          38.505,
          40.956,
          42.863,
          42.621,
          44.472,
          44.754,
          42.544,
          44.235,
          41.46,
          43.29,
          42.65,
          43.11,
          42.86
         ],
         "high": [
          50.42,
          53.88,
          52.1,
          51,
          48.057,
          46.999,
          45.159,
          44.307,
          67.5,
          64.8,
          55.958,
          53.5,
          59.59,
          55.57,
          52.853,
          49.062,
          48.862,
          44.588,
          40.5,
          40,
          37.488,
          37.698,
          40,
          36.898,
          39.67,
          38.438,
          37.244,
          36.818,
          35.726,
          37.528,
          32.3,
          29.653,
          40,
          34.136,
          33.1,
          32,
          33,
          31.989,
          32.384,
          32.531,
          32.022,
          31.698,
          31.275,
          31.506,
          30.945,
          29.06,
          28.998,
          29.408,
          29.015,
          27.743,
          27.82,
          29.321,
          29.681,
          29.673,
          35.99,
          32.5,
          31.716,
          30.295,
          30.203,
          28.636,
          29.158,
          29.954,
          29.783,
          27.894,
          27.412,
          27.146,
          27.069,
          27.014,
          27.146,
          26.051,
          25.65,
          25.888,
          25.081,
          24.909,
          25.119,
          25.12,
          28.478,
          26.001,
          25.758,
          24.866,
          24.6,
          23.879,
          24.744,
          24.541,
          26.531,
          24.634,
          24.995,
          24.945,
          25.4,
          24.944,
          25.569,
          24.814,
          24.396,
          24.1,
          45.465,
          41.547,
          39.32,
          34.657,
          32.909,
          30.923,
          28.17,
          41.346,
          40,
          36.661,
          34.682,
          32.702,
          33.49,
          31.897,
          35.5,
          34.243,
          31.998,
          31.697,
          29.494,
          28.548,
          30.049,
          27.999,
          33.998,
          30.234,
          28.85,
          27.795,
          28.281,
          28.5,
          31.024,
          29.226,
          27.799,
          26.5,
          26.4,
          24.88,
          24.809,
          25.345,
          24.36,
          25.609,
          24.362,
          23.605,
          23.515,
          23.9,
          23.187,
          24.486,
          28.5,
          31.817,
          31,
          30,
          28.828,
          29,
          31.117,
          27.888,
          37.598,
          30.089,
          29.866,
          28.964,
          29.515,
          28.99,
          31,
          31.125,
          29.448,
          28.774,
          27.669,
          28.952,
          29.89,
          27.985,
          27.334,
          27.193,
          27.39,
          27.212,
          26.98,
          28.19,
          28.218,
          28.229,
          30,
          38,
          36.382,
          35.944,
          40.183,
          37.281,
          39,
          49.5,
          46.351,
          45.68,
          54.1,
          50.365,
          45.964,
          52.99,
          43.405,
          45,
          42.796,
          43.633,
          41.542,
          51.89,
          46.094,
          41,
          39.78,
          42.592,
          47.923,
          42.999,
          44.2,
          42.665,
          45,
          43.64,
          40.21,
          40,
          41.327,
          42.117,
          43.096,
          44.798,
          46.603,
          44.68,
          45,
          44.718,
          46.821,
          51,
          50,
          67.479,
          59.723,
          55.999,
          52.876,
          52.213,
          48.953,
          48.696,
          43.351,
          47.05,
          47.05,
          47.16,
          49.108,
          56.324,
          54.482,
          57.899,
          56.5,
          54.7,
          75.987,
          78.549,
          73.988,
          73.899,
          76,
          82.1,
          78.179,
          74.343,
          78.96,
          76.565,
          75.06,
          77,
          76.24,
          92.75,
          88.761,
          85,
          86.859,
          79.203,
          75.49,
          67.059,
          64.662,
          62.796,
          64.73,
          69.316,
          69.15,
          66.683,
          71.5,
          72.409,
          68.69,
          78.464,
          72.6,
          69.8,
          71.992,
          70.922,
          69.58,
          67.191,
          68.172,
          66.145,
          72.89,
          61.658,
          61,
          58.768,
          97.7,
          88.998,
          72.891,
          62.633,
          51.1,
          52.874,
          41.228,
          43.559,
          42.222,
          42.853,
          60.692,
          54.325,
          49.041,
          69,
          66.8,
          54.716,
          53.296,
          50.689,
          54,
          50.3,
          56.5,
          52.826,
          49.559,
          45.025,
          50.236,
          46.187,
          42.618,
          39.964,
          40.032,
          41.488,
          43.9,
          42.3,
          42.21,
          40.495,
          38.928,
          37.394,
          36.728,
          33.384,
          31.103,
          29.544,
          29.476,
          28.002,
          28.783,
          29.923,
          30.98,
          43.5,
          36.13,
          33.449,
          33.083,
          33.935,
          35.442,
          34.806,
          34.5,
          33.12,
          34.587,
          32.882,
          32.6,
          32.184,
          36.66,
          31.99,
          31.891,
          34,
          32.947,
          31.992,
          30.619,
          32,
          32.709,
          31.501,
          32.36,
          34.21,
          39.264,
          37.39,
          37.942,
          37.137,
          38.803,
          38.737,
          40.596,
          39.733,
          38.784,
          56.587,
          42.99,
          39.656,
          39.579,
          41.5,
          40.5,
          39.8,
          40.924,
          43.826,
          42.537,
          42.983,
          43.153,
          42.338,
          43.734,
          42.461,
          40.274,
          40.964,
          43.7,
          46.093,
          44.686,
          45.499,
          44.975,
          44.721,
          44.667,
          43.4,
          44.58,
          43.58,
          45.75
         ],
         "low": [
          37.77,
          39.542,
          41.352,
          41.072,
          42.828,
          42.815,
          40.1,
          38.622,
          38.694,
          50,
          51.006,
          47.947,
          49.834,
          50.25,
          45.82,
          37.77,
          36.368,
          35.936,
          35,
          34.147,
          33.894,
          34.188,
          35.9,
          34.86,
          36.145,
          35.001,
          34.982,
          33.855,
          32.163,
          31.865,
          28.814,
          28.733,
          28.896,
          29.71,
          29.936,
          28.81,
          28.949,
          30.141,
          30.832,
          30.718,
          30.925,
          30.101,
          30.435,
          29.54,
          28.092,
          28.366,
          27.908,
          28.278,
          26.973,
          26.853,
          26.837,
          27.31,
          28.587,
          28.237,
          28.779,
          30.723,
          29.413,
          29.076,
          27.84,
          27.766,
          28.382,
          28.5,
          26.419,
          25.999,
          26,
          26,
          26.122,
          25.855,
          25.579,
          25.017,
          24.738,
          23.881,
          23.874,
          22.989,
          22.788,
          22.735,
          22.802,
          22.844,
          23.106,
          22.537,
          22.05,
          22.605,
          22.21,
          23.134,
          23.9,
          23.373,
          23.5,
          23.75,
          23.244,
          23.608,
          24.017,
          22.88,
          23.323,
          23.263,
          23.668,
          25.885,
          31.599,
          32.101,
          28.502,
          25.989,
          25.945,
          27.221,
          32.959,
          33.05,
          31.084,
          30.916,
          31.14,
          29.328,
          27.78,
          30.582,
          30.211,
          27.881,
          27.028,
          26.484,
          25.197,
          26.053,
          26.369,
          27.319,
          27,
          26.284,
          26.5,
          26.332,
          26.561,
          25.975,
          25.5,
          24.978,
          22.109,
          21.299,
          23.064,
          22,
          22.105,
          23.3,
          22.7,
          22.941,
          22.021,
          22.168,
          22.2,
          22.232,
          21.453,
          26.6,
          27.752,
          25.826,
          26.237,
          26.286,
          27.016,
          24.714,
          26.44,
          26,
          27.068,
          26.354,
          27.002,
          26.353,
          27.173,
          28.124,
          27,
          26,
          25.319,
          26.56,
          27.012,
          26.529,
          25.406,
          25.011,
          25,
          25.8,
          25.746,
          26.2,
          26.306,
          26.765,
          26.98,
          28.549,
          32.256,
          31.413,
          32.635,
          33.954,
          35.04,
          34,
          39.971,
          40.601,
          43.271,
          41.23,
          35.439,
          40.081,
          40,
          41.519,
          40.4,
          35.8,
          38.549,
          33.37,
          31.8,
          36,
          34.643,
          32.1,
          38.116,
          36.601,
          39.178,
          38.645,
          40.217,
          38.5,
          37.343,
          37.73,
          38.963,
          38.522,
          40.212,
          39.481,
          39.568,
          39.403,
          40.12,
          41.518,
          39.8,
          41.366,
          44,
          47.762,
          50.585,
          51.401,
          48.256,
          46.1,
          44.7,
          41.7,
          38.745,
          38.88,
          43.474,
          43.538,
          44.942,
          47.432,
          49.459,
          51.804,
          53.075,
          49.952,
          49.431,
          63.925,
          66.5,
          62.5,
          62.706,
          70.278,
          71.955,
          68.916,
          72.144,
          70.417,
          69.356,
          71.143,
          71.402,
          73.5,
          65.99,
          69,
          70.284,
          70.502,
          64.18,
          56.228,
          57.3,
          52.845,
          55.308,
          63.072,
          62.347,
          61.233,
          63.497,
          66.751,
          65.1,
          65.31,
          65.145,
          63.259,
          66.991,
          65.7,
          65.599,
          63.848,
          59,
          57.047,
          57.942,
          53.346,
          55.496,
          54.127,
          54.183,
          63.01,
          60,
          38,
          36.649,
          37.5,
          35.204,
          27.969,
          33.009,
          38.273,
          41.066,
          45.087,
          39.52,
          39.724,
          50.2,
          50.206,
          48.354,
          48.379,
          48.645,
          45.001,
          46.036,
          47.5,
          43.023,
          39.675,
          40.6,
          40.195,
          38.657,
          36.185,
          36.506,
          38.965,
          40.293,
          38.086,
          38.294,
          38,
          36.226,
          35.069,
          30.001,
          23.143,
          26.602,
          27.38,
          26.563,
          25.566,
          26.751,
          27.62,
          28.672,
          27.914,
          32,
          30.612,
          31.114,
          31.173,
          31.24,
          32.459,
          32.68,
          30,
          30,
          30.677,
          31.051,
          29.412,
          30.995,
          28.88,
          29.909,
          29.643,
          30.007,
          30.287,
          28.47,
          26.968,
          29.028,
          30.583,
          30.597,
          31.767,
          32.581,
          33.475,
          33.572,
          35.022,
          35.812,
          36.052,
          37.694,
          38.028,
          36.832,
          37.605,
          37.296,
          37.529,
          37.6,
          38.795,
          37.959,
          37.057,
          38.759,
          39.574,
          38.598,
          39.455,
          40.141,
          40.513,
          40.02,
          39,
          37.96,
          37.689,
          40.821,
          42.015,
          42.505,
          43.529,
          41.678,
          42.115,
          40.935,
          40.822,
          42.29,
          41.54,
          42.15
         ],
         "open": [
          50.42,
          42.281,
          46.952,
          42.181,
          48.048,
          43.283,
          44.728,
          41.878,
          43.709,
          52.497,
          54.69,
          52.45,
          51.329,
          55.42,
          51.197,
          49.021,
          40.492,
          42.68,
          37.638,
          38.255,
          37.395,
          35.65,
          35.961,
          36.532,
          36.235,
          37.762,
          35.573,
          35.271,
          34.822,
          32.187,
          32.061,
          29.393,
          29.216,
          33.265,
          31.147,
          30.701,
          28.978,
          31.601,
          31.134,
          31.406,
          31.74,
          31.287,
          30.646,
          30.759,
          30.525,
          28.543,
          28.481,
          29.015,
          28.869,
          27.043,
          27.413,
          27.33,
          28.946,
          28.899,
          28.893,
          31.195,
          31.65,
          29.828,
          29.37,
          28.147,
          28.598,
          29.137,
          29.09,
          26.466,
          26.593,
          26.7,
          26.388,
          26.489,
          25.957,
          26.049,
          25.167,
          24.954,
          24.146,
          24.214,
          23.249,
          23.324,
          22.94,
          25.968,
          24.303,
          23.426,
          24.113,
          22.683,
          23.21,
          23.62,
          24.537,
          24.634,
          23.668,
          24.768,
          24.183,
          24.018,
          24.079,
          24.353,
          23.79,
          23.552,
          23.998,
          27.178,
          32.461,
          34.009,
          32.886,
          29.414,
          28.084,
          27.221,
          38.271,
          35.588,
          33.526,
          31.296,
          31.67,
          31.375,
          29.99,
          31.261,
          31.118,
          30.379,
          28.439,
          28.548,
          26.917,
          26.345,
          26.452,
          29.19,
          28.645,
          27.088,
          27.126,
          27.283,
          27.052,
          29.225,
          26.952,
          25.509,
          25.247,
          22.109,
          23.86,
          24.067,
          23.54,
          23.485,
          23.948,
          23.525,
          23.002,
          22.386,
          22.925,
          22.63,
          24.037,
          27.969,
          28.354,
          28.697,
          28.277,
          26.579,
          28.156,
          27.599,
          26.523,
          27.116,
          28.202,
          27.766,
          27.19,
          28.099,
          27.822,
          30.136,
          28.22,
          28.648,
          26.178,
          26.951,
          28.091,
          27.543,
          26.835,
          26.999,
          25.545,
          26.33,
          26.209,
          26.449,
          26.996,
          27.958,
          27.56,
          29.707,
          32.542,
          34.862,
          32.786,
          34.52,
          35.226,
          37.996,
          42.272,
          42.613,
          43.449,
          48.774,
          44.051,
          41.21,
          43.063,
          42.668,
          41.913,
          41.581,
          39.996,
          40.65,
          44.494,
          36.943,
          38.357,
          36.516,
          39.609,
          40.329,
          39.4,
          41.821,
          40.582,
          42.935,
          39.1,
          39.454,
          39.198,
          39.591,
          41.412,
          41.759,
          40.426,
          44.091,
          40.957,
          42.838,
          41.555,
          43.433,
          44.968,
          47.762,
          59.259,
          54.216,
          51.64,
          49.976,
          46.695,
          45.44,
          42.698,
          39.11,
          46.828,
          43.865,
          45.873,
          48.395,
          52.773,
          52.281,
          53.896,
          54.227,
          50.234,
          66.169,
          67.883,
          69.159,
          63.208,
          72.53,
          76.665,
          72.288,
          72.719,
          75.656,
          73.06,
          71.99,
          74.783,
          74.251,
          88.624,
          73.465,
          84.904,
          78.409,
          70.686,
          66.075,
          62.735,
          57.638,
          55.317,
          63.733,
          67.497,
          65.688,
          64.197,
          69.523,
          68.578,
          66.198,
          71.905,
          65.186,
          68.378,
          68.768,
          68.099,
          66.01,
          67.113,
          59.743,
          65.37,
          58.188,
          55.825,
          58.399,
          54.288,
          76.047,
          66.798,
          61.837,
          40.554,
          48.576,
          40.435,
          37.93,
          34.322,
          40.467,
          42.524,
          53.247,
          47.736,
          40.593,
          54.599,
          52.716,
          52.221,
          49.233,
          49.289,
          50.123,
          47.199,
          48.688,
          48.267,
          43.683,
          42.588,
          45.848,
          40.986,
          39.085,
          38.397,
          39.52,
          40.693,
          40.716,
          38.403,
          38.626,
          38.599,
          36.548,
          36.584,
          30.283,
          27.359,
          28.598,
          28.636,
          26.732,
          27.17,
          28.404,
          29.158,
          29.346,
          36.114,
          33.292,
          31.7,
          31.822,
          32.2,
          33.52,
          32.931,
          33.026,
          30.291,
          32.082,
          31.377,
          31.437,
          31.138,
          31.654,
          31.401,
          30.263,
          32.947,
          30.501,
          30.525,
          28.642,
          29.84,
          31.032,
          31.137,
          32.36,
          32.768,
          35.01,
          33.851,
          37.137,
          36.338,
          38.042,
          38.735,
          38.372,
          38.594,
          38.567,
          37.895,
          38.871,
          39.149,
          38.96,
          39.621,
          38.28,
          39.274,
          39.65,
          41.408,
          39.608,
          42.777,
          41.676,
          42.109,
          40.671,
          39.371,
          38.505,
          40.956,
          42.923,
          42.621,
          44.549,
          44.745,
          42.528,
          44.314,
          41.49,
          43.31,
          42.71,
          43.11
         ],
         "type": "candlestick",
         "x": [
          "2020-08-19 00:00:00.000",
          "2020-08-20 00:00:00.000",
          "2020-08-21 00:00:00.000",
          "2020-08-22 00:00:00.000",
          "2020-08-23 00:00:00.000",
          "2020-08-24 00:00:00.000",
          "2020-08-25 00:00:00.000",
          "2020-08-26 00:00:00.000",
          "2020-08-27 00:00:00.000",
          "2020-08-28 00:00:00.000",
          "2020-08-29 00:00:00.000",
          "2020-08-30 00:00:00.000",
          "2020-08-31 00:00:00.000",
          "2020-09-01 00:00:00.000",
          "2020-09-02 00:00:00.000",
          "2020-09-03 00:00:00.000",
          "2020-09-04 00:00:00.000",
          "2020-09-05 00:00:00.000",
          "2020-09-06 00:00:00.000",
          "2020-09-07 00:00:00.000",
          "2020-09-08 00:00:00.000",
          "2020-09-09 00:00:00.000",
          "2020-09-10 00:00:00.000",
          "2020-09-11 00:00:00.000",
          "2020-09-12 00:00:00.000",
          "2020-09-13 00:00:00.000",
          "2020-09-14 00:00:00.000",
          "2020-09-15 00:00:00.000",
          "2020-09-16 00:00:00.000",
          "2020-09-17 00:00:00.000",
          "2020-09-18 00:00:00.000",
          "2020-09-19 00:00:00.000",
          "2020-09-20 00:00:00.000",
          "2020-09-21 00:00:00.000",
          "2020-09-22 00:00:00.000",
          "2020-09-23 00:00:00.000",
          "2020-09-24 00:00:00.000",
          "2020-09-25 00:00:00.000",
          "2020-09-26 00:00:00.000",
          "2020-09-27 00:00:00.000",
          "2020-09-28 00:00:00.000",
          "2020-09-29 00:00:00.000",
          "2020-09-30 00:00:00.000",
          "2020-10-01 00:00:00.000",
          "2020-10-02 00:00:00.000",
          "2020-10-03 00:00:00.000",
          "2020-10-04 00:00:00.000",
          "2020-10-05 00:00:00.000",
          "2020-10-06 00:00:00.000",
          "2020-10-07 00:00:00.000",
          "2020-10-08 00:00:00.000",
          "2020-10-09 00:00:00.000",
          "2020-10-10 00:00:00.000",
          "2020-10-11 00:00:00.000",
          "2020-10-12 00:00:00.000",
          "2020-10-13 00:00:00.000",
          "2020-10-14 00:00:00.000",
          "2020-10-15 00:00:00.000",
          "2020-10-16 00:00:00.000",
          "2020-10-17 00:00:00.000",
          "2020-10-18 00:00:00.000",
          "2020-10-19 00:00:00.000",
          "2020-10-20 00:00:00.000",
          "2020-10-21 00:00:00.000",
          "2020-10-22 00:00:00.000",
          "2020-10-23 00:00:00.000",
          "2020-10-24 00:00:00.000",
          "2020-10-25 00:00:00.000",
          "2020-10-26 00:00:00.000",
          "2020-10-27 00:00:00.000",
          "2020-10-28 00:00:00.000",
          "2020-10-29 00:00:00.000",
          "2020-10-30 00:00:00.000",
          "2020-10-31 00:00:00.000",
          "2020-11-01 00:00:00.000",
          "2020-11-02 00:00:00.000",
          "2020-11-03 00:00:00.000",
          "2020-11-04 00:00:00.000",
          "2020-11-05 00:00:00.000",
          "2020-11-06 00:00:00.000",
          "2020-11-07 00:00:00.000",
          "2020-11-08 00:00:00.000",
          "2020-11-09 00:00:00.000",
          "2020-11-10 00:00:00.000",
          "2020-11-11 00:00:00.000",
          "2020-11-12 00:00:00.000",
          "2020-11-13 00:00:00.000",
          "2020-11-14 00:00:00.000",
          "2020-11-15 00:00:00.000",
          "2020-11-16 00:00:00.000",
          "2020-11-17 00:00:00.000",
          "2020-11-18 00:00:00.000",
          "2020-11-19 00:00:00.000",
          "2020-11-20 00:00:00.000",
          "2020-11-21 00:00:00.000",
          "2020-11-22 00:00:00.000",
          "2020-11-23 00:00:00.000",
          "2020-11-24 00:00:00.000",
          "2020-11-25 00:00:00.000",
          "2020-11-26 00:00:00.000",
          "2020-11-27 00:00:00.000",
          "2020-11-28 00:00:00.000",
          "2020-11-29 00:00:00.000",
          "2020-11-30 00:00:00.000",
          "2020-12-01 00:00:00.000",
          "2020-12-02 00:00:00.000",
          "2020-12-03 00:00:00.000",
          "2020-12-04 00:00:00.000",
          "2020-12-05 00:00:00.000",
          "2020-12-06 00:00:00.000",
          "2020-12-07 00:00:00.000",
          "2020-12-08 00:00:00.000",
          "2020-12-09 00:00:00.000",
          "2020-12-10 00:00:00.000",
          "2020-12-11 00:00:00.000",
          "2020-12-12 00:00:00.000",
          "2020-12-13 00:00:00.000",
          "2020-12-14 00:00:00.000",
          "2020-12-15 00:00:00.000",
          "2020-12-16 00:00:00.000",
          "2020-12-17 00:00:00.000",
          "2020-12-18 00:00:00.000",
          "2020-12-19 00:00:00.000",
          "2020-12-20 00:00:00.000",
          "2020-12-21 00:00:00.000",
          "2020-12-22 00:00:00.000",
          "2020-12-23 00:00:00.000",
          "2020-12-24 00:00:00.000",
          "2020-12-25 00:00:00.000",
          "2020-12-26 00:00:00.000",
          "2020-12-27 00:00:00.000",
          "2020-12-28 00:00:00.000",
          "2020-12-29 00:00:00.000",
          "2020-12-30 00:00:00.000",
          "2020-12-31 00:00:00.000",
          "2021-01-01 00:00:00.000",
          "2021-01-02 00:00:00.000",
          "2021-01-03 00:00:00.000",
          "2021-01-04 00:00:00.000",
          "2021-01-05 00:00:00.000",
          "2021-01-06 00:00:00.000",
          "2021-01-07 00:00:00.000",
          "2021-01-08 00:00:00.000",
          "2021-01-09 00:00:00.000",
          "2021-01-10 00:00:00.000",
          "2021-01-11 00:00:00.000",
          "2021-01-12 00:00:00.000",
          "2021-01-13 00:00:00.000",
          "2021-01-14 00:00:00.000",
          "2021-01-15 00:00:00.000",
          "2021-01-16 00:00:00.000",
          "2021-01-17 00:00:00.000",
          "2021-01-18 00:00:00.000",
          "2021-01-19 00:00:00.000",
          "2021-01-20 00:00:00.000",
          "2021-01-21 00:00:00.000",
          "2021-01-22 00:00:00.000",
          "2021-01-23 00:00:00.000",
          "2021-01-24 00:00:00.000",
          "2021-01-25 00:00:00.000",
          "2021-01-26 00:00:00.000",
          "2021-01-27 00:00:00.000",
          "2021-01-28 00:00:00.000",
          "2021-01-29 00:00:00.000",
          "2021-01-30 00:00:00.000",
          "2021-01-31 00:00:00.000",
          "2021-02-01 00:00:00.000",
          "2021-02-02 00:00:00.000",
          "2021-02-03 00:00:00.000",
          "2021-02-04 00:00:00.000",
          "2021-02-05 00:00:00.000",
          "2021-02-06 00:00:00.000",
          "2021-02-07 00:00:00.000",
          "2021-02-08 00:00:00.000",
          "2021-02-09 00:00:00.000",
          "2021-02-10 00:00:00.000",
          "2021-02-11 00:00:00.000",
          "2021-02-12 00:00:00.000",
          "2021-02-13 00:00:00.000",
          "2021-02-14 00:00:00.000",
          "2021-02-15 00:00:00.000",
          "2021-02-16 00:00:00.000",
          "2021-02-17 00:00:00.000",
          "2021-02-18 00:00:00.000",
          "2021-02-19 00:00:00.000",
          "2021-02-20 00:00:00.000",
          "2021-02-21 00:00:00.000",
          "2021-02-22 00:00:00.000",
          "2021-02-23 00:00:00.000",
          "2021-02-24 00:00:00.000",
          "2021-02-25 00:00:00.000",
          "2021-02-26 00:00:00.000",
          "2021-02-27 00:00:00.000",
          "2021-02-28 00:00:00.000",
          "2021-03-01 00:00:00.000",
          "2021-03-02 00:00:00.000",
          "2021-03-03 00:00:00.000",
          "2021-03-04 00:00:00.000",
          "2021-03-05 00:00:00.000",
          "2021-03-06 00:00:00.000",
          "2021-03-07 00:00:00.000",
          "2021-03-08 00:00:00.000",
          "2021-03-09 00:00:00.000",
          "2021-03-10 00:00:00.000",
          "2021-03-11 00:00:00.000",
          "2021-03-12 00:00:00.000",
          "2021-03-13 00:00:00.000",
          "2021-03-14 00:00:00.000",
          "2021-03-15 00:00:00.000",
          "2021-03-16 00:00:00.000",
          "2021-03-17 00:00:00.000",
          "2021-03-18 00:00:00.000",
          "2021-03-19 00:00:00.000",
          "2021-03-20 00:00:00.000",
          "2021-03-21 00:00:00.000",
          "2021-03-22 00:00:00.000",
          "2021-03-23 00:00:00.000",
          "2021-03-24 00:00:00.000",
          "2021-03-25 00:00:00.000",
          "2021-03-26 00:00:00.000",
          "2021-03-27 00:00:00.000",
          "2021-03-28 00:00:00.000",
          "2021-03-29 00:00:00.000",
          "2021-03-30 00:00:00.000",
          "2021-03-31 00:00:00.000",
          "2021-04-01 00:00:00.000",
          "2021-04-02 00:00:00.000",
          "2021-04-03 00:00:00.000",
          "2021-04-04 00:00:00.000",
          "2021-04-05 00:00:00.000",
          "2021-04-06 00:00:00.000",
          "2021-04-07 00:00:00.000",
          "2021-04-08 00:00:00.000",
          "2021-04-09 00:00:00.000",
          "2021-04-10 00:00:00.000",
          "2021-04-11 00:00:00.000",
          "2021-04-12 00:00:00.000",
          "2021-04-13 00:00:00.000",
          "2021-04-14 00:00:00.000",
          "2021-04-15 00:00:00.000",
          "2021-04-16 00:00:00.000",
          "2021-04-17 00:00:00.000",
          "2021-04-18 00:00:00.000",
          "2021-04-19 00:00:00.000",
          "2021-04-20 00:00:00.000",
          "2021-04-21 00:00:00.000",
          "2021-04-22 00:00:00.000",
          "2021-04-23 00:00:00.000",
          "2021-04-24 00:00:00.000",
          "2021-04-25 00:00:00.000",
          "2021-04-26 00:00:00.000",
          "2021-04-27 00:00:00.000",
          "2021-04-28 00:00:00.000",
          "2021-04-29 00:00:00.000",
          "2021-04-30 00:00:00.000",
          "2021-05-01 00:00:00.000",
          "2021-05-02 00:00:00.000",
          "2021-05-03 00:00:00.000",
          "2021-05-04 00:00:00.000",
          "2021-05-05 00:00:00.000",
          "2021-05-06 00:00:00.000",
          "2021-05-07 00:00:00.000",
          "2021-05-08 00:00:00.000",
          "2021-05-09 00:00:00.000",
          "2021-05-10 00:00:00.000",
          "2021-05-11 00:00:00.000",
          "2021-05-12 00:00:00.000",
          "2021-05-13 00:00:00.000",
          "2021-05-14 00:00:00.000",
          "2021-05-15 00:00:00.000",
          "2021-05-16 00:00:00.000",
          "2021-05-17 00:00:00.000",
          "2021-05-18 00:00:00.000",
          "2021-05-19 00:00:00.000",
          "2021-05-20 00:00:00.000",
          "2021-05-21 00:00:00.000",
          "2021-05-22 00:00:00.000",
          "2021-05-23 00:00:00.000",
          "2021-05-24 00:00:00.000",
          "2021-05-25 00:00:00.000",
          "2021-05-26 00:00:00.000",
          "2021-05-27 00:00:00.000",
          "2021-05-28 00:00:00.000",
          "2021-05-29 00:00:00.000",
          "2021-05-30 00:00:00.000",
          "2021-05-31 00:00:00.000",
          "2021-06-01 00:00:00.000",
          "2021-06-02 00:00:00.000",
          "2021-06-03 00:00:00.000",
          "2021-06-04 00:00:00.000",
          "2021-06-05 00:00:00.000",
          "2021-06-06 00:00:00.000",
          "2021-06-07 00:00:00.000",
          "2021-06-08 00:00:00.000",
          "2021-06-09 00:00:00.000",
          "2021-06-10 00:00:00.000",
          "2021-06-11 00:00:00.000",
          "2021-06-12 00:00:00.000",
          "2021-06-13 00:00:00.000",
          "2021-06-14 00:00:00.000",
          "2021-06-15 00:00:00.000",
          "2021-06-16 00:00:00.000",
          "2021-06-17 00:00:00.000",
          "2021-06-18 00:00:00.000",
          "2021-06-19 00:00:00.000",
          "2021-06-20 00:00:00.000",
          "2021-06-21 00:00:00.000",
          "2021-06-22 00:00:00.000",
          "2021-06-23 00:00:00.000",
          "2021-06-24 00:00:00.000",
          "2021-06-25 00:00:00.000",
          "2021-06-26 00:00:00.000",
          "2021-06-27 00:00:00.000",
          "2021-06-28 00:00:00.000",
          "2021-06-29 00:00:00.000",
          "2021-06-30 00:00:00.000",
          "2021-07-01 00:00:00.000",
          "2021-07-02 00:00:00.000",
          "2021-07-03 00:00:00.000",
          "2021-07-04 00:00:00.000",
          "2021-07-05 00:00:00.000",
          "2021-07-06 00:00:00.000",
          "2021-07-07 00:00:00.000",
          "2021-07-08 00:00:00.000",
          "2021-07-09 00:00:00.000",
          "2021-07-10 00:00:00.000",
          "2021-07-11 00:00:00.000",
          "2021-07-12 00:00:00.000",
          "2021-07-13 00:00:00.000",
          "2021-07-14 00:00:00.000",
          "2021-07-15 00:00:00.000",
          "2021-07-16 00:00:00.000",
          "2021-07-17 00:00:00.000",
          "2021-07-18 00:00:00.000",
          "2021-07-19 00:00:00.000",
          "2021-07-20 00:00:00.000",
          "2021-07-21 00:00:00.000",
          "2021-07-22 00:00:00.000",
          "2021-07-23 00:00:00.000",
          "2021-07-24 00:00:00.000",
          "2021-07-25 00:00:00.000",
          "2021-07-26 00:00:00.000",
          "2021-07-27 00:00:00.000",
          "2021-07-28 00:00:00.000",
          "2021-07-29 00:00:00.000",
          "2021-07-30 00:00:00.000",
          "2021-07-31 00:00:00.000",
          "2021-08-01 00:00:00.000",
          "2021-08-02 00:00:00.000",
          "2021-08-03 00:00:00.000",
          "2021-08-04 00:00:00.000",
          "2021-08-05 00:00:00.000",
          "2021-08-06 00:00:00.000",
          "2021-08-07 00:00:00.000",
          "2021-08-08 00:00:00.000",
          "2021-08-09 00:00:00.000",
          "2021-08-10 00:00:00.000",
          "2021-08-11 00:00:00.000",
          "2021-08-12 00:00:00.000",
          "2021-08-13 00:00:00.000",
          "2021-08-14 00:00:00.000",
          "2021-08-15 00:00:00.000",
          "2021-08-16 00:00:00.000",
          "2021-08-17 00:00:00.000",
          "2021-08-18 00:00:00.000",
          "2021-08-19 00:00:00.000",
          "2021-08-20 00:00:00.000",
          "2021-08-21 00:00:00.000",
          "2021-08-22 00:00:00.000",
          "2021-08-23 00:00:00.000",
          "2021-08-24 00:00:00.000",
          "2021-08-25 00:00:00.000",
          "2021-08-26 00:00:00.000",
          "2021-08-27 00:00:00.000",
          "2021-08-28 00:00:00.000",
          "2021-08-29 00:00:00.000",
          "2021-08-30 00:00:00.000"
         ]
        },
        {
         "line": {
          "color": "black",
          "dash": "dash"
         },
         "mode": "lines",
         "name": "Moving average",
         "showlegend": true,
         "type": "scatter",
         "x": [
          "2020-08-19 00:00:00.000",
          "2020-08-20 00:00:00.000",
          "2020-08-21 00:00:00.000",
          "2020-08-22 00:00:00.000",
          "2020-08-23 00:00:00.000",
          "2020-08-24 00:00:00.000",
          "2020-08-25 00:00:00.000",
          "2020-08-26 00:00:00.000",
          "2020-08-27 00:00:00.000",
          "2020-08-28 00:00:00.000",
          "2020-08-29 00:00:00.000",
          "2020-08-30 00:00:00.000",
          "2020-08-31 00:00:00.000",
          "2020-09-01 00:00:00.000",
          "2020-09-02 00:00:00.000",
          "2020-09-03 00:00:00.000",
          "2020-09-04 00:00:00.000",
          "2020-09-05 00:00:00.000",
          "2020-09-06 00:00:00.000",
          "2020-09-07 00:00:00.000",
          "2020-09-08 00:00:00.000",
          "2020-09-09 00:00:00.000",
          "2020-09-10 00:00:00.000",
          "2020-09-11 00:00:00.000",
          "2020-09-12 00:00:00.000",
          "2020-09-13 00:00:00.000",
          "2020-09-14 00:00:00.000",
          "2020-09-15 00:00:00.000",
          "2020-09-16 00:00:00.000",
          "2020-09-17 00:00:00.000",
          "2020-09-18 00:00:00.000",
          "2020-09-19 00:00:00.000",
          "2020-09-20 00:00:00.000",
          "2020-09-21 00:00:00.000",
          "2020-09-22 00:00:00.000",
          "2020-09-23 00:00:00.000",
          "2020-09-24 00:00:00.000",
          "2020-09-25 00:00:00.000",
          "2020-09-26 00:00:00.000",
          "2020-09-27 00:00:00.000",
          "2020-09-28 00:00:00.000",
          "2020-09-29 00:00:00.000",
          "2020-09-30 00:00:00.000",
          "2020-10-01 00:00:00.000",
          "2020-10-02 00:00:00.000",
          "2020-10-03 00:00:00.000",
          "2020-10-04 00:00:00.000",
          "2020-10-05 00:00:00.000",
          "2020-10-06 00:00:00.000",
          "2020-10-07 00:00:00.000",
          "2020-10-08 00:00:00.000",
          "2020-10-09 00:00:00.000",
          "2020-10-10 00:00:00.000",
          "2020-10-11 00:00:00.000",
          "2020-10-12 00:00:00.000",
          "2020-10-13 00:00:00.000",
          "2020-10-14 00:00:00.000",
          "2020-10-15 00:00:00.000",
          "2020-10-16 00:00:00.000",
          "2020-10-17 00:00:00.000",
          "2020-10-18 00:00:00.000",
          "2020-10-19 00:00:00.000",
          "2020-10-20 00:00:00.000",
          "2020-10-21 00:00:00.000",
          "2020-10-22 00:00:00.000",
          "2020-10-23 00:00:00.000",
          "2020-10-24 00:00:00.000",
          "2020-10-25 00:00:00.000",
          "2020-10-26 00:00:00.000",
          "2020-10-27 00:00:00.000",
          "2020-10-28 00:00:00.000",
          "2020-10-29 00:00:00.000",
          "2020-10-30 00:00:00.000",
          "2020-10-31 00:00:00.000",
          "2020-11-01 00:00:00.000",
          "2020-11-02 00:00:00.000",
          "2020-11-03 00:00:00.000",
          "2020-11-04 00:00:00.000",
          "2020-11-05 00:00:00.000",
          "2020-11-06 00:00:00.000",
          "2020-11-07 00:00:00.000",
          "2020-11-08 00:00:00.000",
          "2020-11-09 00:00:00.000",
          "2020-11-10 00:00:00.000",
          "2020-11-11 00:00:00.000",
          "2020-11-12 00:00:00.000",
          "2020-11-13 00:00:00.000",
          "2020-11-14 00:00:00.000",
          "2020-11-15 00:00:00.000",
          "2020-11-16 00:00:00.000",
          "2020-11-17 00:00:00.000",
          "2020-11-18 00:00:00.000",
          "2020-11-19 00:00:00.000",
          "2020-11-20 00:00:00.000",
          "2020-11-21 00:00:00.000",
          "2020-11-22 00:00:00.000",
          "2020-11-23 00:00:00.000",
          "2020-11-24 00:00:00.000",
          "2020-11-25 00:00:00.000",
          "2020-11-26 00:00:00.000",
          "2020-11-27 00:00:00.000",
          "2020-11-28 00:00:00.000",
          "2020-11-29 00:00:00.000",
          "2020-11-30 00:00:00.000",
          "2020-12-01 00:00:00.000",
          "2020-12-02 00:00:00.000",
          "2020-12-03 00:00:00.000",
          "2020-12-04 00:00:00.000",
          "2020-12-05 00:00:00.000",
          "2020-12-06 00:00:00.000",
          "2020-12-07 00:00:00.000",
          "2020-12-08 00:00:00.000",
          "2020-12-09 00:00:00.000",
          "2020-12-10 00:00:00.000",
          "2020-12-11 00:00:00.000",
          "2020-12-12 00:00:00.000",
          "2020-12-13 00:00:00.000",
          "2020-12-14 00:00:00.000",
          "2020-12-15 00:00:00.000",
          "2020-12-16 00:00:00.000",
          "2020-12-17 00:00:00.000",
          "2020-12-18 00:00:00.000",
          "2020-12-19 00:00:00.000",
          "2020-12-20 00:00:00.000",
          "2020-12-21 00:00:00.000",
          "2020-12-22 00:00:00.000",
          "2020-12-23 00:00:00.000",
          "2020-12-24 00:00:00.000",
          "2020-12-25 00:00:00.000",
          "2020-12-26 00:00:00.000",
          "2020-12-27 00:00:00.000",
          "2020-12-28 00:00:00.000",
          "2020-12-29 00:00:00.000",
          "2020-12-30 00:00:00.000",
          "2020-12-31 00:00:00.000",
          "2021-01-01 00:00:00.000",
          "2021-01-02 00:00:00.000",
          "2021-01-03 00:00:00.000",
          "2021-01-04 00:00:00.000",
          "2021-01-05 00:00:00.000",
          "2021-01-06 00:00:00.000",
          "2021-01-07 00:00:00.000",
          "2021-01-08 00:00:00.000",
          "2021-01-09 00:00:00.000",
          "2021-01-10 00:00:00.000",
          "2021-01-11 00:00:00.000",
          "2021-01-12 00:00:00.000",
          "2021-01-13 00:00:00.000",
          "2021-01-14 00:00:00.000",
          "2021-01-15 00:00:00.000",
          "2021-01-16 00:00:00.000",
          "2021-01-17 00:00:00.000",
          "2021-01-18 00:00:00.000",
          "2021-01-19 00:00:00.000",
          "2021-01-20 00:00:00.000",
          "2021-01-21 00:00:00.000",
          "2021-01-22 00:00:00.000",
          "2021-01-23 00:00:00.000",
          "2021-01-24 00:00:00.000",
          "2021-01-25 00:00:00.000",
          "2021-01-26 00:00:00.000",
          "2021-01-27 00:00:00.000",
          "2021-01-28 00:00:00.000",
          "2021-01-29 00:00:00.000",
          "2021-01-30 00:00:00.000",
          "2021-01-31 00:00:00.000",
          "2021-02-01 00:00:00.000",
          "2021-02-02 00:00:00.000",
          "2021-02-03 00:00:00.000",
          "2021-02-04 00:00:00.000",
          "2021-02-05 00:00:00.000",
          "2021-02-06 00:00:00.000",
          "2021-02-07 00:00:00.000",
          "2021-02-08 00:00:00.000",
          "2021-02-09 00:00:00.000",
          "2021-02-10 00:00:00.000",
          "2021-02-11 00:00:00.000",
          "2021-02-12 00:00:00.000",
          "2021-02-13 00:00:00.000",
          "2021-02-14 00:00:00.000",
          "2021-02-15 00:00:00.000",
          "2021-02-16 00:00:00.000",
          "2021-02-17 00:00:00.000",
          "2021-02-18 00:00:00.000",
          "2021-02-19 00:00:00.000",
          "2021-02-20 00:00:00.000",
          "2021-02-21 00:00:00.000",
          "2021-02-22 00:00:00.000",
          "2021-02-23 00:00:00.000",
          "2021-02-24 00:00:00.000",
          "2021-02-25 00:00:00.000",
          "2021-02-26 00:00:00.000",
          "2021-02-27 00:00:00.000",
          "2021-02-28 00:00:00.000",
          "2021-03-01 00:00:00.000",
          "2021-03-02 00:00:00.000",
          "2021-03-03 00:00:00.000",
          "2021-03-04 00:00:00.000",
          "2021-03-05 00:00:00.000",
          "2021-03-06 00:00:00.000",
          "2021-03-07 00:00:00.000",
          "2021-03-08 00:00:00.000",
          "2021-03-09 00:00:00.000",
          "2021-03-10 00:00:00.000",
          "2021-03-11 00:00:00.000",
          "2021-03-12 00:00:00.000",
          "2021-03-13 00:00:00.000",
          "2021-03-14 00:00:00.000",
          "2021-03-15 00:00:00.000",
          "2021-03-16 00:00:00.000",
          "2021-03-17 00:00:00.000",
          "2021-03-18 00:00:00.000",
          "2021-03-19 00:00:00.000",
          "2021-03-20 00:00:00.000",
          "2021-03-21 00:00:00.000",
          "2021-03-22 00:00:00.000",
          "2021-03-23 00:00:00.000",
          "2021-03-24 00:00:00.000",
          "2021-03-25 00:00:00.000",
          "2021-03-26 00:00:00.000",
          "2021-03-27 00:00:00.000",
          "2021-03-28 00:00:00.000",
          "2021-03-29 00:00:00.000",
          "2021-03-30 00:00:00.000",
          "2021-03-31 00:00:00.000",
          "2021-04-01 00:00:00.000",
          "2021-04-02 00:00:00.000",
          "2021-04-03 00:00:00.000",
          "2021-04-04 00:00:00.000",
          "2021-04-05 00:00:00.000",
          "2021-04-06 00:00:00.000",
          "2021-04-07 00:00:00.000",
          "2021-04-08 00:00:00.000",
          "2021-04-09 00:00:00.000",
          "2021-04-10 00:00:00.000",
          "2021-04-11 00:00:00.000",
          "2021-04-12 00:00:00.000",
          "2021-04-13 00:00:00.000",
          "2021-04-14 00:00:00.000",
          "2021-04-15 00:00:00.000",
          "2021-04-16 00:00:00.000",
          "2021-04-17 00:00:00.000",
          "2021-04-18 00:00:00.000",
          "2021-04-19 00:00:00.000",
          "2021-04-20 00:00:00.000",
          "2021-04-21 00:00:00.000",
          "2021-04-22 00:00:00.000",
          "2021-04-23 00:00:00.000",
          "2021-04-24 00:00:00.000",
          "2021-04-25 00:00:00.000",
          "2021-04-26 00:00:00.000",
          "2021-04-27 00:00:00.000",
          "2021-04-28 00:00:00.000",
          "2021-04-29 00:00:00.000",
          "2021-04-30 00:00:00.000",
          "2021-05-01 00:00:00.000",
          "2021-05-02 00:00:00.000",
          "2021-05-03 00:00:00.000",
          "2021-05-04 00:00:00.000",
          "2021-05-05 00:00:00.000",
          "2021-05-06 00:00:00.000",
          "2021-05-07 00:00:00.000",
          "2021-05-08 00:00:00.000",
          "2021-05-09 00:00:00.000",
          "2021-05-10 00:00:00.000",
          "2021-05-11 00:00:00.000",
          "2021-05-12 00:00:00.000",
          "2021-05-13 00:00:00.000",
          "2021-05-14 00:00:00.000",
          "2021-05-15 00:00:00.000",
          "2021-05-16 00:00:00.000",
          "2021-05-17 00:00:00.000",
          "2021-05-18 00:00:00.000",
          "2021-05-19 00:00:00.000",
          "2021-05-20 00:00:00.000",
          "2021-05-21 00:00:00.000",
          "2021-05-22 00:00:00.000",
          "2021-05-23 00:00:00.000",
          "2021-05-24 00:00:00.000",
          "2021-05-25 00:00:00.000",
          "2021-05-26 00:00:00.000",
          "2021-05-27 00:00:00.000",
          "2021-05-28 00:00:00.000",
          "2021-05-29 00:00:00.000",
          "2021-05-30 00:00:00.000",
          "2021-05-31 00:00:00.000",
          "2021-06-01 00:00:00.000",
          "2021-06-02 00:00:00.000",
          "2021-06-03 00:00:00.000",
          "2021-06-04 00:00:00.000",
          "2021-06-05 00:00:00.000",
          "2021-06-06 00:00:00.000",
          "2021-06-07 00:00:00.000",
          "2021-06-08 00:00:00.000",
          "2021-06-09 00:00:00.000",
          "2021-06-10 00:00:00.000",
          "2021-06-11 00:00:00.000",
          "2021-06-12 00:00:00.000",
          "2021-06-13 00:00:00.000",
          "2021-06-14 00:00:00.000",
          "2021-06-15 00:00:00.000",
          "2021-06-16 00:00:00.000",
          "2021-06-17 00:00:00.000",
          "2021-06-18 00:00:00.000",
          "2021-06-19 00:00:00.000",
          "2021-06-20 00:00:00.000",
          "2021-06-21 00:00:00.000",
          "2021-06-22 00:00:00.000",
          "2021-06-23 00:00:00.000",
          "2021-06-24 00:00:00.000",
          "2021-06-25 00:00:00.000",
          "2021-06-26 00:00:00.000",
          "2021-06-27 00:00:00.000",
          "2021-06-28 00:00:00.000",
          "2021-06-29 00:00:00.000",
          "2021-06-30 00:00:00.000",
          "2021-07-01 00:00:00.000",
          "2021-07-02 00:00:00.000",
          "2021-07-03 00:00:00.000",
          "2021-07-04 00:00:00.000",
          "2021-07-05 00:00:00.000",
          "2021-07-06 00:00:00.000",
          "2021-07-07 00:00:00.000",
          "2021-07-08 00:00:00.000",
          "2021-07-09 00:00:00.000",
          "2021-07-10 00:00:00.000",
          "2021-07-11 00:00:00.000",
          "2021-07-12 00:00:00.000",
          "2021-07-13 00:00:00.000",
          "2021-07-14 00:00:00.000",
          "2021-07-15 00:00:00.000",
          "2021-07-16 00:00:00.000",
          "2021-07-17 00:00:00.000",
          "2021-07-18 00:00:00.000",
          "2021-07-19 00:00:00.000",
          "2021-07-20 00:00:00.000",
          "2021-07-21 00:00:00.000",
          "2021-07-22 00:00:00.000",
          "2021-07-23 00:00:00.000",
          "2021-07-24 00:00:00.000",
          "2021-07-25 00:00:00.000",
          "2021-07-26 00:00:00.000",
          "2021-07-27 00:00:00.000",
          "2021-07-28 00:00:00.000",
          "2021-07-29 00:00:00.000",
          "2021-07-30 00:00:00.000",
          "2021-07-31 00:00:00.000",
          "2021-08-01 00:00:00.000",
          "2021-08-02 00:00:00.000",
          "2021-08-03 00:00:00.000",
          "2021-08-04 00:00:00.000",
          "2021-08-05 00:00:00.000",
          "2021-08-06 00:00:00.000",
          "2021-08-07 00:00:00.000",
          "2021-08-08 00:00:00.000",
          "2021-08-09 00:00:00.000",
          "2021-08-10 00:00:00.000",
          "2021-08-11 00:00:00.000",
          "2021-08-12 00:00:00.000",
          "2021-08-13 00:00:00.000",
          "2021-08-14 00:00:00.000",
          "2021-08-15 00:00:00.000",
          "2021-08-16 00:00:00.000",
          "2021-08-17 00:00:00.000",
          "2021-08-18 00:00:00.000",
          "2021-08-19 00:00:00.000",
          "2021-08-20 00:00:00.000",
          "2021-08-21 00:00:00.000",
          "2021-08-22 00:00:00.000",
          "2021-08-23 00:00:00.000",
          "2021-08-24 00:00:00.000",
          "2021-08-25 00:00:00.000",
          "2021-08-26 00:00:00.000",
          "2021-08-27 00:00:00.000",
          "2021-08-28 00:00:00.000",
          "2021-08-29 00:00:00.000",
          "2021-08-30 00:00:00.000"
         ],
         "y": [
          null,
          null,
          null,
          null,
          null,
          null,
          null,
          null,
          null,
          46.0269,
          47.064,
          47.5065,
          48.84179999999999,
          49.1331,
          49.6738,
          49.272000000000006,
          49.3234,
          48.7164,
          47.2982,
          45.5688,
          43.8895,
          42.3502,
          40.4727,
          39.0119,
          37.8883,
          37.3719,
          36.6233,
          36.3575,
          35.7536,
          35.2201,
          34.5925,
          33.9186,
          33.59779999999999,
          33.0891,
          32.3829,
          31.7383,
          31.3812,
          30.996,
          30.9223,
          30.883700000000005,
          31.0802,
          31.2315,
          30.987300000000005,
          30.9325,
          30.7241,
          30.6674,
          30.3939,
          30.1606,
          29.7192,
          29.2876,
          28.886,
          28.6982,
          28.4997,
          28.3101,
          28.5689,
          28.8805,
          28.9658,
          29.0219,
          29.146500000000003,
          29.2742,
          29.454,
          29.4751,
          29.2331,
          29.013,
          28.5697,
          28.0393,
          27.7048,
          27.3662,
          27.1355,
          26.7908,
          26.3776,
          25.8683,
          25.6493,
          25.317500000000003,
          24.9643,
          24.6237,
          24.5744,
          24.4086,
          24.1551,
          24.0457,
          23.8277,
          23.7613,
          23.7003,
          23.8306,
          23.9701,
          24.0449,
          23.9251,
          23.9138,
          23.9721,
          23.9784,
          24.1324,
          24.1801,
          24.1713,
          24.1165,
          24.3716,
          25.250100000000003,
          26.187,
          27.044400000000003,
          27.6019,
          27.9864,
          28.2671,
          29.718200000000003,
          30.9098,
          31.8645,
          32.2714,
          32.1911,
          31.9152,
          31.634300000000003,
          31.806600000000003,
          32.1244,
          32.447500000000005,
          31.4584,
          30.7685,
          30.096300000000003,
          29.601800000000004,
          29.0853,
          28.8652,
          28.7307,
          28.3116,
          27.9102,
          27.5991,
          27.4697,
          27.5374,
          27.558,
          27.478,
          27.3532,
          26.6476,
          26.1759,
          25.8667,
          25.5082,
          25.1377,
          24.8293,
          24.2582,
          23.8619,
          23.5504,
          23.3173,
          23.3671,
          23.3867,
          23.778,
          24.2552,
          24.767,
          25.2047,
          25.5078,
          26.0178,
          26.535000000000004,
          26.8888,
          27.3362,
          27.7465,
          27.7188,
          27.5992,
          27.542,
          27.4762,
          27.8313,
          27.8422,
          27.9476,
          27.9228,
          27.900800000000004,
          27.8819,
          27.854400000000005,
          27.8217,
          27.7093,
          27.488800000000005,
          27.1188,
          26.9098,
          26.689,
          26.760700000000003,
          26.8721,
          26.823200000000003,
          27.0666,
          27.6334,
          28.4197,
          29.1504,
          29.955,
          30.8591,
          32.0158,
          33.5426,
          35.0049,
          36.5988,
          38.4842,
          39.6422,
          40.2779,
          41.2837,
          42.1017,
          42.7606,
          43.1156,
          42.8951,
          42.6987,
          42.7826,
          41.60510000000001,
          41.032500000000006,
          40.5676,
          40.23780000000001,
          40.0198,
          39.7866,
          39.81230000000001,
          39.8543,
          40.0538,
          39.5286,
          39.795100000000005,
          39.86749999999999,
          40.1524,
          40.3245,
          40.4562,
          40.5523,
          40.7827,
          40.8487,
          40.8682,
          41.1286,
          41.52929999999999,
          42.1186,
          42.9591,
          44.7558,
          46.0018,
          47.0985,
          47.6963,
          48.2582,
          48.5147,
          48.63680000000001,
          48.1689,
          48.3546,
          47.9585,
          46.6096,
          46.0195,
          46.1606,
          46.3877,
          47.107600000000005,
          48.0008,
          48.7387,
          51.447500000000005,
          53.5526,
          56.07620000000001,
          57.7981,
          60.2317,
          62.6183,
          64.60940000000001,
          66.476,
          68.6121,
          70.8823,
          71.48100000000001,
          72.172,
          72.6831,
          75.26,
          75.3329,
          76.123,
          76.75,
          76.547,
          75.5774,
          74.5328,
          73.08739999999999,
          71.1449,
          70.1161,
          67.97639999999998,
          67.2069,
          65.1835,
          64.2992,
          64.1111,
          64.1472,
          65.0852,
          65.85,
          67.14779999999999,
          67.63210000000001,
          67.7018,
          67.734,
          67.99660000000002,
          67.0004,
          66.6725,
          65.8652,
          64.2532,
          63.5596,
          62.16360000000001,
          62.907,
          62.77640000000001,
          62.37120000000001,
          59.7252,
          58.6172,
          56.119400000000006,
          54.08200000000001,
          51.938300000000005,
          50.1439,
          48.9571,
          46.6554,
          44.7484,
          42.6068,
          44.0161,
          44.4206,
          45.6014,
          46.7332,
          48.2331,
          49.2182,
          49.6838,
          49.2411,
          49.3015,
          49.606,
          48.4125,
          47.7173,
          46.5833,
          45.577,
          44.4731,
          43.4013,
          42.7537,
          41.952,
          40.9532,
          40.46,
          40.0575,
          39.1392,
          38.7235,
          37.8459,
          36.7466,
          35.678000000000004,
          34.4726,
          33.0825,
          31.9597,
          30.9346,
          29.981100000000005,
          29.2622,
          29.2023,
          29.4994,
          29.9395,
          30.2459,
          30.604000000000003,
          31.2636,
          31.852799999999995,
          32.3211,
          32.4471,
          32.7229,
          32.25019999999999,
          32.0656,
          32.0035,
          31.9787,
          31.896799999999995,
          31.5764,
          31.5661,
          31.318499999999997,
          31.3376,
          30.9852,
          30.827000000000005,
          30.773,
          30.7791,
          30.856500000000004,
          30.998900000000003,
          31.4814,
          31.578000000000003,
          32.2366,
          32.8144,
          33.7596,
          34.652,
          35.388000000000005,
          36.1317,
          36.7448,
          37.2518,
          37.6354,
          38.1638,
          38.3401,
          38.6657,
          38.6909,
          38.7464,
          38.8735,
          39.1566,
          39.269400000000005,
          39.7578,
          40.0337,
          40.3278,
          40.494,
          40.4717,
          40.4928,
          40.661,
          40.9864,
          41.1077,
          41.593,
          41.7905,
          41.879900000000006,
          42.0943,
          42.1781,
          42.57000000000001,
          42.9845,
          43.1999,
          43.1996
         ]
        },
        {
         "line": {
          "color": "lightgreen"
         },
         "mode": "lines",
         "name": "Upper bound",
         "showlegend": true,
         "type": "scatter",
         "x": [
          "2020-08-19 00:00:00.000",
          "2020-08-20 00:00:00.000",
          "2020-08-21 00:00:00.000",
          "2020-08-22 00:00:00.000",
          "2020-08-23 00:00:00.000",
          "2020-08-24 00:00:00.000",
          "2020-08-25 00:00:00.000",
          "2020-08-26 00:00:00.000",
          "2020-08-27 00:00:00.000",
          "2020-08-28 00:00:00.000",
          "2020-08-29 00:00:00.000",
          "2020-08-30 00:00:00.000",
          "2020-08-31 00:00:00.000",
          "2020-09-01 00:00:00.000",
          "2020-09-02 00:00:00.000",
          "2020-09-03 00:00:00.000",
          "2020-09-04 00:00:00.000",
          "2020-09-05 00:00:00.000",
          "2020-09-06 00:00:00.000",
          "2020-09-07 00:00:00.000",
          "2020-09-08 00:00:00.000",
          "2020-09-09 00:00:00.000",
          "2020-09-10 00:00:00.000",
          "2020-09-11 00:00:00.000",
          "2020-09-12 00:00:00.000",
          "2020-09-13 00:00:00.000",
          "2020-09-14 00:00:00.000",
          "2020-09-15 00:00:00.000",
          "2020-09-16 00:00:00.000",
          "2020-09-17 00:00:00.000",
          "2020-09-18 00:00:00.000",
          "2020-09-19 00:00:00.000",
          "2020-09-20 00:00:00.000",
          "2020-09-21 00:00:00.000",
          "2020-09-22 00:00:00.000",
          "2020-09-23 00:00:00.000",
          "2020-09-24 00:00:00.000",
          "2020-09-25 00:00:00.000",
          "2020-09-26 00:00:00.000",
          "2020-09-27 00:00:00.000",
          "2020-09-28 00:00:00.000",
          "2020-09-29 00:00:00.000",
          "2020-09-30 00:00:00.000",
          "2020-10-01 00:00:00.000",
          "2020-10-02 00:00:00.000",
          "2020-10-03 00:00:00.000",
          "2020-10-04 00:00:00.000",
          "2020-10-05 00:00:00.000",
          "2020-10-06 00:00:00.000",
          "2020-10-07 00:00:00.000",
          "2020-10-08 00:00:00.000",
          "2020-10-09 00:00:00.000",
          "2020-10-10 00:00:00.000",
          "2020-10-11 00:00:00.000",
          "2020-10-12 00:00:00.000",
          "2020-10-13 00:00:00.000",
          "2020-10-14 00:00:00.000",
          "2020-10-15 00:00:00.000",
          "2020-10-16 00:00:00.000",
          "2020-10-17 00:00:00.000",
          "2020-10-18 00:00:00.000",
          "2020-10-19 00:00:00.000",
          "2020-10-20 00:00:00.000",
          "2020-10-21 00:00:00.000",
          "2020-10-22 00:00:00.000",
          "2020-10-23 00:00:00.000",
          "2020-10-24 00:00:00.000",
          "2020-10-25 00:00:00.000",
          "2020-10-26 00:00:00.000",
          "2020-10-27 00:00:00.000",
          "2020-10-28 00:00:00.000",
          "2020-10-29 00:00:00.000",
          "2020-10-30 00:00:00.000",
          "2020-10-31 00:00:00.000",
          "2020-11-01 00:00:00.000",
          "2020-11-02 00:00:00.000",
          "2020-11-03 00:00:00.000",
          "2020-11-04 00:00:00.000",
          "2020-11-05 00:00:00.000",
          "2020-11-06 00:00:00.000",
          "2020-11-07 00:00:00.000",
          "2020-11-08 00:00:00.000",
          "2020-11-09 00:00:00.000",
          "2020-11-10 00:00:00.000",
          "2020-11-11 00:00:00.000",
          "2020-11-12 00:00:00.000",
          "2020-11-13 00:00:00.000",
          "2020-11-14 00:00:00.000",
          "2020-11-15 00:00:00.000",
          "2020-11-16 00:00:00.000",
          "2020-11-17 00:00:00.000",
          "2020-11-18 00:00:00.000",
          "2020-11-19 00:00:00.000",
          "2020-11-20 00:00:00.000",
          "2020-11-21 00:00:00.000",
          "2020-11-22 00:00:00.000",
          "2020-11-23 00:00:00.000",
          "2020-11-24 00:00:00.000",
          "2020-11-25 00:00:00.000",
          "2020-11-26 00:00:00.000",
          "2020-11-27 00:00:00.000",
          "2020-11-28 00:00:00.000",
          "2020-11-29 00:00:00.000",
          "2020-11-30 00:00:00.000",
          "2020-12-01 00:00:00.000",
          "2020-12-02 00:00:00.000",
          "2020-12-03 00:00:00.000",
          "2020-12-04 00:00:00.000",
          "2020-12-05 00:00:00.000",
          "2020-12-06 00:00:00.000",
          "2020-12-07 00:00:00.000",
          "2020-12-08 00:00:00.000",
          "2020-12-09 00:00:00.000",
          "2020-12-10 00:00:00.000",
          "2020-12-11 00:00:00.000",
          "2020-12-12 00:00:00.000",
          "2020-12-13 00:00:00.000",
          "2020-12-14 00:00:00.000",
          "2020-12-15 00:00:00.000",
          "2020-12-16 00:00:00.000",
          "2020-12-17 00:00:00.000",
          "2020-12-18 00:00:00.000",
          "2020-12-19 00:00:00.000",
          "2020-12-20 00:00:00.000",
          "2020-12-21 00:00:00.000",
          "2020-12-22 00:00:00.000",
          "2020-12-23 00:00:00.000",
          "2020-12-24 00:00:00.000",
          "2020-12-25 00:00:00.000",
          "2020-12-26 00:00:00.000",
          "2020-12-27 00:00:00.000",
          "2020-12-28 00:00:00.000",
          "2020-12-29 00:00:00.000",
          "2020-12-30 00:00:00.000",
          "2020-12-31 00:00:00.000",
          "2021-01-01 00:00:00.000",
          "2021-01-02 00:00:00.000",
          "2021-01-03 00:00:00.000",
          "2021-01-04 00:00:00.000",
          "2021-01-05 00:00:00.000",
          "2021-01-06 00:00:00.000",
          "2021-01-07 00:00:00.000",
          "2021-01-08 00:00:00.000",
          "2021-01-09 00:00:00.000",
          "2021-01-10 00:00:00.000",
          "2021-01-11 00:00:00.000",
          "2021-01-12 00:00:00.000",
          "2021-01-13 00:00:00.000",
          "2021-01-14 00:00:00.000",
          "2021-01-15 00:00:00.000",
          "2021-01-16 00:00:00.000",
          "2021-01-17 00:00:00.000",
          "2021-01-18 00:00:00.000",
          "2021-01-19 00:00:00.000",
          "2021-01-20 00:00:00.000",
          "2021-01-21 00:00:00.000",
          "2021-01-22 00:00:00.000",
          "2021-01-23 00:00:00.000",
          "2021-01-24 00:00:00.000",
          "2021-01-25 00:00:00.000",
          "2021-01-26 00:00:00.000",
          "2021-01-27 00:00:00.000",
          "2021-01-28 00:00:00.000",
          "2021-01-29 00:00:00.000",
          "2021-01-30 00:00:00.000",
          "2021-01-31 00:00:00.000",
          "2021-02-01 00:00:00.000",
          "2021-02-02 00:00:00.000",
          "2021-02-03 00:00:00.000",
          "2021-02-04 00:00:00.000",
          "2021-02-05 00:00:00.000",
          "2021-02-06 00:00:00.000",
          "2021-02-07 00:00:00.000",
          "2021-02-08 00:00:00.000",
          "2021-02-09 00:00:00.000",
          "2021-02-10 00:00:00.000",
          "2021-02-11 00:00:00.000",
          "2021-02-12 00:00:00.000",
          "2021-02-13 00:00:00.000",
          "2021-02-14 00:00:00.000",
          "2021-02-15 00:00:00.000",
          "2021-02-16 00:00:00.000",
          "2021-02-17 00:00:00.000",
          "2021-02-18 00:00:00.000",
          "2021-02-19 00:00:00.000",
          "2021-02-20 00:00:00.000",
          "2021-02-21 00:00:00.000",
          "2021-02-22 00:00:00.000",
          "2021-02-23 00:00:00.000",
          "2021-02-24 00:00:00.000",
          "2021-02-25 00:00:00.000",
          "2021-02-26 00:00:00.000",
          "2021-02-27 00:00:00.000",
          "2021-02-28 00:00:00.000",
          "2021-03-01 00:00:00.000",
          "2021-03-02 00:00:00.000",
          "2021-03-03 00:00:00.000",
          "2021-03-04 00:00:00.000",
          "2021-03-05 00:00:00.000",
          "2021-03-06 00:00:00.000",
          "2021-03-07 00:00:00.000",
          "2021-03-08 00:00:00.000",
          "2021-03-09 00:00:00.000",
          "2021-03-10 00:00:00.000",
          "2021-03-11 00:00:00.000",
          "2021-03-12 00:00:00.000",
          "2021-03-13 00:00:00.000",
          "2021-03-14 00:00:00.000",
          "2021-03-15 00:00:00.000",
          "2021-03-16 00:00:00.000",
          "2021-03-17 00:00:00.000",
          "2021-03-18 00:00:00.000",
          "2021-03-19 00:00:00.000",
          "2021-03-20 00:00:00.000",
          "2021-03-21 00:00:00.000",
          "2021-03-22 00:00:00.000",
          "2021-03-23 00:00:00.000",
          "2021-03-24 00:00:00.000",
          "2021-03-25 00:00:00.000",
          "2021-03-26 00:00:00.000",
          "2021-03-27 00:00:00.000",
          "2021-03-28 00:00:00.000",
          "2021-03-29 00:00:00.000",
          "2021-03-30 00:00:00.000",
          "2021-03-31 00:00:00.000",
          "2021-04-01 00:00:00.000",
          "2021-04-02 00:00:00.000",
          "2021-04-03 00:00:00.000",
          "2021-04-04 00:00:00.000",
          "2021-04-05 00:00:00.000",
          "2021-04-06 00:00:00.000",
          "2021-04-07 00:00:00.000",
          "2021-04-08 00:00:00.000",
          "2021-04-09 00:00:00.000",
          "2021-04-10 00:00:00.000",
          "2021-04-11 00:00:00.000",
          "2021-04-12 00:00:00.000",
          "2021-04-13 00:00:00.000",
          "2021-04-14 00:00:00.000",
          "2021-04-15 00:00:00.000",
          "2021-04-16 00:00:00.000",
          "2021-04-17 00:00:00.000",
          "2021-04-18 00:00:00.000",
          "2021-04-19 00:00:00.000",
          "2021-04-20 00:00:00.000",
          "2021-04-21 00:00:00.000",
          "2021-04-22 00:00:00.000",
          "2021-04-23 00:00:00.000",
          "2021-04-24 00:00:00.000",
          "2021-04-25 00:00:00.000",
          "2021-04-26 00:00:00.000",
          "2021-04-27 00:00:00.000",
          "2021-04-28 00:00:00.000",
          "2021-04-29 00:00:00.000",
          "2021-04-30 00:00:00.000",
          "2021-05-01 00:00:00.000",
          "2021-05-02 00:00:00.000",
          "2021-05-03 00:00:00.000",
          "2021-05-04 00:00:00.000",
          "2021-05-05 00:00:00.000",
          "2021-05-06 00:00:00.000",
          "2021-05-07 00:00:00.000",
          "2021-05-08 00:00:00.000",
          "2021-05-09 00:00:00.000",
          "2021-05-10 00:00:00.000",
          "2021-05-11 00:00:00.000",
          "2021-05-12 00:00:00.000",
          "2021-05-13 00:00:00.000",
          "2021-05-14 00:00:00.000",
          "2021-05-15 00:00:00.000",
          "2021-05-16 00:00:00.000",
          "2021-05-17 00:00:00.000",
          "2021-05-18 00:00:00.000",
          "2021-05-19 00:00:00.000",
          "2021-05-20 00:00:00.000",
          "2021-05-21 00:00:00.000",
          "2021-05-22 00:00:00.000",
          "2021-05-23 00:00:00.000",
          "2021-05-24 00:00:00.000",
          "2021-05-25 00:00:00.000",
          "2021-05-26 00:00:00.000",
          "2021-05-27 00:00:00.000",
          "2021-05-28 00:00:00.000",
          "2021-05-29 00:00:00.000",
          "2021-05-30 00:00:00.000",
          "2021-05-31 00:00:00.000",
          "2021-06-01 00:00:00.000",
          "2021-06-02 00:00:00.000",
          "2021-06-03 00:00:00.000",
          "2021-06-04 00:00:00.000",
          "2021-06-05 00:00:00.000",
          "2021-06-06 00:00:00.000",
          "2021-06-07 00:00:00.000",
          "2021-06-08 00:00:00.000",
          "2021-06-09 00:00:00.000",
          "2021-06-10 00:00:00.000",
          "2021-06-11 00:00:00.000",
          "2021-06-12 00:00:00.000",
          "2021-06-13 00:00:00.000",
          "2021-06-14 00:00:00.000",
          "2021-06-15 00:00:00.000",
          "2021-06-16 00:00:00.000",
          "2021-06-17 00:00:00.000",
          "2021-06-18 00:00:00.000",
          "2021-06-19 00:00:00.000",
          "2021-06-20 00:00:00.000",
          "2021-06-21 00:00:00.000",
          "2021-06-22 00:00:00.000",
          "2021-06-23 00:00:00.000",
          "2021-06-24 00:00:00.000",
          "2021-06-25 00:00:00.000",
          "2021-06-26 00:00:00.000",
          "2021-06-27 00:00:00.000",
          "2021-06-28 00:00:00.000",
          "2021-06-29 00:00:00.000",
          "2021-06-30 00:00:00.000",
          "2021-07-01 00:00:00.000",
          "2021-07-02 00:00:00.000",
          "2021-07-03 00:00:00.000",
          "2021-07-04 00:00:00.000",
          "2021-07-05 00:00:00.000",
          "2021-07-06 00:00:00.000",
          "2021-07-07 00:00:00.000",
          "2021-07-08 00:00:00.000",
          "2021-07-09 00:00:00.000",
          "2021-07-10 00:00:00.000",
          "2021-07-11 00:00:00.000",
          "2021-07-12 00:00:00.000",
          "2021-07-13 00:00:00.000",
          "2021-07-14 00:00:00.000",
          "2021-07-15 00:00:00.000",
          "2021-07-16 00:00:00.000",
          "2021-07-17 00:00:00.000",
          "2021-07-18 00:00:00.000",
          "2021-07-19 00:00:00.000",
          "2021-07-20 00:00:00.000",
          "2021-07-21 00:00:00.000",
          "2021-07-22 00:00:00.000",
          "2021-07-23 00:00:00.000",
          "2021-07-24 00:00:00.000",
          "2021-07-25 00:00:00.000",
          "2021-07-26 00:00:00.000",
          "2021-07-27 00:00:00.000",
          "2021-07-28 00:00:00.000",
          "2021-07-29 00:00:00.000",
          "2021-07-30 00:00:00.000",
          "2021-07-31 00:00:00.000",
          "2021-08-01 00:00:00.000",
          "2021-08-02 00:00:00.000",
          "2021-08-03 00:00:00.000",
          "2021-08-04 00:00:00.000",
          "2021-08-05 00:00:00.000",
          "2021-08-06 00:00:00.000",
          "2021-08-07 00:00:00.000",
          "2021-08-08 00:00:00.000",
          "2021-08-09 00:00:00.000",
          "2021-08-10 00:00:00.000",
          "2021-08-11 00:00:00.000",
          "2021-08-12 00:00:00.000",
          "2021-08-13 00:00:00.000",
          "2021-08-14 00:00:00.000",
          "2021-08-15 00:00:00.000",
          "2021-08-16 00:00:00.000",
          "2021-08-17 00:00:00.000",
          "2021-08-18 00:00:00.000",
          "2021-08-19 00:00:00.000",
          "2021-08-20 00:00:00.000",
          "2021-08-21 00:00:00.000",
          "2021-08-22 00:00:00.000",
          "2021-08-23 00:00:00.000",
          "2021-08-24 00:00:00.000",
          "2021-08-25 00:00:00.000",
          "2021-08-26 00:00:00.000",
          "2021-08-27 00:00:00.000",
          "2021-08-28 00:00:00.000",
          "2021-08-29 00:00:00.000",
          "2021-08-30 00:00:00.000"
         ],
         "y": [
          null,
          null,
          null,
          null,
          null,
          null,
          null,
          null,
          null,
          54.99141327054502,
          56.3909062633032,
          57.21713148192629,
          58.79290610490668,
          59.14219956878129,
          58.90633863246723,
          59.72944362218182,
          59.63101130643004,
          61.016115993107775,
          60.893491564034626,
          59.38310028147161,
          58.064139144926706,
          56.262432979967244,
          51.39441399043612,
          47.34021520643742,
          42.37418720817226,
          41.5948281520974,
          38.74353563679948,
          38.576505833450604,
          38.80745253227587,
          38.814857225614816,
          39.71502188325664,
          39.93543218239546,
          39.34513938831204,
          38.678470264667936,
          37.05798787320845,
          36.24908963769692,
          35.15910356914733,
          33.80410002987359,
          33.62479104017395,
          33.52422184236342,
          33.50757092344749,
          33.30757070100078,
          32.49699991131367,
          32.44830187799448,
          32.83728978481936,
          32.993815497426226,
          32.827643426630026,
          32.72534217027719,
          32.75209385827358,
          32.31187999879461,
          31.75820147854068,
          31.261796744159383,
          30.596665013218995,
          29.798248872480336,
          30.93478051731699,
          31.943914398636878,
          32.08517854209566,
          32.14779805051607,
          32.01440333790272,
          31.891097025953158,
          31.697659510709695,
          31.697718565765832,
          32.17434379585656,
          32.40857372013728,
          31.849486991728124,
          30.775607982990145,
          30.295167421385532,
          29.881405103189163,
          29.688475997623577,
          29.373991445565363,
          28.59525004753475,
          27.63158230549914,
          27.638162779467955,
          27.704927671969624,
          27.439472011979422,
          27.189559968465755,
          26.998386651961226,
          26.62636748605879,
          26.12842577701187,
          25.880730983691656,
          25.678869492209216,
          25.63630851553548,
          25.547162095554842,
          25.714422166647584,
          25.865782451138063,
          25.814790253972934,
          25.213007329308343,
          25.188535632721774,
          25.209193888468516,
          25.218912510572203,
          25.079139058263532,
          24.97977296092948,
          24.999831793795874,
          24.909555553607934,
          26.47051341200832,
          30.721641927707765,
          34.00049874682681,
          35.72224203589795,
          36.140529161379064,
          36.17488661638181,
          36.08661157610795,
          39.07826893611828,
          39.79081855019379,
          39.38717512997262,
          39.07493687103649,
          39.0030116227057,
          38.59875113859538,
          38.3933100557205,
          38.424561700302,
          38.214764791117716,
          37.64549450643095,
          35.292030040690726,
          33.81404293645243,
          33.38557051014149,
          33.540299183981105,
          33.17031283011691,
          32.624938974390794,
          32.4111307779265,
          31.600003489705713,
          30.55981444574654,
          29.604904122484403,
          29.409148272060293,
          29.680689102705337,
          29.674132531030736,
          29.849116755173462,
          30.059595684300003,
          30.621013444382264,
          30.228329992540548,
          30.055301044633985,
          29.814201166330804,
          29.402374435926177,
          28.900102383368946,
          26.960627353324767,
          25.826558511463155,
          25.333805780459336,
          24.665589797401058,
          24.545408184549267,
          24.61020645459779,
          26.938352863561313,
          28.52898466675331,
          29.832767113127325,
          30.72391347456099,
          30.946676746780025,
          31.39093256862305,
          31.321498789999257,
          30.959137119534972,
          30.09332681367111,
          29.335687423390997,
          29.299532544668843,
          29.146970525626287,
          28.9451412378413,
          28.755057754229547,
          29.765217394535327,
          29.78545724264919,
          29.93803874560294,
          29.99969657368276,
          30.020880250052837,
          29.99343855438732,
          29.983384776313635,
          30.00751061495315,
          29.941134930175842,
          30.105310109965767,
          29.05460320395489,
          28.744245190119663,
          28.08855072156027,
          28.12558796446932,
          28.444518505218372,
          28.262877679975578,
          29.46471021894737,
          31.8064584787017,
          34.56120477760383,
          35.50677354332008,
          36.7813652277196,
          37.85319569724487,
          39.546502242597526,
          42.54119451741689,
          44.71678076304234,
          46.08235192718168,
          49.40318822337572,
          50.18995830001574,
          50.298584538604004,
          49.91437887377448,
          49.27852498973802,
          48.10325903002481,
          47.41634424566971,
          47.610375926885,
          47.625258144947665,
          47.794764775157326,
          45.903835364421525,
          45.39166905945204,
          45.75149833576535,
          45.17304546727086,
          44.671418862765925,
          44.27127684454471,
          44.34405325894907,
          44.40137916506066,
          44.919540806906525,
          43.386192248482345,
          43.199827752208996,
          43.16503999217529,
          42.55495848812973,
          42.800450681611615,
          43.09469970837715,
          43.10008684787747,
          44.120543888233435,
          44.18041294615107,
          44.248515540826126,
          44.279475744225806,
          44.834942858977044,
          45.57873900812529,
          47.43890261965921,
          55.856429083274435,
          58.336036139929746,
          59.180140111250246,
          59.707716275082895,
          59.38641610142402,
          59.19696696914061,
          58.99343711185534,
          59.86982693194259,
          59.887628789813164,
          59.83920806905948,
          55.438267356338784,
          53.22784573409292,
          53.87462706185974,
          54.72178231567445,
          56.70726745720299,
          58.51422467937454,
          58.67271751782416,
          63.94185297333218,
          69.26590330077715,
          72.9378578017173,
          73.47598946822144,
          76.89360425424923,
          81.27440546592041,
          82.6288210586489,
          83.39573524878206,
          84.04798213510577,
          79.48115460331067,
          79.38116022340964,
          79.87792920346902,
          80.15798033051655,
          85.27891295944204,
          85.27787387069849,
          87.6694112365891,
          88.03978531436407,
          88.23751900758272,
          89.05358960982615,
          90.33169587703267,
          92.20802079884751,
          93.21675303503058,
          92.50950818584269,
          86.12183797456754,
          84.98219142627144,
          78.11702842636325,
          73.98035694647149,
          73.31556449404924,
          73.38735270677036,
          75.42518232536592,
          74.74494368228949,
          72.19887757920043,
          72.21607628944703,
          72.29141899168974,
          72.26496918746618,
          71.917996825961,
          73.34025819680107,
          72.97245387990095,
          74.11105195652209,
          73.50638721306287,
          73.50992051745018,
          73.00932067991135,
          76.44819856831944,
          76.11877527412364,
          75.52185591266547,
          78.29412821175532,
          78.46693837610938,
          78.33745886510617,
          78.98999594953821,
          79.72463256436998,
          78.42695076189605,
          77.44520540792985,
          68.24492151597802,
          61.18673033424521,
          53.834762070948386,
          57.40482183593299,
          58.64769365807172,
          60.29485275813497,
          60.5099101636538,
          58.931110716431235,
          58.38334934351195,
          57.74113883832275,
          56.92161430280188,
          56.93833018884942,
          55.796390833110245,
          54.91445370638617,
          53.653314678776965,
          53.024487333609834,
          53.21258476258733,
          52.85224354944535,
          51.2655958037499,
          50.29916374688429,
          48.26620740165389,
          45.7672010432523,
          45.08145825951444,
          44.5223421397988,
          41.85570687464433,
          41.540079840869055,
          43.78434225365457,
          45.648533782423726,
          45.637165426881424,
          44.649558733661884,
          43.252809041518375,
          42.02946530897162,
          40.01346557769022,
          37.292108287354665,
          34.93483174666963,
          34.527753850246185,
          35.418496342441294,
          35.785460751758585,
          36.140414169028645,
          36.49974256938302,
          36.748323365858155,
          36.56659948661271,
          36.39981259100102,
          36.144853966935905,
          35.745813598204954,
          34.21722500689951,
          33.91076983861206,
          33.942757418014345,
          33.933869114592646,
          33.87551783401701,
          33.48522819202176,
          33.441534752557786,
          32.9378066417422,
          32.91098564884469,
          33.22371355442039,
          33.16389423523128,
          33.063422377348154,
          33.07346594000547,
          33.317981803031905,
          33.74830340195053,
          35.16565601716146,
          35.47224053357311,
          37.418707181874446,
          38.435550313275265,
          39.40238144180598,
          40.33065508334019,
          40.854153959696056,
          41.022539877884036,
          41.03444477161643,
          40.571104184110894,
          40.703483904399256,
          39.85995691097727,
          39.95414239239051,
          39.69099260863547,
          39.65884510863092,
          39.782735080941094,
          39.995447216024324,
          41.08493196772935,
          41.15620758012936,
          42.428885305844844,
          42.87161301252448,
          43.361503098340044,
          43.37281148315491,
          43.3847477434372,
          43.33800927564411,
          43.38214387712025,
          43.918494617237556,
          44.21258404506872,
          45.148141003609354,
          45.82551752715318,
          45.94061547609122,
          46.422164862337496,
          46.410665646926745,
          46.348802396996234,
          45.46935228713454,
          45.23618975235462,
          45.23611122156114
         ]
        },
        {
         "line": {
          "color": "firebrick"
         },
         "mode": "lines",
         "name": "Lower bound",
         "showlegend": true,
         "type": "scatter",
         "x": [
          "2020-08-19 00:00:00.000",
          "2020-08-20 00:00:00.000",
          "2020-08-21 00:00:00.000",
          "2020-08-22 00:00:00.000",
          "2020-08-23 00:00:00.000",
          "2020-08-24 00:00:00.000",
          "2020-08-25 00:00:00.000",
          "2020-08-26 00:00:00.000",
          "2020-08-27 00:00:00.000",
          "2020-08-28 00:00:00.000",
          "2020-08-29 00:00:00.000",
          "2020-08-30 00:00:00.000",
          "2020-08-31 00:00:00.000",
          "2020-09-01 00:00:00.000",
          "2020-09-02 00:00:00.000",
          "2020-09-03 00:00:00.000",
          "2020-09-04 00:00:00.000",
          "2020-09-05 00:00:00.000",
          "2020-09-06 00:00:00.000",
          "2020-09-07 00:00:00.000",
          "2020-09-08 00:00:00.000",
          "2020-09-09 00:00:00.000",
          "2020-09-10 00:00:00.000",
          "2020-09-11 00:00:00.000",
          "2020-09-12 00:00:00.000",
          "2020-09-13 00:00:00.000",
          "2020-09-14 00:00:00.000",
          "2020-09-15 00:00:00.000",
          "2020-09-16 00:00:00.000",
          "2020-09-17 00:00:00.000",
          "2020-09-18 00:00:00.000",
          "2020-09-19 00:00:00.000",
          "2020-09-20 00:00:00.000",
          "2020-09-21 00:00:00.000",
          "2020-09-22 00:00:00.000",
          "2020-09-23 00:00:00.000",
          "2020-09-24 00:00:00.000",
          "2020-09-25 00:00:00.000",
          "2020-09-26 00:00:00.000",
          "2020-09-27 00:00:00.000",
          "2020-09-28 00:00:00.000",
          "2020-09-29 00:00:00.000",
          "2020-09-30 00:00:00.000",
          "2020-10-01 00:00:00.000",
          "2020-10-02 00:00:00.000",
          "2020-10-03 00:00:00.000",
          "2020-10-04 00:00:00.000",
          "2020-10-05 00:00:00.000",
          "2020-10-06 00:00:00.000",
          "2020-10-07 00:00:00.000",
          "2020-10-08 00:00:00.000",
          "2020-10-09 00:00:00.000",
          "2020-10-10 00:00:00.000",
          "2020-10-11 00:00:00.000",
          "2020-10-12 00:00:00.000",
          "2020-10-13 00:00:00.000",
          "2020-10-14 00:00:00.000",
          "2020-10-15 00:00:00.000",
          "2020-10-16 00:00:00.000",
          "2020-10-17 00:00:00.000",
          "2020-10-18 00:00:00.000",
          "2020-10-19 00:00:00.000",
          "2020-10-20 00:00:00.000",
          "2020-10-21 00:00:00.000",
          "2020-10-22 00:00:00.000",
          "2020-10-23 00:00:00.000",
          "2020-10-24 00:00:00.000",
          "2020-10-25 00:00:00.000",
          "2020-10-26 00:00:00.000",
          "2020-10-27 00:00:00.000",
          "2020-10-28 00:00:00.000",
          "2020-10-29 00:00:00.000",
          "2020-10-30 00:00:00.000",
          "2020-10-31 00:00:00.000",
          "2020-11-01 00:00:00.000",
          "2020-11-02 00:00:00.000",
          "2020-11-03 00:00:00.000",
          "2020-11-04 00:00:00.000",
          "2020-11-05 00:00:00.000",
          "2020-11-06 00:00:00.000",
          "2020-11-07 00:00:00.000",
          "2020-11-08 00:00:00.000",
          "2020-11-09 00:00:00.000",
          "2020-11-10 00:00:00.000",
          "2020-11-11 00:00:00.000",
          "2020-11-12 00:00:00.000",
          "2020-11-13 00:00:00.000",
          "2020-11-14 00:00:00.000",
          "2020-11-15 00:00:00.000",
          "2020-11-16 00:00:00.000",
          "2020-11-17 00:00:00.000",
          "2020-11-18 00:00:00.000",
          "2020-11-19 00:00:00.000",
          "2020-11-20 00:00:00.000",
          "2020-11-21 00:00:00.000",
          "2020-11-22 00:00:00.000",
          "2020-11-23 00:00:00.000",
          "2020-11-24 00:00:00.000",
          "2020-11-25 00:00:00.000",
          "2020-11-26 00:00:00.000",
          "2020-11-27 00:00:00.000",
          "2020-11-28 00:00:00.000",
          "2020-11-29 00:00:00.000",
          "2020-11-30 00:00:00.000",
          "2020-12-01 00:00:00.000",
          "2020-12-02 00:00:00.000",
          "2020-12-03 00:00:00.000",
          "2020-12-04 00:00:00.000",
          "2020-12-05 00:00:00.000",
          "2020-12-06 00:00:00.000",
          "2020-12-07 00:00:00.000",
          "2020-12-08 00:00:00.000",
          "2020-12-09 00:00:00.000",
          "2020-12-10 00:00:00.000",
          "2020-12-11 00:00:00.000",
          "2020-12-12 00:00:00.000",
          "2020-12-13 00:00:00.000",
          "2020-12-14 00:00:00.000",
          "2020-12-15 00:00:00.000",
          "2020-12-16 00:00:00.000",
          "2020-12-17 00:00:00.000",
          "2020-12-18 00:00:00.000",
          "2020-12-19 00:00:00.000",
          "2020-12-20 00:00:00.000",
          "2020-12-21 00:00:00.000",
          "2020-12-22 00:00:00.000",
          "2020-12-23 00:00:00.000",
          "2020-12-24 00:00:00.000",
          "2020-12-25 00:00:00.000",
          "2020-12-26 00:00:00.000",
          "2020-12-27 00:00:00.000",
          "2020-12-28 00:00:00.000",
          "2020-12-29 00:00:00.000",
          "2020-12-30 00:00:00.000",
          "2020-12-31 00:00:00.000",
          "2021-01-01 00:00:00.000",
          "2021-01-02 00:00:00.000",
          "2021-01-03 00:00:00.000",
          "2021-01-04 00:00:00.000",
          "2021-01-05 00:00:00.000",
          "2021-01-06 00:00:00.000",
          "2021-01-07 00:00:00.000",
          "2021-01-08 00:00:00.000",
          "2021-01-09 00:00:00.000",
          "2021-01-10 00:00:00.000",
          "2021-01-11 00:00:00.000",
          "2021-01-12 00:00:00.000",
          "2021-01-13 00:00:00.000",
          "2021-01-14 00:00:00.000",
          "2021-01-15 00:00:00.000",
          "2021-01-16 00:00:00.000",
          "2021-01-17 00:00:00.000",
          "2021-01-18 00:00:00.000",
          "2021-01-19 00:00:00.000",
          "2021-01-20 00:00:00.000",
          "2021-01-21 00:00:00.000",
          "2021-01-22 00:00:00.000",
          "2021-01-23 00:00:00.000",
          "2021-01-24 00:00:00.000",
          "2021-01-25 00:00:00.000",
          "2021-01-26 00:00:00.000",
          "2021-01-27 00:00:00.000",
          "2021-01-28 00:00:00.000",
          "2021-01-29 00:00:00.000",
          "2021-01-30 00:00:00.000",
          "2021-01-31 00:00:00.000",
          "2021-02-01 00:00:00.000",
          "2021-02-02 00:00:00.000",
          "2021-02-03 00:00:00.000",
          "2021-02-04 00:00:00.000",
          "2021-02-05 00:00:00.000",
          "2021-02-06 00:00:00.000",
          "2021-02-07 00:00:00.000",
          "2021-02-08 00:00:00.000",
          "2021-02-09 00:00:00.000",
          "2021-02-10 00:00:00.000",
          "2021-02-11 00:00:00.000",
          "2021-02-12 00:00:00.000",
          "2021-02-13 00:00:00.000",
          "2021-02-14 00:00:00.000",
          "2021-02-15 00:00:00.000",
          "2021-02-16 00:00:00.000",
          "2021-02-17 00:00:00.000",
          "2021-02-18 00:00:00.000",
          "2021-02-19 00:00:00.000",
          "2021-02-20 00:00:00.000",
          "2021-02-21 00:00:00.000",
          "2021-02-22 00:00:00.000",
          "2021-02-23 00:00:00.000",
          "2021-02-24 00:00:00.000",
          "2021-02-25 00:00:00.000",
          "2021-02-26 00:00:00.000",
          "2021-02-27 00:00:00.000",
          "2021-02-28 00:00:00.000",
          "2021-03-01 00:00:00.000",
          "2021-03-02 00:00:00.000",
          "2021-03-03 00:00:00.000",
          "2021-03-04 00:00:00.000",
          "2021-03-05 00:00:00.000",
          "2021-03-06 00:00:00.000",
          "2021-03-07 00:00:00.000",
          "2021-03-08 00:00:00.000",
          "2021-03-09 00:00:00.000",
          "2021-03-10 00:00:00.000",
          "2021-03-11 00:00:00.000",
          "2021-03-12 00:00:00.000",
          "2021-03-13 00:00:00.000",
          "2021-03-14 00:00:00.000",
          "2021-03-15 00:00:00.000",
          "2021-03-16 00:00:00.000",
          "2021-03-17 00:00:00.000",
          "2021-03-18 00:00:00.000",
          "2021-03-19 00:00:00.000",
          "2021-03-20 00:00:00.000",
          "2021-03-21 00:00:00.000",
          "2021-03-22 00:00:00.000",
          "2021-03-23 00:00:00.000",
          "2021-03-24 00:00:00.000",
          "2021-03-25 00:00:00.000",
          "2021-03-26 00:00:00.000",
          "2021-03-27 00:00:00.000",
          "2021-03-28 00:00:00.000",
          "2021-03-29 00:00:00.000",
          "2021-03-30 00:00:00.000",
          "2021-03-31 00:00:00.000",
          "2021-04-01 00:00:00.000",
          "2021-04-02 00:00:00.000",
          "2021-04-03 00:00:00.000",
          "2021-04-04 00:00:00.000",
          "2021-04-05 00:00:00.000",
          "2021-04-06 00:00:00.000",
          "2021-04-07 00:00:00.000",
          "2021-04-08 00:00:00.000",
          "2021-04-09 00:00:00.000",
          "2021-04-10 00:00:00.000",
          "2021-04-11 00:00:00.000",
          "2021-04-12 00:00:00.000",
          "2021-04-13 00:00:00.000",
          "2021-04-14 00:00:00.000",
          "2021-04-15 00:00:00.000",
          "2021-04-16 00:00:00.000",
          "2021-04-17 00:00:00.000",
          "2021-04-18 00:00:00.000",
          "2021-04-19 00:00:00.000",
          "2021-04-20 00:00:00.000",
          "2021-04-21 00:00:00.000",
          "2021-04-22 00:00:00.000",
          "2021-04-23 00:00:00.000",
          "2021-04-24 00:00:00.000",
          "2021-04-25 00:00:00.000",
          "2021-04-26 00:00:00.000",
          "2021-04-27 00:00:00.000",
          "2021-04-28 00:00:00.000",
          "2021-04-29 00:00:00.000",
          "2021-04-30 00:00:00.000",
          "2021-05-01 00:00:00.000",
          "2021-05-02 00:00:00.000",
          "2021-05-03 00:00:00.000",
          "2021-05-04 00:00:00.000",
          "2021-05-05 00:00:00.000",
          "2021-05-06 00:00:00.000",
          "2021-05-07 00:00:00.000",
          "2021-05-08 00:00:00.000",
          "2021-05-09 00:00:00.000",
          "2021-05-10 00:00:00.000",
          "2021-05-11 00:00:00.000",
          "2021-05-12 00:00:00.000",
          "2021-05-13 00:00:00.000",
          "2021-05-14 00:00:00.000",
          "2021-05-15 00:00:00.000",
          "2021-05-16 00:00:00.000",
          "2021-05-17 00:00:00.000",
          "2021-05-18 00:00:00.000",
          "2021-05-19 00:00:00.000",
          "2021-05-20 00:00:00.000",
          "2021-05-21 00:00:00.000",
          "2021-05-22 00:00:00.000",
          "2021-05-23 00:00:00.000",
          "2021-05-24 00:00:00.000",
          "2021-05-25 00:00:00.000",
          "2021-05-26 00:00:00.000",
          "2021-05-27 00:00:00.000",
          "2021-05-28 00:00:00.000",
          "2021-05-29 00:00:00.000",
          "2021-05-30 00:00:00.000",
          "2021-05-31 00:00:00.000",
          "2021-06-01 00:00:00.000",
          "2021-06-02 00:00:00.000",
          "2021-06-03 00:00:00.000",
          "2021-06-04 00:00:00.000",
          "2021-06-05 00:00:00.000",
          "2021-06-06 00:00:00.000",
          "2021-06-07 00:00:00.000",
          "2021-06-08 00:00:00.000",
          "2021-06-09 00:00:00.000",
          "2021-06-10 00:00:00.000",
          "2021-06-11 00:00:00.000",
          "2021-06-12 00:00:00.000",
          "2021-06-13 00:00:00.000",
          "2021-06-14 00:00:00.000",
          "2021-06-15 00:00:00.000",
          "2021-06-16 00:00:00.000",
          "2021-06-17 00:00:00.000",
          "2021-06-18 00:00:00.000",
          "2021-06-19 00:00:00.000",
          "2021-06-20 00:00:00.000",
          "2021-06-21 00:00:00.000",
          "2021-06-22 00:00:00.000",
          "2021-06-23 00:00:00.000",
          "2021-06-24 00:00:00.000",
          "2021-06-25 00:00:00.000",
          "2021-06-26 00:00:00.000",
          "2021-06-27 00:00:00.000",
          "2021-06-28 00:00:00.000",
          "2021-06-29 00:00:00.000",
          "2021-06-30 00:00:00.000",
          "2021-07-01 00:00:00.000",
          "2021-07-02 00:00:00.000",
          "2021-07-03 00:00:00.000",
          "2021-07-04 00:00:00.000",
          "2021-07-05 00:00:00.000",
          "2021-07-06 00:00:00.000",
          "2021-07-07 00:00:00.000",
          "2021-07-08 00:00:00.000",
          "2021-07-09 00:00:00.000",
          "2021-07-10 00:00:00.000",
          "2021-07-11 00:00:00.000",
          "2021-07-12 00:00:00.000",
          "2021-07-13 00:00:00.000",
          "2021-07-14 00:00:00.000",
          "2021-07-15 00:00:00.000",
          "2021-07-16 00:00:00.000",
          "2021-07-17 00:00:00.000",
          "2021-07-18 00:00:00.000",
          "2021-07-19 00:00:00.000",
          "2021-07-20 00:00:00.000",
          "2021-07-21 00:00:00.000",
          "2021-07-22 00:00:00.000",
          "2021-07-23 00:00:00.000",
          "2021-07-24 00:00:00.000",
          "2021-07-25 00:00:00.000",
          "2021-07-26 00:00:00.000",
          "2021-07-27 00:00:00.000",
          "2021-07-28 00:00:00.000",
          "2021-07-29 00:00:00.000",
          "2021-07-30 00:00:00.000",
          "2021-07-31 00:00:00.000",
          "2021-08-01 00:00:00.000",
          "2021-08-02 00:00:00.000",
          "2021-08-03 00:00:00.000",
          "2021-08-04 00:00:00.000",
          "2021-08-05 00:00:00.000",
          "2021-08-06 00:00:00.000",
          "2021-08-07 00:00:00.000",
          "2021-08-08 00:00:00.000",
          "2021-08-09 00:00:00.000",
          "2021-08-10 00:00:00.000",
          "2021-08-11 00:00:00.000",
          "2021-08-12 00:00:00.000",
          "2021-08-13 00:00:00.000",
          "2021-08-14 00:00:00.000",
          "2021-08-15 00:00:00.000",
          "2021-08-16 00:00:00.000",
          "2021-08-17 00:00:00.000",
          "2021-08-18 00:00:00.000",
          "2021-08-19 00:00:00.000",
          "2021-08-20 00:00:00.000",
          "2021-08-21 00:00:00.000",
          "2021-08-22 00:00:00.000",
          "2021-08-23 00:00:00.000",
          "2021-08-24 00:00:00.000",
          "2021-08-25 00:00:00.000",
          "2021-08-26 00:00:00.000",
          "2021-08-27 00:00:00.000",
          "2021-08-28 00:00:00.000",
          "2021-08-29 00:00:00.000",
          "2021-08-30 00:00:00.000"
         ],
         "y": [
          null,
          null,
          null,
          null,
          null,
          null,
          null,
          null,
          null,
          37.06238672945498,
          37.7370937366968,
          37.79586851807372,
          38.89069389509331,
          39.12400043121871,
          40.44126136753277,
          38.81455637781819,
          39.01578869356996,
          36.416684006892226,
          33.70290843596538,
          31.754499718528397,
          29.71486085507329,
          28.437967020032755,
          29.550986009563882,
          30.68358479356257,
          33.40241279182774,
          33.148971847902594,
          34.50306436320052,
          34.1384941665494,
          32.69974746772413,
          31.62534277438519,
          29.46997811674336,
          27.901767817604533,
          27.850460611687943,
          27.499729735332068,
          27.707812126791552,
          27.22751036230308,
          27.603296430852676,
          28.18789997012641,
          28.219808959826047,
          28.243178157636592,
          28.652829076552518,
          29.15542929899922,
          29.477600088686337,
          29.416698122005517,
          28.61091021518064,
          28.34098450257378,
          27.960156573369975,
          27.59585782972281,
          26.686306141726416,
          26.263320001205393,
          26.013798521459318,
          26.134603255840616,
          26.402734986781006,
          26.82195112751966,
          26.203019482683008,
          25.817085601363125,
          25.84642145790434,
          25.896001949483924,
          26.278596662097282,
          26.657302974046843,
          27.210340489290306,
          27.25248143423417,
          26.291856204143443,
          25.61742627986273,
          25.289913008271878,
          25.302992017009856,
          25.114432578614466,
          24.850994896810835,
          24.582524002376424,
          24.20760855443464,
          24.15994995246525,
          24.105017694500862,
          23.660437220532046,
          22.93007232803038,
          22.48912798802058,
          22.057840031534244,
          22.150413348038775,
          22.19083251394121,
          22.181774222988132,
          22.210669016308344,
          21.976530507790784,
          21.886291484464518,
          21.853437904445155,
          21.946777833352417,
          22.074417548861934,
          22.275009746027063,
          22.637192670691658,
          22.639064367278223,
          22.735006111531487,
          22.7378874894278,
          23.18566094173647,
          23.38042703907052,
          23.342768206204124,
          23.323444446392063,
          22.272686587991682,
          19.778558072292242,
          18.3735012531732,
          18.366557964102057,
          19.063270838620937,
          19.797913383618187,
          20.447588423892046,
          20.35813106388173,
          22.028781449806207,
          24.34182487002738,
          25.46786312896351,
          25.379188377294298,
          25.231648861404615,
          24.87528994427951,
          25.188638299698006,
          26.034035208882287,
          27.249505493569057,
          27.624769959309276,
          27.72295706354757,
          26.807029489858518,
          25.663300816018907,
          25.000287169883087,
          25.10546102560921,
          25.050269222073496,
          25.023196510294284,
          25.26058555425346,
          25.593295877515597,
          25.530251727939707,
          25.394110897294667,
          25.441867468969264,
          25.10688324482654,
          24.6468043157,
          22.674186555617737,
          22.12347000745945,
          21.678098955366018,
          21.202198833669193,
          20.87302556407382,
          20.758497616631054,
          21.55577264667523,
          21.897241488536842,
          21.766994219540663,
          21.96901020259894,
          22.188791815450735,
          22.163193545402212,
          20.617647136438684,
          19.981415333246687,
          19.701232886872674,
          19.685486525439007,
          20.068923253219975,
          20.644667431376952,
          21.74850121000075,
          22.818462880465027,
          24.579073186328895,
          26.157312576609005,
          26.13806745533116,
          26.051429474373712,
          26.1388587621587,
          26.19734224577045,
          25.89738260546467,
          25.898942757350806,
          25.95716125439706,
          25.84590342631724,
          25.78071974994717,
          25.770361445612682,
          25.725415223686376,
          25.63588938504685,
          25.477465069824156,
          24.872289890034242,
          25.18299679604511,
          25.075354809880338,
          25.28944927843973,
          25.395812035530685,
          25.299681494781627,
          25.38352232002443,
          24.66848978105263,
          23.460341521298304,
          22.27819522239617,
          22.794026456679923,
          23.128634772280396,
          23.865004302755136,
          24.485097757402475,
          24.54400548258311,
          25.293019236957665,
          27.11524807281831,
          27.56521177662428,
          29.094441699984266,
          30.257215461396,
          32.653021126225525,
          34.924875010261985,
          37.417940969975184,
          38.81485575433029,
          38.179824073115,
          37.77214185505234,
          37.77043522484268,
          37.30636463557849,
          36.67333094054797,
          35.38370166423465,
          35.302554532729154,
          35.36818113723407,
          35.30192315545529,
          35.28054674105095,
          35.30722083493934,
          35.18805919309348,
          35.67100775151765,
          36.390372247791014,
          36.5699600078247,
          37.74984151187027,
          37.848549318388386,
          37.817700291622856,
          38.004513152122534,
          37.44485611176656,
          37.51698705384893,
          37.48788445917388,
          37.97772425577419,
          38.22365714102294,
          38.65846099187471,
          38.47929738034079,
          33.65517091672557,
          33.66756386007026,
          35.01685988874976,
          35.68488372491711,
          37.129983898575986,
          37.832433030859384,
          38.28016288814467,
          36.46797306805741,
          36.82157121018683,
          36.07779193094052,
          37.78093264366122,
          38.811154265907085,
          38.446572938140264,
          38.05361768432555,
          37.50793254279702,
          37.48737532062545,
          38.80468248217584,
          38.95314702666783,
          37.83929669922284,
          39.214542198282714,
          42.120210531778554,
          43.569795745750774,
          43.96219453407958,
          46.58997894135113,
          49.55626475121794,
          53.17621786489422,
          62.28344539668933,
          63.58083977659038,
          64.46607079653097,
          65.20821966948344,
          65.24108704055797,
          65.3879261293015,
          64.57658876341091,
          65.46021468563593,
          64.85648099241727,
          62.10121039017384,
          58.73390412296732,
          53.96677920115246,
          49.073046964969436,
          47.722691814157315,
          49.83096202543243,
          49.431608573728575,
          52.24997157363675,
          54.61804305352851,
          54.906635505950746,
          54.907047293229645,
          54.74521767463408,
          56.95505631771051,
          62.096722420799544,
          63.048123710552986,
          63.112181008310266,
          63.203030812533804,
          64.07520317403903,
          60.660541803198925,
          60.372546120099045,
          57.61934804347792,
          55.00001278693715,
          53.60927948254983,
          51.31787932008867,
          49.36580143168055,
          49.434024725876384,
          49.220544087334545,
          41.15627178824467,
          38.76746162389061,
          33.90134113489384,
          29.174004050461804,
          24.151967435630034,
          21.860849238103945,
          20.468994592070143,
          25.065878484021983,
          28.310069665754778,
          31.378837929051613,
          30.627378164067014,
          30.193506341928288,
          30.907947241865024,
          32.956489836346194,
          37.535089283568766,
          40.053050656488054,
          41.62646116167725,
          41.56058569719813,
          41.664669811150574,
          43.41560916688976,
          41.910546293613834,
          41.78128532122304,
          40.14211266639017,
          37.94141523741266,
          36.09395645055466,
          35.537004196250095,
          35.208236253115714,
          35.63779259834611,
          36.139198956747705,
          35.83854174048556,
          35.59265786020119,
          36.42269312535567,
          35.90692015913095,
          31.90745774634543,
          27.844666217576275,
          25.718834573118585,
          24.295641266338116,
          22.91219095848163,
          21.889934691028383,
          21.85573442230978,
          22.670091712645345,
          23.589568253330366,
          23.876846149753817,
          23.580303657558712,
          24.093539248241413,
          24.35138583097135,
          24.708257430616992,
          25.778876634141845,
          27.139000513387277,
          28.242387408998983,
          28.749346033064093,
          29.69998640179505,
          30.283174993100474,
          30.22043016138795,
          30.064242581985663,
          30.023530885407354,
          29.918082165982977,
          29.66757180797824,
          29.69066524744221,
          29.69919335825779,
          29.76421435115531,
          28.746686445579606,
          28.490105764768728,
          28.482577622651842,
          28.48473405999453,
          28.395018196968106,
          28.249496598049472,
          27.797143982838545,
          27.683759466426903,
          27.054492818125556,
          27.193249686724734,
          28.11681855819402,
          28.973344916659812,
          29.921846040303954,
          31.24086012211597,
          32.45515522838357,
          33.93249581588911,
          34.56731609560074,
          36.46764308902274,
          36.72605760760949,
          37.64040739136453,
          37.72295489136908,
          37.71006491905891,
          37.751552783975676,
          37.22826803227065,
          37.38259241987065,
          37.08671469415516,
          37.19578698747553,
          37.29409690165996,
          37.61518851684509,
          37.558652256562794,
          37.647590724355894,
          37.93985612287975,
          38.05430538276245,
          38.00281595493128,
          38.03785899639065,
          37.75548247284682,
          37.819184523908795,
          37.7664351376625,
          37.945534353073256,
          38.79119760300378,
          40.49964771286545,
          41.16361024764538,
          41.163088778438855
         ]
        },
        {
         "marker": {
          "color": "green",
          "size": 4
         },
         "mode": "markers",
         "name": "above_boundary",
         "type": "scatter",
         "x": [
          "2020-08-28 00:00:00.000",
          "2020-10-12 00:00:00.000",
          "2020-11-03 00:00:00.000",
          "2020-11-17 00:00:00.000",
          "2020-11-21 00:00:00.000",
          "2020-11-22 00:00:00.000",
          "2020-11-23 00:00:00.000",
          "2020-12-19 00:00:00.000",
          "2021-01-05 00:00:00.000",
          "2021-01-12 00:00:00.000",
          "2021-01-18 00:00:00.000",
          "2021-01-19 00:00:00.000",
          "2021-02-04 00:00:00.000",
          "2021-02-10 00:00:00.000",
          "2021-02-22 00:00:00.000",
          "2021-02-27 00:00:00.000",
          "2021-03-10 00:00:00.000",
          "2021-03-11 00:00:00.000",
          "2021-03-15 00:00:00.000",
          "2021-03-16 00:00:00.000",
          "2021-03-17 00:00:00.000",
          "2021-03-18 00:00:00.000",
          "2021-04-04 00:00:00.000",
          "2021-04-05 00:00:00.000",
          "2021-04-17 00:00:00.000",
          "2021-05-16 00:00:00.000",
          "2021-05-17 00:00:00.000",
          "2021-05-29 00:00:00.000",
          "2021-05-30 00:00:00.000",
          "2021-06-30 00:00:00.000",
          "2021-07-13 00:00:00.000",
          "2021-07-25 00:00:00.000",
          "2021-08-03 00:00:00.000",
          "2021-08-04 00:00:00.000",
          "2021-08-07 00:00:00.000",
          "2021-08-08 00:00:00.000",
          "2021-08-10 00:00:00.000",
          "2021-08-11 00:00:00.000",
          "2021-08-12 00:00:00.000",
          "2021-08-21 00:00:00.000"
         ],
         "y": [
          11,
          11,
          11,
          11,
          11,
          11,
          11,
          11,
          11,
          11,
          11,
          11,
          11,
          11,
          11,
          11,
          11,
          11,
          11,
          11,
          11,
          11,
          11,
          11,
          11,
          11,
          11,
          11,
          11,
          11,
          11,
          11,
          11,
          11,
          11,
          11,
          11,
          11,
          11,
          11
         ]
        },
        {
         "marker": {
          "color": "crimson",
          "size": 4
         },
         "mode": "markers",
         "name": "below_boundary",
         "type": "scatter",
         "x": [
          "2020-11-18 00:00:00.000",
          "2021-02-20 00:00:00.000",
          "2021-02-22 00:00:00.000",
          "2021-02-23 00:00:00.000",
          "2021-02-26 00:00:00.000",
          "2021-05-11 00:00:00.000",
          "2021-06-22 00:00:00.000",
          "2021-07-14 00:00:00.000",
          "2021-07-20 00:00:00.000",
          "2021-08-09 00:00:00.000"
         ],
         "y": [
          11,
          11,
          11,
          11,
          11,
          11,
          11,
          11,
          11,
          11
         ]
        }
       ],
       "layout": {
        "template": {
         "data": {
          "bar": [
           {
            "error_x": {
             "color": "#2a3f5f"
            },
            "error_y": {
             "color": "#2a3f5f"
            },
            "marker": {
             "line": {
              "color": "#E5ECF6",
              "width": 0.5
             }
            },
            "type": "bar"
           }
          ],
          "barpolar": [
           {
            "marker": {
             "line": {
              "color": "#E5ECF6",
              "width": 0.5
             }
            },
            "type": "barpolar"
           }
          ],
          "carpet": [
           {
            "aaxis": {
             "endlinecolor": "#2a3f5f",
             "gridcolor": "white",
             "linecolor": "white",
             "minorgridcolor": "white",
             "startlinecolor": "#2a3f5f"
            },
            "baxis": {
             "endlinecolor": "#2a3f5f",
             "gridcolor": "white",
             "linecolor": "white",
             "minorgridcolor": "white",
             "startlinecolor": "#2a3f5f"
            },
            "type": "carpet"
           }
          ],
          "choropleth": [
           {
            "colorbar": {
             "outlinewidth": 0,
             "ticks": ""
            },
            "type": "choropleth"
           }
          ],
          "contour": [
           {
            "colorbar": {
             "outlinewidth": 0,
             "ticks": ""
            },
            "colorscale": [
             [
              0,
              "#0d0887"
             ],
             [
              0.1111111111111111,
              "#46039f"
             ],
             [
              0.2222222222222222,
              "#7201a8"
             ],
             [
              0.3333333333333333,
              "#9c179e"
             ],
             [
              0.4444444444444444,
              "#bd3786"
             ],
             [
              0.5555555555555556,
              "#d8576b"
             ],
             [
              0.6666666666666666,
              "#ed7953"
             ],
             [
              0.7777777777777778,
              "#fb9f3a"
             ],
             [
              0.8888888888888888,
              "#fdca26"
             ],
             [
              1,
              "#f0f921"
             ]
            ],
            "type": "contour"
           }
          ],
          "contourcarpet": [
           {
            "colorbar": {
             "outlinewidth": 0,
             "ticks": ""
            },
            "type": "contourcarpet"
           }
          ],
          "heatmap": [
           {
            "colorbar": {
             "outlinewidth": 0,
             "ticks": ""
            },
            "colorscale": [
             [
              0,
              "#0d0887"
             ],
             [
              0.1111111111111111,
              "#46039f"
             ],
             [
              0.2222222222222222,
              "#7201a8"
             ],
             [
              0.3333333333333333,
              "#9c179e"
             ],
             [
              0.4444444444444444,
              "#bd3786"
             ],
             [
              0.5555555555555556,
              "#d8576b"
             ],
             [
              0.6666666666666666,
              "#ed7953"
             ],
             [
              0.7777777777777778,
              "#fb9f3a"
             ],
             [
              0.8888888888888888,
              "#fdca26"
             ],
             [
              1,
              "#f0f921"
             ]
            ],
            "type": "heatmap"
           }
          ],
          "heatmapgl": [
           {
            "colorbar": {
             "outlinewidth": 0,
             "ticks": ""
            },
            "colorscale": [
             [
              0,
              "#0d0887"
             ],
             [
              0.1111111111111111,
              "#46039f"
             ],
             [
              0.2222222222222222,
              "#7201a8"
             ],
             [
              0.3333333333333333,
              "#9c179e"
             ],
             [
              0.4444444444444444,
              "#bd3786"
             ],
             [
              0.5555555555555556,
              "#d8576b"
             ],
             [
              0.6666666666666666,
              "#ed7953"
             ],
             [
              0.7777777777777778,
              "#fb9f3a"
             ],
             [
              0.8888888888888888,
              "#fdca26"
             ],
             [
              1,
              "#f0f921"
             ]
            ],
            "type": "heatmapgl"
           }
          ],
          "histogram": [
           {
            "marker": {
             "colorbar": {
              "outlinewidth": 0,
              "ticks": ""
             }
            },
            "type": "histogram"
           }
          ],
          "histogram2d": [
           {
            "colorbar": {
             "outlinewidth": 0,
             "ticks": ""
            },
            "colorscale": [
             [
              0,
              "#0d0887"
             ],
             [
              0.1111111111111111,
              "#46039f"
             ],
             [
              0.2222222222222222,
              "#7201a8"
             ],
             [
              0.3333333333333333,
              "#9c179e"
             ],
             [
              0.4444444444444444,
              "#bd3786"
             ],
             [
              0.5555555555555556,
              "#d8576b"
             ],
             [
              0.6666666666666666,
              "#ed7953"
             ],
             [
              0.7777777777777778,
              "#fb9f3a"
             ],
             [
              0.8888888888888888,
              "#fdca26"
             ],
             [
              1,
              "#f0f921"
             ]
            ],
            "type": "histogram2d"
           }
          ],
          "histogram2dcontour": [
           {
            "colorbar": {
             "outlinewidth": 0,
             "ticks": ""
            },
            "colorscale": [
             [
              0,
              "#0d0887"
             ],
             [
              0.1111111111111111,
              "#46039f"
             ],
             [
              0.2222222222222222,
              "#7201a8"
             ],
             [
              0.3333333333333333,
              "#9c179e"
             ],
             [
              0.4444444444444444,
              "#bd3786"
             ],
             [
              0.5555555555555556,
              "#d8576b"
             ],
             [
              0.6666666666666666,
              "#ed7953"
             ],
             [
              0.7777777777777778,
              "#fb9f3a"
             ],
             [
              0.8888888888888888,
              "#fdca26"
             ],
             [
              1,
              "#f0f921"
             ]
            ],
            "type": "histogram2dcontour"
           }
          ],
          "mesh3d": [
           {
            "colorbar": {
             "outlinewidth": 0,
             "ticks": ""
            },
            "type": "mesh3d"
           }
          ],
          "parcoords": [
           {
            "line": {
             "colorbar": {
              "outlinewidth": 0,
              "ticks": ""
             }
            },
            "type": "parcoords"
           }
          ],
          "pie": [
           {
            "automargin": true,
            "type": "pie"
           }
          ],
          "scatter": [
           {
            "marker": {
             "colorbar": {
              "outlinewidth": 0,
              "ticks": ""
             }
            },
            "type": "scatter"
           }
          ],
          "scatter3d": [
           {
            "line": {
             "colorbar": {
              "outlinewidth": 0,
              "ticks": ""
             }
            },
            "marker": {
             "colorbar": {
              "outlinewidth": 0,
              "ticks": ""
             }
            },
            "type": "scatter3d"
           }
          ],
          "scattercarpet": [
           {
            "marker": {
             "colorbar": {
              "outlinewidth": 0,
              "ticks": ""
             }
            },
            "type": "scattercarpet"
           }
          ],
          "scattergeo": [
           {
            "marker": {
             "colorbar": {
              "outlinewidth": 0,
              "ticks": ""
             }
            },
            "type": "scattergeo"
           }
          ],
          "scattergl": [
           {
            "marker": {
             "colorbar": {
              "outlinewidth": 0,
              "ticks": ""
             }
            },
            "type": "scattergl"
           }
          ],
          "scattermapbox": [
           {
            "marker": {
             "colorbar": {
              "outlinewidth": 0,
              "ticks": ""
             }
            },
            "type": "scattermapbox"
           }
          ],
          "scatterpolar": [
           {
            "marker": {
             "colorbar": {
              "outlinewidth": 0,
              "ticks": ""
             }
            },
            "type": "scatterpolar"
           }
          ],
          "scatterpolargl": [
           {
            "marker": {
             "colorbar": {
              "outlinewidth": 0,
              "ticks": ""
             }
            },
            "type": "scatterpolargl"
           }
          ],
          "scatterternary": [
           {
            "marker": {
             "colorbar": {
              "outlinewidth": 0,
              "ticks": ""
             }
            },
            "type": "scatterternary"
           }
          ],
          "surface": [
           {
            "colorbar": {
             "outlinewidth": 0,
             "ticks": ""
            },
            "colorscale": [
             [
              0,
              "#0d0887"
             ],
             [
              0.1111111111111111,
              "#46039f"
             ],
             [
              0.2222222222222222,
              "#7201a8"
             ],
             [
              0.3333333333333333,
              "#9c179e"
             ],
             [
              0.4444444444444444,
              "#bd3786"
             ],
             [
              0.5555555555555556,
              "#d8576b"
             ],
             [
              0.6666666666666666,
              "#ed7953"
             ],
             [
              0.7777777777777778,
              "#fb9f3a"
             ],
             [
              0.8888888888888888,
              "#fdca26"
             ],
             [
              1,
              "#f0f921"
             ]
            ],
            "type": "surface"
           }
          ],
          "table": [
           {
            "cells": {
             "fill": {
              "color": "#EBF0F8"
             },
             "line": {
              "color": "white"
             }
            },
            "header": {
             "fill": {
              "color": "#C8D4E3"
             },
             "line": {
              "color": "white"
             }
            },
            "type": "table"
           }
          ]
         },
         "layout": {
          "annotationdefaults": {
           "arrowcolor": "#2a3f5f",
           "arrowhead": 0,
           "arrowwidth": 1
          },
          "coloraxis": {
           "colorbar": {
            "outlinewidth": 0,
            "ticks": ""
           }
          },
          "colorscale": {
           "diverging": [
            [
             0,
             "#8e0152"
            ],
            [
             0.1,
             "#c51b7d"
            ],
            [
             0.2,
             "#de77ae"
            ],
            [
             0.3,
             "#f1b6da"
            ],
            [
             0.4,
             "#fde0ef"
            ],
            [
             0.5,
             "#f7f7f7"
            ],
            [
             0.6,
             "#e6f5d0"
            ],
            [
             0.7,
             "#b8e186"
            ],
            [
             0.8,
             "#7fbc41"
            ],
            [
             0.9,
             "#4d9221"
            ],
            [
             1,
             "#276419"
            ]
           ],
           "sequential": [
            [
             0,
             "#0d0887"
            ],
            [
             0.1111111111111111,
             "#46039f"
            ],
            [
             0.2222222222222222,
             "#7201a8"
            ],
            [
             0.3333333333333333,
             "#9c179e"
            ],
            [
             0.4444444444444444,
             "#bd3786"
            ],
            [
             0.5555555555555556,
             "#d8576b"
            ],
            [
             0.6666666666666666,
             "#ed7953"
            ],
            [
             0.7777777777777778,
             "#fb9f3a"
            ],
            [
             0.8888888888888888,
             "#fdca26"
            ],
            [
             1,
             "#f0f921"
            ]
           ],
           "sequentialminus": [
            [
             0,
             "#0d0887"
            ],
            [
             0.1111111111111111,
             "#46039f"
            ],
            [
             0.2222222222222222,
             "#7201a8"
            ],
            [
             0.3333333333333333,
             "#9c179e"
            ],
            [
             0.4444444444444444,
             "#bd3786"
            ],
            [
             0.5555555555555556,
             "#d8576b"
            ],
            [
             0.6666666666666666,
             "#ed7953"
            ],
            [
             0.7777777777777778,
             "#fb9f3a"
            ],
            [
             0.8888888888888888,
             "#fdca26"
            ],
            [
             1,
             "#f0f921"
            ]
           ]
          },
          "colorway": [
           "#636efa",
           "#EF553B",
           "#00cc96",
           "#ab63fa",
           "#FFA15A",
           "#19d3f3",
           "#FF6692",
           "#B6E880",
           "#FF97FF",
           "#FECB52"
          ],
          "font": {
           "color": "#2a3f5f"
          },
          "geo": {
           "bgcolor": "white",
           "lakecolor": "white",
           "landcolor": "#E5ECF6",
           "showlakes": true,
           "showland": true,
           "subunitcolor": "white"
          },
          "hoverlabel": {
           "align": "left"
          },
          "hovermode": "closest",
          "mapbox": {
           "style": "light"
          },
          "paper_bgcolor": "white",
          "plot_bgcolor": "#E5ECF6",
          "polar": {
           "angularaxis": {
            "gridcolor": "white",
            "linecolor": "white",
            "ticks": ""
           },
           "bgcolor": "#E5ECF6",
           "radialaxis": {
            "gridcolor": "white",
            "linecolor": "white",
            "ticks": ""
           }
          },
          "scene": {
           "xaxis": {
            "backgroundcolor": "#E5ECF6",
            "gridcolor": "white",
            "gridwidth": 2,
            "linecolor": "white",
            "showbackground": true,
            "ticks": "",
            "zerolinecolor": "white"
           },
           "yaxis": {
            "backgroundcolor": "#E5ECF6",
            "gridcolor": "white",
            "gridwidth": 2,
            "linecolor": "white",
            "showbackground": true,
            "ticks": "",
            "zerolinecolor": "white"
           },
           "zaxis": {
            "backgroundcolor": "#E5ECF6",
            "gridcolor": "white",
            "gridwidth": 2,
            "linecolor": "white",
            "showbackground": true,
            "ticks": "",
            "zerolinecolor": "white"
           }
          },
          "shapedefaults": {
           "line": {
            "color": "#2a3f5f"
           }
          },
          "ternary": {
           "aaxis": {
            "gridcolor": "white",
            "linecolor": "white",
            "ticks": ""
           },
           "baxis": {
            "gridcolor": "white",
            "linecolor": "white",
            "ticks": ""
           },
           "bgcolor": "#E5ECF6",
           "caxis": {
            "gridcolor": "white",
            "linecolor": "white",
            "ticks": ""
           }
          },
          "title": {
           "x": 0.05
          },
          "xaxis": {
           "automargin": true,
           "gridcolor": "white",
           "linecolor": "white",
           "ticks": "",
           "title": {
            "standoff": 15
           },
           "zerolinecolor": "white",
           "zerolinewidth": 2
          },
          "yaxis": {
           "automargin": true,
           "gridcolor": "white",
           "linecolor": "white",
           "ticks": "",
           "title": {
            "standoff": 15
           },
           "zerolinecolor": "white",
           "zerolinewidth": 2
          }
         }
        },
        "title": {
         "text": "ETHUSDT Price and cross-points",
         "x": 0.5,
         "xanchor": "center",
         "y": 0.9,
         "yanchor": "top"
        },
        "yaxis": {
         "title": {
          "text": "USDT"
         }
        }
       }
      },
      "text/html": [
       "<div>                            <div id=\"400a3056-43b3-4fd2-8464-75e8fa7c6fa1\" class=\"plotly-graph-div\" style=\"height:525px; width:100%;\"></div>            <script type=\"text/javascript\">                require([\"plotly\"], function(Plotly) {                    window.PLOTLYENV=window.PLOTLYENV || {};                                    if (document.getElementById(\"400a3056-43b3-4fd2-8464-75e8fa7c6fa1\")) {                    Plotly.newPlot(                        \"400a3056-43b3-4fd2-8464-75e8fa7c6fa1\",                        [{\"close\": [42.079, 46.93, 41.896, 47.978, 43.591, 44.729, 42.231, 43.708, 52.437, 54.69, 52.45, 51.355, 55.249, 50.891, 48.998, 40.711, 42.745, 37.638, 38.255, 37.396, 35.657, 35.962, 36.474, 36.283, 37.762, 35.547, 35.259, 34.98, 32.216, 32.061, 29.381, 29.223, 33.266, 31.196, 30.7, 29.101, 31.688, 31.128, 31.479, 31.675, 31.346, 30.736, 30.824, 30.648, 28.616, 28.534, 28.953, 28.795, 27.065, 27.359, 27.33, 28.858, 28.839, 28.752, 31.204, 31.65, 29.806, 29.356, 28.311, 28.636, 29.128, 29.069, 26.419, 26.551, 26.771, 26.346, 26.461, 25.97, 26.004, 25.189, 24.996, 23.976, 24.229, 23.233, 23.239, 22.94, 25.968, 24.312, 23.469, 24.095, 22.816, 23.312, 23.619, 24.536, 24.634, 23.688, 24.77, 24.199, 24.052, 24.158, 24.356, 23.789, 23.531, 23.988, 27.185, 32.473, 34.139, 32.773, 29.627, 28.003, 27.163, 38.3, 35.447, 33.535, 31.254, 31.67, 31.38, 29.964, 31.35, 31.181, 30.394, 28.409, 28.548, 26.813, 26.309, 26.505, 29.179, 28.619, 27.159, 27.167, 27.283, 27.115, 29.225, 27.019, 25.509, 25.257, 22.123, 23.902, 24.067, 23.582, 23.578, 24.031, 23.514, 23.056, 22.394, 22.926, 22.621, 24.098, 27.98, 28.354, 28.696, 28.408, 26.545, 28.156, 27.566, 26.464, 27.095, 28.201, 27.703, 27.158, 28.124, 27.75, 30.096, 28.265, 28.62, 26.216, 26.875, 28.012, 27.428, 26.831, 27.0, 25.545, 26.396, 26.175, 26.412, 26.933, 27.989, 27.523, 29.862, 32.499, 34.863, 32.852, 34.442, 35.216, 37.979, 42.201, 42.612, 43.462, 48.716, 44.079, 41.22, 42.91, 42.622, 41.805, 41.529, 39.996, 40.648, 44.301, 36.941, 38.353, 36.571, 39.612, 40.442, 39.473, 41.786, 40.416, 42.643, 39.049, 39.606, 39.077, 39.42, 41.333, 41.759, 40.434, 44.09, 41.076, 42.838, 41.653, 43.613, 44.97, 47.825, 59.3, 54.219, 51.401, 50.068, 46.695, 45.403, 42.874, 38.934, 46.827, 43.864, 45.811, 48.318, 52.812, 52.339, 53.894, 54.335, 50.253, 66.022, 67.878, 69.1, 63.03, 72.654, 76.678, 72.25, 72.56, 75.696, 72.955, 72.009, 74.788, 74.211, 88.799, 73.383, 84.579, 78.52, 70.53, 66.0, 62.509, 57.555, 55.363, 63.923, 67.402, 65.688, 64.345, 69.677, 68.649, 66.361, 71.889, 65.203, 68.341, 68.766, 68.099, 66.01, 66.971, 59.715, 65.37, 58.288, 55.769, 58.267, 54.381, 76.2, 66.793, 61.958, 40.511, 48.635, 40.392, 37.914, 34.332, 40.323, 42.513, 53.183, 47.723, 40.542, 54.604, 52.68, 52.2, 49.232, 49.331, 50.174, 47.169, 48.756, 48.327, 43.587, 42.669, 45.728, 40.86, 39.169, 38.292, 39.456, 40.693, 40.739, 38.339, 38.655, 38.644, 36.545, 36.703, 30.393, 27.299, 28.77, 28.639, 26.838, 27.111, 28.404, 29.109, 29.356, 36.104, 33.364, 31.7, 31.834, 32.22, 33.434, 33.003, 33.087, 30.369, 32.114, 31.377, 31.518, 31.079, 31.586, 31.401, 30.23, 32.9, 30.611, 30.56, 28.59, 29.795, 30.978, 31.14, 32.36, 32.825, 35.055, 33.866, 37.197, 36.338, 38.042, 38.719, 38.338, 38.577, 38.491, 37.895, 38.891, 39.15, 38.96, 39.594, 38.294, 39.274, 39.609, 41.408, 39.619, 42.779, 41.65, 42.091, 40.622, 39.371, 38.505, 40.956, 42.863, 42.621, 44.472, 44.754, 42.544, 44.235, 41.46, 43.29, 42.65, 43.11, 42.86], \"high\": [50.42, 53.88, 52.1, 51.0, 48.057, 46.999, 45.159, 44.307, 67.5, 64.8, 55.958, 53.5, 59.59, 55.57, 52.853, 49.062, 48.862, 44.588, 40.5, 40.0, 37.488, 37.698, 40.0, 36.898, 39.67, 38.438, 37.244, 36.818, 35.726, 37.528, 32.3, 29.653, 40.0, 34.136, 33.1, 32.0, 33.0, 31.989, 32.384, 32.531, 32.022, 31.698, 31.275, 31.506, 30.945, 29.06, 28.998, 29.408, 29.015, 27.743, 27.82, 29.321, 29.681, 29.673, 35.99, 32.5, 31.716, 30.295, 30.203, 28.636, 29.158, 29.954, 29.783, 27.894, 27.412, 27.146, 27.069, 27.014, 27.146, 26.051, 25.65, 25.888, 25.081, 24.909, 25.119, 25.12, 28.478, 26.001, 25.758, 24.866, 24.6, 23.879, 24.744, 24.541, 26.531, 24.634, 24.995, 24.945, 25.4, 24.944, 25.569, 24.814, 24.396, 24.1, 45.465, 41.547, 39.32, 34.657, 32.909, 30.923, 28.17, 41.346, 40.0, 36.661, 34.682, 32.702, 33.49, 31.897, 35.5, 34.243, 31.998, 31.697, 29.494, 28.548, 30.049, 27.999, 33.998, 30.234, 28.85, 27.795, 28.281, 28.5, 31.024, 29.226, 27.799, 26.5, 26.4, 24.88, 24.809, 25.345, 24.36, 25.609, 24.362, 23.605, 23.515, 23.9, 23.187, 24.486, 28.5, 31.817, 31.0, 30.0, 28.828, 29.0, 31.117, 27.888, 37.598, 30.089, 29.866, 28.964, 29.515, 28.99, 31.0, 31.125, 29.448, 28.774, 27.669, 28.952, 29.89, 27.985, 27.334, 27.193, 27.39, 27.212, 26.98, 28.19, 28.218, 28.229, 30.0, 38.0, 36.382, 35.944, 40.183, 37.281, 39.0, 49.5, 46.351, 45.68, 54.1, 50.365, 45.964, 52.99, 43.405, 45.0, 42.796, 43.633, 41.542, 51.89, 46.094, 41.0, 39.78, 42.592, 47.923, 42.999, 44.2, 42.665, 45.0, 43.64, 40.21, 40.0, 41.327, 42.117, 43.096, 44.798, 46.603, 44.68, 45.0, 44.718, 46.821, 51.0, 50.0, 67.479, 59.723, 55.999, 52.876, 52.213, 48.953, 48.696, 43.351, 47.05, 47.05, 47.16, 49.108, 56.324, 54.482, 57.899, 56.5, 54.7, 75.987, 78.549, 73.988, 73.899, 76.0, 82.1, 78.179, 74.343, 78.96, 76.565, 75.06, 77.0, 76.24, 92.75, 88.761, 85.0, 86.859, 79.203, 75.49, 67.059, 64.662, 62.796, 64.73, 69.316, 69.15, 66.683, 71.5, 72.409, 68.69, 78.464, 72.6, 69.8, 71.992, 70.922, 69.58, 67.191, 68.172, 66.145, 72.89, 61.658, 61.0, 58.768, 97.7, 88.998, 72.891, 62.633, 51.1, 52.874, 41.228, 43.559, 42.222, 42.853, 60.692, 54.325, 49.041, 69.0, 66.8, 54.716, 53.296, 50.689, 54.0, 50.3, 56.5, 52.826, 49.559, 45.025, 50.236, 46.187, 42.618, 39.964, 40.032, 41.488, 43.9, 42.3, 42.21, 40.495, 38.928, 37.394, 36.728, 33.384, 31.103, 29.544, 29.476, 28.002, 28.783, 29.923, 30.98, 43.5, 36.13, 33.449, 33.083, 33.935, 35.442, 34.806, 34.5, 33.12, 34.587, 32.882, 32.6, 32.184, 36.66, 31.99, 31.891, 34.0, 32.947, 31.992, 30.619, 32.0, 32.709, 31.501, 32.36, 34.21, 39.264, 37.39, 37.942, 37.137, 38.803, 38.737, 40.596, 39.733, 38.784, 56.587, 42.99, 39.656, 39.579, 41.5, 40.5, 39.8, 40.924, 43.826, 42.537, 42.983, 43.153, 42.338, 43.734, 42.461, 40.274, 40.964, 43.7, 46.093, 44.686, 45.499, 44.975, 44.721, 44.667, 43.4, 44.58, 43.58, 45.75], \"low\": [37.77, 39.542, 41.352, 41.072, 42.828, 42.815, 40.1, 38.622, 38.694, 50.0, 51.006, 47.947, 49.834, 50.25, 45.82, 37.77, 36.368, 35.936, 35.0, 34.147, 33.894, 34.188, 35.9, 34.86, 36.145, 35.001, 34.982, 33.855, 32.163, 31.865, 28.814, 28.733, 28.896, 29.71, 29.936, 28.81, 28.949, 30.141, 30.832, 30.718, 30.925, 30.101, 30.435, 29.54, 28.092, 28.366, 27.908, 28.278, 26.973, 26.853, 26.837, 27.31, 28.587, 28.237, 28.779, 30.723, 29.413, 29.076, 27.84, 27.766, 28.382, 28.5, 26.419, 25.999, 26.0, 26.0, 26.122, 25.855, 25.579, 25.017, 24.738, 23.881, 23.874, 22.989, 22.788, 22.735, 22.802, 22.844, 23.106, 22.537, 22.05, 22.605, 22.21, 23.134, 23.9, 23.373, 23.5, 23.75, 23.244, 23.608, 24.017, 22.88, 23.323, 23.263, 23.668, 25.885, 31.599, 32.101, 28.502, 25.989, 25.945, 27.221, 32.959, 33.05, 31.084, 30.916, 31.14, 29.328, 27.78, 30.582, 30.211, 27.881, 27.028, 26.484, 25.197, 26.053, 26.369, 27.319, 27.0, 26.284, 26.5, 26.332, 26.561, 25.975, 25.5, 24.978, 22.109, 21.299, 23.064, 22.0, 22.105, 23.3, 22.7, 22.941, 22.021, 22.168, 22.2, 22.232, 21.453, 26.6, 27.752, 25.826, 26.237, 26.286, 27.016, 24.714, 26.44, 26.0, 27.068, 26.354, 27.002, 26.353, 27.173, 28.124, 27.0, 26.0, 25.319, 26.56, 27.012, 26.529, 25.406, 25.011, 25.0, 25.8, 25.746, 26.2, 26.306, 26.765, 26.98, 28.549, 32.256, 31.413, 32.635, 33.954, 35.04, 34.0, 39.971, 40.601, 43.271, 41.23, 35.439, 40.081, 40.0, 41.519, 40.4, 35.8, 38.549, 33.37, 31.8, 36.0, 34.643, 32.1, 38.116, 36.601, 39.178, 38.645, 40.217, 38.5, 37.343, 37.73, 38.963, 38.522, 40.212, 39.481, 39.568, 39.403, 40.12, 41.518, 39.8, 41.366, 44.0, 47.762, 50.585, 51.401, 48.256, 46.1, 44.7, 41.7, 38.745, 38.88, 43.474, 43.538, 44.942, 47.432, 49.459, 51.804, 53.075, 49.952, 49.431, 63.925, 66.5, 62.5, 62.706, 70.278, 71.955, 68.916, 72.144, 70.417, 69.356, 71.143, 71.402, 73.5, 65.99, 69.0, 70.284, 70.502, 64.18, 56.228, 57.3, 52.845, 55.308, 63.072, 62.347, 61.233, 63.497, 66.751, 65.1, 65.31, 65.145, 63.259, 66.991, 65.7, 65.599, 63.848, 59.0, 57.047, 57.942, 53.346, 55.496, 54.127, 54.183, 63.01, 60.0, 38.0, 36.649, 37.5, 35.204, 27.969, 33.009, 38.273, 41.066, 45.087, 39.52, 39.724, 50.2, 50.206, 48.354, 48.379, 48.645, 45.001, 46.036, 47.5, 43.023, 39.675, 40.6, 40.195, 38.657, 36.185, 36.506, 38.965, 40.293, 38.086, 38.294, 38.0, 36.226, 35.069, 30.001, 23.143, 26.602, 27.38, 26.563, 25.566, 26.751, 27.62, 28.672, 27.914, 32.0, 30.612, 31.114, 31.173, 31.24, 32.459, 32.68, 30.0, 30.0, 30.677, 31.051, 29.412, 30.995, 28.88, 29.909, 29.643, 30.007, 30.287, 28.47, 26.968, 29.028, 30.583, 30.597, 31.767, 32.581, 33.475, 33.572, 35.022, 35.812, 36.052, 37.694, 38.028, 36.832, 37.605, 37.296, 37.529, 37.6, 38.795, 37.959, 37.057, 38.759, 39.574, 38.598, 39.455, 40.141, 40.513, 40.02, 39.0, 37.96, 37.689, 40.821, 42.015, 42.505, 43.529, 41.678, 42.115, 40.935, 40.822, 42.29, 41.54, 42.15], \"open\": [50.42, 42.281, 46.952, 42.181, 48.048, 43.283, 44.728, 41.878, 43.709, 52.497, 54.69, 52.45, 51.329, 55.42, 51.197, 49.021, 40.492, 42.68, 37.638, 38.255, 37.395, 35.65, 35.961, 36.532, 36.235, 37.762, 35.573, 35.271, 34.822, 32.187, 32.061, 29.393, 29.216, 33.265, 31.147, 30.701, 28.978, 31.601, 31.134, 31.406, 31.74, 31.287, 30.646, 30.759, 30.525, 28.543, 28.481, 29.015, 28.869, 27.043, 27.413, 27.33, 28.946, 28.899, 28.893, 31.195, 31.65, 29.828, 29.37, 28.147, 28.598, 29.137, 29.09, 26.466, 26.593, 26.7, 26.388, 26.489, 25.957, 26.049, 25.167, 24.954, 24.146, 24.214, 23.249, 23.324, 22.94, 25.968, 24.303, 23.426, 24.113, 22.683, 23.21, 23.62, 24.537, 24.634, 23.668, 24.768, 24.183, 24.018, 24.079, 24.353, 23.79, 23.552, 23.998, 27.178, 32.461, 34.009, 32.886, 29.414, 28.084, 27.221, 38.271, 35.588, 33.526, 31.296, 31.67, 31.375, 29.99, 31.261, 31.118, 30.379, 28.439, 28.548, 26.917, 26.345, 26.452, 29.19, 28.645, 27.088, 27.126, 27.283, 27.052, 29.225, 26.952, 25.509, 25.247, 22.109, 23.86, 24.067, 23.54, 23.485, 23.948, 23.525, 23.002, 22.386, 22.925, 22.63, 24.037, 27.969, 28.354, 28.697, 28.277, 26.579, 28.156, 27.599, 26.523, 27.116, 28.202, 27.766, 27.19, 28.099, 27.822, 30.136, 28.22, 28.648, 26.178, 26.951, 28.091, 27.543, 26.835, 26.999, 25.545, 26.33, 26.209, 26.449, 26.996, 27.958, 27.56, 29.707, 32.542, 34.862, 32.786, 34.52, 35.226, 37.996, 42.272, 42.613, 43.449, 48.774, 44.051, 41.21, 43.063, 42.668, 41.913, 41.581, 39.996, 40.65, 44.494, 36.943, 38.357, 36.516, 39.609, 40.329, 39.4, 41.821, 40.582, 42.935, 39.1, 39.454, 39.198, 39.591, 41.412, 41.759, 40.426, 44.091, 40.957, 42.838, 41.555, 43.433, 44.968, 47.762, 59.259, 54.216, 51.64, 49.976, 46.695, 45.44, 42.698, 39.11, 46.828, 43.865, 45.873, 48.395, 52.773, 52.281, 53.896, 54.227, 50.234, 66.169, 67.883, 69.159, 63.208, 72.53, 76.665, 72.288, 72.719, 75.656, 73.06, 71.99, 74.783, 74.251, 88.624, 73.465, 84.904, 78.409, 70.686, 66.075, 62.735, 57.638, 55.317, 63.733, 67.497, 65.688, 64.197, 69.523, 68.578, 66.198, 71.905, 65.186, 68.378, 68.768, 68.099, 66.01, 67.113, 59.743, 65.37, 58.188, 55.825, 58.399, 54.288, 76.047, 66.798, 61.837, 40.554, 48.576, 40.435, 37.93, 34.322, 40.467, 42.524, 53.247, 47.736, 40.593, 54.599, 52.716, 52.221, 49.233, 49.289, 50.123, 47.199, 48.688, 48.267, 43.683, 42.588, 45.848, 40.986, 39.085, 38.397, 39.52, 40.693, 40.716, 38.403, 38.626, 38.599, 36.548, 36.584, 30.283, 27.359, 28.598, 28.636, 26.732, 27.17, 28.404, 29.158, 29.346, 36.114, 33.292, 31.7, 31.822, 32.2, 33.52, 32.931, 33.026, 30.291, 32.082, 31.377, 31.437, 31.138, 31.654, 31.401, 30.263, 32.947, 30.501, 30.525, 28.642, 29.84, 31.032, 31.137, 32.36, 32.768, 35.01, 33.851, 37.137, 36.338, 38.042, 38.735, 38.372, 38.594, 38.567, 37.895, 38.871, 39.149, 38.96, 39.621, 38.28, 39.274, 39.65, 41.408, 39.608, 42.777, 41.676, 42.109, 40.671, 39.371, 38.505, 40.956, 42.923, 42.621, 44.549, 44.745, 42.528, 44.314, 41.49, 43.31, 42.71, 43.11], \"type\": \"candlestick\", \"x\": [\"2020-08-19 00:00:00.000\", \"2020-08-20 00:00:00.000\", \"2020-08-21 00:00:00.000\", \"2020-08-22 00:00:00.000\", \"2020-08-23 00:00:00.000\", \"2020-08-24 00:00:00.000\", \"2020-08-25 00:00:00.000\", \"2020-08-26 00:00:00.000\", \"2020-08-27 00:00:00.000\", \"2020-08-28 00:00:00.000\", \"2020-08-29 00:00:00.000\", \"2020-08-30 00:00:00.000\", \"2020-08-31 00:00:00.000\", \"2020-09-01 00:00:00.000\", \"2020-09-02 00:00:00.000\", \"2020-09-03 00:00:00.000\", \"2020-09-04 00:00:00.000\", \"2020-09-05 00:00:00.000\", \"2020-09-06 00:00:00.000\", \"2020-09-07 00:00:00.000\", \"2020-09-08 00:00:00.000\", \"2020-09-09 00:00:00.000\", \"2020-09-10 00:00:00.000\", \"2020-09-11 00:00:00.000\", \"2020-09-12 00:00:00.000\", \"2020-09-13 00:00:00.000\", \"2020-09-14 00:00:00.000\", \"2020-09-15 00:00:00.000\", \"2020-09-16 00:00:00.000\", \"2020-09-17 00:00:00.000\", \"2020-09-18 00:00:00.000\", \"2020-09-19 00:00:00.000\", \"2020-09-20 00:00:00.000\", \"2020-09-21 00:00:00.000\", \"2020-09-22 00:00:00.000\", \"2020-09-23 00:00:00.000\", \"2020-09-24 00:00:00.000\", \"2020-09-25 00:00:00.000\", \"2020-09-26 00:00:00.000\", \"2020-09-27 00:00:00.000\", \"2020-09-28 00:00:00.000\", \"2020-09-29 00:00:00.000\", \"2020-09-30 00:00:00.000\", \"2020-10-01 00:00:00.000\", \"2020-10-02 00:00:00.000\", \"2020-10-03 00:00:00.000\", \"2020-10-04 00:00:00.000\", \"2020-10-05 00:00:00.000\", \"2020-10-06 00:00:00.000\", \"2020-10-07 00:00:00.000\", \"2020-10-08 00:00:00.000\", \"2020-10-09 00:00:00.000\", \"2020-10-10 00:00:00.000\", \"2020-10-11 00:00:00.000\", \"2020-10-12 00:00:00.000\", \"2020-10-13 00:00:00.000\", \"2020-10-14 00:00:00.000\", \"2020-10-15 00:00:00.000\", \"2020-10-16 00:00:00.000\", \"2020-10-17 00:00:00.000\", \"2020-10-18 00:00:00.000\", \"2020-10-19 00:00:00.000\", \"2020-10-20 00:00:00.000\", \"2020-10-21 00:00:00.000\", \"2020-10-22 00:00:00.000\", \"2020-10-23 00:00:00.000\", \"2020-10-24 00:00:00.000\", \"2020-10-25 00:00:00.000\", \"2020-10-26 00:00:00.000\", \"2020-10-27 00:00:00.000\", \"2020-10-28 00:00:00.000\", \"2020-10-29 00:00:00.000\", \"2020-10-30 00:00:00.000\", \"2020-10-31 00:00:00.000\", \"2020-11-01 00:00:00.000\", \"2020-11-02 00:00:00.000\", \"2020-11-03 00:00:00.000\", \"2020-11-04 00:00:00.000\", \"2020-11-05 00:00:00.000\", \"2020-11-06 00:00:00.000\", \"2020-11-07 00:00:00.000\", \"2020-11-08 00:00:00.000\", \"2020-11-09 00:00:00.000\", \"2020-11-10 00:00:00.000\", \"2020-11-11 00:00:00.000\", \"2020-11-12 00:00:00.000\", \"2020-11-13 00:00:00.000\", \"2020-11-14 00:00:00.000\", \"2020-11-15 00:00:00.000\", \"2020-11-16 00:00:00.000\", \"2020-11-17 00:00:00.000\", \"2020-11-18 00:00:00.000\", \"2020-11-19 00:00:00.000\", \"2020-11-20 00:00:00.000\", \"2020-11-21 00:00:00.000\", \"2020-11-22 00:00:00.000\", \"2020-11-23 00:00:00.000\", \"2020-11-24 00:00:00.000\", \"2020-11-25 00:00:00.000\", \"2020-11-26 00:00:00.000\", \"2020-11-27 00:00:00.000\", \"2020-11-28 00:00:00.000\", \"2020-11-29 00:00:00.000\", \"2020-11-30 00:00:00.000\", \"2020-12-01 00:00:00.000\", \"2020-12-02 00:00:00.000\", \"2020-12-03 00:00:00.000\", \"2020-12-04 00:00:00.000\", \"2020-12-05 00:00:00.000\", \"2020-12-06 00:00:00.000\", \"2020-12-07 00:00:00.000\", \"2020-12-08 00:00:00.000\", \"2020-12-09 00:00:00.000\", \"2020-12-10 00:00:00.000\", \"2020-12-11 00:00:00.000\", \"2020-12-12 00:00:00.000\", \"2020-12-13 00:00:00.000\", \"2020-12-14 00:00:00.000\", \"2020-12-15 00:00:00.000\", \"2020-12-16 00:00:00.000\", \"2020-12-17 00:00:00.000\", \"2020-12-18 00:00:00.000\", \"2020-12-19 00:00:00.000\", \"2020-12-20 00:00:00.000\", \"2020-12-21 00:00:00.000\", \"2020-12-22 00:00:00.000\", \"2020-12-23 00:00:00.000\", \"2020-12-24 00:00:00.000\", \"2020-12-25 00:00:00.000\", \"2020-12-26 00:00:00.000\", \"2020-12-27 00:00:00.000\", \"2020-12-28 00:00:00.000\", \"2020-12-29 00:00:00.000\", \"2020-12-30 00:00:00.000\", \"2020-12-31 00:00:00.000\", \"2021-01-01 00:00:00.000\", \"2021-01-02 00:00:00.000\", \"2021-01-03 00:00:00.000\", \"2021-01-04 00:00:00.000\", \"2021-01-05 00:00:00.000\", \"2021-01-06 00:00:00.000\", \"2021-01-07 00:00:00.000\", \"2021-01-08 00:00:00.000\", \"2021-01-09 00:00:00.000\", \"2021-01-10 00:00:00.000\", \"2021-01-11 00:00:00.000\", \"2021-01-12 00:00:00.000\", \"2021-01-13 00:00:00.000\", \"2021-01-14 00:00:00.000\", \"2021-01-15 00:00:00.000\", \"2021-01-16 00:00:00.000\", \"2021-01-17 00:00:00.000\", \"2021-01-18 00:00:00.000\", \"2021-01-19 00:00:00.000\", \"2021-01-20 00:00:00.000\", \"2021-01-21 00:00:00.000\", \"2021-01-22 00:00:00.000\", \"2021-01-23 00:00:00.000\", \"2021-01-24 00:00:00.000\", \"2021-01-25 00:00:00.000\", \"2021-01-26 00:00:00.000\", \"2021-01-27 00:00:00.000\", \"2021-01-28 00:00:00.000\", \"2021-01-29 00:00:00.000\", \"2021-01-30 00:00:00.000\", \"2021-01-31 00:00:00.000\", \"2021-02-01 00:00:00.000\", \"2021-02-02 00:00:00.000\", \"2021-02-03 00:00:00.000\", \"2021-02-04 00:00:00.000\", \"2021-02-05 00:00:00.000\", \"2021-02-06 00:00:00.000\", \"2021-02-07 00:00:00.000\", \"2021-02-08 00:00:00.000\", \"2021-02-09 00:00:00.000\", \"2021-02-10 00:00:00.000\", \"2021-02-11 00:00:00.000\", \"2021-02-12 00:00:00.000\", \"2021-02-13 00:00:00.000\", \"2021-02-14 00:00:00.000\", \"2021-02-15 00:00:00.000\", \"2021-02-16 00:00:00.000\", \"2021-02-17 00:00:00.000\", \"2021-02-18 00:00:00.000\", \"2021-02-19 00:00:00.000\", \"2021-02-20 00:00:00.000\", \"2021-02-21 00:00:00.000\", \"2021-02-22 00:00:00.000\", \"2021-02-23 00:00:00.000\", \"2021-02-24 00:00:00.000\", \"2021-02-25 00:00:00.000\", \"2021-02-26 00:00:00.000\", \"2021-02-27 00:00:00.000\", \"2021-02-28 00:00:00.000\", \"2021-03-01 00:00:00.000\", \"2021-03-02 00:00:00.000\", \"2021-03-03 00:00:00.000\", \"2021-03-04 00:00:00.000\", \"2021-03-05 00:00:00.000\", \"2021-03-06 00:00:00.000\", \"2021-03-07 00:00:00.000\", \"2021-03-08 00:00:00.000\", \"2021-03-09 00:00:00.000\", \"2021-03-10 00:00:00.000\", \"2021-03-11 00:00:00.000\", \"2021-03-12 00:00:00.000\", \"2021-03-13 00:00:00.000\", \"2021-03-14 00:00:00.000\", \"2021-03-15 00:00:00.000\", \"2021-03-16 00:00:00.000\", \"2021-03-17 00:00:00.000\", \"2021-03-18 00:00:00.000\", \"2021-03-19 00:00:00.000\", \"2021-03-20 00:00:00.000\", \"2021-03-21 00:00:00.000\", \"2021-03-22 00:00:00.000\", \"2021-03-23 00:00:00.000\", \"2021-03-24 00:00:00.000\", \"2021-03-25 00:00:00.000\", \"2021-03-26 00:00:00.000\", \"2021-03-27 00:00:00.000\", \"2021-03-28 00:00:00.000\", \"2021-03-29 00:00:00.000\", \"2021-03-30 00:00:00.000\", \"2021-03-31 00:00:00.000\", \"2021-04-01 00:00:00.000\", \"2021-04-02 00:00:00.000\", \"2021-04-03 00:00:00.000\", \"2021-04-04 00:00:00.000\", \"2021-04-05 00:00:00.000\", \"2021-04-06 00:00:00.000\", \"2021-04-07 00:00:00.000\", \"2021-04-08 00:00:00.000\", \"2021-04-09 00:00:00.000\", \"2021-04-10 00:00:00.000\", \"2021-04-11 00:00:00.000\", \"2021-04-12 00:00:00.000\", \"2021-04-13 00:00:00.000\", \"2021-04-14 00:00:00.000\", \"2021-04-15 00:00:00.000\", \"2021-04-16 00:00:00.000\", \"2021-04-17 00:00:00.000\", \"2021-04-18 00:00:00.000\", \"2021-04-19 00:00:00.000\", \"2021-04-20 00:00:00.000\", \"2021-04-21 00:00:00.000\", \"2021-04-22 00:00:00.000\", \"2021-04-23 00:00:00.000\", \"2021-04-24 00:00:00.000\", \"2021-04-25 00:00:00.000\", \"2021-04-26 00:00:00.000\", \"2021-04-27 00:00:00.000\", \"2021-04-28 00:00:00.000\", \"2021-04-29 00:00:00.000\", \"2021-04-30 00:00:00.000\", \"2021-05-01 00:00:00.000\", \"2021-05-02 00:00:00.000\", \"2021-05-03 00:00:00.000\", \"2021-05-04 00:00:00.000\", \"2021-05-05 00:00:00.000\", \"2021-05-06 00:00:00.000\", \"2021-05-07 00:00:00.000\", \"2021-05-08 00:00:00.000\", \"2021-05-09 00:00:00.000\", \"2021-05-10 00:00:00.000\", \"2021-05-11 00:00:00.000\", \"2021-05-12 00:00:00.000\", \"2021-05-13 00:00:00.000\", \"2021-05-14 00:00:00.000\", \"2021-05-15 00:00:00.000\", \"2021-05-16 00:00:00.000\", \"2021-05-17 00:00:00.000\", \"2021-05-18 00:00:00.000\", \"2021-05-19 00:00:00.000\", \"2021-05-20 00:00:00.000\", \"2021-05-21 00:00:00.000\", \"2021-05-22 00:00:00.000\", \"2021-05-23 00:00:00.000\", \"2021-05-24 00:00:00.000\", \"2021-05-25 00:00:00.000\", \"2021-05-26 00:00:00.000\", \"2021-05-27 00:00:00.000\", \"2021-05-28 00:00:00.000\", \"2021-05-29 00:00:00.000\", \"2021-05-30 00:00:00.000\", \"2021-05-31 00:00:00.000\", \"2021-06-01 00:00:00.000\", \"2021-06-02 00:00:00.000\", \"2021-06-03 00:00:00.000\", \"2021-06-04 00:00:00.000\", \"2021-06-05 00:00:00.000\", \"2021-06-06 00:00:00.000\", \"2021-06-07 00:00:00.000\", \"2021-06-08 00:00:00.000\", \"2021-06-09 00:00:00.000\", \"2021-06-10 00:00:00.000\", \"2021-06-11 00:00:00.000\", \"2021-06-12 00:00:00.000\", \"2021-06-13 00:00:00.000\", \"2021-06-14 00:00:00.000\", \"2021-06-15 00:00:00.000\", \"2021-06-16 00:00:00.000\", \"2021-06-17 00:00:00.000\", \"2021-06-18 00:00:00.000\", \"2021-06-19 00:00:00.000\", \"2021-06-20 00:00:00.000\", \"2021-06-21 00:00:00.000\", \"2021-06-22 00:00:00.000\", \"2021-06-23 00:00:00.000\", \"2021-06-24 00:00:00.000\", \"2021-06-25 00:00:00.000\", \"2021-06-26 00:00:00.000\", \"2021-06-27 00:00:00.000\", \"2021-06-28 00:00:00.000\", \"2021-06-29 00:00:00.000\", \"2021-06-30 00:00:00.000\", \"2021-07-01 00:00:00.000\", \"2021-07-02 00:00:00.000\", \"2021-07-03 00:00:00.000\", \"2021-07-04 00:00:00.000\", \"2021-07-05 00:00:00.000\", \"2021-07-06 00:00:00.000\", \"2021-07-07 00:00:00.000\", \"2021-07-08 00:00:00.000\", \"2021-07-09 00:00:00.000\", \"2021-07-10 00:00:00.000\", \"2021-07-11 00:00:00.000\", \"2021-07-12 00:00:00.000\", \"2021-07-13 00:00:00.000\", \"2021-07-14 00:00:00.000\", \"2021-07-15 00:00:00.000\", \"2021-07-16 00:00:00.000\", \"2021-07-17 00:00:00.000\", \"2021-07-18 00:00:00.000\", \"2021-07-19 00:00:00.000\", \"2021-07-20 00:00:00.000\", \"2021-07-21 00:00:00.000\", \"2021-07-22 00:00:00.000\", \"2021-07-23 00:00:00.000\", \"2021-07-24 00:00:00.000\", \"2021-07-25 00:00:00.000\", \"2021-07-26 00:00:00.000\", \"2021-07-27 00:00:00.000\", \"2021-07-28 00:00:00.000\", \"2021-07-29 00:00:00.000\", \"2021-07-30 00:00:00.000\", \"2021-07-31 00:00:00.000\", \"2021-08-01 00:00:00.000\", \"2021-08-02 00:00:00.000\", \"2021-08-03 00:00:00.000\", \"2021-08-04 00:00:00.000\", \"2021-08-05 00:00:00.000\", \"2021-08-06 00:00:00.000\", \"2021-08-07 00:00:00.000\", \"2021-08-08 00:00:00.000\", \"2021-08-09 00:00:00.000\", \"2021-08-10 00:00:00.000\", \"2021-08-11 00:00:00.000\", \"2021-08-12 00:00:00.000\", \"2021-08-13 00:00:00.000\", \"2021-08-14 00:00:00.000\", \"2021-08-15 00:00:00.000\", \"2021-08-16 00:00:00.000\", \"2021-08-17 00:00:00.000\", \"2021-08-18 00:00:00.000\", \"2021-08-19 00:00:00.000\", \"2021-08-20 00:00:00.000\", \"2021-08-21 00:00:00.000\", \"2021-08-22 00:00:00.000\", \"2021-08-23 00:00:00.000\", \"2021-08-24 00:00:00.000\", \"2021-08-25 00:00:00.000\", \"2021-08-26 00:00:00.000\", \"2021-08-27 00:00:00.000\", \"2021-08-28 00:00:00.000\", \"2021-08-29 00:00:00.000\", \"2021-08-30 00:00:00.000\"]}, {\"line\": {\"color\": \"black\", \"dash\": \"dash\"}, \"mode\": \"lines\", \"name\": \"Moving average\", \"showlegend\": true, \"type\": \"scatter\", \"x\": [\"2020-08-19 00:00:00.000\", \"2020-08-20 00:00:00.000\", \"2020-08-21 00:00:00.000\", \"2020-08-22 00:00:00.000\", \"2020-08-23 00:00:00.000\", \"2020-08-24 00:00:00.000\", \"2020-08-25 00:00:00.000\", \"2020-08-26 00:00:00.000\", \"2020-08-27 00:00:00.000\", \"2020-08-28 00:00:00.000\", \"2020-08-29 00:00:00.000\", \"2020-08-30 00:00:00.000\", \"2020-08-31 00:00:00.000\", \"2020-09-01 00:00:00.000\", \"2020-09-02 00:00:00.000\", \"2020-09-03 00:00:00.000\", \"2020-09-04 00:00:00.000\", \"2020-09-05 00:00:00.000\", \"2020-09-06 00:00:00.000\", \"2020-09-07 00:00:00.000\", \"2020-09-08 00:00:00.000\", \"2020-09-09 00:00:00.000\", \"2020-09-10 00:00:00.000\", \"2020-09-11 00:00:00.000\", \"2020-09-12 00:00:00.000\", \"2020-09-13 00:00:00.000\", \"2020-09-14 00:00:00.000\", \"2020-09-15 00:00:00.000\", \"2020-09-16 00:00:00.000\", \"2020-09-17 00:00:00.000\", \"2020-09-18 00:00:00.000\", \"2020-09-19 00:00:00.000\", \"2020-09-20 00:00:00.000\", \"2020-09-21 00:00:00.000\", \"2020-09-22 00:00:00.000\", \"2020-09-23 00:00:00.000\", \"2020-09-24 00:00:00.000\", \"2020-09-25 00:00:00.000\", \"2020-09-26 00:00:00.000\", \"2020-09-27 00:00:00.000\", \"2020-09-28 00:00:00.000\", \"2020-09-29 00:00:00.000\", \"2020-09-30 00:00:00.000\", \"2020-10-01 00:00:00.000\", \"2020-10-02 00:00:00.000\", \"2020-10-03 00:00:00.000\", \"2020-10-04 00:00:00.000\", \"2020-10-05 00:00:00.000\", \"2020-10-06 00:00:00.000\", \"2020-10-07 00:00:00.000\", \"2020-10-08 00:00:00.000\", \"2020-10-09 00:00:00.000\", \"2020-10-10 00:00:00.000\", \"2020-10-11 00:00:00.000\", \"2020-10-12 00:00:00.000\", \"2020-10-13 00:00:00.000\", \"2020-10-14 00:00:00.000\", \"2020-10-15 00:00:00.000\", \"2020-10-16 00:00:00.000\", \"2020-10-17 00:00:00.000\", \"2020-10-18 00:00:00.000\", \"2020-10-19 00:00:00.000\", \"2020-10-20 00:00:00.000\", \"2020-10-21 00:00:00.000\", \"2020-10-22 00:00:00.000\", \"2020-10-23 00:00:00.000\", \"2020-10-24 00:00:00.000\", \"2020-10-25 00:00:00.000\", \"2020-10-26 00:00:00.000\", \"2020-10-27 00:00:00.000\", \"2020-10-28 00:00:00.000\", \"2020-10-29 00:00:00.000\", \"2020-10-30 00:00:00.000\", \"2020-10-31 00:00:00.000\", \"2020-11-01 00:00:00.000\", \"2020-11-02 00:00:00.000\", \"2020-11-03 00:00:00.000\", \"2020-11-04 00:00:00.000\", \"2020-11-05 00:00:00.000\", \"2020-11-06 00:00:00.000\", \"2020-11-07 00:00:00.000\", \"2020-11-08 00:00:00.000\", \"2020-11-09 00:00:00.000\", \"2020-11-10 00:00:00.000\", \"2020-11-11 00:00:00.000\", \"2020-11-12 00:00:00.000\", \"2020-11-13 00:00:00.000\", \"2020-11-14 00:00:00.000\", \"2020-11-15 00:00:00.000\", \"2020-11-16 00:00:00.000\", \"2020-11-17 00:00:00.000\", \"2020-11-18 00:00:00.000\", \"2020-11-19 00:00:00.000\", \"2020-11-20 00:00:00.000\", \"2020-11-21 00:00:00.000\", \"2020-11-22 00:00:00.000\", \"2020-11-23 00:00:00.000\", \"2020-11-24 00:00:00.000\", \"2020-11-25 00:00:00.000\", \"2020-11-26 00:00:00.000\", \"2020-11-27 00:00:00.000\", \"2020-11-28 00:00:00.000\", \"2020-11-29 00:00:00.000\", \"2020-11-30 00:00:00.000\", \"2020-12-01 00:00:00.000\", \"2020-12-02 00:00:00.000\", \"2020-12-03 00:00:00.000\", \"2020-12-04 00:00:00.000\", \"2020-12-05 00:00:00.000\", \"2020-12-06 00:00:00.000\", \"2020-12-07 00:00:00.000\", \"2020-12-08 00:00:00.000\", \"2020-12-09 00:00:00.000\", \"2020-12-10 00:00:00.000\", \"2020-12-11 00:00:00.000\", \"2020-12-12 00:00:00.000\", \"2020-12-13 00:00:00.000\", \"2020-12-14 00:00:00.000\", \"2020-12-15 00:00:00.000\", \"2020-12-16 00:00:00.000\", \"2020-12-17 00:00:00.000\", \"2020-12-18 00:00:00.000\", \"2020-12-19 00:00:00.000\", \"2020-12-20 00:00:00.000\", \"2020-12-21 00:00:00.000\", \"2020-12-22 00:00:00.000\", \"2020-12-23 00:00:00.000\", \"2020-12-24 00:00:00.000\", \"2020-12-25 00:00:00.000\", \"2020-12-26 00:00:00.000\", \"2020-12-27 00:00:00.000\", \"2020-12-28 00:00:00.000\", \"2020-12-29 00:00:00.000\", \"2020-12-30 00:00:00.000\", \"2020-12-31 00:00:00.000\", \"2021-01-01 00:00:00.000\", \"2021-01-02 00:00:00.000\", \"2021-01-03 00:00:00.000\", \"2021-01-04 00:00:00.000\", \"2021-01-05 00:00:00.000\", \"2021-01-06 00:00:00.000\", \"2021-01-07 00:00:00.000\", \"2021-01-08 00:00:00.000\", \"2021-01-09 00:00:00.000\", \"2021-01-10 00:00:00.000\", \"2021-01-11 00:00:00.000\", \"2021-01-12 00:00:00.000\", \"2021-01-13 00:00:00.000\", \"2021-01-14 00:00:00.000\", \"2021-01-15 00:00:00.000\", \"2021-01-16 00:00:00.000\", \"2021-01-17 00:00:00.000\", \"2021-01-18 00:00:00.000\", \"2021-01-19 00:00:00.000\", \"2021-01-20 00:00:00.000\", \"2021-01-21 00:00:00.000\", \"2021-01-22 00:00:00.000\", \"2021-01-23 00:00:00.000\", \"2021-01-24 00:00:00.000\", \"2021-01-25 00:00:00.000\", \"2021-01-26 00:00:00.000\", \"2021-01-27 00:00:00.000\", \"2021-01-28 00:00:00.000\", \"2021-01-29 00:00:00.000\", \"2021-01-30 00:00:00.000\", \"2021-01-31 00:00:00.000\", \"2021-02-01 00:00:00.000\", \"2021-02-02 00:00:00.000\", \"2021-02-03 00:00:00.000\", \"2021-02-04 00:00:00.000\", \"2021-02-05 00:00:00.000\", \"2021-02-06 00:00:00.000\", \"2021-02-07 00:00:00.000\", \"2021-02-08 00:00:00.000\", \"2021-02-09 00:00:00.000\", \"2021-02-10 00:00:00.000\", \"2021-02-11 00:00:00.000\", \"2021-02-12 00:00:00.000\", \"2021-02-13 00:00:00.000\", \"2021-02-14 00:00:00.000\", \"2021-02-15 00:00:00.000\", \"2021-02-16 00:00:00.000\", \"2021-02-17 00:00:00.000\", \"2021-02-18 00:00:00.000\", \"2021-02-19 00:00:00.000\", \"2021-02-20 00:00:00.000\", \"2021-02-21 00:00:00.000\", \"2021-02-22 00:00:00.000\", \"2021-02-23 00:00:00.000\", \"2021-02-24 00:00:00.000\", \"2021-02-25 00:00:00.000\", \"2021-02-26 00:00:00.000\", \"2021-02-27 00:00:00.000\", \"2021-02-28 00:00:00.000\", \"2021-03-01 00:00:00.000\", \"2021-03-02 00:00:00.000\", \"2021-03-03 00:00:00.000\", \"2021-03-04 00:00:00.000\", \"2021-03-05 00:00:00.000\", \"2021-03-06 00:00:00.000\", \"2021-03-07 00:00:00.000\", \"2021-03-08 00:00:00.000\", \"2021-03-09 00:00:00.000\", \"2021-03-10 00:00:00.000\", \"2021-03-11 00:00:00.000\", \"2021-03-12 00:00:00.000\", \"2021-03-13 00:00:00.000\", \"2021-03-14 00:00:00.000\", \"2021-03-15 00:00:00.000\", \"2021-03-16 00:00:00.000\", \"2021-03-17 00:00:00.000\", \"2021-03-18 00:00:00.000\", \"2021-03-19 00:00:00.000\", \"2021-03-20 00:00:00.000\", \"2021-03-21 00:00:00.000\", \"2021-03-22 00:00:00.000\", \"2021-03-23 00:00:00.000\", \"2021-03-24 00:00:00.000\", \"2021-03-25 00:00:00.000\", \"2021-03-26 00:00:00.000\", \"2021-03-27 00:00:00.000\", \"2021-03-28 00:00:00.000\", \"2021-03-29 00:00:00.000\", \"2021-03-30 00:00:00.000\", \"2021-03-31 00:00:00.000\", \"2021-04-01 00:00:00.000\", \"2021-04-02 00:00:00.000\", \"2021-04-03 00:00:00.000\", \"2021-04-04 00:00:00.000\", \"2021-04-05 00:00:00.000\", \"2021-04-06 00:00:00.000\", \"2021-04-07 00:00:00.000\", \"2021-04-08 00:00:00.000\", \"2021-04-09 00:00:00.000\", \"2021-04-10 00:00:00.000\", \"2021-04-11 00:00:00.000\", \"2021-04-12 00:00:00.000\", \"2021-04-13 00:00:00.000\", \"2021-04-14 00:00:00.000\", \"2021-04-15 00:00:00.000\", \"2021-04-16 00:00:00.000\", \"2021-04-17 00:00:00.000\", \"2021-04-18 00:00:00.000\", \"2021-04-19 00:00:00.000\", \"2021-04-20 00:00:00.000\", \"2021-04-21 00:00:00.000\", \"2021-04-22 00:00:00.000\", \"2021-04-23 00:00:00.000\", \"2021-04-24 00:00:00.000\", \"2021-04-25 00:00:00.000\", \"2021-04-26 00:00:00.000\", \"2021-04-27 00:00:00.000\", \"2021-04-28 00:00:00.000\", \"2021-04-29 00:00:00.000\", \"2021-04-30 00:00:00.000\", \"2021-05-01 00:00:00.000\", \"2021-05-02 00:00:00.000\", \"2021-05-03 00:00:00.000\", \"2021-05-04 00:00:00.000\", \"2021-05-05 00:00:00.000\", \"2021-05-06 00:00:00.000\", \"2021-05-07 00:00:00.000\", \"2021-05-08 00:00:00.000\", \"2021-05-09 00:00:00.000\", \"2021-05-10 00:00:00.000\", \"2021-05-11 00:00:00.000\", \"2021-05-12 00:00:00.000\", \"2021-05-13 00:00:00.000\", \"2021-05-14 00:00:00.000\", \"2021-05-15 00:00:00.000\", \"2021-05-16 00:00:00.000\", \"2021-05-17 00:00:00.000\", \"2021-05-18 00:00:00.000\", \"2021-05-19 00:00:00.000\", \"2021-05-20 00:00:00.000\", \"2021-05-21 00:00:00.000\", \"2021-05-22 00:00:00.000\", \"2021-05-23 00:00:00.000\", \"2021-05-24 00:00:00.000\", \"2021-05-25 00:00:00.000\", \"2021-05-26 00:00:00.000\", \"2021-05-27 00:00:00.000\", \"2021-05-28 00:00:00.000\", \"2021-05-29 00:00:00.000\", \"2021-05-30 00:00:00.000\", \"2021-05-31 00:00:00.000\", \"2021-06-01 00:00:00.000\", \"2021-06-02 00:00:00.000\", \"2021-06-03 00:00:00.000\", \"2021-06-04 00:00:00.000\", \"2021-06-05 00:00:00.000\", \"2021-06-06 00:00:00.000\", \"2021-06-07 00:00:00.000\", \"2021-06-08 00:00:00.000\", \"2021-06-09 00:00:00.000\", \"2021-06-10 00:00:00.000\", \"2021-06-11 00:00:00.000\", \"2021-06-12 00:00:00.000\", \"2021-06-13 00:00:00.000\", \"2021-06-14 00:00:00.000\", \"2021-06-15 00:00:00.000\", \"2021-06-16 00:00:00.000\", \"2021-06-17 00:00:00.000\", \"2021-06-18 00:00:00.000\", \"2021-06-19 00:00:00.000\", \"2021-06-20 00:00:00.000\", \"2021-06-21 00:00:00.000\", \"2021-06-22 00:00:00.000\", \"2021-06-23 00:00:00.000\", \"2021-06-24 00:00:00.000\", \"2021-06-25 00:00:00.000\", \"2021-06-26 00:00:00.000\", \"2021-06-27 00:00:00.000\", \"2021-06-28 00:00:00.000\", \"2021-06-29 00:00:00.000\", \"2021-06-30 00:00:00.000\", \"2021-07-01 00:00:00.000\", \"2021-07-02 00:00:00.000\", \"2021-07-03 00:00:00.000\", \"2021-07-04 00:00:00.000\", \"2021-07-05 00:00:00.000\", \"2021-07-06 00:00:00.000\", \"2021-07-07 00:00:00.000\", \"2021-07-08 00:00:00.000\", \"2021-07-09 00:00:00.000\", \"2021-07-10 00:00:00.000\", \"2021-07-11 00:00:00.000\", \"2021-07-12 00:00:00.000\", \"2021-07-13 00:00:00.000\", \"2021-07-14 00:00:00.000\", \"2021-07-15 00:00:00.000\", \"2021-07-16 00:00:00.000\", \"2021-07-17 00:00:00.000\", \"2021-07-18 00:00:00.000\", \"2021-07-19 00:00:00.000\", \"2021-07-20 00:00:00.000\", \"2021-07-21 00:00:00.000\", \"2021-07-22 00:00:00.000\", \"2021-07-23 00:00:00.000\", \"2021-07-24 00:00:00.000\", \"2021-07-25 00:00:00.000\", \"2021-07-26 00:00:00.000\", \"2021-07-27 00:00:00.000\", \"2021-07-28 00:00:00.000\", \"2021-07-29 00:00:00.000\", \"2021-07-30 00:00:00.000\", \"2021-07-31 00:00:00.000\", \"2021-08-01 00:00:00.000\", \"2021-08-02 00:00:00.000\", \"2021-08-03 00:00:00.000\", \"2021-08-04 00:00:00.000\", \"2021-08-05 00:00:00.000\", \"2021-08-06 00:00:00.000\", \"2021-08-07 00:00:00.000\", \"2021-08-08 00:00:00.000\", \"2021-08-09 00:00:00.000\", \"2021-08-10 00:00:00.000\", \"2021-08-11 00:00:00.000\", \"2021-08-12 00:00:00.000\", \"2021-08-13 00:00:00.000\", \"2021-08-14 00:00:00.000\", \"2021-08-15 00:00:00.000\", \"2021-08-16 00:00:00.000\", \"2021-08-17 00:00:00.000\", \"2021-08-18 00:00:00.000\", \"2021-08-19 00:00:00.000\", \"2021-08-20 00:00:00.000\", \"2021-08-21 00:00:00.000\", \"2021-08-22 00:00:00.000\", \"2021-08-23 00:00:00.000\", \"2021-08-24 00:00:00.000\", \"2021-08-25 00:00:00.000\", \"2021-08-26 00:00:00.000\", \"2021-08-27 00:00:00.000\", \"2021-08-28 00:00:00.000\", \"2021-08-29 00:00:00.000\", \"2021-08-30 00:00:00.000\"], \"y\": [null, null, null, null, null, null, null, null, null, 46.0269, 47.064, 47.5065, 48.84179999999999, 49.1331, 49.6738, 49.272000000000006, 49.3234, 48.7164, 47.2982, 45.5688, 43.8895, 42.3502, 40.4727, 39.0119, 37.8883, 37.3719, 36.6233, 36.3575, 35.7536, 35.2201, 34.5925, 33.9186, 33.59779999999999, 33.0891, 32.3829, 31.7383, 31.3812, 30.996, 30.9223, 30.883700000000005, 31.0802, 31.2315, 30.987300000000005, 30.9325, 30.7241, 30.6674, 30.3939, 30.1606, 29.7192, 29.2876, 28.886, 28.6982, 28.4997, 28.3101, 28.5689, 28.8805, 28.9658, 29.0219, 29.146500000000003, 29.2742, 29.454, 29.4751, 29.2331, 29.013, 28.5697, 28.0393, 27.7048, 27.3662, 27.1355, 26.7908, 26.3776, 25.8683, 25.6493, 25.317500000000003, 24.9643, 24.6237, 24.5744, 24.4086, 24.1551, 24.0457, 23.8277, 23.7613, 23.7003, 23.8306, 23.9701, 24.0449, 23.9251, 23.9138, 23.9721, 23.9784, 24.1324, 24.1801, 24.1713, 24.1165, 24.3716, 25.250100000000003, 26.187, 27.044400000000003, 27.6019, 27.9864, 28.2671, 29.718200000000003, 30.9098, 31.8645, 32.2714, 32.1911, 31.9152, 31.634300000000003, 31.806600000000003, 32.1244, 32.447500000000005, 31.4584, 30.7685, 30.096300000000003, 29.601800000000004, 29.0853, 28.8652, 28.7307, 28.3116, 27.9102, 27.5991, 27.4697, 27.5374, 27.558, 27.478, 27.3532, 26.6476, 26.1759, 25.8667, 25.5082, 25.1377, 24.8293, 24.2582, 23.8619, 23.5504, 23.3173, 23.3671, 23.3867, 23.778, 24.2552, 24.767, 25.2047, 25.5078, 26.0178, 26.535000000000004, 26.8888, 27.3362, 27.7465, 27.7188, 27.5992, 27.542, 27.4762, 27.8313, 27.8422, 27.9476, 27.9228, 27.900800000000004, 27.8819, 27.854400000000005, 27.8217, 27.7093, 27.488800000000005, 27.1188, 26.9098, 26.689, 26.760700000000003, 26.8721, 26.823200000000003, 27.0666, 27.6334, 28.4197, 29.1504, 29.955, 30.8591, 32.0158, 33.5426, 35.0049, 36.5988, 38.4842, 39.6422, 40.2779, 41.2837, 42.1017, 42.7606, 43.1156, 42.8951, 42.6987, 42.7826, 41.60510000000001, 41.032500000000006, 40.5676, 40.23780000000001, 40.0198, 39.7866, 39.81230000000001, 39.8543, 40.0538, 39.5286, 39.795100000000005, 39.86749999999999, 40.1524, 40.3245, 40.4562, 40.5523, 40.7827, 40.8487, 40.8682, 41.1286, 41.52929999999999, 42.1186, 42.9591, 44.7558, 46.0018, 47.0985, 47.6963, 48.2582, 48.5147, 48.63680000000001, 48.1689, 48.3546, 47.9585, 46.6096, 46.0195, 46.1606, 46.3877, 47.107600000000005, 48.0008, 48.7387, 51.447500000000005, 53.5526, 56.07620000000001, 57.7981, 60.2317, 62.6183, 64.60940000000001, 66.476, 68.6121, 70.8823, 71.48100000000001, 72.172, 72.6831, 75.26, 75.3329, 76.123, 76.75, 76.547, 75.5774, 74.5328, 73.08739999999999, 71.1449, 70.1161, 67.97639999999998, 67.2069, 65.1835, 64.2992, 64.1111, 64.1472, 65.0852, 65.85, 67.14779999999999, 67.63210000000001, 67.7018, 67.734, 67.99660000000002, 67.0004, 66.6725, 65.8652, 64.2532, 63.5596, 62.16360000000001, 62.907, 62.77640000000001, 62.37120000000001, 59.7252, 58.6172, 56.119400000000006, 54.08200000000001, 51.938300000000005, 50.1439, 48.9571, 46.6554, 44.7484, 42.6068, 44.0161, 44.4206, 45.6014, 46.7332, 48.2331, 49.2182, 49.6838, 49.2411, 49.3015, 49.606, 48.4125, 47.7173, 46.5833, 45.577, 44.4731, 43.4013, 42.7537, 41.952, 40.9532, 40.46, 40.0575, 39.1392, 38.7235, 37.8459, 36.7466, 35.678000000000004, 34.4726, 33.0825, 31.9597, 30.9346, 29.981100000000005, 29.2622, 29.2023, 29.4994, 29.9395, 30.2459, 30.604000000000003, 31.2636, 31.852799999999995, 32.3211, 32.4471, 32.7229, 32.25019999999999, 32.0656, 32.0035, 31.9787, 31.896799999999995, 31.5764, 31.5661, 31.318499999999997, 31.3376, 30.9852, 30.827000000000005, 30.773, 30.7791, 30.856500000000004, 30.998900000000003, 31.4814, 31.578000000000003, 32.2366, 32.8144, 33.7596, 34.652, 35.388000000000005, 36.1317, 36.7448, 37.2518, 37.6354, 38.1638, 38.3401, 38.6657, 38.6909, 38.7464, 38.8735, 39.1566, 39.269400000000005, 39.7578, 40.0337, 40.3278, 40.494, 40.4717, 40.4928, 40.661, 40.9864, 41.1077, 41.593, 41.7905, 41.879900000000006, 42.0943, 42.1781, 42.57000000000001, 42.9845, 43.1999, 43.1996]}, {\"line\": {\"color\": \"lightgreen\"}, \"mode\": \"lines\", \"name\": \"Upper bound\", \"showlegend\": true, \"type\": \"scatter\", \"x\": [\"2020-08-19 00:00:00.000\", \"2020-08-20 00:00:00.000\", \"2020-08-21 00:00:00.000\", \"2020-08-22 00:00:00.000\", \"2020-08-23 00:00:00.000\", \"2020-08-24 00:00:00.000\", \"2020-08-25 00:00:00.000\", \"2020-08-26 00:00:00.000\", \"2020-08-27 00:00:00.000\", \"2020-08-28 00:00:00.000\", \"2020-08-29 00:00:00.000\", \"2020-08-30 00:00:00.000\", \"2020-08-31 00:00:00.000\", \"2020-09-01 00:00:00.000\", \"2020-09-02 00:00:00.000\", \"2020-09-03 00:00:00.000\", \"2020-09-04 00:00:00.000\", \"2020-09-05 00:00:00.000\", \"2020-09-06 00:00:00.000\", \"2020-09-07 00:00:00.000\", \"2020-09-08 00:00:00.000\", \"2020-09-09 00:00:00.000\", \"2020-09-10 00:00:00.000\", \"2020-09-11 00:00:00.000\", \"2020-09-12 00:00:00.000\", \"2020-09-13 00:00:00.000\", \"2020-09-14 00:00:00.000\", \"2020-09-15 00:00:00.000\", \"2020-09-16 00:00:00.000\", \"2020-09-17 00:00:00.000\", \"2020-09-18 00:00:00.000\", \"2020-09-19 00:00:00.000\", \"2020-09-20 00:00:00.000\", \"2020-09-21 00:00:00.000\", \"2020-09-22 00:00:00.000\", \"2020-09-23 00:00:00.000\", \"2020-09-24 00:00:00.000\", \"2020-09-25 00:00:00.000\", \"2020-09-26 00:00:00.000\", \"2020-09-27 00:00:00.000\", \"2020-09-28 00:00:00.000\", \"2020-09-29 00:00:00.000\", \"2020-09-30 00:00:00.000\", \"2020-10-01 00:00:00.000\", \"2020-10-02 00:00:00.000\", \"2020-10-03 00:00:00.000\", \"2020-10-04 00:00:00.000\", \"2020-10-05 00:00:00.000\", \"2020-10-06 00:00:00.000\", \"2020-10-07 00:00:00.000\", \"2020-10-08 00:00:00.000\", \"2020-10-09 00:00:00.000\", \"2020-10-10 00:00:00.000\", \"2020-10-11 00:00:00.000\", \"2020-10-12 00:00:00.000\", \"2020-10-13 00:00:00.000\", \"2020-10-14 00:00:00.000\", \"2020-10-15 00:00:00.000\", \"2020-10-16 00:00:00.000\", \"2020-10-17 00:00:00.000\", \"2020-10-18 00:00:00.000\", \"2020-10-19 00:00:00.000\", \"2020-10-20 00:00:00.000\", \"2020-10-21 00:00:00.000\", \"2020-10-22 00:00:00.000\", \"2020-10-23 00:00:00.000\", \"2020-10-24 00:00:00.000\", \"2020-10-25 00:00:00.000\", \"2020-10-26 00:00:00.000\", \"2020-10-27 00:00:00.000\", \"2020-10-28 00:00:00.000\", \"2020-10-29 00:00:00.000\", \"2020-10-30 00:00:00.000\", \"2020-10-31 00:00:00.000\", \"2020-11-01 00:00:00.000\", \"2020-11-02 00:00:00.000\", \"2020-11-03 00:00:00.000\", \"2020-11-04 00:00:00.000\", \"2020-11-05 00:00:00.000\", \"2020-11-06 00:00:00.000\", \"2020-11-07 00:00:00.000\", \"2020-11-08 00:00:00.000\", \"2020-11-09 00:00:00.000\", \"2020-11-10 00:00:00.000\", \"2020-11-11 00:00:00.000\", \"2020-11-12 00:00:00.000\", \"2020-11-13 00:00:00.000\", \"2020-11-14 00:00:00.000\", \"2020-11-15 00:00:00.000\", \"2020-11-16 00:00:00.000\", \"2020-11-17 00:00:00.000\", \"2020-11-18 00:00:00.000\", \"2020-11-19 00:00:00.000\", \"2020-11-20 00:00:00.000\", \"2020-11-21 00:00:00.000\", \"2020-11-22 00:00:00.000\", \"2020-11-23 00:00:00.000\", \"2020-11-24 00:00:00.000\", \"2020-11-25 00:00:00.000\", \"2020-11-26 00:00:00.000\", \"2020-11-27 00:00:00.000\", \"2020-11-28 00:00:00.000\", \"2020-11-29 00:00:00.000\", \"2020-11-30 00:00:00.000\", \"2020-12-01 00:00:00.000\", \"2020-12-02 00:00:00.000\", \"2020-12-03 00:00:00.000\", \"2020-12-04 00:00:00.000\", \"2020-12-05 00:00:00.000\", \"2020-12-06 00:00:00.000\", \"2020-12-07 00:00:00.000\", \"2020-12-08 00:00:00.000\", \"2020-12-09 00:00:00.000\", \"2020-12-10 00:00:00.000\", \"2020-12-11 00:00:00.000\", \"2020-12-12 00:00:00.000\", \"2020-12-13 00:00:00.000\", \"2020-12-14 00:00:00.000\", \"2020-12-15 00:00:00.000\", \"2020-12-16 00:00:00.000\", \"2020-12-17 00:00:00.000\", \"2020-12-18 00:00:00.000\", \"2020-12-19 00:00:00.000\", \"2020-12-20 00:00:00.000\", \"2020-12-21 00:00:00.000\", \"2020-12-22 00:00:00.000\", \"2020-12-23 00:00:00.000\", \"2020-12-24 00:00:00.000\", \"2020-12-25 00:00:00.000\", \"2020-12-26 00:00:00.000\", \"2020-12-27 00:00:00.000\", \"2020-12-28 00:00:00.000\", \"2020-12-29 00:00:00.000\", \"2020-12-30 00:00:00.000\", \"2020-12-31 00:00:00.000\", \"2021-01-01 00:00:00.000\", \"2021-01-02 00:00:00.000\", \"2021-01-03 00:00:00.000\", \"2021-01-04 00:00:00.000\", \"2021-01-05 00:00:00.000\", \"2021-01-06 00:00:00.000\", \"2021-01-07 00:00:00.000\", \"2021-01-08 00:00:00.000\", \"2021-01-09 00:00:00.000\", \"2021-01-10 00:00:00.000\", \"2021-01-11 00:00:00.000\", \"2021-01-12 00:00:00.000\", \"2021-01-13 00:00:00.000\", \"2021-01-14 00:00:00.000\", \"2021-01-15 00:00:00.000\", \"2021-01-16 00:00:00.000\", \"2021-01-17 00:00:00.000\", \"2021-01-18 00:00:00.000\", \"2021-01-19 00:00:00.000\", \"2021-01-20 00:00:00.000\", \"2021-01-21 00:00:00.000\", \"2021-01-22 00:00:00.000\", \"2021-01-23 00:00:00.000\", \"2021-01-24 00:00:00.000\", \"2021-01-25 00:00:00.000\", \"2021-01-26 00:00:00.000\", \"2021-01-27 00:00:00.000\", \"2021-01-28 00:00:00.000\", \"2021-01-29 00:00:00.000\", \"2021-01-30 00:00:00.000\", \"2021-01-31 00:00:00.000\", \"2021-02-01 00:00:00.000\", \"2021-02-02 00:00:00.000\", \"2021-02-03 00:00:00.000\", \"2021-02-04 00:00:00.000\", \"2021-02-05 00:00:00.000\", \"2021-02-06 00:00:00.000\", \"2021-02-07 00:00:00.000\", \"2021-02-08 00:00:00.000\", \"2021-02-09 00:00:00.000\", \"2021-02-10 00:00:00.000\", \"2021-02-11 00:00:00.000\", \"2021-02-12 00:00:00.000\", \"2021-02-13 00:00:00.000\", \"2021-02-14 00:00:00.000\", \"2021-02-15 00:00:00.000\", \"2021-02-16 00:00:00.000\", \"2021-02-17 00:00:00.000\", \"2021-02-18 00:00:00.000\", \"2021-02-19 00:00:00.000\", \"2021-02-20 00:00:00.000\", \"2021-02-21 00:00:00.000\", \"2021-02-22 00:00:00.000\", \"2021-02-23 00:00:00.000\", \"2021-02-24 00:00:00.000\", \"2021-02-25 00:00:00.000\", \"2021-02-26 00:00:00.000\", \"2021-02-27 00:00:00.000\", \"2021-02-28 00:00:00.000\", \"2021-03-01 00:00:00.000\", \"2021-03-02 00:00:00.000\", \"2021-03-03 00:00:00.000\", \"2021-03-04 00:00:00.000\", \"2021-03-05 00:00:00.000\", \"2021-03-06 00:00:00.000\", \"2021-03-07 00:00:00.000\", \"2021-03-08 00:00:00.000\", \"2021-03-09 00:00:00.000\", \"2021-03-10 00:00:00.000\", \"2021-03-11 00:00:00.000\", \"2021-03-12 00:00:00.000\", \"2021-03-13 00:00:00.000\", \"2021-03-14 00:00:00.000\", \"2021-03-15 00:00:00.000\", \"2021-03-16 00:00:00.000\", \"2021-03-17 00:00:00.000\", \"2021-03-18 00:00:00.000\", \"2021-03-19 00:00:00.000\", \"2021-03-20 00:00:00.000\", \"2021-03-21 00:00:00.000\", \"2021-03-22 00:00:00.000\", \"2021-03-23 00:00:00.000\", \"2021-03-24 00:00:00.000\", \"2021-03-25 00:00:00.000\", \"2021-03-26 00:00:00.000\", \"2021-03-27 00:00:00.000\", \"2021-03-28 00:00:00.000\", \"2021-03-29 00:00:00.000\", \"2021-03-30 00:00:00.000\", \"2021-03-31 00:00:00.000\", \"2021-04-01 00:00:00.000\", \"2021-04-02 00:00:00.000\", \"2021-04-03 00:00:00.000\", \"2021-04-04 00:00:00.000\", \"2021-04-05 00:00:00.000\", \"2021-04-06 00:00:00.000\", \"2021-04-07 00:00:00.000\", \"2021-04-08 00:00:00.000\", \"2021-04-09 00:00:00.000\", \"2021-04-10 00:00:00.000\", \"2021-04-11 00:00:00.000\", \"2021-04-12 00:00:00.000\", \"2021-04-13 00:00:00.000\", \"2021-04-14 00:00:00.000\", \"2021-04-15 00:00:00.000\", \"2021-04-16 00:00:00.000\", \"2021-04-17 00:00:00.000\", \"2021-04-18 00:00:00.000\", \"2021-04-19 00:00:00.000\", \"2021-04-20 00:00:00.000\", \"2021-04-21 00:00:00.000\", \"2021-04-22 00:00:00.000\", \"2021-04-23 00:00:00.000\", \"2021-04-24 00:00:00.000\", \"2021-04-25 00:00:00.000\", \"2021-04-26 00:00:00.000\", \"2021-04-27 00:00:00.000\", \"2021-04-28 00:00:00.000\", \"2021-04-29 00:00:00.000\", \"2021-04-30 00:00:00.000\", \"2021-05-01 00:00:00.000\", \"2021-05-02 00:00:00.000\", \"2021-05-03 00:00:00.000\", \"2021-05-04 00:00:00.000\", \"2021-05-05 00:00:00.000\", \"2021-05-06 00:00:00.000\", \"2021-05-07 00:00:00.000\", \"2021-05-08 00:00:00.000\", \"2021-05-09 00:00:00.000\", \"2021-05-10 00:00:00.000\", \"2021-05-11 00:00:00.000\", \"2021-05-12 00:00:00.000\", \"2021-05-13 00:00:00.000\", \"2021-05-14 00:00:00.000\", \"2021-05-15 00:00:00.000\", \"2021-05-16 00:00:00.000\", \"2021-05-17 00:00:00.000\", \"2021-05-18 00:00:00.000\", \"2021-05-19 00:00:00.000\", \"2021-05-20 00:00:00.000\", \"2021-05-21 00:00:00.000\", \"2021-05-22 00:00:00.000\", \"2021-05-23 00:00:00.000\", \"2021-05-24 00:00:00.000\", \"2021-05-25 00:00:00.000\", \"2021-05-26 00:00:00.000\", \"2021-05-27 00:00:00.000\", \"2021-05-28 00:00:00.000\", \"2021-05-29 00:00:00.000\", \"2021-05-30 00:00:00.000\", \"2021-05-31 00:00:00.000\", \"2021-06-01 00:00:00.000\", \"2021-06-02 00:00:00.000\", \"2021-06-03 00:00:00.000\", \"2021-06-04 00:00:00.000\", \"2021-06-05 00:00:00.000\", \"2021-06-06 00:00:00.000\", \"2021-06-07 00:00:00.000\", \"2021-06-08 00:00:00.000\", \"2021-06-09 00:00:00.000\", \"2021-06-10 00:00:00.000\", \"2021-06-11 00:00:00.000\", \"2021-06-12 00:00:00.000\", \"2021-06-13 00:00:00.000\", \"2021-06-14 00:00:00.000\", \"2021-06-15 00:00:00.000\", \"2021-06-16 00:00:00.000\", \"2021-06-17 00:00:00.000\", \"2021-06-18 00:00:00.000\", \"2021-06-19 00:00:00.000\", \"2021-06-20 00:00:00.000\", \"2021-06-21 00:00:00.000\", \"2021-06-22 00:00:00.000\", \"2021-06-23 00:00:00.000\", \"2021-06-24 00:00:00.000\", \"2021-06-25 00:00:00.000\", \"2021-06-26 00:00:00.000\", \"2021-06-27 00:00:00.000\", \"2021-06-28 00:00:00.000\", \"2021-06-29 00:00:00.000\", \"2021-06-30 00:00:00.000\", \"2021-07-01 00:00:00.000\", \"2021-07-02 00:00:00.000\", \"2021-07-03 00:00:00.000\", \"2021-07-04 00:00:00.000\", \"2021-07-05 00:00:00.000\", \"2021-07-06 00:00:00.000\", \"2021-07-07 00:00:00.000\", \"2021-07-08 00:00:00.000\", \"2021-07-09 00:00:00.000\", \"2021-07-10 00:00:00.000\", \"2021-07-11 00:00:00.000\", \"2021-07-12 00:00:00.000\", \"2021-07-13 00:00:00.000\", \"2021-07-14 00:00:00.000\", \"2021-07-15 00:00:00.000\", \"2021-07-16 00:00:00.000\", \"2021-07-17 00:00:00.000\", \"2021-07-18 00:00:00.000\", \"2021-07-19 00:00:00.000\", \"2021-07-20 00:00:00.000\", \"2021-07-21 00:00:00.000\", \"2021-07-22 00:00:00.000\", \"2021-07-23 00:00:00.000\", \"2021-07-24 00:00:00.000\", \"2021-07-25 00:00:00.000\", \"2021-07-26 00:00:00.000\", \"2021-07-27 00:00:00.000\", \"2021-07-28 00:00:00.000\", \"2021-07-29 00:00:00.000\", \"2021-07-30 00:00:00.000\", \"2021-07-31 00:00:00.000\", \"2021-08-01 00:00:00.000\", \"2021-08-02 00:00:00.000\", \"2021-08-03 00:00:00.000\", \"2021-08-04 00:00:00.000\", \"2021-08-05 00:00:00.000\", \"2021-08-06 00:00:00.000\", \"2021-08-07 00:00:00.000\", \"2021-08-08 00:00:00.000\", \"2021-08-09 00:00:00.000\", \"2021-08-10 00:00:00.000\", \"2021-08-11 00:00:00.000\", \"2021-08-12 00:00:00.000\", \"2021-08-13 00:00:00.000\", \"2021-08-14 00:00:00.000\", \"2021-08-15 00:00:00.000\", \"2021-08-16 00:00:00.000\", \"2021-08-17 00:00:00.000\", \"2021-08-18 00:00:00.000\", \"2021-08-19 00:00:00.000\", \"2021-08-20 00:00:00.000\", \"2021-08-21 00:00:00.000\", \"2021-08-22 00:00:00.000\", \"2021-08-23 00:00:00.000\", \"2021-08-24 00:00:00.000\", \"2021-08-25 00:00:00.000\", \"2021-08-26 00:00:00.000\", \"2021-08-27 00:00:00.000\", \"2021-08-28 00:00:00.000\", \"2021-08-29 00:00:00.000\", \"2021-08-30 00:00:00.000\"], \"y\": [null, null, null, null, null, null, null, null, null, 54.99141327054502, 56.3909062633032, 57.21713148192629, 58.79290610490668, 59.14219956878129, 58.90633863246723, 59.72944362218182, 59.63101130643004, 61.016115993107775, 60.893491564034626, 59.38310028147161, 58.064139144926706, 56.262432979967244, 51.39441399043612, 47.34021520643742, 42.37418720817226, 41.5948281520974, 38.74353563679948, 38.576505833450604, 38.80745253227587, 38.814857225614816, 39.71502188325664, 39.93543218239546, 39.34513938831204, 38.678470264667936, 37.05798787320845, 36.24908963769692, 35.15910356914733, 33.80410002987359, 33.62479104017395, 33.52422184236342, 33.50757092344749, 33.30757070100078, 32.49699991131367, 32.44830187799448, 32.83728978481936, 32.993815497426226, 32.827643426630026, 32.72534217027719, 32.75209385827358, 32.31187999879461, 31.75820147854068, 31.261796744159383, 30.596665013218995, 29.798248872480336, 30.93478051731699, 31.943914398636878, 32.08517854209566, 32.14779805051607, 32.01440333790272, 31.891097025953158, 31.697659510709695, 31.697718565765832, 32.17434379585656, 32.40857372013728, 31.849486991728124, 30.775607982990145, 30.295167421385532, 29.881405103189163, 29.688475997623577, 29.373991445565363, 28.59525004753475, 27.63158230549914, 27.638162779467955, 27.704927671969624, 27.439472011979422, 27.189559968465755, 26.998386651961226, 26.62636748605879, 26.12842577701187, 25.880730983691656, 25.678869492209216, 25.63630851553548, 25.547162095554842, 25.714422166647584, 25.865782451138063, 25.814790253972934, 25.213007329308343, 25.188535632721774, 25.209193888468516, 25.218912510572203, 25.079139058263532, 24.97977296092948, 24.999831793795874, 24.909555553607934, 26.47051341200832, 30.721641927707765, 34.00049874682681, 35.72224203589795, 36.140529161379064, 36.17488661638181, 36.08661157610795, 39.07826893611828, 39.79081855019379, 39.38717512997262, 39.07493687103649, 39.0030116227057, 38.59875113859538, 38.3933100557205, 38.424561700302, 38.214764791117716, 37.64549450643095, 35.292030040690726, 33.81404293645243, 33.38557051014149, 33.540299183981105, 33.17031283011691, 32.624938974390794, 32.4111307779265, 31.600003489705713, 30.55981444574654, 29.604904122484403, 29.409148272060293, 29.680689102705337, 29.674132531030736, 29.849116755173462, 30.059595684300003, 30.621013444382264, 30.228329992540548, 30.055301044633985, 29.814201166330804, 29.402374435926177, 28.900102383368946, 26.960627353324767, 25.826558511463155, 25.333805780459336, 24.665589797401058, 24.545408184549267, 24.61020645459779, 26.938352863561313, 28.52898466675331, 29.832767113127325, 30.72391347456099, 30.946676746780025, 31.39093256862305, 31.321498789999257, 30.959137119534972, 30.09332681367111, 29.335687423390997, 29.299532544668843, 29.146970525626287, 28.9451412378413, 28.755057754229547, 29.765217394535327, 29.78545724264919, 29.93803874560294, 29.99969657368276, 30.020880250052837, 29.99343855438732, 29.983384776313635, 30.00751061495315, 29.941134930175842, 30.105310109965767, 29.05460320395489, 28.744245190119663, 28.08855072156027, 28.12558796446932, 28.444518505218372, 28.262877679975578, 29.46471021894737, 31.8064584787017, 34.56120477760383, 35.50677354332008, 36.7813652277196, 37.85319569724487, 39.546502242597526, 42.54119451741689, 44.71678076304234, 46.08235192718168, 49.40318822337572, 50.18995830001574, 50.298584538604004, 49.91437887377448, 49.27852498973802, 48.10325903002481, 47.41634424566971, 47.610375926885, 47.625258144947665, 47.794764775157326, 45.903835364421525, 45.39166905945204, 45.75149833576535, 45.17304546727086, 44.671418862765925, 44.27127684454471, 44.34405325894907, 44.40137916506066, 44.919540806906525, 43.386192248482345, 43.199827752208996, 43.16503999217529, 42.55495848812973, 42.800450681611615, 43.09469970837715, 43.10008684787747, 44.120543888233435, 44.18041294615107, 44.248515540826126, 44.279475744225806, 44.834942858977044, 45.57873900812529, 47.43890261965921, 55.856429083274435, 58.336036139929746, 59.180140111250246, 59.707716275082895, 59.38641610142402, 59.19696696914061, 58.99343711185534, 59.86982693194259, 59.887628789813164, 59.83920806905948, 55.438267356338784, 53.22784573409292, 53.87462706185974, 54.72178231567445, 56.70726745720299, 58.51422467937454, 58.67271751782416, 63.94185297333218, 69.26590330077715, 72.9378578017173, 73.47598946822144, 76.89360425424923, 81.27440546592041, 82.6288210586489, 83.39573524878206, 84.04798213510577, 79.48115460331067, 79.38116022340964, 79.87792920346902, 80.15798033051655, 85.27891295944204, 85.27787387069849, 87.6694112365891, 88.03978531436407, 88.23751900758272, 89.05358960982615, 90.33169587703267, 92.20802079884751, 93.21675303503058, 92.50950818584269, 86.12183797456754, 84.98219142627144, 78.11702842636325, 73.98035694647149, 73.31556449404924, 73.38735270677036, 75.42518232536592, 74.74494368228949, 72.19887757920043, 72.21607628944703, 72.29141899168974, 72.26496918746618, 71.917996825961, 73.34025819680107, 72.97245387990095, 74.11105195652209, 73.50638721306287, 73.50992051745018, 73.00932067991135, 76.44819856831944, 76.11877527412364, 75.52185591266547, 78.29412821175532, 78.46693837610938, 78.33745886510617, 78.98999594953821, 79.72463256436998, 78.42695076189605, 77.44520540792985, 68.24492151597802, 61.18673033424521, 53.834762070948386, 57.40482183593299, 58.64769365807172, 60.29485275813497, 60.5099101636538, 58.931110716431235, 58.38334934351195, 57.74113883832275, 56.92161430280188, 56.93833018884942, 55.796390833110245, 54.91445370638617, 53.653314678776965, 53.024487333609834, 53.21258476258733, 52.85224354944535, 51.2655958037499, 50.29916374688429, 48.26620740165389, 45.7672010432523, 45.08145825951444, 44.5223421397988, 41.85570687464433, 41.540079840869055, 43.78434225365457, 45.648533782423726, 45.637165426881424, 44.649558733661884, 43.252809041518375, 42.02946530897162, 40.01346557769022, 37.292108287354665, 34.93483174666963, 34.527753850246185, 35.418496342441294, 35.785460751758585, 36.140414169028645, 36.49974256938302, 36.748323365858155, 36.56659948661271, 36.39981259100102, 36.144853966935905, 35.745813598204954, 34.21722500689951, 33.91076983861206, 33.942757418014345, 33.933869114592646, 33.87551783401701, 33.48522819202176, 33.441534752557786, 32.9378066417422, 32.91098564884469, 33.22371355442039, 33.16389423523128, 33.063422377348154, 33.07346594000547, 33.317981803031905, 33.74830340195053, 35.16565601716146, 35.47224053357311, 37.418707181874446, 38.435550313275265, 39.40238144180598, 40.33065508334019, 40.854153959696056, 41.022539877884036, 41.03444477161643, 40.571104184110894, 40.703483904399256, 39.85995691097727, 39.95414239239051, 39.69099260863547, 39.65884510863092, 39.782735080941094, 39.995447216024324, 41.08493196772935, 41.15620758012936, 42.428885305844844, 42.87161301252448, 43.361503098340044, 43.37281148315491, 43.3847477434372, 43.33800927564411, 43.38214387712025, 43.918494617237556, 44.21258404506872, 45.148141003609354, 45.82551752715318, 45.94061547609122, 46.422164862337496, 46.410665646926745, 46.348802396996234, 45.46935228713454, 45.23618975235462, 45.23611122156114]}, {\"line\": {\"color\": \"firebrick\"}, \"mode\": \"lines\", \"name\": \"Lower bound\", \"showlegend\": true, \"type\": \"scatter\", \"x\": [\"2020-08-19 00:00:00.000\", \"2020-08-20 00:00:00.000\", \"2020-08-21 00:00:00.000\", \"2020-08-22 00:00:00.000\", \"2020-08-23 00:00:00.000\", \"2020-08-24 00:00:00.000\", \"2020-08-25 00:00:00.000\", \"2020-08-26 00:00:00.000\", \"2020-08-27 00:00:00.000\", \"2020-08-28 00:00:00.000\", \"2020-08-29 00:00:00.000\", \"2020-08-30 00:00:00.000\", \"2020-08-31 00:00:00.000\", \"2020-09-01 00:00:00.000\", \"2020-09-02 00:00:00.000\", \"2020-09-03 00:00:00.000\", \"2020-09-04 00:00:00.000\", \"2020-09-05 00:00:00.000\", \"2020-09-06 00:00:00.000\", \"2020-09-07 00:00:00.000\", \"2020-09-08 00:00:00.000\", \"2020-09-09 00:00:00.000\", \"2020-09-10 00:00:00.000\", \"2020-09-11 00:00:00.000\", \"2020-09-12 00:00:00.000\", \"2020-09-13 00:00:00.000\", \"2020-09-14 00:00:00.000\", \"2020-09-15 00:00:00.000\", \"2020-09-16 00:00:00.000\", \"2020-09-17 00:00:00.000\", \"2020-09-18 00:00:00.000\", \"2020-09-19 00:00:00.000\", \"2020-09-20 00:00:00.000\", \"2020-09-21 00:00:00.000\", \"2020-09-22 00:00:00.000\", \"2020-09-23 00:00:00.000\", \"2020-09-24 00:00:00.000\", \"2020-09-25 00:00:00.000\", \"2020-09-26 00:00:00.000\", \"2020-09-27 00:00:00.000\", \"2020-09-28 00:00:00.000\", \"2020-09-29 00:00:00.000\", \"2020-09-30 00:00:00.000\", \"2020-10-01 00:00:00.000\", \"2020-10-02 00:00:00.000\", \"2020-10-03 00:00:00.000\", \"2020-10-04 00:00:00.000\", \"2020-10-05 00:00:00.000\", \"2020-10-06 00:00:00.000\", \"2020-10-07 00:00:00.000\", \"2020-10-08 00:00:00.000\", \"2020-10-09 00:00:00.000\", \"2020-10-10 00:00:00.000\", \"2020-10-11 00:00:00.000\", \"2020-10-12 00:00:00.000\", \"2020-10-13 00:00:00.000\", \"2020-10-14 00:00:00.000\", \"2020-10-15 00:00:00.000\", \"2020-10-16 00:00:00.000\", \"2020-10-17 00:00:00.000\", \"2020-10-18 00:00:00.000\", \"2020-10-19 00:00:00.000\", \"2020-10-20 00:00:00.000\", \"2020-10-21 00:00:00.000\", \"2020-10-22 00:00:00.000\", \"2020-10-23 00:00:00.000\", \"2020-10-24 00:00:00.000\", \"2020-10-25 00:00:00.000\", \"2020-10-26 00:00:00.000\", \"2020-10-27 00:00:00.000\", \"2020-10-28 00:00:00.000\", \"2020-10-29 00:00:00.000\", \"2020-10-30 00:00:00.000\", \"2020-10-31 00:00:00.000\", \"2020-11-01 00:00:00.000\", \"2020-11-02 00:00:00.000\", \"2020-11-03 00:00:00.000\", \"2020-11-04 00:00:00.000\", \"2020-11-05 00:00:00.000\", \"2020-11-06 00:00:00.000\", \"2020-11-07 00:00:00.000\", \"2020-11-08 00:00:00.000\", \"2020-11-09 00:00:00.000\", \"2020-11-10 00:00:00.000\", \"2020-11-11 00:00:00.000\", \"2020-11-12 00:00:00.000\", \"2020-11-13 00:00:00.000\", \"2020-11-14 00:00:00.000\", \"2020-11-15 00:00:00.000\", \"2020-11-16 00:00:00.000\", \"2020-11-17 00:00:00.000\", \"2020-11-18 00:00:00.000\", \"2020-11-19 00:00:00.000\", \"2020-11-20 00:00:00.000\", \"2020-11-21 00:00:00.000\", \"2020-11-22 00:00:00.000\", \"2020-11-23 00:00:00.000\", \"2020-11-24 00:00:00.000\", \"2020-11-25 00:00:00.000\", \"2020-11-26 00:00:00.000\", \"2020-11-27 00:00:00.000\", \"2020-11-28 00:00:00.000\", \"2020-11-29 00:00:00.000\", \"2020-11-30 00:00:00.000\", \"2020-12-01 00:00:00.000\", \"2020-12-02 00:00:00.000\", \"2020-12-03 00:00:00.000\", \"2020-12-04 00:00:00.000\", \"2020-12-05 00:00:00.000\", \"2020-12-06 00:00:00.000\", \"2020-12-07 00:00:00.000\", \"2020-12-08 00:00:00.000\", \"2020-12-09 00:00:00.000\", \"2020-12-10 00:00:00.000\", \"2020-12-11 00:00:00.000\", \"2020-12-12 00:00:00.000\", \"2020-12-13 00:00:00.000\", \"2020-12-14 00:00:00.000\", \"2020-12-15 00:00:00.000\", \"2020-12-16 00:00:00.000\", \"2020-12-17 00:00:00.000\", \"2020-12-18 00:00:00.000\", \"2020-12-19 00:00:00.000\", \"2020-12-20 00:00:00.000\", \"2020-12-21 00:00:00.000\", \"2020-12-22 00:00:00.000\", \"2020-12-23 00:00:00.000\", \"2020-12-24 00:00:00.000\", \"2020-12-25 00:00:00.000\", \"2020-12-26 00:00:00.000\", \"2020-12-27 00:00:00.000\", \"2020-12-28 00:00:00.000\", \"2020-12-29 00:00:00.000\", \"2020-12-30 00:00:00.000\", \"2020-12-31 00:00:00.000\", \"2021-01-01 00:00:00.000\", \"2021-01-02 00:00:00.000\", \"2021-01-03 00:00:00.000\", \"2021-01-04 00:00:00.000\", \"2021-01-05 00:00:00.000\", \"2021-01-06 00:00:00.000\", \"2021-01-07 00:00:00.000\", \"2021-01-08 00:00:00.000\", \"2021-01-09 00:00:00.000\", \"2021-01-10 00:00:00.000\", \"2021-01-11 00:00:00.000\", \"2021-01-12 00:00:00.000\", \"2021-01-13 00:00:00.000\", \"2021-01-14 00:00:00.000\", \"2021-01-15 00:00:00.000\", \"2021-01-16 00:00:00.000\", \"2021-01-17 00:00:00.000\", \"2021-01-18 00:00:00.000\", \"2021-01-19 00:00:00.000\", \"2021-01-20 00:00:00.000\", \"2021-01-21 00:00:00.000\", \"2021-01-22 00:00:00.000\", \"2021-01-23 00:00:00.000\", \"2021-01-24 00:00:00.000\", \"2021-01-25 00:00:00.000\", \"2021-01-26 00:00:00.000\", \"2021-01-27 00:00:00.000\", \"2021-01-28 00:00:00.000\", \"2021-01-29 00:00:00.000\", \"2021-01-30 00:00:00.000\", \"2021-01-31 00:00:00.000\", \"2021-02-01 00:00:00.000\", \"2021-02-02 00:00:00.000\", \"2021-02-03 00:00:00.000\", \"2021-02-04 00:00:00.000\", \"2021-02-05 00:00:00.000\", \"2021-02-06 00:00:00.000\", \"2021-02-07 00:00:00.000\", \"2021-02-08 00:00:00.000\", \"2021-02-09 00:00:00.000\", \"2021-02-10 00:00:00.000\", \"2021-02-11 00:00:00.000\", \"2021-02-12 00:00:00.000\", \"2021-02-13 00:00:00.000\", \"2021-02-14 00:00:00.000\", \"2021-02-15 00:00:00.000\", \"2021-02-16 00:00:00.000\", \"2021-02-17 00:00:00.000\", \"2021-02-18 00:00:00.000\", \"2021-02-19 00:00:00.000\", \"2021-02-20 00:00:00.000\", \"2021-02-21 00:00:00.000\", \"2021-02-22 00:00:00.000\", \"2021-02-23 00:00:00.000\", \"2021-02-24 00:00:00.000\", \"2021-02-25 00:00:00.000\", \"2021-02-26 00:00:00.000\", \"2021-02-27 00:00:00.000\", \"2021-02-28 00:00:00.000\", \"2021-03-01 00:00:00.000\", \"2021-03-02 00:00:00.000\", \"2021-03-03 00:00:00.000\", \"2021-03-04 00:00:00.000\", \"2021-03-05 00:00:00.000\", \"2021-03-06 00:00:00.000\", \"2021-03-07 00:00:00.000\", \"2021-03-08 00:00:00.000\", \"2021-03-09 00:00:00.000\", \"2021-03-10 00:00:00.000\", \"2021-03-11 00:00:00.000\", \"2021-03-12 00:00:00.000\", \"2021-03-13 00:00:00.000\", \"2021-03-14 00:00:00.000\", \"2021-03-15 00:00:00.000\", \"2021-03-16 00:00:00.000\", \"2021-03-17 00:00:00.000\", \"2021-03-18 00:00:00.000\", \"2021-03-19 00:00:00.000\", \"2021-03-20 00:00:00.000\", \"2021-03-21 00:00:00.000\", \"2021-03-22 00:00:00.000\", \"2021-03-23 00:00:00.000\", \"2021-03-24 00:00:00.000\", \"2021-03-25 00:00:00.000\", \"2021-03-26 00:00:00.000\", \"2021-03-27 00:00:00.000\", \"2021-03-28 00:00:00.000\", \"2021-03-29 00:00:00.000\", \"2021-03-30 00:00:00.000\", \"2021-03-31 00:00:00.000\", \"2021-04-01 00:00:00.000\", \"2021-04-02 00:00:00.000\", \"2021-04-03 00:00:00.000\", \"2021-04-04 00:00:00.000\", \"2021-04-05 00:00:00.000\", \"2021-04-06 00:00:00.000\", \"2021-04-07 00:00:00.000\", \"2021-04-08 00:00:00.000\", \"2021-04-09 00:00:00.000\", \"2021-04-10 00:00:00.000\", \"2021-04-11 00:00:00.000\", \"2021-04-12 00:00:00.000\", \"2021-04-13 00:00:00.000\", \"2021-04-14 00:00:00.000\", \"2021-04-15 00:00:00.000\", \"2021-04-16 00:00:00.000\", \"2021-04-17 00:00:00.000\", \"2021-04-18 00:00:00.000\", \"2021-04-19 00:00:00.000\", \"2021-04-20 00:00:00.000\", \"2021-04-21 00:00:00.000\", \"2021-04-22 00:00:00.000\", \"2021-04-23 00:00:00.000\", \"2021-04-24 00:00:00.000\", \"2021-04-25 00:00:00.000\", \"2021-04-26 00:00:00.000\", \"2021-04-27 00:00:00.000\", \"2021-04-28 00:00:00.000\", \"2021-04-29 00:00:00.000\", \"2021-04-30 00:00:00.000\", \"2021-05-01 00:00:00.000\", \"2021-05-02 00:00:00.000\", \"2021-05-03 00:00:00.000\", \"2021-05-04 00:00:00.000\", \"2021-05-05 00:00:00.000\", \"2021-05-06 00:00:00.000\", \"2021-05-07 00:00:00.000\", \"2021-05-08 00:00:00.000\", \"2021-05-09 00:00:00.000\", \"2021-05-10 00:00:00.000\", \"2021-05-11 00:00:00.000\", \"2021-05-12 00:00:00.000\", \"2021-05-13 00:00:00.000\", \"2021-05-14 00:00:00.000\", \"2021-05-15 00:00:00.000\", \"2021-05-16 00:00:00.000\", \"2021-05-17 00:00:00.000\", \"2021-05-18 00:00:00.000\", \"2021-05-19 00:00:00.000\", \"2021-05-20 00:00:00.000\", \"2021-05-21 00:00:00.000\", \"2021-05-22 00:00:00.000\", \"2021-05-23 00:00:00.000\", \"2021-05-24 00:00:00.000\", \"2021-05-25 00:00:00.000\", \"2021-05-26 00:00:00.000\", \"2021-05-27 00:00:00.000\", \"2021-05-28 00:00:00.000\", \"2021-05-29 00:00:00.000\", \"2021-05-30 00:00:00.000\", \"2021-05-31 00:00:00.000\", \"2021-06-01 00:00:00.000\", \"2021-06-02 00:00:00.000\", \"2021-06-03 00:00:00.000\", \"2021-06-04 00:00:00.000\", \"2021-06-05 00:00:00.000\", \"2021-06-06 00:00:00.000\", \"2021-06-07 00:00:00.000\", \"2021-06-08 00:00:00.000\", \"2021-06-09 00:00:00.000\", \"2021-06-10 00:00:00.000\", \"2021-06-11 00:00:00.000\", \"2021-06-12 00:00:00.000\", \"2021-06-13 00:00:00.000\", \"2021-06-14 00:00:00.000\", \"2021-06-15 00:00:00.000\", \"2021-06-16 00:00:00.000\", \"2021-06-17 00:00:00.000\", \"2021-06-18 00:00:00.000\", \"2021-06-19 00:00:00.000\", \"2021-06-20 00:00:00.000\", \"2021-06-21 00:00:00.000\", \"2021-06-22 00:00:00.000\", \"2021-06-23 00:00:00.000\", \"2021-06-24 00:00:00.000\", \"2021-06-25 00:00:00.000\", \"2021-06-26 00:00:00.000\", \"2021-06-27 00:00:00.000\", \"2021-06-28 00:00:00.000\", \"2021-06-29 00:00:00.000\", \"2021-06-30 00:00:00.000\", \"2021-07-01 00:00:00.000\", \"2021-07-02 00:00:00.000\", \"2021-07-03 00:00:00.000\", \"2021-07-04 00:00:00.000\", \"2021-07-05 00:00:00.000\", \"2021-07-06 00:00:00.000\", \"2021-07-07 00:00:00.000\", \"2021-07-08 00:00:00.000\", \"2021-07-09 00:00:00.000\", \"2021-07-10 00:00:00.000\", \"2021-07-11 00:00:00.000\", \"2021-07-12 00:00:00.000\", \"2021-07-13 00:00:00.000\", \"2021-07-14 00:00:00.000\", \"2021-07-15 00:00:00.000\", \"2021-07-16 00:00:00.000\", \"2021-07-17 00:00:00.000\", \"2021-07-18 00:00:00.000\", \"2021-07-19 00:00:00.000\", \"2021-07-20 00:00:00.000\", \"2021-07-21 00:00:00.000\", \"2021-07-22 00:00:00.000\", \"2021-07-23 00:00:00.000\", \"2021-07-24 00:00:00.000\", \"2021-07-25 00:00:00.000\", \"2021-07-26 00:00:00.000\", \"2021-07-27 00:00:00.000\", \"2021-07-28 00:00:00.000\", \"2021-07-29 00:00:00.000\", \"2021-07-30 00:00:00.000\", \"2021-07-31 00:00:00.000\", \"2021-08-01 00:00:00.000\", \"2021-08-02 00:00:00.000\", \"2021-08-03 00:00:00.000\", \"2021-08-04 00:00:00.000\", \"2021-08-05 00:00:00.000\", \"2021-08-06 00:00:00.000\", \"2021-08-07 00:00:00.000\", \"2021-08-08 00:00:00.000\", \"2021-08-09 00:00:00.000\", \"2021-08-10 00:00:00.000\", \"2021-08-11 00:00:00.000\", \"2021-08-12 00:00:00.000\", \"2021-08-13 00:00:00.000\", \"2021-08-14 00:00:00.000\", \"2021-08-15 00:00:00.000\", \"2021-08-16 00:00:00.000\", \"2021-08-17 00:00:00.000\", \"2021-08-18 00:00:00.000\", \"2021-08-19 00:00:00.000\", \"2021-08-20 00:00:00.000\", \"2021-08-21 00:00:00.000\", \"2021-08-22 00:00:00.000\", \"2021-08-23 00:00:00.000\", \"2021-08-24 00:00:00.000\", \"2021-08-25 00:00:00.000\", \"2021-08-26 00:00:00.000\", \"2021-08-27 00:00:00.000\", \"2021-08-28 00:00:00.000\", \"2021-08-29 00:00:00.000\", \"2021-08-30 00:00:00.000\"], \"y\": [null, null, null, null, null, null, null, null, null, 37.06238672945498, 37.7370937366968, 37.79586851807372, 38.89069389509331, 39.12400043121871, 40.44126136753277, 38.81455637781819, 39.01578869356996, 36.416684006892226, 33.70290843596538, 31.754499718528397, 29.71486085507329, 28.437967020032755, 29.550986009563882, 30.68358479356257, 33.40241279182774, 33.148971847902594, 34.50306436320052, 34.1384941665494, 32.69974746772413, 31.62534277438519, 29.46997811674336, 27.901767817604533, 27.850460611687943, 27.499729735332068, 27.707812126791552, 27.22751036230308, 27.603296430852676, 28.18789997012641, 28.219808959826047, 28.243178157636592, 28.652829076552518, 29.15542929899922, 29.477600088686337, 29.416698122005517, 28.61091021518064, 28.34098450257378, 27.960156573369975, 27.59585782972281, 26.686306141726416, 26.263320001205393, 26.013798521459318, 26.134603255840616, 26.402734986781006, 26.82195112751966, 26.203019482683008, 25.817085601363125, 25.84642145790434, 25.896001949483924, 26.278596662097282, 26.657302974046843, 27.210340489290306, 27.25248143423417, 26.291856204143443, 25.61742627986273, 25.289913008271878, 25.302992017009856, 25.114432578614466, 24.850994896810835, 24.582524002376424, 24.20760855443464, 24.15994995246525, 24.105017694500862, 23.660437220532046, 22.93007232803038, 22.48912798802058, 22.057840031534244, 22.150413348038775, 22.19083251394121, 22.181774222988132, 22.210669016308344, 21.976530507790784, 21.886291484464518, 21.853437904445155, 21.946777833352417, 22.074417548861934, 22.275009746027063, 22.637192670691658, 22.639064367278223, 22.735006111531487, 22.7378874894278, 23.18566094173647, 23.38042703907052, 23.342768206204124, 23.323444446392063, 22.272686587991682, 19.778558072292242, 18.3735012531732, 18.366557964102057, 19.063270838620937, 19.797913383618187, 20.447588423892046, 20.35813106388173, 22.028781449806207, 24.34182487002738, 25.46786312896351, 25.379188377294298, 25.231648861404615, 24.87528994427951, 25.188638299698006, 26.034035208882287, 27.249505493569057, 27.624769959309276, 27.72295706354757, 26.807029489858518, 25.663300816018907, 25.000287169883087, 25.10546102560921, 25.050269222073496, 25.023196510294284, 25.26058555425346, 25.593295877515597, 25.530251727939707, 25.394110897294667, 25.441867468969264, 25.10688324482654, 24.6468043157, 22.674186555617737, 22.12347000745945, 21.678098955366018, 21.202198833669193, 20.87302556407382, 20.758497616631054, 21.55577264667523, 21.897241488536842, 21.766994219540663, 21.96901020259894, 22.188791815450735, 22.163193545402212, 20.617647136438684, 19.981415333246687, 19.701232886872674, 19.685486525439007, 20.068923253219975, 20.644667431376952, 21.74850121000075, 22.818462880465027, 24.579073186328895, 26.157312576609005, 26.13806745533116, 26.051429474373712, 26.1388587621587, 26.19734224577045, 25.89738260546467, 25.898942757350806, 25.95716125439706, 25.84590342631724, 25.78071974994717, 25.770361445612682, 25.725415223686376, 25.63588938504685, 25.477465069824156, 24.872289890034242, 25.18299679604511, 25.075354809880338, 25.28944927843973, 25.395812035530685, 25.299681494781627, 25.38352232002443, 24.66848978105263, 23.460341521298304, 22.27819522239617, 22.794026456679923, 23.128634772280396, 23.865004302755136, 24.485097757402475, 24.54400548258311, 25.293019236957665, 27.11524807281831, 27.56521177662428, 29.094441699984266, 30.257215461396, 32.653021126225525, 34.924875010261985, 37.417940969975184, 38.81485575433029, 38.179824073115, 37.77214185505234, 37.77043522484268, 37.30636463557849, 36.67333094054797, 35.38370166423465, 35.302554532729154, 35.36818113723407, 35.30192315545529, 35.28054674105095, 35.30722083493934, 35.18805919309348, 35.67100775151765, 36.390372247791014, 36.5699600078247, 37.74984151187027, 37.848549318388386, 37.817700291622856, 38.004513152122534, 37.44485611176656, 37.51698705384893, 37.48788445917388, 37.97772425577419, 38.22365714102294, 38.65846099187471, 38.47929738034079, 33.65517091672557, 33.66756386007026, 35.01685988874976, 35.68488372491711, 37.129983898575986, 37.832433030859384, 38.28016288814467, 36.46797306805741, 36.82157121018683, 36.07779193094052, 37.78093264366122, 38.811154265907085, 38.446572938140264, 38.05361768432555, 37.50793254279702, 37.48737532062545, 38.80468248217584, 38.95314702666783, 37.83929669922284, 39.214542198282714, 42.120210531778554, 43.569795745750774, 43.96219453407958, 46.58997894135113, 49.55626475121794, 53.17621786489422, 62.28344539668933, 63.58083977659038, 64.46607079653097, 65.20821966948344, 65.24108704055797, 65.3879261293015, 64.57658876341091, 65.46021468563593, 64.85648099241727, 62.10121039017384, 58.73390412296732, 53.96677920115246, 49.073046964969436, 47.722691814157315, 49.83096202543243, 49.431608573728575, 52.24997157363675, 54.61804305352851, 54.906635505950746, 54.907047293229645, 54.74521767463408, 56.95505631771051, 62.096722420799544, 63.048123710552986, 63.112181008310266, 63.203030812533804, 64.07520317403903, 60.660541803198925, 60.372546120099045, 57.61934804347792, 55.00001278693715, 53.60927948254983, 51.31787932008867, 49.36580143168055, 49.434024725876384, 49.220544087334545, 41.15627178824467, 38.76746162389061, 33.90134113489384, 29.174004050461804, 24.151967435630034, 21.860849238103945, 20.468994592070143, 25.065878484021983, 28.310069665754778, 31.378837929051613, 30.627378164067014, 30.193506341928288, 30.907947241865024, 32.956489836346194, 37.535089283568766, 40.053050656488054, 41.62646116167725, 41.56058569719813, 41.664669811150574, 43.41560916688976, 41.910546293613834, 41.78128532122304, 40.14211266639017, 37.94141523741266, 36.09395645055466, 35.537004196250095, 35.208236253115714, 35.63779259834611, 36.139198956747705, 35.83854174048556, 35.59265786020119, 36.42269312535567, 35.90692015913095, 31.90745774634543, 27.844666217576275, 25.718834573118585, 24.295641266338116, 22.91219095848163, 21.889934691028383, 21.85573442230978, 22.670091712645345, 23.589568253330366, 23.876846149753817, 23.580303657558712, 24.093539248241413, 24.35138583097135, 24.708257430616992, 25.778876634141845, 27.139000513387277, 28.242387408998983, 28.749346033064093, 29.69998640179505, 30.283174993100474, 30.22043016138795, 30.064242581985663, 30.023530885407354, 29.918082165982977, 29.66757180797824, 29.69066524744221, 29.69919335825779, 29.76421435115531, 28.746686445579606, 28.490105764768728, 28.482577622651842, 28.48473405999453, 28.395018196968106, 28.249496598049472, 27.797143982838545, 27.683759466426903, 27.054492818125556, 27.193249686724734, 28.11681855819402, 28.973344916659812, 29.921846040303954, 31.24086012211597, 32.45515522838357, 33.93249581588911, 34.56731609560074, 36.46764308902274, 36.72605760760949, 37.64040739136453, 37.72295489136908, 37.71006491905891, 37.751552783975676, 37.22826803227065, 37.38259241987065, 37.08671469415516, 37.19578698747553, 37.29409690165996, 37.61518851684509, 37.558652256562794, 37.647590724355894, 37.93985612287975, 38.05430538276245, 38.00281595493128, 38.03785899639065, 37.75548247284682, 37.819184523908795, 37.7664351376625, 37.945534353073256, 38.79119760300378, 40.49964771286545, 41.16361024764538, 41.163088778438855]}, {\"marker\": {\"color\": \"green\", \"size\": 4}, \"mode\": \"markers\", \"name\": \"above_boundary\", \"type\": \"scatter\", \"x\": [\"2020-08-28 00:00:00.000\", \"2020-10-12 00:00:00.000\", \"2020-11-03 00:00:00.000\", \"2020-11-17 00:00:00.000\", \"2020-11-21 00:00:00.000\", \"2020-11-22 00:00:00.000\", \"2020-11-23 00:00:00.000\", \"2020-12-19 00:00:00.000\", \"2021-01-05 00:00:00.000\", \"2021-01-12 00:00:00.000\", \"2021-01-18 00:00:00.000\", \"2021-01-19 00:00:00.000\", \"2021-02-04 00:00:00.000\", \"2021-02-10 00:00:00.000\", \"2021-02-22 00:00:00.000\", \"2021-02-27 00:00:00.000\", \"2021-03-10 00:00:00.000\", \"2021-03-11 00:00:00.000\", \"2021-03-15 00:00:00.000\", \"2021-03-16 00:00:00.000\", \"2021-03-17 00:00:00.000\", \"2021-03-18 00:00:00.000\", \"2021-04-04 00:00:00.000\", \"2021-04-05 00:00:00.000\", \"2021-04-17 00:00:00.000\", \"2021-05-16 00:00:00.000\", \"2021-05-17 00:00:00.000\", \"2021-05-29 00:00:00.000\", \"2021-05-30 00:00:00.000\", \"2021-06-30 00:00:00.000\", \"2021-07-13 00:00:00.000\", \"2021-07-25 00:00:00.000\", \"2021-08-03 00:00:00.000\", \"2021-08-04 00:00:00.000\", \"2021-08-07 00:00:00.000\", \"2021-08-08 00:00:00.000\", \"2021-08-10 00:00:00.000\", \"2021-08-11 00:00:00.000\", \"2021-08-12 00:00:00.000\", \"2021-08-21 00:00:00.000\"], \"y\": [11, 11, 11, 11, 11, 11, 11, 11, 11, 11, 11, 11, 11, 11, 11, 11, 11, 11, 11, 11, 11, 11, 11, 11, 11, 11, 11, 11, 11, 11, 11, 11, 11, 11, 11, 11, 11, 11, 11, 11]}, {\"marker\": {\"color\": \"crimson\", \"size\": 4}, \"mode\": \"markers\", \"name\": \"below_boundary\", \"type\": \"scatter\", \"x\": [\"2020-11-18 00:00:00.000\", \"2021-02-20 00:00:00.000\", \"2021-02-22 00:00:00.000\", \"2021-02-23 00:00:00.000\", \"2021-02-26 00:00:00.000\", \"2021-05-11 00:00:00.000\", \"2021-06-22 00:00:00.000\", \"2021-07-14 00:00:00.000\", \"2021-07-20 00:00:00.000\", \"2021-08-09 00:00:00.000\"], \"y\": [11, 11, 11, 11, 11, 11, 11, 11, 11, 11]}],                        {\"template\": {\"data\": {\"bar\": [{\"error_x\": {\"color\": \"#2a3f5f\"}, \"error_y\": {\"color\": \"#2a3f5f\"}, \"marker\": {\"line\": {\"color\": \"#E5ECF6\", \"width\": 0.5}}, \"type\": \"bar\"}], \"barpolar\": [{\"marker\": {\"line\": {\"color\": \"#E5ECF6\", \"width\": 0.5}}, \"type\": \"barpolar\"}], \"carpet\": [{\"aaxis\": {\"endlinecolor\": \"#2a3f5f\", \"gridcolor\": \"white\", \"linecolor\": \"white\", \"minorgridcolor\": \"white\", \"startlinecolor\": \"#2a3f5f\"}, \"baxis\": {\"endlinecolor\": \"#2a3f5f\", \"gridcolor\": \"white\", \"linecolor\": \"white\", \"minorgridcolor\": \"white\", \"startlinecolor\": \"#2a3f5f\"}, \"type\": \"carpet\"}], \"choropleth\": [{\"colorbar\": {\"outlinewidth\": 0, \"ticks\": \"\"}, \"type\": \"choropleth\"}], \"contour\": [{\"colorbar\": {\"outlinewidth\": 0, \"ticks\": \"\"}, \"colorscale\": [[0.0, \"#0d0887\"], [0.1111111111111111, \"#46039f\"], [0.2222222222222222, \"#7201a8\"], [0.3333333333333333, \"#9c179e\"], [0.4444444444444444, \"#bd3786\"], [0.5555555555555556, \"#d8576b\"], [0.6666666666666666, \"#ed7953\"], [0.7777777777777778, \"#fb9f3a\"], [0.8888888888888888, \"#fdca26\"], [1.0, \"#f0f921\"]], \"type\": \"contour\"}], \"contourcarpet\": [{\"colorbar\": {\"outlinewidth\": 0, \"ticks\": \"\"}, \"type\": \"contourcarpet\"}], \"heatmap\": [{\"colorbar\": {\"outlinewidth\": 0, \"ticks\": \"\"}, \"colorscale\": [[0.0, \"#0d0887\"], [0.1111111111111111, \"#46039f\"], [0.2222222222222222, \"#7201a8\"], [0.3333333333333333, \"#9c179e\"], [0.4444444444444444, \"#bd3786\"], [0.5555555555555556, \"#d8576b\"], [0.6666666666666666, \"#ed7953\"], [0.7777777777777778, \"#fb9f3a\"], [0.8888888888888888, \"#fdca26\"], [1.0, \"#f0f921\"]], \"type\": \"heatmap\"}], \"heatmapgl\": [{\"colorbar\": {\"outlinewidth\": 0, \"ticks\": \"\"}, \"colorscale\": [[0.0, \"#0d0887\"], [0.1111111111111111, \"#46039f\"], [0.2222222222222222, \"#7201a8\"], [0.3333333333333333, \"#9c179e\"], [0.4444444444444444, \"#bd3786\"], [0.5555555555555556, \"#d8576b\"], [0.6666666666666666, \"#ed7953\"], [0.7777777777777778, \"#fb9f3a\"], [0.8888888888888888, \"#fdca26\"], [1.0, \"#f0f921\"]], \"type\": \"heatmapgl\"}], \"histogram\": [{\"marker\": {\"colorbar\": {\"outlinewidth\": 0, \"ticks\": \"\"}}, \"type\": \"histogram\"}], \"histogram2d\": [{\"colorbar\": {\"outlinewidth\": 0, \"ticks\": \"\"}, \"colorscale\": [[0.0, \"#0d0887\"], [0.1111111111111111, \"#46039f\"], [0.2222222222222222, \"#7201a8\"], [0.3333333333333333, \"#9c179e\"], [0.4444444444444444, \"#bd3786\"], [0.5555555555555556, \"#d8576b\"], [0.6666666666666666, \"#ed7953\"], [0.7777777777777778, \"#fb9f3a\"], [0.8888888888888888, \"#fdca26\"], [1.0, \"#f0f921\"]], \"type\": \"histogram2d\"}], \"histogram2dcontour\": [{\"colorbar\": {\"outlinewidth\": 0, \"ticks\": \"\"}, \"colorscale\": [[0.0, \"#0d0887\"], [0.1111111111111111, \"#46039f\"], [0.2222222222222222, \"#7201a8\"], [0.3333333333333333, \"#9c179e\"], [0.4444444444444444, \"#bd3786\"], [0.5555555555555556, \"#d8576b\"], [0.6666666666666666, \"#ed7953\"], [0.7777777777777778, \"#fb9f3a\"], [0.8888888888888888, \"#fdca26\"], [1.0, \"#f0f921\"]], \"type\": \"histogram2dcontour\"}], \"mesh3d\": [{\"colorbar\": {\"outlinewidth\": 0, \"ticks\": \"\"}, \"type\": \"mesh3d\"}], \"parcoords\": [{\"line\": {\"colorbar\": {\"outlinewidth\": 0, \"ticks\": \"\"}}, \"type\": \"parcoords\"}], \"pie\": [{\"automargin\": true, \"type\": \"pie\"}], \"scatter\": [{\"marker\": {\"colorbar\": {\"outlinewidth\": 0, \"ticks\": \"\"}}, \"type\": \"scatter\"}], \"scatter3d\": [{\"line\": {\"colorbar\": {\"outlinewidth\": 0, \"ticks\": \"\"}}, \"marker\": {\"colorbar\": {\"outlinewidth\": 0, \"ticks\": \"\"}}, \"type\": \"scatter3d\"}], \"scattercarpet\": [{\"marker\": {\"colorbar\": {\"outlinewidth\": 0, \"ticks\": \"\"}}, \"type\": \"scattercarpet\"}], \"scattergeo\": [{\"marker\": {\"colorbar\": {\"outlinewidth\": 0, \"ticks\": \"\"}}, \"type\": \"scattergeo\"}], \"scattergl\": [{\"marker\": {\"colorbar\": {\"outlinewidth\": 0, \"ticks\": \"\"}}, \"type\": \"scattergl\"}], \"scattermapbox\": [{\"marker\": {\"colorbar\": {\"outlinewidth\": 0, \"ticks\": \"\"}}, \"type\": \"scattermapbox\"}], \"scatterpolar\": [{\"marker\": {\"colorbar\": {\"outlinewidth\": 0, \"ticks\": \"\"}}, \"type\": \"scatterpolar\"}], \"scatterpolargl\": [{\"marker\": {\"colorbar\": {\"outlinewidth\": 0, \"ticks\": \"\"}}, \"type\": \"scatterpolargl\"}], \"scatterternary\": [{\"marker\": {\"colorbar\": {\"outlinewidth\": 0, \"ticks\": \"\"}}, \"type\": \"scatterternary\"}], \"surface\": [{\"colorbar\": {\"outlinewidth\": 0, \"ticks\": \"\"}, \"colorscale\": [[0.0, \"#0d0887\"], [0.1111111111111111, \"#46039f\"], [0.2222222222222222, \"#7201a8\"], [0.3333333333333333, \"#9c179e\"], [0.4444444444444444, \"#bd3786\"], [0.5555555555555556, \"#d8576b\"], [0.6666666666666666, \"#ed7953\"], [0.7777777777777778, \"#fb9f3a\"], [0.8888888888888888, \"#fdca26\"], [1.0, \"#f0f921\"]], \"type\": \"surface\"}], \"table\": [{\"cells\": {\"fill\": {\"color\": \"#EBF0F8\"}, \"line\": {\"color\": \"white\"}}, \"header\": {\"fill\": {\"color\": \"#C8D4E3\"}, \"line\": {\"color\": \"white\"}}, \"type\": \"table\"}]}, \"layout\": {\"annotationdefaults\": {\"arrowcolor\": \"#2a3f5f\", \"arrowhead\": 0, \"arrowwidth\": 1}, \"coloraxis\": {\"colorbar\": {\"outlinewidth\": 0, \"ticks\": \"\"}}, \"colorscale\": {\"diverging\": [[0, \"#8e0152\"], [0.1, \"#c51b7d\"], [0.2, \"#de77ae\"], [0.3, \"#f1b6da\"], [0.4, \"#fde0ef\"], [0.5, \"#f7f7f7\"], [0.6, \"#e6f5d0\"], [0.7, \"#b8e186\"], [0.8, \"#7fbc41\"], [0.9, \"#4d9221\"], [1, \"#276419\"]], \"sequential\": [[0.0, \"#0d0887\"], [0.1111111111111111, \"#46039f\"], [0.2222222222222222, \"#7201a8\"], [0.3333333333333333, \"#9c179e\"], [0.4444444444444444, \"#bd3786\"], [0.5555555555555556, \"#d8576b\"], [0.6666666666666666, \"#ed7953\"], [0.7777777777777778, \"#fb9f3a\"], [0.8888888888888888, \"#fdca26\"], [1.0, \"#f0f921\"]], \"sequentialminus\": [[0.0, \"#0d0887\"], [0.1111111111111111, \"#46039f\"], [0.2222222222222222, \"#7201a8\"], [0.3333333333333333, \"#9c179e\"], [0.4444444444444444, \"#bd3786\"], [0.5555555555555556, \"#d8576b\"], [0.6666666666666666, \"#ed7953\"], [0.7777777777777778, \"#fb9f3a\"], [0.8888888888888888, \"#fdca26\"], [1.0, \"#f0f921\"]]}, \"colorway\": [\"#636efa\", \"#EF553B\", \"#00cc96\", \"#ab63fa\", \"#FFA15A\", \"#19d3f3\", \"#FF6692\", \"#B6E880\", \"#FF97FF\", \"#FECB52\"], \"font\": {\"color\": \"#2a3f5f\"}, \"geo\": {\"bgcolor\": \"white\", \"lakecolor\": \"white\", \"landcolor\": \"#E5ECF6\", \"showlakes\": true, \"showland\": true, \"subunitcolor\": \"white\"}, \"hoverlabel\": {\"align\": \"left\"}, \"hovermode\": \"closest\", \"mapbox\": {\"style\": \"light\"}, \"paper_bgcolor\": \"white\", \"plot_bgcolor\": \"#E5ECF6\", \"polar\": {\"angularaxis\": {\"gridcolor\": \"white\", \"linecolor\": \"white\", \"ticks\": \"\"}, \"bgcolor\": \"#E5ECF6\", \"radialaxis\": {\"gridcolor\": \"white\", \"linecolor\": \"white\", \"ticks\": \"\"}}, \"scene\": {\"xaxis\": {\"backgroundcolor\": \"#E5ECF6\", \"gridcolor\": \"white\", \"gridwidth\": 2, \"linecolor\": \"white\", \"showbackground\": true, \"ticks\": \"\", \"zerolinecolor\": \"white\"}, \"yaxis\": {\"backgroundcolor\": \"#E5ECF6\", \"gridcolor\": \"white\", \"gridwidth\": 2, \"linecolor\": \"white\", \"showbackground\": true, \"ticks\": \"\", \"zerolinecolor\": \"white\"}, \"zaxis\": {\"backgroundcolor\": \"#E5ECF6\", \"gridcolor\": \"white\", \"gridwidth\": 2, \"linecolor\": \"white\", \"showbackground\": true, \"ticks\": \"\", \"zerolinecolor\": \"white\"}}, \"shapedefaults\": {\"line\": {\"color\": \"#2a3f5f\"}}, \"ternary\": {\"aaxis\": {\"gridcolor\": \"white\", \"linecolor\": \"white\", \"ticks\": \"\"}, \"baxis\": {\"gridcolor\": \"white\", \"linecolor\": \"white\", \"ticks\": \"\"}, \"bgcolor\": \"#E5ECF6\", \"caxis\": {\"gridcolor\": \"white\", \"linecolor\": \"white\", \"ticks\": \"\"}}, \"title\": {\"x\": 0.05}, \"xaxis\": {\"automargin\": true, \"gridcolor\": \"white\", \"linecolor\": \"white\", \"ticks\": \"\", \"title\": {\"standoff\": 15}, \"zerolinecolor\": \"white\", \"zerolinewidth\": 2}, \"yaxis\": {\"automargin\": true, \"gridcolor\": \"white\", \"linecolor\": \"white\", \"ticks\": \"\", \"title\": {\"standoff\": 15}, \"zerolinecolor\": \"white\", \"zerolinewidth\": 2}}}, \"title\": {\"text\": \"ETHUSDT Price and cross-points\", \"x\": 0.5, \"xanchor\": \"center\", \"y\": 0.9, \"yanchor\": \"top\"}, \"yaxis\": {\"title\": {\"text\": \"USDT\"}}},                        {\"responsive\": true}                    ).then(function(){\n",
       "                            \n",
       "var gd = document.getElementById('400a3056-43b3-4fd2-8464-75e8fa7c6fa1');\n",
       "var x = new MutationObserver(function (mutations, observer) {{\n",
       "        var display = window.getComputedStyle(gd).display;\n",
       "        if (!display || display === 'none') {{\n",
       "            console.log([gd, 'removed!']);\n",
       "            Plotly.purge(gd);\n",
       "            observer.disconnect();\n",
       "        }}\n",
       "}});\n",
       "\n",
       "// Listen for the removal of the full notebook cells\n",
       "var notebookContainer = gd.closest('#notebook-container');\n",
       "if (notebookContainer) {{\n",
       "    x.observe(notebookContainer, {childList: true});\n",
       "}}\n",
       "\n",
       "// Listen for the clearing of the current output cell\n",
       "var outputEl = gd.closest('.output');\n",
       "if (outputEl) {{\n",
       "    x.observe(outputEl, {childList: true});\n",
       "}}\n",
       "\n",
       "                        })                };                });            </script>        </div>"
      ]
     },
     "metadata": {},
     "output_type": "display_data"
    }
   ],
   "source": [
    "## Plotly \n",
    "\n",
    "# candlestick plot\n",
    "fig = go.Figure(data=[go.Candlestick(x=df[\"open_time\"],\n",
    "                open=df['open'],\n",
    "                high=df['high'],\n",
    "                low=df['low'],\n",
    "                close=df['close'])])\n",
    "\n",
    "fig.update_layout(\n",
    "    yaxis_title=\"USDT\",\n",
    "    title={\n",
    "        'text': symbol + \" Price and cross-points\",\n",
    "        'y':0.9,\n",
    "        'x':0.5,\n",
    "        'xanchor': 'center',\n",
    "        'yanchor': 'top'})\n",
    "\n",
    "# MA plot\n",
    "fig.add_trace(\n",
    "    go.Scatter(\n",
    "        x = df[\"open_time\"],\n",
    "        y = df[f\"MA_{window}\"],\n",
    "        name = \"Moving average\",\n",
    "        mode=\"lines\",\n",
    "        line=go.scatter.Line(color=\"black\", dash=\"dash\"),\n",
    "        showlegend=True)\n",
    ")\n",
    "\n",
    "\n",
    "# Upper bound\n",
    "fig.add_trace(\n",
    "    go.Scatter(\n",
    "        x= df[\"open_time\"],\n",
    "        y= df[f\"MA_{window}\"] + std_times * df[f\"STD_{window}\"],\n",
    "        name = \"Upper bound\",\n",
    "        mode=\"lines\",\n",
    "        line=go.scatter.Line(color=\"lightgreen\"),\n",
    "        showlegend=True)\n",
    ")\n",
    "\n",
    "# Lower bound\n",
    "fig.add_trace(\n",
    "    go.Scatter(\n",
    "        x = df[\"open_time\"],\n",
    "        y = df[f\"MA_{window}\"] - std_times * df[f\"STD_{window}\"],\n",
    "        name = \"Lower bound\",\n",
    "        mode=\"lines\",\n",
    "        line=go.scatter.Line(color=\"firebrick\"),\n",
    "        showlegend=True)\n",
    ")\n",
    "\n",
    "\n",
    "## Plot crossing points\n",
    "\n",
    "low_value = int(df[['open','high','low','close']].min().min() - 10)\n",
    "\n",
    "fig.add_trace(go.Scatter(\n",
    "    x = df.loc[df['above_bound'], \"open_time\"],\n",
    "    y = np.repeat(low_value, len(df.loc[df['above_bound'], \"open_time\"])),\n",
    "    marker=dict(color=\"green\", size=4),\n",
    "    mode=\"markers\",\n",
    "    name = 'above_boundary'\n",
    "))\n",
    "\n",
    "\n",
    "fig.add_trace(go.Scatter(\n",
    "    x = df.loc[df['below_bound'], \"open_time\"],\n",
    "    y = np.repeat(low_value, len(df.loc[df['below_bound'], \"open_time\"])),\n",
    "    marker=dict(color=\"crimson\", size=4),\n",
    "    mode=\"markers\",\n",
    "    name = 'below_boundary'\n",
    "))\n",
    "\n",
    "\n",
    "fig.show()"
   ]
  },
  {
   "cell_type": "code",
   "execution_count": 54,
   "id": "demonstrated-construction",
   "metadata": {},
   "outputs": [
    {
     "data": {
      "text/html": [
       "<div>\n",
       "<style scoped>\n",
       "    .dataframe tbody tr th:only-of-type {\n",
       "        vertical-align: middle;\n",
       "    }\n",
       "\n",
       "    .dataframe tbody tr th {\n",
       "        vertical-align: top;\n",
       "    }\n",
       "\n",
       "    .dataframe thead th {\n",
       "        text-align: right;\n",
       "    }\n",
       "</style>\n",
       "<table border=\"1\" class=\"dataframe\">\n",
       "  <thead>\n",
       "    <tr style=\"text-align: right;\">\n",
       "      <th></th>\n",
       "      <th>author_id</th>\n",
       "      <th>created_at</th>\n",
       "      <th>tweet_id</th>\n",
       "      <th>text</th>\n",
       "      <th>like_count</th>\n",
       "      <th>quote_count</th>\n",
       "      <th>reply_count</th>\n",
       "      <th>retweet_count</th>\n",
       "      <th>created_at_date</th>\n",
       "      <th>created_at_date_hour</th>\n",
       "      <th>sentiment</th>\n",
       "      <th>weighted_sentiment_v1</th>\n",
       "      <th>weighted_sentiment_v2</th>\n",
       "      <th>weighted_sentiment_v3</th>\n",
       "      <th>weighted_sentiment_v4</th>\n",
       "      <th>weighted_sentiment_v5</th>\n",
       "      <th>weighted_sentiment_v6</th>\n",
       "    </tr>\n",
       "  </thead>\n",
       "  <tbody>\n",
       "    <tr>\n",
       "      <th>0</th>\n",
       "      <td>1141208687001780225</td>\n",
       "      <td>2021-08-30 23:46:47+00:00</td>\n",
       "      <td>1432490010046078977</td>\n",
       "      <td>$nmr\\n🔻 decreased 4.34% in 9.8 hour(s)\\n💵 price - 42.81000000 usdt\\n⏱️ [30 aug] - 23:46:47 utc\\n#nmr #nmrusdt #cryptobot</td>\n",
       "      <td>0</td>\n",
       "      <td>0</td>\n",
       "      <td>0</td>\n",
       "      <td>0</td>\n",
       "      <td>2021-08-30</td>\n",
       "      <td>2021-08-30 23</td>\n",
       "      <td>0.00000</td>\n",
       "      <td>0.00000</td>\n",
       "      <td>0.00000</td>\n",
       "      <td>0.00000</td>\n",
       "      <td>0.00000</td>\n",
       "      <td>0.00000</td>\n",
       "      <td>0.00000</td>\n",
       "    </tr>\n",
       "    <tr>\n",
       "      <th>1</th>\n",
       "      <td>1150271775273619456</td>\n",
       "      <td>2021-08-30 23:41:40+00:00</td>\n",
       "      <td>1432488721979527169</td>\n",
       "      <td>$bnt $crv $nmr $ogn $rep $req $cvc $mln keep an eye out for these coins exploding soon as i have a feeling 🙏🏽</td>\n",
       "      <td>3</td>\n",
       "      <td>0</td>\n",
       "      <td>1</td>\n",
       "      <td>0</td>\n",
       "      <td>2021-08-30</td>\n",
       "      <td>2021-08-30 23</td>\n",
       "      <td>0.12800</td>\n",
       "      <td>0.38400</td>\n",
       "      <td>0.00000</td>\n",
       "      <td>0.12800</td>\n",
       "      <td>0.00000</td>\n",
       "      <td>0.38400</td>\n",
       "      <td>0.51200</td>\n",
       "    </tr>\n",
       "  </tbody>\n",
       "</table>\n",
       "</div>"
      ],
      "text/plain": [
       "             author_id                 created_at             tweet_id  \\\n",
       "0  1141208687001780225  2021-08-30 23:46:47+00:00  1432490010046078977   \n",
       "1  1150271775273619456  2021-08-30 23:41:40+00:00  1432488721979527169   \n",
       "\n",
       "                                                                                                                       text  \\\n",
       "0  $nmr\\n🔻 decreased 4.34% in 9.8 hour(s)\\n💵 price - 42.81000000 usdt\\n⏱️ [30 aug] - 23:46:47 utc\\n#nmr #nmrusdt #cryptobot   \n",
       "1             $bnt $crv $nmr $ogn $rep $req $cvc $mln keep an eye out for these coins exploding soon as i have a feeling 🙏🏽   \n",
       "\n",
       "   like_count  quote_count  reply_count  retweet_count created_at_date  \\\n",
       "0           0            0            0              0      2021-08-30   \n",
       "1           3            0            1              0      2021-08-30   \n",
       "\n",
       "  created_at_date_hour  sentiment  weighted_sentiment_v1  \\\n",
       "0        2021-08-30 23    0.00000                0.00000   \n",
       "1        2021-08-30 23    0.12800                0.38400   \n",
       "\n",
       "   weighted_sentiment_v2  weighted_sentiment_v3  weighted_sentiment_v4  \\\n",
       "0                0.00000                0.00000                0.00000   \n",
       "1                0.00000                0.12800                0.00000   \n",
       "\n",
       "   weighted_sentiment_v5  weighted_sentiment_v6  \n",
       "0                0.00000                0.00000  \n",
       "1                0.38400                0.51200  "
      ]
     },
     "execution_count": 54,
     "metadata": {},
     "output_type": "execute_result"
    }
   ],
   "source": [
    "# Check raw tweets dataset\n",
    "tweets_df.head(2)"
   ]
  },
  {
   "cell_type": "markdown",
   "id": "iraqi-pharmacology",
   "metadata": {},
   "source": [
    "## Correlation for all days"
   ]
  },
  {
   "cell_type": "code",
   "execution_count": 55,
   "id": "german-position",
   "metadata": {},
   "outputs": [
    {
     "data": {
      "text/html": [
       "<div>\n",
       "<style scoped>\n",
       "    .dataframe tbody tr th:only-of-type {\n",
       "        vertical-align: middle;\n",
       "    }\n",
       "\n",
       "    .dataframe tbody tr th {\n",
       "        vertical-align: top;\n",
       "    }\n",
       "\n",
       "    .dataframe thead th {\n",
       "        text-align: right;\n",
       "    }\n",
       "</style>\n",
       "<table border=\"1\" class=\"dataframe\">\n",
       "  <thead>\n",
       "    <tr style=\"text-align: right;\">\n",
       "      <th></th>\n",
       "      <th>open_time</th>\n",
       "      <th>close_time</th>\n",
       "      <th>open</th>\n",
       "      <th>high</th>\n",
       "      <th>low</th>\n",
       "      <th>close</th>\n",
       "      <th>volume</th>\n",
       "      <th>num_trades</th>\n",
       "      <th>MA_10</th>\n",
       "      <th>STD_10</th>\n",
       "      <th>Price_Change</th>\n",
       "      <th>Price_Change%</th>\n",
       "      <th>Change</th>\n",
       "      <th>upper_bound</th>\n",
       "      <th>lower_bound</th>\n",
       "      <th>above_bound</th>\n",
       "      <th>below_bound</th>\n",
       "      <th>cross_bounds</th>\n",
       "      <th>open_time_date</th>\n",
       "      <th>created_at_date</th>\n",
       "      <th>sentiment_mean</th>\n",
       "      <th>sentiment_median</th>\n",
       "      <th>weighted_sentiment_v1_mean</th>\n",
       "      <th>weighted_sentiment_v1_median</th>\n",
       "      <th>weighted_sentiment_v2_mean</th>\n",
       "      <th>weighted_sentiment_v2_median</th>\n",
       "      <th>weighted_sentiment_v3_mean</th>\n",
       "      <th>weighted_sentiment_v3_median</th>\n",
       "      <th>weighted_sentiment_v4_mean</th>\n",
       "      <th>weighted_sentiment_v4_median</th>\n",
       "      <th>weighted_sentiment_v5_mean</th>\n",
       "      <th>weighted_sentiment_v5_median</th>\n",
       "      <th>weighted_sentiment_v6_mean</th>\n",
       "      <th>weighted_sentiment_v6_median</th>\n",
       "    </tr>\n",
       "  </thead>\n",
       "  <tbody>\n",
       "    <tr>\n",
       "      <th>0</th>\n",
       "      <td>2020-08-19 00:00:00.000</td>\n",
       "      <td>2020-08-19 23:59:59.999</td>\n",
       "      <td>50.42000</td>\n",
       "      <td>50.42000</td>\n",
       "      <td>37.77000</td>\n",
       "      <td>42.07900</td>\n",
       "      <td>11838.17200</td>\n",
       "      <td>4880</td>\n",
       "      <td>NaN</td>\n",
       "      <td>NaN</td>\n",
       "      <td>NaN</td>\n",
       "      <td>NaN</td>\n",
       "      <td>NaN</td>\n",
       "      <td>NaN</td>\n",
       "      <td>NaN</td>\n",
       "      <td>False</td>\n",
       "      <td>False</td>\n",
       "      <td>neutral</td>\n",
       "      <td>2020-08-19</td>\n",
       "      <td>2020-08-19</td>\n",
       "      <td>0.24123</td>\n",
       "      <td>0.22630</td>\n",
       "      <td>0.47087</td>\n",
       "      <td>-0.00000</td>\n",
       "      <td>0.01095</td>\n",
       "      <td>0.00000</td>\n",
       "      <td>0.04135</td>\n",
       "      <td>-0.00000</td>\n",
       "      <td>0.18550</td>\n",
       "      <td>-0.00000</td>\n",
       "      <td>0.65636</td>\n",
       "      <td>-0.00000</td>\n",
       "      <td>0.70867</td>\n",
       "      <td>-0.00000</td>\n",
       "    </tr>\n",
       "    <tr>\n",
       "      <th>1</th>\n",
       "      <td>2020-08-20 00:00:00.000</td>\n",
       "      <td>2020-08-20 23:59:59.999</td>\n",
       "      <td>42.28100</td>\n",
       "      <td>53.88000</td>\n",
       "      <td>39.54200</td>\n",
       "      <td>46.93000</td>\n",
       "      <td>62972.51400</td>\n",
       "      <td>18560</td>\n",
       "      <td>NaN</td>\n",
       "      <td>NaN</td>\n",
       "      <td>4.85000</td>\n",
       "      <td>11.53000</td>\n",
       "      <td>Increase</td>\n",
       "      <td>NaN</td>\n",
       "      <td>NaN</td>\n",
       "      <td>False</td>\n",
       "      <td>False</td>\n",
       "      <td>neutral</td>\n",
       "      <td>2020-08-20</td>\n",
       "      <td>2020-08-20</td>\n",
       "      <td>0.23878</td>\n",
       "      <td>0.38180</td>\n",
       "      <td>0.68132</td>\n",
       "      <td>0.00000</td>\n",
       "      <td>0.05805</td>\n",
       "      <td>0.00000</td>\n",
       "      <td>0.08243</td>\n",
       "      <td>0.00000</td>\n",
       "      <td>0.14152</td>\n",
       "      <td>0.00000</td>\n",
       "      <td>0.82284</td>\n",
       "      <td>0.00000</td>\n",
       "      <td>0.96332</td>\n",
       "      <td>0.00000</td>\n",
       "    </tr>\n",
       "    <tr>\n",
       "      <th>2</th>\n",
       "      <td>2020-08-21 00:00:00.000</td>\n",
       "      <td>2020-08-21 23:59:59.999</td>\n",
       "      <td>46.95200</td>\n",
       "      <td>52.10000</td>\n",
       "      <td>41.35200</td>\n",
       "      <td>41.89600</td>\n",
       "      <td>47528.20400</td>\n",
       "      <td>19241</td>\n",
       "      <td>NaN</td>\n",
       "      <td>NaN</td>\n",
       "      <td>-5.03000</td>\n",
       "      <td>-10.73000</td>\n",
       "      <td>Decrease</td>\n",
       "      <td>NaN</td>\n",
       "      <td>NaN</td>\n",
       "      <td>False</td>\n",
       "      <td>False</td>\n",
       "      <td>neutral</td>\n",
       "      <td>2020-08-21</td>\n",
       "      <td>2020-08-21</td>\n",
       "      <td>0.12301</td>\n",
       "      <td>0.00000</td>\n",
       "      <td>0.65916</td>\n",
       "      <td>0.00000</td>\n",
       "      <td>0.01934</td>\n",
       "      <td>0.00000</td>\n",
       "      <td>0.02691</td>\n",
       "      <td>0.00000</td>\n",
       "      <td>0.21391</td>\n",
       "      <td>0.00000</td>\n",
       "      <td>0.87307</td>\n",
       "      <td>0.00000</td>\n",
       "      <td>0.91932</td>\n",
       "      <td>0.00000</td>\n",
       "    </tr>\n",
       "    <tr>\n",
       "      <th>3</th>\n",
       "      <td>2020-08-22 00:00:00.000</td>\n",
       "      <td>2020-08-22 23:59:59.999</td>\n",
       "      <td>42.18100</td>\n",
       "      <td>51.00000</td>\n",
       "      <td>41.07200</td>\n",
       "      <td>47.97800</td>\n",
       "      <td>19932.14700</td>\n",
       "      <td>8238</td>\n",
       "      <td>NaN</td>\n",
       "      <td>NaN</td>\n",
       "      <td>6.08000</td>\n",
       "      <td>14.52000</td>\n",
       "      <td>Increase</td>\n",
       "      <td>NaN</td>\n",
       "      <td>NaN</td>\n",
       "      <td>False</td>\n",
       "      <td>False</td>\n",
       "      <td>neutral</td>\n",
       "      <td>2020-08-22</td>\n",
       "      <td>2020-08-22</td>\n",
       "      <td>0.18288</td>\n",
       "      <td>0.27320</td>\n",
       "      <td>0.05590</td>\n",
       "      <td>0.00000</td>\n",
       "      <td>0.00000</td>\n",
       "      <td>0.00000</td>\n",
       "      <td>0.00907</td>\n",
       "      <td>0.00000</td>\n",
       "      <td>-0.00022</td>\n",
       "      <td>0.00000</td>\n",
       "      <td>0.05569</td>\n",
       "      <td>0.00000</td>\n",
       "      <td>0.06475</td>\n",
       "      <td>0.00000</td>\n",
       "    </tr>\n",
       "    <tr>\n",
       "      <th>4</th>\n",
       "      <td>2020-08-23 00:00:00.000</td>\n",
       "      <td>2020-08-23 23:59:59.999</td>\n",
       "      <td>48.04800</td>\n",
       "      <td>48.05700</td>\n",
       "      <td>42.82800</td>\n",
       "      <td>43.59100</td>\n",
       "      <td>17284.85500</td>\n",
       "      <td>6039</td>\n",
       "      <td>NaN</td>\n",
       "      <td>NaN</td>\n",
       "      <td>-4.39000</td>\n",
       "      <td>-9.14000</td>\n",
       "      <td>Decrease</td>\n",
       "      <td>NaN</td>\n",
       "      <td>NaN</td>\n",
       "      <td>False</td>\n",
       "      <td>False</td>\n",
       "      <td>neutral</td>\n",
       "      <td>2020-08-23</td>\n",
       "      <td>2020-08-23</td>\n",
       "      <td>0.22002</td>\n",
       "      <td>0.38180</td>\n",
       "      <td>3.90999</td>\n",
       "      <td>0.00000</td>\n",
       "      <td>0.06666</td>\n",
       "      <td>0.00000</td>\n",
       "      <td>0.46834</td>\n",
       "      <td>0.00000</td>\n",
       "      <td>0.86987</td>\n",
       "      <td>0.00000</td>\n",
       "      <td>4.77986</td>\n",
       "      <td>0.00000</td>\n",
       "      <td>5.31485</td>\n",
       "      <td>0.00000</td>\n",
       "    </tr>\n",
       "  </tbody>\n",
       "</table>\n",
       "</div>"
      ],
      "text/plain": [
       "                 open_time               close_time     open     high  \\\n",
       "0  2020-08-19 00:00:00.000  2020-08-19 23:59:59.999 50.42000 50.42000   \n",
       "1  2020-08-20 00:00:00.000  2020-08-20 23:59:59.999 42.28100 53.88000   \n",
       "2  2020-08-21 00:00:00.000  2020-08-21 23:59:59.999 46.95200 52.10000   \n",
       "3  2020-08-22 00:00:00.000  2020-08-22 23:59:59.999 42.18100 51.00000   \n",
       "4  2020-08-23 00:00:00.000  2020-08-23 23:59:59.999 48.04800 48.05700   \n",
       "\n",
       "       low    close      volume  num_trades  MA_10  STD_10  Price_Change  \\\n",
       "0 37.77000 42.07900 11838.17200        4880    NaN     NaN           NaN   \n",
       "1 39.54200 46.93000 62972.51400       18560    NaN     NaN       4.85000   \n",
       "2 41.35200 41.89600 47528.20400       19241    NaN     NaN      -5.03000   \n",
       "3 41.07200 47.97800 19932.14700        8238    NaN     NaN       6.08000   \n",
       "4 42.82800 43.59100 17284.85500        6039    NaN     NaN      -4.39000   \n",
       "\n",
       "   Price_Change%    Change  upper_bound  lower_bound  above_bound  \\\n",
       "0            NaN       NaN          NaN          NaN        False   \n",
       "1       11.53000  Increase          NaN          NaN        False   \n",
       "2      -10.73000  Decrease          NaN          NaN        False   \n",
       "3       14.52000  Increase          NaN          NaN        False   \n",
       "4       -9.14000  Decrease          NaN          NaN        False   \n",
       "\n",
       "   below_bound cross_bounds open_time_date created_at_date  sentiment_mean  \\\n",
       "0        False      neutral     2020-08-19      2020-08-19         0.24123   \n",
       "1        False      neutral     2020-08-20      2020-08-20         0.23878   \n",
       "2        False      neutral     2020-08-21      2020-08-21         0.12301   \n",
       "3        False      neutral     2020-08-22      2020-08-22         0.18288   \n",
       "4        False      neutral     2020-08-23      2020-08-23         0.22002   \n",
       "\n",
       "   sentiment_median  weighted_sentiment_v1_mean  weighted_sentiment_v1_median  \\\n",
       "0           0.22630                     0.47087                      -0.00000   \n",
       "1           0.38180                     0.68132                       0.00000   \n",
       "2           0.00000                     0.65916                       0.00000   \n",
       "3           0.27320                     0.05590                       0.00000   \n",
       "4           0.38180                     3.90999                       0.00000   \n",
       "\n",
       "   weighted_sentiment_v2_mean  weighted_sentiment_v2_median  \\\n",
       "0                     0.01095                       0.00000   \n",
       "1                     0.05805                       0.00000   \n",
       "2                     0.01934                       0.00000   \n",
       "3                     0.00000                       0.00000   \n",
       "4                     0.06666                       0.00000   \n",
       "\n",
       "   weighted_sentiment_v3_mean  weighted_sentiment_v3_median  \\\n",
       "0                     0.04135                      -0.00000   \n",
       "1                     0.08243                       0.00000   \n",
       "2                     0.02691                       0.00000   \n",
       "3                     0.00907                       0.00000   \n",
       "4                     0.46834                       0.00000   \n",
       "\n",
       "   weighted_sentiment_v4_mean  weighted_sentiment_v4_median  \\\n",
       "0                     0.18550                      -0.00000   \n",
       "1                     0.14152                       0.00000   \n",
       "2                     0.21391                       0.00000   \n",
       "3                    -0.00022                       0.00000   \n",
       "4                     0.86987                       0.00000   \n",
       "\n",
       "   weighted_sentiment_v5_mean  weighted_sentiment_v5_median  \\\n",
       "0                     0.65636                      -0.00000   \n",
       "1                     0.82284                       0.00000   \n",
       "2                     0.87307                       0.00000   \n",
       "3                     0.05569                       0.00000   \n",
       "4                     4.77986                       0.00000   \n",
       "\n",
       "   weighted_sentiment_v6_mean  weighted_sentiment_v6_median  \n",
       "0                     0.70867                      -0.00000  \n",
       "1                     0.96332                       0.00000  \n",
       "2                     0.91932                       0.00000  \n",
       "3                     0.06475                       0.00000  \n",
       "4                     5.31485                       0.00000  "
      ]
     },
     "execution_count": 55,
     "metadata": {},
     "output_type": "execute_result"
    }
   ],
   "source": [
    "# Check final dataset (price and aggregated sentiment, per day)\n",
    "df.head()"
   ]
  },
  {
   "cell_type": "code",
   "execution_count": 72,
   "id": "legitimate-metabolism",
   "metadata": {},
   "outputs": [
    {
     "data": {
      "application/vnd.plotly.v1+json": {
       "config": {
        "plotlyServerURL": "https://plot.ly"
       },
       "data": [
        {
         "hovertemplate": "<b>%{hovertext}</b><br><br>cross_bounds=neutral<br>Price_Change=%{x}<br>weighted_sentiment_v5_mean=%{y}<extra></extra>",
         "hovertext": [
          "2020-08-19T00:00:00",
          "2020-08-20T00:00:00",
          "2020-08-21T00:00:00",
          "2020-08-22T00:00:00",
          "2020-08-23T00:00:00",
          "2020-08-24T00:00:00",
          "2020-08-25T00:00:00",
          "2020-08-26T00:00:00",
          "2020-08-27T00:00:00",
          "2020-08-29T00:00:00",
          "2020-08-30T00:00:00",
          "2020-08-31T00:00:00",
          "2020-09-01T00:00:00",
          "2020-09-02T00:00:00",
          "2020-09-03T00:00:00",
          "2020-09-04T00:00:00",
          "2020-09-05T00:00:00",
          "2020-09-06T00:00:00",
          "2020-09-07T00:00:00",
          "2020-09-08T00:00:00",
          "2020-09-09T00:00:00",
          "2020-09-10T00:00:00",
          "2020-09-11T00:00:00",
          "2020-09-12T00:00:00",
          "2020-09-13T00:00:00",
          "2020-09-14T00:00:00",
          "2020-09-15T00:00:00",
          "2020-09-16T00:00:00",
          "2020-09-17T00:00:00",
          "2020-09-18T00:00:00",
          "2020-09-19T00:00:00",
          "2020-09-20T00:00:00",
          "2020-09-21T00:00:00",
          "2020-09-22T00:00:00",
          "2020-09-23T00:00:00",
          "2020-09-24T00:00:00",
          "2020-09-25T00:00:00",
          "2020-09-26T00:00:00",
          "2020-09-27T00:00:00",
          "2020-09-28T00:00:00",
          "2020-09-29T00:00:00",
          "2020-09-30T00:00:00",
          "2020-10-01T00:00:00",
          "2020-10-02T00:00:00",
          "2020-10-03T00:00:00",
          "2020-10-04T00:00:00",
          "2020-10-05T00:00:00",
          "2020-10-06T00:00:00",
          "2020-10-07T00:00:00",
          "2020-10-08T00:00:00",
          "2020-10-09T00:00:00",
          "2020-10-10T00:00:00",
          "2020-10-11T00:00:00",
          "2020-10-13T00:00:00",
          "2020-10-14T00:00:00",
          "2020-10-15T00:00:00",
          "2020-10-16T00:00:00",
          "2020-10-17T00:00:00",
          "2020-10-18T00:00:00",
          "2020-10-19T00:00:00",
          "2020-10-20T00:00:00",
          "2020-10-21T00:00:00",
          "2020-10-22T00:00:00",
          "2020-10-23T00:00:00",
          "2020-10-24T00:00:00",
          "2020-10-25T00:00:00",
          "2020-10-26T00:00:00",
          "2020-10-27T00:00:00",
          "2020-10-28T00:00:00",
          "2020-10-29T00:00:00",
          "2020-10-30T00:00:00",
          "2020-10-31T00:00:00",
          "2020-11-01T00:00:00",
          "2020-11-02T00:00:00",
          "2020-11-04T00:00:00",
          "2020-11-05T00:00:00",
          "2020-11-06T00:00:00",
          "2020-11-07T00:00:00",
          "2020-11-08T00:00:00",
          "2020-11-09T00:00:00",
          "2020-11-10T00:00:00",
          "2020-11-11T00:00:00",
          "2020-11-12T00:00:00",
          "2020-11-13T00:00:00",
          "2020-11-14T00:00:00",
          "2020-11-15T00:00:00",
          "2020-11-16T00:00:00",
          "2020-11-19T00:00:00",
          "2020-11-20T00:00:00",
          "2020-11-24T00:00:00",
          "2020-11-25T00:00:00",
          "2020-11-26T00:00:00",
          "2020-11-27T00:00:00",
          "2020-11-28T00:00:00",
          "2020-11-29T00:00:00",
          "2020-11-30T00:00:00",
          "2020-12-01T00:00:00",
          "2020-12-02T00:00:00",
          "2020-12-03T00:00:00",
          "2020-12-04T00:00:00",
          "2020-12-05T00:00:00",
          "2020-12-06T00:00:00",
          "2020-12-07T00:00:00",
          "2020-12-08T00:00:00",
          "2020-12-09T00:00:00",
          "2020-12-10T00:00:00",
          "2020-12-11T00:00:00",
          "2020-12-12T00:00:00",
          "2020-12-13T00:00:00",
          "2020-12-14T00:00:00",
          "2020-12-15T00:00:00",
          "2020-12-16T00:00:00",
          "2020-12-17T00:00:00",
          "2020-12-18T00:00:00",
          "2020-12-20T00:00:00",
          "2020-12-21T00:00:00",
          "2020-12-22T00:00:00",
          "2020-12-23T00:00:00",
          "2020-12-24T00:00:00",
          "2020-12-25T00:00:00",
          "2020-12-26T00:00:00",
          "2020-12-27T00:00:00",
          "2020-12-28T00:00:00",
          "2020-12-29T00:00:00",
          "2020-12-30T00:00:00",
          "2020-12-31T00:00:00",
          "2021-01-01T00:00:00",
          "2021-01-02T00:00:00",
          "2021-01-03T00:00:00",
          "2021-01-04T00:00:00",
          "2021-01-06T00:00:00",
          "2021-01-07T00:00:00",
          "2021-01-08T00:00:00",
          "2021-01-09T00:00:00",
          "2021-01-10T00:00:00",
          "2021-01-11T00:00:00",
          "2021-01-13T00:00:00",
          "2021-01-14T00:00:00",
          "2021-01-15T00:00:00",
          "2021-01-16T00:00:00",
          "2021-01-17T00:00:00",
          "2021-01-20T00:00:00",
          "2021-01-21T00:00:00",
          "2021-01-22T00:00:00",
          "2021-01-23T00:00:00",
          "2021-01-24T00:00:00",
          "2021-01-25T00:00:00",
          "2021-01-26T00:00:00",
          "2021-01-27T00:00:00",
          "2021-01-28T00:00:00",
          "2021-01-29T00:00:00",
          "2021-01-30T00:00:00",
          "2021-01-31T00:00:00",
          "2021-02-01T00:00:00",
          "2021-02-02T00:00:00",
          "2021-02-03T00:00:00",
          "2021-02-05T00:00:00",
          "2021-02-06T00:00:00",
          "2021-02-07T00:00:00",
          "2021-02-08T00:00:00",
          "2021-02-09T00:00:00",
          "2021-02-11T00:00:00",
          "2021-02-12T00:00:00",
          "2021-02-13T00:00:00",
          "2021-02-14T00:00:00",
          "2021-02-15T00:00:00",
          "2021-02-16T00:00:00",
          "2021-02-17T00:00:00",
          "2021-02-18T00:00:00",
          "2021-02-19T00:00:00",
          "2021-02-21T00:00:00",
          "2021-02-24T00:00:00",
          "2021-02-25T00:00:00",
          "2021-02-28T00:00:00",
          "2021-03-01T00:00:00",
          "2021-03-02T00:00:00",
          "2021-03-03T00:00:00",
          "2021-03-04T00:00:00",
          "2021-03-05T00:00:00",
          "2021-03-06T00:00:00",
          "2021-03-07T00:00:00",
          "2021-03-08T00:00:00",
          "2021-03-09T00:00:00",
          "2021-03-12T00:00:00",
          "2021-03-13T00:00:00",
          "2021-03-14T00:00:00",
          "2021-03-19T00:00:00",
          "2021-03-20T00:00:00",
          "2021-03-21T00:00:00",
          "2021-03-22T00:00:00",
          "2021-03-23T00:00:00",
          "2021-03-24T00:00:00",
          "2021-03-25T00:00:00",
          "2021-03-26T00:00:00",
          "2021-03-27T00:00:00",
          "2021-03-28T00:00:00",
          "2021-03-29T00:00:00",
          "2021-03-30T00:00:00",
          "2021-03-31T00:00:00",
          "2021-04-01T00:00:00",
          "2021-04-02T00:00:00",
          "2021-04-03T00:00:00",
          "2021-04-06T00:00:00",
          "2021-04-07T00:00:00",
          "2021-04-08T00:00:00",
          "2021-04-09T00:00:00",
          "2021-04-10T00:00:00",
          "2021-04-11T00:00:00",
          "2021-04-12T00:00:00",
          "2021-04-13T00:00:00",
          "2021-04-14T00:00:00",
          "2021-04-15T00:00:00",
          "2021-04-16T00:00:00",
          "2021-04-18T00:00:00",
          "2021-04-19T00:00:00",
          "2021-04-20T00:00:00",
          "2021-04-21T00:00:00",
          "2021-04-22T00:00:00",
          "2021-04-23T00:00:00",
          "2021-04-24T00:00:00",
          "2021-04-25T00:00:00",
          "2021-04-26T00:00:00",
          "2021-04-27T00:00:00",
          "2021-04-28T00:00:00",
          "2021-04-29T00:00:00",
          "2021-04-30T00:00:00",
          "2021-05-01T00:00:00",
          "2021-05-02T00:00:00",
          "2021-05-03T00:00:00",
          "2021-05-04T00:00:00",
          "2021-05-05T00:00:00",
          "2021-05-06T00:00:00",
          "2021-05-07T00:00:00",
          "2021-05-08T00:00:00",
          "2021-05-09T00:00:00",
          "2021-05-10T00:00:00",
          "2021-05-12T00:00:00",
          "2021-05-13T00:00:00",
          "2021-05-14T00:00:00",
          "2021-05-15T00:00:00",
          "2021-05-18T00:00:00",
          "2021-05-19T00:00:00",
          "2021-05-20T00:00:00",
          "2021-05-21T00:00:00",
          "2021-05-22T00:00:00",
          "2021-05-23T00:00:00",
          "2021-05-24T00:00:00",
          "2021-05-25T00:00:00",
          "2021-05-26T00:00:00",
          "2021-05-27T00:00:00",
          "2021-05-28T00:00:00",
          "2021-05-31T00:00:00",
          "2021-06-01T00:00:00",
          "2021-06-02T00:00:00",
          "2021-06-03T00:00:00",
          "2021-06-04T00:00:00",
          "2021-06-05T00:00:00",
          "2021-06-06T00:00:00",
          "2021-06-07T00:00:00",
          "2021-06-08T00:00:00",
          "2021-06-09T00:00:00",
          "2021-06-10T00:00:00",
          "2021-06-11T00:00:00",
          "2021-06-12T00:00:00",
          "2021-06-13T00:00:00",
          "2021-06-14T00:00:00",
          "2021-06-15T00:00:00",
          "2021-06-16T00:00:00",
          "2021-06-17T00:00:00",
          "2021-06-18T00:00:00",
          "2021-06-19T00:00:00",
          "2021-06-20T00:00:00",
          "2021-06-21T00:00:00",
          "2021-06-23T00:00:00",
          "2021-06-24T00:00:00",
          "2021-06-25T00:00:00",
          "2021-06-26T00:00:00",
          "2021-06-27T00:00:00",
          "2021-06-28T00:00:00",
          "2021-06-29T00:00:00",
          "2021-07-01T00:00:00",
          "2021-07-02T00:00:00",
          "2021-07-03T00:00:00",
          "2021-07-04T00:00:00",
          "2021-07-05T00:00:00",
          "2021-07-06T00:00:00",
          "2021-07-07T00:00:00",
          "2021-07-08T00:00:00",
          "2021-07-09T00:00:00",
          "2021-07-10T00:00:00",
          "2021-07-11T00:00:00",
          "2021-07-12T00:00:00",
          "2021-07-15T00:00:00",
          "2021-07-16T00:00:00",
          "2021-07-17T00:00:00",
          "2021-07-18T00:00:00",
          "2021-07-19T00:00:00",
          "2021-07-21T00:00:00",
          "2021-07-22T00:00:00",
          "2021-07-23T00:00:00",
          "2021-07-24T00:00:00",
          "2021-07-26T00:00:00",
          "2021-07-27T00:00:00",
          "2021-07-28T00:00:00",
          "2021-07-29T00:00:00",
          "2021-07-30T00:00:00",
          "2021-07-31T00:00:00",
          "2021-08-01T00:00:00",
          "2021-08-02T00:00:00",
          "2021-08-05T00:00:00",
          "2021-08-06T00:00:00",
          "2021-08-13T00:00:00",
          "2021-08-14T00:00:00",
          "2021-08-15T00:00:00",
          "2021-08-16T00:00:00",
          "2021-08-17T00:00:00",
          "2021-08-18T00:00:00",
          "2021-08-19T00:00:00",
          "2021-08-20T00:00:00",
          "2021-08-22T00:00:00",
          "2021-08-23T00:00:00",
          "2021-08-24T00:00:00",
          "2021-08-25T00:00:00",
          "2021-08-26T00:00:00",
          "2021-08-27T00:00:00",
          "2021-08-28T00:00:00",
          "2021-08-29T00:00:00",
          "2021-08-30T00:00:00"
         ],
         "legendgroup": "neutral",
         "marker": {
          "color": "grey",
          "symbol": "circle"
         },
         "mode": "markers",
         "name": "neutral",
         "orientation": "v",
         "showlegend": true,
         "type": "scatter",
         "x": [
          null,
          4.85,
          -5.03,
          6.08,
          -4.39,
          1.14,
          -2.5,
          1.48,
          8.73,
          -2.24,
          -1.1,
          3.89,
          -4.36,
          -1.89,
          -8.29,
          2.03,
          -5.11,
          0.62,
          -0.86,
          -1.74,
          0.31,
          0.51,
          -0.19,
          1.48,
          -2.22,
          -0.29,
          -0.28,
          -2.76,
          -0.16,
          -2.68,
          -0.16,
          4.04,
          -2.07,
          -0.5,
          -1.6,
          2.59,
          -0.56,
          0.35,
          0.2,
          -0.33,
          -0.61,
          0.09,
          -0.18,
          -2.03,
          -0.08,
          0.42,
          -0.16,
          -1.73,
          0.29,
          -0.03,
          1.53,
          -0.02,
          -0.09,
          0.45,
          -1.84,
          -0.45,
          -1.05,
          0.32,
          0.49,
          -0.06,
          -2.65,
          0.13,
          0.22,
          -0.43,
          0.11,
          -0.49,
          0.03,
          -0.82,
          -0.19,
          -1.02,
          0.25,
          -1,
          0.01,
          -0.3,
          -1.66,
          -0.84,
          0.63,
          -1.28,
          0.5,
          0.31,
          0.92,
          0.1,
          -0.95,
          1.08,
          -0.57,
          -0.15,
          0.11,
          -0.26,
          0.46,
          -1.37,
          -3.15,
          -1.62,
          -0.84,
          11.14,
          -2.85,
          -1.91,
          -2.28,
          0.42,
          -0.29,
          -1.42,
          1.39,
          -0.17,
          -0.79,
          -1.98,
          0.14,
          -1.73,
          -0.5,
          0.2,
          2.67,
          -0.56,
          -1.46,
          0.01,
          0.12,
          -0.17,
          -2.21,
          -1.51,
          -0.25,
          -3.13,
          1.78,
          0.16,
          -0.48,
          0,
          0.45,
          -0.52,
          -0.46,
          -0.66,
          0.53,
          -0.3,
          1.48,
          3.88,
          0.34,
          -0.29,
          -1.86,
          1.61,
          -0.59,
          -1.1,
          1.11,
          -0.5,
          -0.54,
          0.97,
          -0.37,
          0.36,
          -2.4,
          0.66,
          1.14,
          -0.58,
          -0.6,
          0.17,
          -1.45,
          0.85,
          -0.22,
          0.24,
          0.52,
          1.06,
          -0.47,
          2.34,
          2.36,
          -2.01,
          1.59,
          0.77,
          2.76,
          0.41,
          0.85,
          5.25,
          -4.64,
          -2.86,
          1.69,
          -0.29,
          -0.82,
          -0.28,
          0.65,
          1.41,
          -1.78,
          -0.97,
          2.31,
          -1.37,
          2.23,
          -3.59,
          0.56,
          -0.53,
          0.34,
          1.91,
          0.43,
          -3.01,
          1.76,
          -1.19,
          -5.08,
          -2.82,
          -1.33,
          -3.37,
          -1.29,
          -2.53,
          -3.94,
          7.89,
          -2.96,
          1.95,
          2.51,
          4.49,
          -0.47,
          1.55,
          0.44,
          -4.08,
          1.22,
          -6.07,
          9.62,
          4.02,
          -4.43,
          0.31,
          3.14,
          -2.74,
          -0.95,
          2.78,
          -0.58,
          -15.42,
          11.2,
          -6.06,
          -7.99,
          -4.53,
          -3.49,
          -4.95,
          -2.19,
          8.56,
          3.48,
          -1.71,
          -1.34,
          5.33,
          -1.03,
          -2.29,
          5.53,
          -6.69,
          3.14,
          0.43,
          -0.67,
          -2.09,
          0.96,
          -7.26,
          -7.08,
          -2.52,
          2.5,
          -3.89,
          -4.84,
          -21.45,
          8.12,
          -8.24,
          -2.48,
          -3.58,
          5.99,
          2.19,
          10.67,
          -5.46,
          -7.18,
          -0.48,
          -2.97,
          0.1,
          0.84,
          -3.01,
          1.59,
          -0.43,
          -4.74,
          -0.92,
          3.06,
          -4.87,
          -1.69,
          -0.88,
          1.16,
          1.24,
          0.05,
          -2.4,
          0.32,
          -0.01,
          -2.1,
          0.16,
          -6.31,
          1.47,
          -0.13,
          -1.8,
          0.27,
          1.29,
          0.71,
          0.25,
          -2.74,
          -1.66,
          0.13,
          0.39,
          1.21,
          -0.43,
          0.08,
          -2.72,
          1.74,
          -0.74,
          0.14,
          -0.44,
          -1.17,
          2.67,
          -2.29,
          -0.05,
          -1.97,
          1.18,
          0.16,
          1.22,
          0.47,
          -1.19,
          3.33,
          -0.86,
          1.7,
          0.68,
          -0.38,
          0.24,
          -0.09,
          0.26,
          -0.19,
          3.16,
          -1.13,
          0.44,
          -1.47,
          -1.25,
          -0.87,
          2.45,
          1.91,
          1.85,
          0.28,
          -2.21,
          1.69,
          -2.77,
          1.83,
          -0.64,
          0.46,
          -0.25
         ],
         "xaxis": "x",
         "y": [
          0.6563633802816901,
          0.8228418032786885,
          0.8730730769230771,
          0.05568837209302327,
          4.779855769230768,
          0.5520935483870969,
          0.4259,
          0.32929230769230766,
          0.520863829787234,
          0.46172666666666673,
          0.009787179487179507,
          0.48281518987341776,
          0.3018428571428572,
          -0.04331612903225806,
          0.36041379310344834,
          2.2534666666666663,
          0.7613258064516127,
          0.8291162162162162,
          0.209936,
          0.4400789473684211,
          1.9637296296296296,
          1.16583125,
          3.0091607142857137,
          2.334025641025641,
          0.9891352941176471,
          0.5721892857142857,
          0.18467500000000003,
          0.15629642857142856,
          -0.005169696969696976,
          0.6347387096774194,
          2.783057142857143,
          0.4297038759689923,
          0.28053015873015885,
          0.6493025641025643,
          3.085295,
          1.954630232558139,
          1.6196075,
          0.3146652173913044,
          0.8452363636363636,
          5.603571428571428,
          0.8360500000000001,
          -0.11576666666666666,
          0.4178457142857143,
          -0.2878075,
          0.13825909090909091,
          0.1599206896551724,
          2.1793911764705887,
          2.1403,
          0.40969285714285714,
          0.033876923076923075,
          0.24867812499999997,
          0.15270740740740743,
          0.16272499999999998,
          1.2703314814814817,
          0.7959600000000001,
          0.7699714285714286,
          0.9814326086956523,
          -0.4185,
          1.0095727272727273,
          1.9371899999999997,
          0.5430953488372093,
          0.33707096774193546,
          0.9738571428571429,
          0.8245636363636364,
          0.5055099999999999,
          1.266656,
          0.16993043478260872,
          0.7255764705882355,
          0.4512,
          1.1291100000000003,
          0.2259444444444444,
          0.025788000000000005,
          0.24269047619047618,
          0.2918421052631579,
          0.01658313253012048,
          0.11401785714285714,
          -0.016926666666666663,
          0.04844347826086956,
          0.10705882352941176,
          0.039595652173913046,
          0.7558535714285716,
          0.9106962264150943,
          0.35500869565217386,
          0.11084285714285715,
          1.1236,
          0.10313947368421054,
          0.2849655172413793,
          0.11983529411764705,
          1.1518172413793104,
          0.42452222222222225,
          0.2159,
          0.12098611111111111,
          0.4849628571428572,
          0.35464970760233916,
          0.13493245614035088,
          0.1138685185185185,
          0.3246854166666666,
          0.23639767441860463,
          0.3042918918918919,
          0.198972972972973,
          0.2688148148148148,
          0.30929999999999996,
          0.27390227272727274,
          0.67346875,
          0.9173866666666668,
          0.35421621621621624,
          0.032171875,
          0.17115517241379313,
          0.1355,
          1.085867142857143,
          1.6544474576271186,
          1.4781566037735847,
          0.8375545454545456,
          1.9133904761904763,
          0.15878857142857145,
          2.9214854166666666,
          0.6952312499999999,
          0.0817,
          0.19438500000000003,
          -0.03698,
          0.559902380952381,
          0.135584375,
          0.7060695652173914,
          0.317125,
          0.586716,
          2.51985,
          0.24131249999999999,
          0.5047060606060606,
          1.3825527777777777,
          0.6608605633802815,
          1.2217912280701755,
          0.6488415094339625,
          0.4845549019607844,
          0.9887857142857145,
          0.5062591836734694,
          0.408511320754717,
          0.5009777777777777,
          1.9178444444444442,
          4.1503,
          1.2123090909090906,
          0.7294481481481481,
          2.386688571428571,
          0.363375,
          1.1687296296296295,
          -0.13779523809523808,
          3.1526928571428567,
          0.6410696969696968,
          0.2467166666666667,
          2.420348076923077,
          -0.07069482758620682,
          0.3191238095238096,
          -0.2331391304347827,
          0.10746274509803923,
          0.7718023255813954,
          0.6961511627906977,
          0.6793521126760561,
          0.9763903846153846,
          0.8801166666666667,
          0.7423985915492958,
          0.6946447761194029,
          0.9914692307692305,
          2.412638297872341,
          1.8153461538461537,
          0.4406987179487179,
          0.557912,
          0.4935129411764705,
          0.7096600000000002,
          1.860205,
          1.0291128205128204,
          1.0190313725490194,
          0.3600775,
          1.121292857142857,
          1.3685807692307692,
          4.199105454545455,
          1.657996428571429,
          0.8236562500000001,
          2.3728155555555555,
          1.9531955555555551,
          2.1030243243243247,
          1.9752766666666666,
          1.9695307692307682,
          1.6562509433962265,
          0.7813785714285713,
          1.7481733333333334,
          1.643543478260869,
          1.1136659574468086,
          2.031730666666667,
          0.9346469696969696,
          0.8755874999999997,
          -0.3997326086956521,
          0.929970731707317,
          0.962193103448276,
          0.8187611111111109,
          1.0427098039215688,
          0.9429099999999998,
          0.7146690476190476,
          0.2533247349823323,
          0.3411178571428571,
          1.9127372093023258,
          1.0865357142857142,
          1.5855473684210526,
          0.6865608695652174,
          2.2624984615384616,
          1.3585176470588234,
          1.97243,
          2.5089541176470593,
          0.9253369565217389,
          1.4367528301886792,
          1.7692055555555557,
          1.1819462962962963,
          2.9419672727272723,
          0.6099742424242425,
          0.42694999999999994,
          0.6446585714285712,
          2.1665616666666665,
          0.6069733333333331,
          5.616763513513513,
          2.2274361111111114,
          1.1964510204081633,
          1.5389560000000002,
          0.575362962962963,
          0.7658086956521737,
          0.1557534883720929,
          1.3960371794871798,
          1.217054,
          1.7242377049180329,
          0.8732184210526315,
          0.5425102564102564,
          0.5553400000000001,
          0.47992537313432837,
          1.704571232876712,
          1.9226428571428573,
          1.5741056603773584,
          0.8030472972972973,
          0.23733584905660376,
          0.7144451612903224,
          1.3686105263157895,
          0.2710634146341464,
          2.451621052631579,
          0.41583125,
          1.6312597560975608,
          0.8262175675675674,
          0.7689847457627119,
          0.7292794117647059,
          0.38789583333333333,
          0.5885109589041094,
          0.34609117647058824,
          2.0680515151515153,
          1.117101298701299,
          0.8690794520547946,
          -0.003609756097560926,
          0.0989953488372093,
          1.5337944444444447,
          2.21210909090909,
          -0.3353796610169491,
          0.8178822222222222,
          0.9971252631578946,
          0.7397250000000001,
          0.5791666666666667,
          -0.0014880000000000071,
          1.1539306122448978,
          0.7380828571428572,
          0.13121372549019608,
          0.4956999999999999,
          0.23631470588235295,
          1.007274193548387,
          0.37949999999999995,
          7.321590909090909,
          1.4197479999999998,
          6.3619796610169494,
          0.749184375,
          2.2300151515151514,
          0.49408648648648645,
          1.3383341463414635,
          0.9946410256410255,
          0.5163886363636364,
          0.9931730769230769,
          0.36108437499999996,
          0.5248055555555555,
          1.5129931034482758,
          0.5624253164556963,
          0.39809230769230775,
          -0.45948717948717943,
          0.1849396551724138,
          0.5053981132075471,
          1.19414,
          0.3653155172413793,
          1.1195407407407407,
          1.5730912280701754,
          1.065457777777778,
          0.175756862745098,
          0.686895,
          1.938372580645161,
          1.0538000000000003,
          0.46236249999999995,
          0.27542,
          0.21526086956521737,
          2.021342105263158,
          1.2514295454545454,
          1.179606666666667,
          0.46970625,
          0.4090682926829268,
          2.8117232142857134,
          0.5457190476190477,
          1.022536956521739,
          0.900859523809524,
          0.06522333333333334,
          2.3756066666666666,
          0.7337449999999999,
          2.567482857142857,
          0.8989040000000003,
          1.5802135135135136,
          0.3168037037037037,
          1.3388193548387097,
          0.8476660377358491,
          0.7333666666666669,
          1.3451720930232558,
          0.7934194444444445,
          1.002487931034483,
          1.3825142857142858,
          0.36670571428571436,
          3.808336842105263,
          3.0644675675675668,
          0.23485769230769235,
          0.49974324324324326,
          0.6283899999999998,
          1.4565129032258066,
          2.247278787878788
         ],
         "yaxis": "y"
        },
        {
         "hovertemplate": "<b>%{hovertext}</b><br><br>cross_bounds=above<br>Price_Change=%{x}<br>weighted_sentiment_v5_mean=%{y}<extra></extra>",
         "hovertext": [
          "2020-08-28T00:00:00",
          "2020-10-12T00:00:00",
          "2020-11-03T00:00:00",
          "2020-11-17T00:00:00",
          "2020-11-21T00:00:00",
          "2020-11-22T00:00:00",
          "2020-11-23T00:00:00",
          "2020-12-19T00:00:00",
          "2021-01-05T00:00:00",
          "2021-01-12T00:00:00",
          "2021-01-18T00:00:00",
          "2021-01-19T00:00:00",
          "2021-02-04T00:00:00",
          "2021-02-10T00:00:00",
          "2021-02-22T00:00:00",
          "2021-02-27T00:00:00",
          "2021-03-10T00:00:00",
          "2021-03-11T00:00:00",
          "2021-03-15T00:00:00",
          "2021-03-16T00:00:00",
          "2021-03-17T00:00:00",
          "2021-03-18T00:00:00",
          "2021-04-04T00:00:00",
          "2021-04-05T00:00:00",
          "2021-04-17T00:00:00",
          "2021-05-16T00:00:00",
          "2021-05-17T00:00:00",
          "2021-05-29T00:00:00",
          "2021-05-30T00:00:00",
          "2021-06-30T00:00:00",
          "2021-07-13T00:00:00",
          "2021-07-25T00:00:00",
          "2021-08-03T00:00:00",
          "2021-08-04T00:00:00",
          "2021-08-07T00:00:00",
          "2021-08-08T00:00:00",
          "2021-08-10T00:00:00",
          "2021-08-11T00:00:00",
          "2021-08-12T00:00:00",
          "2021-08-21T00:00:00"
         ],
         "legendgroup": "above",
         "marker": {
          "color": "green",
          "symbol": "circle"
         },
         "mode": "markers",
         "name": "above",
         "orientation": "v",
         "showlegend": true,
         "type": "scatter",
         "x": [
          2.25,
          2.45,
          3.03,
          0.2,
          3.2,
          5.29,
          1.67,
          2.11,
          0.37,
          0.63,
          2.35,
          -1.83,
          2.64,
          4.22,
          3.65,
          0.83,
          -1.33,
          3.66,
          1.96,
          1.36,
          2.86,
          11.47,
          15.77,
          1.86,
          14.59,
          21.82,
          -9.41,
          14.06,
          -1.92,
          6.75,
          0.51,
          2.23,
          -0.6,
          1,
          0.63,
          -1.3,
          0.34,
          1.8,
          -1.79,
          -0.24
         ],
         "xaxis": "x",
         "y": [
          1.0539600760456276,
          1.7592126506024095,
          0.5623051724137929,
          0.6700433333333334,
          0.010724999999999976,
          0.8506335329341318,
          0.6748483870967743,
          0.39618823529411756,
          1.2316824324324323,
          0.3757352272727274,
          1.1978909090909091,
          0.44117777777777767,
          0.48496183206106863,
          0.73330625,
          0.5100522123893805,
          1.0266079545454543,
          1.1068266666666668,
          1.7726750000000002,
          0.9568619047619049,
          0.9509400000000001,
          0.28147681159420285,
          2.0308105000000016,
          1.0957196202531645,
          1.1016335714285714,
          2.20842037037037,
          0.9139807860262007,
          0.5059893401015227,
          4.97103490566038,
          0.33951948051948044,
          1.0377695652173915,
          1.621486335403726,
          0.3428910447761194,
          1.0575376068376066,
          0.9201595238095239,
          0.48502727272727275,
          0.6047868421052631,
          0.13245428571428572,
          1.0786881355932203,
          0.27025641025641023,
          0.6168660000000001
         ],
         "yaxis": "y"
        },
        {
         "hovertemplate": "<b>%{hovertext}</b><br><br>cross_bounds=below<br>Price_Change=%{x}<br>weighted_sentiment_v5_mean=%{y}<extra></extra>",
         "hovertext": [
          "2020-11-18T00:00:00",
          "2021-02-20T00:00:00",
          "2021-02-23T00:00:00",
          "2021-02-26T00:00:00",
          "2021-05-11T00:00:00",
          "2021-06-22T00:00:00",
          "2021-07-14T00:00:00",
          "2021-07-20T00:00:00",
          "2021-08-09T00:00:00"
         ],
         "legendgroup": "below",
         "marker": {
          "color": "red",
          "symbol": "circle"
         },
         "mode": "markers",
         "name": "below",
         "orientation": "v",
         "showlegend": true,
         "type": "scatter",
         "x": [
          -0.57,
          -1.53,
          -7.36,
          3.04,
          5.66,
          -3.09,
          -0.18,
          1.21,
          0.98
         ],
         "xaxis": "x",
         "y": [
          2.902477419354838,
          1.151998113207547,
          1.3669613333333335,
          5.54976907216495,
          -0.008311475409836079,
          0.4737152173913045,
          0.45988860759493666,
          0.6537166666666666,
          3.0238818181818186
         ],
         "yaxis": "y"
        }
       ],
       "layout": {
        "legend": {
         "title": {
          "text": "cross_bounds"
         },
         "tracegroupgap": 0
        },
        "template": {
         "data": {
          "bar": [
           {
            "error_x": {
             "color": "#2a3f5f"
            },
            "error_y": {
             "color": "#2a3f5f"
            },
            "marker": {
             "line": {
              "color": "#E5ECF6",
              "width": 0.5
             }
            },
            "type": "bar"
           }
          ],
          "barpolar": [
           {
            "marker": {
             "line": {
              "color": "#E5ECF6",
              "width": 0.5
             }
            },
            "type": "barpolar"
           }
          ],
          "carpet": [
           {
            "aaxis": {
             "endlinecolor": "#2a3f5f",
             "gridcolor": "white",
             "linecolor": "white",
             "minorgridcolor": "white",
             "startlinecolor": "#2a3f5f"
            },
            "baxis": {
             "endlinecolor": "#2a3f5f",
             "gridcolor": "white",
             "linecolor": "white",
             "minorgridcolor": "white",
             "startlinecolor": "#2a3f5f"
            },
            "type": "carpet"
           }
          ],
          "choropleth": [
           {
            "colorbar": {
             "outlinewidth": 0,
             "ticks": ""
            },
            "type": "choropleth"
           }
          ],
          "contour": [
           {
            "colorbar": {
             "outlinewidth": 0,
             "ticks": ""
            },
            "colorscale": [
             [
              0,
              "#0d0887"
             ],
             [
              0.1111111111111111,
              "#46039f"
             ],
             [
              0.2222222222222222,
              "#7201a8"
             ],
             [
              0.3333333333333333,
              "#9c179e"
             ],
             [
              0.4444444444444444,
              "#bd3786"
             ],
             [
              0.5555555555555556,
              "#d8576b"
             ],
             [
              0.6666666666666666,
              "#ed7953"
             ],
             [
              0.7777777777777778,
              "#fb9f3a"
             ],
             [
              0.8888888888888888,
              "#fdca26"
             ],
             [
              1,
              "#f0f921"
             ]
            ],
            "type": "contour"
           }
          ],
          "contourcarpet": [
           {
            "colorbar": {
             "outlinewidth": 0,
             "ticks": ""
            },
            "type": "contourcarpet"
           }
          ],
          "heatmap": [
           {
            "colorbar": {
             "outlinewidth": 0,
             "ticks": ""
            },
            "colorscale": [
             [
              0,
              "#0d0887"
             ],
             [
              0.1111111111111111,
              "#46039f"
             ],
             [
              0.2222222222222222,
              "#7201a8"
             ],
             [
              0.3333333333333333,
              "#9c179e"
             ],
             [
              0.4444444444444444,
              "#bd3786"
             ],
             [
              0.5555555555555556,
              "#d8576b"
             ],
             [
              0.6666666666666666,
              "#ed7953"
             ],
             [
              0.7777777777777778,
              "#fb9f3a"
             ],
             [
              0.8888888888888888,
              "#fdca26"
             ],
             [
              1,
              "#f0f921"
             ]
            ],
            "type": "heatmap"
           }
          ],
          "heatmapgl": [
           {
            "colorbar": {
             "outlinewidth": 0,
             "ticks": ""
            },
            "colorscale": [
             [
              0,
              "#0d0887"
             ],
             [
              0.1111111111111111,
              "#46039f"
             ],
             [
              0.2222222222222222,
              "#7201a8"
             ],
             [
              0.3333333333333333,
              "#9c179e"
             ],
             [
              0.4444444444444444,
              "#bd3786"
             ],
             [
              0.5555555555555556,
              "#d8576b"
             ],
             [
              0.6666666666666666,
              "#ed7953"
             ],
             [
              0.7777777777777778,
              "#fb9f3a"
             ],
             [
              0.8888888888888888,
              "#fdca26"
             ],
             [
              1,
              "#f0f921"
             ]
            ],
            "type": "heatmapgl"
           }
          ],
          "histogram": [
           {
            "marker": {
             "colorbar": {
              "outlinewidth": 0,
              "ticks": ""
             }
            },
            "type": "histogram"
           }
          ],
          "histogram2d": [
           {
            "colorbar": {
             "outlinewidth": 0,
             "ticks": ""
            },
            "colorscale": [
             [
              0,
              "#0d0887"
             ],
             [
              0.1111111111111111,
              "#46039f"
             ],
             [
              0.2222222222222222,
              "#7201a8"
             ],
             [
              0.3333333333333333,
              "#9c179e"
             ],
             [
              0.4444444444444444,
              "#bd3786"
             ],
             [
              0.5555555555555556,
              "#d8576b"
             ],
             [
              0.6666666666666666,
              "#ed7953"
             ],
             [
              0.7777777777777778,
              "#fb9f3a"
             ],
             [
              0.8888888888888888,
              "#fdca26"
             ],
             [
              1,
              "#f0f921"
             ]
            ],
            "type": "histogram2d"
           }
          ],
          "histogram2dcontour": [
           {
            "colorbar": {
             "outlinewidth": 0,
             "ticks": ""
            },
            "colorscale": [
             [
              0,
              "#0d0887"
             ],
             [
              0.1111111111111111,
              "#46039f"
             ],
             [
              0.2222222222222222,
              "#7201a8"
             ],
             [
              0.3333333333333333,
              "#9c179e"
             ],
             [
              0.4444444444444444,
              "#bd3786"
             ],
             [
              0.5555555555555556,
              "#d8576b"
             ],
             [
              0.6666666666666666,
              "#ed7953"
             ],
             [
              0.7777777777777778,
              "#fb9f3a"
             ],
             [
              0.8888888888888888,
              "#fdca26"
             ],
             [
              1,
              "#f0f921"
             ]
            ],
            "type": "histogram2dcontour"
           }
          ],
          "mesh3d": [
           {
            "colorbar": {
             "outlinewidth": 0,
             "ticks": ""
            },
            "type": "mesh3d"
           }
          ],
          "parcoords": [
           {
            "line": {
             "colorbar": {
              "outlinewidth": 0,
              "ticks": ""
             }
            },
            "type": "parcoords"
           }
          ],
          "pie": [
           {
            "automargin": true,
            "type": "pie"
           }
          ],
          "scatter": [
           {
            "marker": {
             "colorbar": {
              "outlinewidth": 0,
              "ticks": ""
             }
            },
            "type": "scatter"
           }
          ],
          "scatter3d": [
           {
            "line": {
             "colorbar": {
              "outlinewidth": 0,
              "ticks": ""
             }
            },
            "marker": {
             "colorbar": {
              "outlinewidth": 0,
              "ticks": ""
             }
            },
            "type": "scatter3d"
           }
          ],
          "scattercarpet": [
           {
            "marker": {
             "colorbar": {
              "outlinewidth": 0,
              "ticks": ""
             }
            },
            "type": "scattercarpet"
           }
          ],
          "scattergeo": [
           {
            "marker": {
             "colorbar": {
              "outlinewidth": 0,
              "ticks": ""
             }
            },
            "type": "scattergeo"
           }
          ],
          "scattergl": [
           {
            "marker": {
             "colorbar": {
              "outlinewidth": 0,
              "ticks": ""
             }
            },
            "type": "scattergl"
           }
          ],
          "scattermapbox": [
           {
            "marker": {
             "colorbar": {
              "outlinewidth": 0,
              "ticks": ""
             }
            },
            "type": "scattermapbox"
           }
          ],
          "scatterpolar": [
           {
            "marker": {
             "colorbar": {
              "outlinewidth": 0,
              "ticks": ""
             }
            },
            "type": "scatterpolar"
           }
          ],
          "scatterpolargl": [
           {
            "marker": {
             "colorbar": {
              "outlinewidth": 0,
              "ticks": ""
             }
            },
            "type": "scatterpolargl"
           }
          ],
          "scatterternary": [
           {
            "marker": {
             "colorbar": {
              "outlinewidth": 0,
              "ticks": ""
             }
            },
            "type": "scatterternary"
           }
          ],
          "surface": [
           {
            "colorbar": {
             "outlinewidth": 0,
             "ticks": ""
            },
            "colorscale": [
             [
              0,
              "#0d0887"
             ],
             [
              0.1111111111111111,
              "#46039f"
             ],
             [
              0.2222222222222222,
              "#7201a8"
             ],
             [
              0.3333333333333333,
              "#9c179e"
             ],
             [
              0.4444444444444444,
              "#bd3786"
             ],
             [
              0.5555555555555556,
              "#d8576b"
             ],
             [
              0.6666666666666666,
              "#ed7953"
             ],
             [
              0.7777777777777778,
              "#fb9f3a"
             ],
             [
              0.8888888888888888,
              "#fdca26"
             ],
             [
              1,
              "#f0f921"
             ]
            ],
            "type": "surface"
           }
          ],
          "table": [
           {
            "cells": {
             "fill": {
              "color": "#EBF0F8"
             },
             "line": {
              "color": "white"
             }
            },
            "header": {
             "fill": {
              "color": "#C8D4E3"
             },
             "line": {
              "color": "white"
             }
            },
            "type": "table"
           }
          ]
         },
         "layout": {
          "annotationdefaults": {
           "arrowcolor": "#2a3f5f",
           "arrowhead": 0,
           "arrowwidth": 1
          },
          "coloraxis": {
           "colorbar": {
            "outlinewidth": 0,
            "ticks": ""
           }
          },
          "colorscale": {
           "diverging": [
            [
             0,
             "#8e0152"
            ],
            [
             0.1,
             "#c51b7d"
            ],
            [
             0.2,
             "#de77ae"
            ],
            [
             0.3,
             "#f1b6da"
            ],
            [
             0.4,
             "#fde0ef"
            ],
            [
             0.5,
             "#f7f7f7"
            ],
            [
             0.6,
             "#e6f5d0"
            ],
            [
             0.7,
             "#b8e186"
            ],
            [
             0.8,
             "#7fbc41"
            ],
            [
             0.9,
             "#4d9221"
            ],
            [
             1,
             "#276419"
            ]
           ],
           "sequential": [
            [
             0,
             "#0d0887"
            ],
            [
             0.1111111111111111,
             "#46039f"
            ],
            [
             0.2222222222222222,
             "#7201a8"
            ],
            [
             0.3333333333333333,
             "#9c179e"
            ],
            [
             0.4444444444444444,
             "#bd3786"
            ],
            [
             0.5555555555555556,
             "#d8576b"
            ],
            [
             0.6666666666666666,
             "#ed7953"
            ],
            [
             0.7777777777777778,
             "#fb9f3a"
            ],
            [
             0.8888888888888888,
             "#fdca26"
            ],
            [
             1,
             "#f0f921"
            ]
           ],
           "sequentialminus": [
            [
             0,
             "#0d0887"
            ],
            [
             0.1111111111111111,
             "#46039f"
            ],
            [
             0.2222222222222222,
             "#7201a8"
            ],
            [
             0.3333333333333333,
             "#9c179e"
            ],
            [
             0.4444444444444444,
             "#bd3786"
            ],
            [
             0.5555555555555556,
             "#d8576b"
            ],
            [
             0.6666666666666666,
             "#ed7953"
            ],
            [
             0.7777777777777778,
             "#fb9f3a"
            ],
            [
             0.8888888888888888,
             "#fdca26"
            ],
            [
             1,
             "#f0f921"
            ]
           ]
          },
          "colorway": [
           "#636efa",
           "#EF553B",
           "#00cc96",
           "#ab63fa",
           "#FFA15A",
           "#19d3f3",
           "#FF6692",
           "#B6E880",
           "#FF97FF",
           "#FECB52"
          ],
          "font": {
           "color": "#2a3f5f"
          },
          "geo": {
           "bgcolor": "white",
           "lakecolor": "white",
           "landcolor": "#E5ECF6",
           "showlakes": true,
           "showland": true,
           "subunitcolor": "white"
          },
          "hoverlabel": {
           "align": "left"
          },
          "hovermode": "closest",
          "mapbox": {
           "style": "light"
          },
          "paper_bgcolor": "white",
          "plot_bgcolor": "#E5ECF6",
          "polar": {
           "angularaxis": {
            "gridcolor": "white",
            "linecolor": "white",
            "ticks": ""
           },
           "bgcolor": "#E5ECF6",
           "radialaxis": {
            "gridcolor": "white",
            "linecolor": "white",
            "ticks": ""
           }
          },
          "scene": {
           "xaxis": {
            "backgroundcolor": "#E5ECF6",
            "gridcolor": "white",
            "gridwidth": 2,
            "linecolor": "white",
            "showbackground": true,
            "ticks": "",
            "zerolinecolor": "white"
           },
           "yaxis": {
            "backgroundcolor": "#E5ECF6",
            "gridcolor": "white",
            "gridwidth": 2,
            "linecolor": "white",
            "showbackground": true,
            "ticks": "",
            "zerolinecolor": "white"
           },
           "zaxis": {
            "backgroundcolor": "#E5ECF6",
            "gridcolor": "white",
            "gridwidth": 2,
            "linecolor": "white",
            "showbackground": true,
            "ticks": "",
            "zerolinecolor": "white"
           }
          },
          "shapedefaults": {
           "line": {
            "color": "#2a3f5f"
           }
          },
          "ternary": {
           "aaxis": {
            "gridcolor": "white",
            "linecolor": "white",
            "ticks": ""
           },
           "baxis": {
            "gridcolor": "white",
            "linecolor": "white",
            "ticks": ""
           },
           "bgcolor": "#E5ECF6",
           "caxis": {
            "gridcolor": "white",
            "linecolor": "white",
            "ticks": ""
           }
          },
          "title": {
           "x": 0.05
          },
          "xaxis": {
           "automargin": true,
           "gridcolor": "white",
           "linecolor": "white",
           "ticks": "",
           "title": {
            "standoff": 15
           },
           "zerolinecolor": "white",
           "zerolinewidth": 2
          },
          "yaxis": {
           "automargin": true,
           "gridcolor": "white",
           "linecolor": "white",
           "ticks": "",
           "title": {
            "standoff": 15
           },
           "zerolinecolor": "white",
           "zerolinewidth": 2
          }
         }
        },
        "title": {
         "text": "Price Change vs Average Sentiment"
        },
        "xaxis": {
         "anchor": "y",
         "domain": [
          0,
          1
         ],
         "title": {
          "text": "Price_Change"
         }
        },
        "yaxis": {
         "anchor": "x",
         "domain": [
          0,
          1
         ],
         "title": {
          "text": "weighted_sentiment_v5_mean"
         }
        }
       }
      },
      "text/html": [
       "<div>                            <div id=\"cd1aa688-7ced-4553-a572-dbdc0fb978de\" class=\"plotly-graph-div\" style=\"height:525px; width:100%;\"></div>            <script type=\"text/javascript\">                require([\"plotly\"], function(Plotly) {                    window.PLOTLYENV=window.PLOTLYENV || {};                                    if (document.getElementById(\"cd1aa688-7ced-4553-a572-dbdc0fb978de\")) {                    Plotly.newPlot(                        \"cd1aa688-7ced-4553-a572-dbdc0fb978de\",                        [{\"hovertemplate\": \"<b>%{hovertext}</b><br><br>cross_bounds=neutral<br>Price_Change=%{x}<br>weighted_sentiment_v5_mean=%{y}<extra></extra>\", \"hovertext\": [\"2020-08-19T00:00:00\", \"2020-08-20T00:00:00\", \"2020-08-21T00:00:00\", \"2020-08-22T00:00:00\", \"2020-08-23T00:00:00\", \"2020-08-24T00:00:00\", \"2020-08-25T00:00:00\", \"2020-08-26T00:00:00\", \"2020-08-27T00:00:00\", \"2020-08-29T00:00:00\", \"2020-08-30T00:00:00\", \"2020-08-31T00:00:00\", \"2020-09-01T00:00:00\", \"2020-09-02T00:00:00\", \"2020-09-03T00:00:00\", \"2020-09-04T00:00:00\", \"2020-09-05T00:00:00\", \"2020-09-06T00:00:00\", \"2020-09-07T00:00:00\", \"2020-09-08T00:00:00\", \"2020-09-09T00:00:00\", \"2020-09-10T00:00:00\", \"2020-09-11T00:00:00\", \"2020-09-12T00:00:00\", \"2020-09-13T00:00:00\", \"2020-09-14T00:00:00\", \"2020-09-15T00:00:00\", \"2020-09-16T00:00:00\", \"2020-09-17T00:00:00\", \"2020-09-18T00:00:00\", \"2020-09-19T00:00:00\", \"2020-09-20T00:00:00\", \"2020-09-21T00:00:00\", \"2020-09-22T00:00:00\", \"2020-09-23T00:00:00\", \"2020-09-24T00:00:00\", \"2020-09-25T00:00:00\", \"2020-09-26T00:00:00\", \"2020-09-27T00:00:00\", \"2020-09-28T00:00:00\", \"2020-09-29T00:00:00\", \"2020-09-30T00:00:00\", \"2020-10-01T00:00:00\", \"2020-10-02T00:00:00\", \"2020-10-03T00:00:00\", \"2020-10-04T00:00:00\", \"2020-10-05T00:00:00\", \"2020-10-06T00:00:00\", \"2020-10-07T00:00:00\", \"2020-10-08T00:00:00\", \"2020-10-09T00:00:00\", \"2020-10-10T00:00:00\", \"2020-10-11T00:00:00\", \"2020-10-13T00:00:00\", \"2020-10-14T00:00:00\", \"2020-10-15T00:00:00\", \"2020-10-16T00:00:00\", \"2020-10-17T00:00:00\", \"2020-10-18T00:00:00\", \"2020-10-19T00:00:00\", \"2020-10-20T00:00:00\", \"2020-10-21T00:00:00\", \"2020-10-22T00:00:00\", \"2020-10-23T00:00:00\", \"2020-10-24T00:00:00\", \"2020-10-25T00:00:00\", \"2020-10-26T00:00:00\", \"2020-10-27T00:00:00\", \"2020-10-28T00:00:00\", \"2020-10-29T00:00:00\", \"2020-10-30T00:00:00\", \"2020-10-31T00:00:00\", \"2020-11-01T00:00:00\", \"2020-11-02T00:00:00\", \"2020-11-04T00:00:00\", \"2020-11-05T00:00:00\", \"2020-11-06T00:00:00\", \"2020-11-07T00:00:00\", \"2020-11-08T00:00:00\", \"2020-11-09T00:00:00\", \"2020-11-10T00:00:00\", \"2020-11-11T00:00:00\", \"2020-11-12T00:00:00\", \"2020-11-13T00:00:00\", \"2020-11-14T00:00:00\", \"2020-11-15T00:00:00\", \"2020-11-16T00:00:00\", \"2020-11-19T00:00:00\", \"2020-11-20T00:00:00\", \"2020-11-24T00:00:00\", \"2020-11-25T00:00:00\", \"2020-11-26T00:00:00\", \"2020-11-27T00:00:00\", \"2020-11-28T00:00:00\", \"2020-11-29T00:00:00\", \"2020-11-30T00:00:00\", \"2020-12-01T00:00:00\", \"2020-12-02T00:00:00\", \"2020-12-03T00:00:00\", \"2020-12-04T00:00:00\", \"2020-12-05T00:00:00\", \"2020-12-06T00:00:00\", \"2020-12-07T00:00:00\", \"2020-12-08T00:00:00\", \"2020-12-09T00:00:00\", \"2020-12-10T00:00:00\", \"2020-12-11T00:00:00\", \"2020-12-12T00:00:00\", \"2020-12-13T00:00:00\", \"2020-12-14T00:00:00\", \"2020-12-15T00:00:00\", \"2020-12-16T00:00:00\", \"2020-12-17T00:00:00\", \"2020-12-18T00:00:00\", \"2020-12-20T00:00:00\", \"2020-12-21T00:00:00\", \"2020-12-22T00:00:00\", \"2020-12-23T00:00:00\", \"2020-12-24T00:00:00\", \"2020-12-25T00:00:00\", \"2020-12-26T00:00:00\", \"2020-12-27T00:00:00\", \"2020-12-28T00:00:00\", \"2020-12-29T00:00:00\", \"2020-12-30T00:00:00\", \"2020-12-31T00:00:00\", \"2021-01-01T00:00:00\", \"2021-01-02T00:00:00\", \"2021-01-03T00:00:00\", \"2021-01-04T00:00:00\", \"2021-01-06T00:00:00\", \"2021-01-07T00:00:00\", \"2021-01-08T00:00:00\", \"2021-01-09T00:00:00\", \"2021-01-10T00:00:00\", \"2021-01-11T00:00:00\", \"2021-01-13T00:00:00\", \"2021-01-14T00:00:00\", \"2021-01-15T00:00:00\", \"2021-01-16T00:00:00\", \"2021-01-17T00:00:00\", \"2021-01-20T00:00:00\", \"2021-01-21T00:00:00\", \"2021-01-22T00:00:00\", \"2021-01-23T00:00:00\", \"2021-01-24T00:00:00\", \"2021-01-25T00:00:00\", \"2021-01-26T00:00:00\", \"2021-01-27T00:00:00\", \"2021-01-28T00:00:00\", \"2021-01-29T00:00:00\", \"2021-01-30T00:00:00\", \"2021-01-31T00:00:00\", \"2021-02-01T00:00:00\", \"2021-02-02T00:00:00\", \"2021-02-03T00:00:00\", \"2021-02-05T00:00:00\", \"2021-02-06T00:00:00\", \"2021-02-07T00:00:00\", \"2021-02-08T00:00:00\", \"2021-02-09T00:00:00\", \"2021-02-11T00:00:00\", \"2021-02-12T00:00:00\", \"2021-02-13T00:00:00\", \"2021-02-14T00:00:00\", \"2021-02-15T00:00:00\", \"2021-02-16T00:00:00\", \"2021-02-17T00:00:00\", \"2021-02-18T00:00:00\", \"2021-02-19T00:00:00\", \"2021-02-21T00:00:00\", \"2021-02-24T00:00:00\", \"2021-02-25T00:00:00\", \"2021-02-28T00:00:00\", \"2021-03-01T00:00:00\", \"2021-03-02T00:00:00\", \"2021-03-03T00:00:00\", \"2021-03-04T00:00:00\", \"2021-03-05T00:00:00\", \"2021-03-06T00:00:00\", \"2021-03-07T00:00:00\", \"2021-03-08T00:00:00\", \"2021-03-09T00:00:00\", \"2021-03-12T00:00:00\", \"2021-03-13T00:00:00\", \"2021-03-14T00:00:00\", \"2021-03-19T00:00:00\", \"2021-03-20T00:00:00\", \"2021-03-21T00:00:00\", \"2021-03-22T00:00:00\", \"2021-03-23T00:00:00\", \"2021-03-24T00:00:00\", \"2021-03-25T00:00:00\", \"2021-03-26T00:00:00\", \"2021-03-27T00:00:00\", \"2021-03-28T00:00:00\", \"2021-03-29T00:00:00\", \"2021-03-30T00:00:00\", \"2021-03-31T00:00:00\", \"2021-04-01T00:00:00\", \"2021-04-02T00:00:00\", \"2021-04-03T00:00:00\", \"2021-04-06T00:00:00\", \"2021-04-07T00:00:00\", \"2021-04-08T00:00:00\", \"2021-04-09T00:00:00\", \"2021-04-10T00:00:00\", \"2021-04-11T00:00:00\", \"2021-04-12T00:00:00\", \"2021-04-13T00:00:00\", \"2021-04-14T00:00:00\", \"2021-04-15T00:00:00\", \"2021-04-16T00:00:00\", \"2021-04-18T00:00:00\", \"2021-04-19T00:00:00\", \"2021-04-20T00:00:00\", \"2021-04-21T00:00:00\", \"2021-04-22T00:00:00\", \"2021-04-23T00:00:00\", \"2021-04-24T00:00:00\", \"2021-04-25T00:00:00\", \"2021-04-26T00:00:00\", \"2021-04-27T00:00:00\", \"2021-04-28T00:00:00\", \"2021-04-29T00:00:00\", \"2021-04-30T00:00:00\", \"2021-05-01T00:00:00\", \"2021-05-02T00:00:00\", \"2021-05-03T00:00:00\", \"2021-05-04T00:00:00\", \"2021-05-05T00:00:00\", \"2021-05-06T00:00:00\", \"2021-05-07T00:00:00\", \"2021-05-08T00:00:00\", \"2021-05-09T00:00:00\", \"2021-05-10T00:00:00\", \"2021-05-12T00:00:00\", \"2021-05-13T00:00:00\", \"2021-05-14T00:00:00\", \"2021-05-15T00:00:00\", \"2021-05-18T00:00:00\", \"2021-05-19T00:00:00\", \"2021-05-20T00:00:00\", \"2021-05-21T00:00:00\", \"2021-05-22T00:00:00\", \"2021-05-23T00:00:00\", \"2021-05-24T00:00:00\", \"2021-05-25T00:00:00\", \"2021-05-26T00:00:00\", \"2021-05-27T00:00:00\", \"2021-05-28T00:00:00\", \"2021-05-31T00:00:00\", \"2021-06-01T00:00:00\", \"2021-06-02T00:00:00\", \"2021-06-03T00:00:00\", \"2021-06-04T00:00:00\", \"2021-06-05T00:00:00\", \"2021-06-06T00:00:00\", \"2021-06-07T00:00:00\", \"2021-06-08T00:00:00\", \"2021-06-09T00:00:00\", \"2021-06-10T00:00:00\", \"2021-06-11T00:00:00\", \"2021-06-12T00:00:00\", \"2021-06-13T00:00:00\", \"2021-06-14T00:00:00\", \"2021-06-15T00:00:00\", \"2021-06-16T00:00:00\", \"2021-06-17T00:00:00\", \"2021-06-18T00:00:00\", \"2021-06-19T00:00:00\", \"2021-06-20T00:00:00\", \"2021-06-21T00:00:00\", \"2021-06-23T00:00:00\", \"2021-06-24T00:00:00\", \"2021-06-25T00:00:00\", \"2021-06-26T00:00:00\", \"2021-06-27T00:00:00\", \"2021-06-28T00:00:00\", \"2021-06-29T00:00:00\", \"2021-07-01T00:00:00\", \"2021-07-02T00:00:00\", \"2021-07-03T00:00:00\", \"2021-07-04T00:00:00\", \"2021-07-05T00:00:00\", \"2021-07-06T00:00:00\", \"2021-07-07T00:00:00\", \"2021-07-08T00:00:00\", \"2021-07-09T00:00:00\", \"2021-07-10T00:00:00\", \"2021-07-11T00:00:00\", \"2021-07-12T00:00:00\", \"2021-07-15T00:00:00\", \"2021-07-16T00:00:00\", \"2021-07-17T00:00:00\", \"2021-07-18T00:00:00\", \"2021-07-19T00:00:00\", \"2021-07-21T00:00:00\", \"2021-07-22T00:00:00\", \"2021-07-23T00:00:00\", \"2021-07-24T00:00:00\", \"2021-07-26T00:00:00\", \"2021-07-27T00:00:00\", \"2021-07-28T00:00:00\", \"2021-07-29T00:00:00\", \"2021-07-30T00:00:00\", \"2021-07-31T00:00:00\", \"2021-08-01T00:00:00\", \"2021-08-02T00:00:00\", \"2021-08-05T00:00:00\", \"2021-08-06T00:00:00\", \"2021-08-13T00:00:00\", \"2021-08-14T00:00:00\", \"2021-08-15T00:00:00\", \"2021-08-16T00:00:00\", \"2021-08-17T00:00:00\", \"2021-08-18T00:00:00\", \"2021-08-19T00:00:00\", \"2021-08-20T00:00:00\", \"2021-08-22T00:00:00\", \"2021-08-23T00:00:00\", \"2021-08-24T00:00:00\", \"2021-08-25T00:00:00\", \"2021-08-26T00:00:00\", \"2021-08-27T00:00:00\", \"2021-08-28T00:00:00\", \"2021-08-29T00:00:00\", \"2021-08-30T00:00:00\"], \"legendgroup\": \"neutral\", \"marker\": {\"color\": \"grey\", \"symbol\": \"circle\"}, \"mode\": \"markers\", \"name\": \"neutral\", \"orientation\": \"v\", \"showlegend\": true, \"type\": \"scatter\", \"x\": [null, 4.85, -5.03, 6.08, -4.39, 1.14, -2.5, 1.48, 8.73, -2.24, -1.1, 3.89, -4.36, -1.89, -8.29, 2.03, -5.11, 0.62, -0.86, -1.74, 0.31, 0.51, -0.19, 1.48, -2.22, -0.29, -0.28, -2.76, -0.16, -2.68, -0.16, 4.04, -2.07, -0.5, -1.6, 2.59, -0.56, 0.35, 0.2, -0.33, -0.61, 0.09, -0.18, -2.03, -0.08, 0.42, -0.16, -1.73, 0.29, -0.03, 1.53, -0.02, -0.09, 0.45, -1.84, -0.45, -1.05, 0.32, 0.49, -0.06, -2.65, 0.13, 0.22, -0.43, 0.11, -0.49, 0.03, -0.82, -0.19, -1.02, 0.25, -1.0, 0.01, -0.3, -1.66, -0.84, 0.63, -1.28, 0.5, 0.31, 0.92, 0.1, -0.95, 1.08, -0.57, -0.15, 0.11, -0.26, 0.46, -1.37, -3.15, -1.62, -0.84, 11.14, -2.85, -1.91, -2.28, 0.42, -0.29, -1.42, 1.39, -0.17, -0.79, -1.98, 0.14, -1.73, -0.5, 0.2, 2.67, -0.56, -1.46, 0.01, 0.12, -0.17, -2.21, -1.51, -0.25, -3.13, 1.78, 0.16, -0.48, -0.0, 0.45, -0.52, -0.46, -0.66, 0.53, -0.3, 1.48, 3.88, 0.34, -0.29, -1.86, 1.61, -0.59, -1.1, 1.11, -0.5, -0.54, 0.97, -0.37, 0.36, -2.4, 0.66, 1.14, -0.58, -0.6, 0.17, -1.45, 0.85, -0.22, 0.24, 0.52, 1.06, -0.47, 2.34, 2.36, -2.01, 1.59, 0.77, 2.76, 0.41, 0.85, 5.25, -4.64, -2.86, 1.69, -0.29, -0.82, -0.28, 0.65, 1.41, -1.78, -0.97, 2.31, -1.37, 2.23, -3.59, 0.56, -0.53, 0.34, 1.91, 0.43, -3.01, 1.76, -1.19, -5.08, -2.82, -1.33, -3.37, -1.29, -2.53, -3.94, 7.89, -2.96, 1.95, 2.51, 4.49, -0.47, 1.55, 0.44, -4.08, 1.22, -6.07, 9.62, 4.02, -4.43, 0.31, 3.14, -2.74, -0.95, 2.78, -0.58, -15.42, 11.2, -6.06, -7.99, -4.53, -3.49, -4.95, -2.19, 8.56, 3.48, -1.71, -1.34, 5.33, -1.03, -2.29, 5.53, -6.69, 3.14, 0.43, -0.67, -2.09, 0.96, -7.26, -7.08, -2.52, 2.5, -3.89, -4.84, -21.45, 8.12, -8.24, -2.48, -3.58, 5.99, 2.19, 10.67, -5.46, -7.18, -0.48, -2.97, 0.1, 0.84, -3.01, 1.59, -0.43, -4.74, -0.92, 3.06, -4.87, -1.69, -0.88, 1.16, 1.24, 0.05, -2.4, 0.32, -0.01, -2.1, 0.16, -6.31, 1.47, -0.13, -1.8, 0.27, 1.29, 0.71, 0.25, -2.74, -1.66, 0.13, 0.39, 1.21, -0.43, 0.08, -2.72, 1.74, -0.74, 0.14, -0.44, -1.17, 2.67, -2.29, -0.05, -1.97, 1.18, 0.16, 1.22, 0.47, -1.19, 3.33, -0.86, 1.7, 0.68, -0.38, 0.24, -0.09, 0.26, -0.19, 3.16, -1.13, 0.44, -1.47, -1.25, -0.87, 2.45, 1.91, 1.85, 0.28, -2.21, 1.69, -2.77, 1.83, -0.64, 0.46, -0.25], \"xaxis\": \"x\", \"y\": [0.6563633802816901, 0.8228418032786885, 0.8730730769230771, 0.05568837209302327, 4.779855769230768, 0.5520935483870969, 0.4259, 0.32929230769230766, 0.520863829787234, 0.46172666666666673, 0.009787179487179507, 0.48281518987341776, 0.3018428571428572, -0.04331612903225806, 0.36041379310344834, 2.2534666666666663, 0.7613258064516127, 0.8291162162162162, 0.209936, 0.4400789473684211, 1.9637296296296296, 1.16583125, 3.0091607142857137, 2.334025641025641, 0.9891352941176471, 0.5721892857142857, 0.18467500000000003, 0.15629642857142856, -0.005169696969696976, 0.6347387096774194, 2.783057142857143, 0.4297038759689923, 0.28053015873015885, 0.6493025641025643, 3.085295, 1.954630232558139, 1.6196075, 0.3146652173913044, 0.8452363636363636, 5.603571428571428, 0.8360500000000001, -0.11576666666666666, 0.4178457142857143, -0.2878075, 0.13825909090909091, 0.1599206896551724, 2.1793911764705887, 2.1403, 0.40969285714285714, 0.033876923076923075, 0.24867812499999997, 0.15270740740740743, 0.16272499999999998, 1.2703314814814817, 0.7959600000000001, 0.7699714285714286, 0.9814326086956523, -0.4185, 1.0095727272727273, 1.9371899999999997, 0.5430953488372093, 0.33707096774193546, 0.9738571428571429, 0.8245636363636364, 0.5055099999999999, 1.266656, 0.16993043478260872, 0.7255764705882355, 0.4512, 1.1291100000000003, 0.2259444444444444, 0.025788000000000005, 0.24269047619047618, 0.2918421052631579, 0.01658313253012048, 0.11401785714285714, -0.016926666666666663, 0.04844347826086956, 0.10705882352941176, 0.039595652173913046, 0.7558535714285716, 0.9106962264150943, 0.35500869565217386, 0.11084285714285715, 1.1236, 0.10313947368421054, 0.2849655172413793, 0.11983529411764705, 1.1518172413793104, 0.42452222222222225, 0.2159, 0.12098611111111111, 0.4849628571428572, 0.35464970760233916, 0.13493245614035088, 0.1138685185185185, 0.3246854166666666, 0.23639767441860463, 0.3042918918918919, 0.198972972972973, 0.2688148148148148, 0.30929999999999996, 0.27390227272727274, 0.67346875, 0.9173866666666668, 0.35421621621621624, 0.032171875, 0.17115517241379313, 0.1355, 1.085867142857143, 1.6544474576271186, 1.4781566037735847, 0.8375545454545456, 1.9133904761904763, 0.15878857142857145, 2.9214854166666666, 0.6952312499999999, 0.0817, 0.19438500000000003, -0.03698, 0.559902380952381, 0.135584375, 0.7060695652173914, 0.317125, 0.586716, 2.51985, 0.24131249999999999, 0.5047060606060606, 1.3825527777777777, 0.6608605633802815, 1.2217912280701755, 0.6488415094339625, 0.4845549019607844, 0.9887857142857145, 0.5062591836734694, 0.408511320754717, 0.5009777777777777, 1.9178444444444442, 4.1503, 1.2123090909090906, 0.7294481481481481, 2.386688571428571, 0.363375, 1.1687296296296295, -0.13779523809523808, 3.1526928571428567, 0.6410696969696968, 0.2467166666666667, 2.420348076923077, -0.07069482758620682, 0.3191238095238096, -0.2331391304347827, 0.10746274509803923, 0.7718023255813954, 0.6961511627906977, 0.6793521126760561, 0.9763903846153846, 0.8801166666666667, 0.7423985915492958, 0.6946447761194029, 0.9914692307692305, 2.412638297872341, 1.8153461538461537, 0.4406987179487179, 0.557912, 0.4935129411764705, 0.7096600000000002, 1.860205, 1.0291128205128204, 1.0190313725490194, 0.3600775, 1.121292857142857, 1.3685807692307692, 4.199105454545455, 1.657996428571429, 0.8236562500000001, 2.3728155555555555, 1.9531955555555551, 2.1030243243243247, 1.9752766666666666, 1.9695307692307682, 1.6562509433962265, 0.7813785714285713, 1.7481733333333334, 1.643543478260869, 1.1136659574468086, 2.031730666666667, 0.9346469696969696, 0.8755874999999997, -0.3997326086956521, 0.929970731707317, 0.962193103448276, 0.8187611111111109, 1.0427098039215688, 0.9429099999999998, 0.7146690476190476, 0.2533247349823323, 0.3411178571428571, 1.9127372093023258, 1.0865357142857142, 1.5855473684210526, 0.6865608695652174, 2.2624984615384616, 1.3585176470588234, 1.97243, 2.5089541176470593, 0.9253369565217389, 1.4367528301886792, 1.7692055555555557, 1.1819462962962963, 2.9419672727272723, 0.6099742424242425, 0.42694999999999994, 0.6446585714285712, 2.1665616666666665, 0.6069733333333331, 5.616763513513513, 2.2274361111111114, 1.1964510204081633, 1.5389560000000002, 0.575362962962963, 0.7658086956521737, 0.1557534883720929, 1.3960371794871798, 1.217054, 1.7242377049180329, 0.8732184210526315, 0.5425102564102564, 0.5553400000000001, 0.47992537313432837, 1.704571232876712, 1.9226428571428573, 1.5741056603773584, 0.8030472972972973, 0.23733584905660376, 0.7144451612903224, 1.3686105263157895, 0.2710634146341464, 2.451621052631579, 0.41583125, 1.6312597560975608, 0.8262175675675674, 0.7689847457627119, 0.7292794117647059, 0.38789583333333333, 0.5885109589041094, 0.34609117647058824, 2.0680515151515153, 1.117101298701299, 0.8690794520547946, -0.003609756097560926, 0.0989953488372093, 1.5337944444444447, 2.21210909090909, -0.3353796610169491, 0.8178822222222222, 0.9971252631578946, 0.7397250000000001, 0.5791666666666667, -0.0014880000000000071, 1.1539306122448978, 0.7380828571428572, 0.13121372549019608, 0.4956999999999999, 0.23631470588235295, 1.007274193548387, 0.37949999999999995, 7.321590909090909, 1.4197479999999998, 6.3619796610169494, 0.749184375, 2.2300151515151514, 0.49408648648648645, 1.3383341463414635, 0.9946410256410255, 0.5163886363636364, 0.9931730769230769, 0.36108437499999996, 0.5248055555555555, 1.5129931034482758, 0.5624253164556963, 0.39809230769230775, -0.45948717948717943, 0.1849396551724138, 0.5053981132075471, 1.19414, 0.3653155172413793, 1.1195407407407407, 1.5730912280701754, 1.065457777777778, 0.175756862745098, 0.686895, 1.938372580645161, 1.0538000000000003, 0.46236249999999995, 0.27542, 0.21526086956521737, 2.021342105263158, 1.2514295454545454, 1.179606666666667, 0.46970625, 0.4090682926829268, 2.8117232142857134, 0.5457190476190477, 1.022536956521739, 0.900859523809524, 0.06522333333333334, 2.3756066666666666, 0.7337449999999999, 2.567482857142857, 0.8989040000000003, 1.5802135135135136, 0.3168037037037037, 1.3388193548387097, 0.8476660377358491, 0.7333666666666669, 1.3451720930232558, 0.7934194444444445, 1.002487931034483, 1.3825142857142858, 0.36670571428571436, 3.808336842105263, 3.0644675675675668, 0.23485769230769235, 0.49974324324324326, 0.6283899999999998, 1.4565129032258066, 2.247278787878788], \"yaxis\": \"y\"}, {\"hovertemplate\": \"<b>%{hovertext}</b><br><br>cross_bounds=above<br>Price_Change=%{x}<br>weighted_sentiment_v5_mean=%{y}<extra></extra>\", \"hovertext\": [\"2020-08-28T00:00:00\", \"2020-10-12T00:00:00\", \"2020-11-03T00:00:00\", \"2020-11-17T00:00:00\", \"2020-11-21T00:00:00\", \"2020-11-22T00:00:00\", \"2020-11-23T00:00:00\", \"2020-12-19T00:00:00\", \"2021-01-05T00:00:00\", \"2021-01-12T00:00:00\", \"2021-01-18T00:00:00\", \"2021-01-19T00:00:00\", \"2021-02-04T00:00:00\", \"2021-02-10T00:00:00\", \"2021-02-22T00:00:00\", \"2021-02-27T00:00:00\", \"2021-03-10T00:00:00\", \"2021-03-11T00:00:00\", \"2021-03-15T00:00:00\", \"2021-03-16T00:00:00\", \"2021-03-17T00:00:00\", \"2021-03-18T00:00:00\", \"2021-04-04T00:00:00\", \"2021-04-05T00:00:00\", \"2021-04-17T00:00:00\", \"2021-05-16T00:00:00\", \"2021-05-17T00:00:00\", \"2021-05-29T00:00:00\", \"2021-05-30T00:00:00\", \"2021-06-30T00:00:00\", \"2021-07-13T00:00:00\", \"2021-07-25T00:00:00\", \"2021-08-03T00:00:00\", \"2021-08-04T00:00:00\", \"2021-08-07T00:00:00\", \"2021-08-08T00:00:00\", \"2021-08-10T00:00:00\", \"2021-08-11T00:00:00\", \"2021-08-12T00:00:00\", \"2021-08-21T00:00:00\"], \"legendgroup\": \"above\", \"marker\": {\"color\": \"green\", \"symbol\": \"circle\"}, \"mode\": \"markers\", \"name\": \"above\", \"orientation\": \"v\", \"showlegend\": true, \"type\": \"scatter\", \"x\": [2.25, 2.45, 3.03, 0.2, 3.2, 5.29, 1.67, 2.11, 0.37, 0.63, 2.35, -1.83, 2.64, 4.22, 3.65, 0.83, -1.33, 3.66, 1.96, 1.36, 2.86, 11.47, 15.77, 1.86, 14.59, 21.82, -9.41, 14.06, -1.92, 6.75, 0.51, 2.23, -0.6, 1.0, 0.63, -1.3, 0.34, 1.8, -1.79, -0.24], \"xaxis\": \"x\", \"y\": [1.0539600760456276, 1.7592126506024095, 0.5623051724137929, 0.6700433333333334, 0.010724999999999976, 0.8506335329341318, 0.6748483870967743, 0.39618823529411756, 1.2316824324324323, 0.3757352272727274, 1.1978909090909091, 0.44117777777777767, 0.48496183206106863, 0.73330625, 0.5100522123893805, 1.0266079545454543, 1.1068266666666668, 1.7726750000000002, 0.9568619047619049, 0.9509400000000001, 0.28147681159420285, 2.0308105000000016, 1.0957196202531645, 1.1016335714285714, 2.20842037037037, 0.9139807860262007, 0.5059893401015227, 4.97103490566038, 0.33951948051948044, 1.0377695652173915, 1.621486335403726, 0.3428910447761194, 1.0575376068376066, 0.9201595238095239, 0.48502727272727275, 0.6047868421052631, 0.13245428571428572, 1.0786881355932203, 0.27025641025641023, 0.6168660000000001], \"yaxis\": \"y\"}, {\"hovertemplate\": \"<b>%{hovertext}</b><br><br>cross_bounds=below<br>Price_Change=%{x}<br>weighted_sentiment_v5_mean=%{y}<extra></extra>\", \"hovertext\": [\"2020-11-18T00:00:00\", \"2021-02-20T00:00:00\", \"2021-02-23T00:00:00\", \"2021-02-26T00:00:00\", \"2021-05-11T00:00:00\", \"2021-06-22T00:00:00\", \"2021-07-14T00:00:00\", \"2021-07-20T00:00:00\", \"2021-08-09T00:00:00\"], \"legendgroup\": \"below\", \"marker\": {\"color\": \"red\", \"symbol\": \"circle\"}, \"mode\": \"markers\", \"name\": \"below\", \"orientation\": \"v\", \"showlegend\": true, \"type\": \"scatter\", \"x\": [-0.57, -1.53, -7.36, 3.04, 5.66, -3.09, -0.18, 1.21, 0.98], \"xaxis\": \"x\", \"y\": [2.902477419354838, 1.151998113207547, 1.3669613333333335, 5.54976907216495, -0.008311475409836079, 0.4737152173913045, 0.45988860759493666, 0.6537166666666666, 3.0238818181818186], \"yaxis\": \"y\"}],                        {\"legend\": {\"title\": {\"text\": \"cross_bounds\"}, \"tracegroupgap\": 0}, \"template\": {\"data\": {\"bar\": [{\"error_x\": {\"color\": \"#2a3f5f\"}, \"error_y\": {\"color\": \"#2a3f5f\"}, \"marker\": {\"line\": {\"color\": \"#E5ECF6\", \"width\": 0.5}}, \"type\": \"bar\"}], \"barpolar\": [{\"marker\": {\"line\": {\"color\": \"#E5ECF6\", \"width\": 0.5}}, \"type\": \"barpolar\"}], \"carpet\": [{\"aaxis\": {\"endlinecolor\": \"#2a3f5f\", \"gridcolor\": \"white\", \"linecolor\": \"white\", \"minorgridcolor\": \"white\", \"startlinecolor\": \"#2a3f5f\"}, \"baxis\": {\"endlinecolor\": \"#2a3f5f\", \"gridcolor\": \"white\", \"linecolor\": \"white\", \"minorgridcolor\": \"white\", \"startlinecolor\": \"#2a3f5f\"}, \"type\": \"carpet\"}], \"choropleth\": [{\"colorbar\": {\"outlinewidth\": 0, \"ticks\": \"\"}, \"type\": \"choropleth\"}], \"contour\": [{\"colorbar\": {\"outlinewidth\": 0, \"ticks\": \"\"}, \"colorscale\": [[0.0, \"#0d0887\"], [0.1111111111111111, \"#46039f\"], [0.2222222222222222, \"#7201a8\"], [0.3333333333333333, \"#9c179e\"], [0.4444444444444444, \"#bd3786\"], [0.5555555555555556, \"#d8576b\"], [0.6666666666666666, \"#ed7953\"], [0.7777777777777778, \"#fb9f3a\"], [0.8888888888888888, \"#fdca26\"], [1.0, \"#f0f921\"]], \"type\": \"contour\"}], \"contourcarpet\": [{\"colorbar\": {\"outlinewidth\": 0, \"ticks\": \"\"}, \"type\": \"contourcarpet\"}], \"heatmap\": [{\"colorbar\": {\"outlinewidth\": 0, \"ticks\": \"\"}, \"colorscale\": [[0.0, \"#0d0887\"], [0.1111111111111111, \"#46039f\"], [0.2222222222222222, \"#7201a8\"], [0.3333333333333333, \"#9c179e\"], [0.4444444444444444, \"#bd3786\"], [0.5555555555555556, \"#d8576b\"], [0.6666666666666666, \"#ed7953\"], [0.7777777777777778, \"#fb9f3a\"], [0.8888888888888888, \"#fdca26\"], [1.0, \"#f0f921\"]], \"type\": \"heatmap\"}], \"heatmapgl\": [{\"colorbar\": {\"outlinewidth\": 0, \"ticks\": \"\"}, \"colorscale\": [[0.0, \"#0d0887\"], [0.1111111111111111, \"#46039f\"], [0.2222222222222222, \"#7201a8\"], [0.3333333333333333, \"#9c179e\"], [0.4444444444444444, \"#bd3786\"], [0.5555555555555556, \"#d8576b\"], [0.6666666666666666, \"#ed7953\"], [0.7777777777777778, \"#fb9f3a\"], [0.8888888888888888, \"#fdca26\"], [1.0, \"#f0f921\"]], \"type\": \"heatmapgl\"}], \"histogram\": [{\"marker\": {\"colorbar\": {\"outlinewidth\": 0, \"ticks\": \"\"}}, \"type\": \"histogram\"}], \"histogram2d\": [{\"colorbar\": {\"outlinewidth\": 0, \"ticks\": \"\"}, \"colorscale\": [[0.0, \"#0d0887\"], [0.1111111111111111, \"#46039f\"], [0.2222222222222222, \"#7201a8\"], [0.3333333333333333, \"#9c179e\"], [0.4444444444444444, \"#bd3786\"], [0.5555555555555556, \"#d8576b\"], [0.6666666666666666, \"#ed7953\"], [0.7777777777777778, \"#fb9f3a\"], [0.8888888888888888, \"#fdca26\"], [1.0, \"#f0f921\"]], \"type\": \"histogram2d\"}], \"histogram2dcontour\": [{\"colorbar\": {\"outlinewidth\": 0, \"ticks\": \"\"}, \"colorscale\": [[0.0, \"#0d0887\"], [0.1111111111111111, \"#46039f\"], [0.2222222222222222, \"#7201a8\"], [0.3333333333333333, \"#9c179e\"], [0.4444444444444444, \"#bd3786\"], [0.5555555555555556, \"#d8576b\"], [0.6666666666666666, \"#ed7953\"], [0.7777777777777778, \"#fb9f3a\"], [0.8888888888888888, \"#fdca26\"], [1.0, \"#f0f921\"]], \"type\": \"histogram2dcontour\"}], \"mesh3d\": [{\"colorbar\": {\"outlinewidth\": 0, \"ticks\": \"\"}, \"type\": \"mesh3d\"}], \"parcoords\": [{\"line\": {\"colorbar\": {\"outlinewidth\": 0, \"ticks\": \"\"}}, \"type\": \"parcoords\"}], \"pie\": [{\"automargin\": true, \"type\": \"pie\"}], \"scatter\": [{\"marker\": {\"colorbar\": {\"outlinewidth\": 0, \"ticks\": \"\"}}, \"type\": \"scatter\"}], \"scatter3d\": [{\"line\": {\"colorbar\": {\"outlinewidth\": 0, \"ticks\": \"\"}}, \"marker\": {\"colorbar\": {\"outlinewidth\": 0, \"ticks\": \"\"}}, \"type\": \"scatter3d\"}], \"scattercarpet\": [{\"marker\": {\"colorbar\": {\"outlinewidth\": 0, \"ticks\": \"\"}}, \"type\": \"scattercarpet\"}], \"scattergeo\": [{\"marker\": {\"colorbar\": {\"outlinewidth\": 0, \"ticks\": \"\"}}, \"type\": \"scattergeo\"}], \"scattergl\": [{\"marker\": {\"colorbar\": {\"outlinewidth\": 0, \"ticks\": \"\"}}, \"type\": \"scattergl\"}], \"scattermapbox\": [{\"marker\": {\"colorbar\": {\"outlinewidth\": 0, \"ticks\": \"\"}}, \"type\": \"scattermapbox\"}], \"scatterpolar\": [{\"marker\": {\"colorbar\": {\"outlinewidth\": 0, \"ticks\": \"\"}}, \"type\": \"scatterpolar\"}], \"scatterpolargl\": [{\"marker\": {\"colorbar\": {\"outlinewidth\": 0, \"ticks\": \"\"}}, \"type\": \"scatterpolargl\"}], \"scatterternary\": [{\"marker\": {\"colorbar\": {\"outlinewidth\": 0, \"ticks\": \"\"}}, \"type\": \"scatterternary\"}], \"surface\": [{\"colorbar\": {\"outlinewidth\": 0, \"ticks\": \"\"}, \"colorscale\": [[0.0, \"#0d0887\"], [0.1111111111111111, \"#46039f\"], [0.2222222222222222, \"#7201a8\"], [0.3333333333333333, \"#9c179e\"], [0.4444444444444444, \"#bd3786\"], [0.5555555555555556, \"#d8576b\"], [0.6666666666666666, \"#ed7953\"], [0.7777777777777778, \"#fb9f3a\"], [0.8888888888888888, \"#fdca26\"], [1.0, \"#f0f921\"]], \"type\": \"surface\"}], \"table\": [{\"cells\": {\"fill\": {\"color\": \"#EBF0F8\"}, \"line\": {\"color\": \"white\"}}, \"header\": {\"fill\": {\"color\": \"#C8D4E3\"}, \"line\": {\"color\": \"white\"}}, \"type\": \"table\"}]}, \"layout\": {\"annotationdefaults\": {\"arrowcolor\": \"#2a3f5f\", \"arrowhead\": 0, \"arrowwidth\": 1}, \"coloraxis\": {\"colorbar\": {\"outlinewidth\": 0, \"ticks\": \"\"}}, \"colorscale\": {\"diverging\": [[0, \"#8e0152\"], [0.1, \"#c51b7d\"], [0.2, \"#de77ae\"], [0.3, \"#f1b6da\"], [0.4, \"#fde0ef\"], [0.5, \"#f7f7f7\"], [0.6, \"#e6f5d0\"], [0.7, \"#b8e186\"], [0.8, \"#7fbc41\"], [0.9, \"#4d9221\"], [1, \"#276419\"]], \"sequential\": [[0.0, \"#0d0887\"], [0.1111111111111111, \"#46039f\"], [0.2222222222222222, \"#7201a8\"], [0.3333333333333333, \"#9c179e\"], [0.4444444444444444, \"#bd3786\"], [0.5555555555555556, \"#d8576b\"], [0.6666666666666666, \"#ed7953\"], [0.7777777777777778, \"#fb9f3a\"], [0.8888888888888888, \"#fdca26\"], [1.0, \"#f0f921\"]], \"sequentialminus\": [[0.0, \"#0d0887\"], [0.1111111111111111, \"#46039f\"], [0.2222222222222222, \"#7201a8\"], [0.3333333333333333, \"#9c179e\"], [0.4444444444444444, \"#bd3786\"], [0.5555555555555556, \"#d8576b\"], [0.6666666666666666, \"#ed7953\"], [0.7777777777777778, \"#fb9f3a\"], [0.8888888888888888, \"#fdca26\"], [1.0, \"#f0f921\"]]}, \"colorway\": [\"#636efa\", \"#EF553B\", \"#00cc96\", \"#ab63fa\", \"#FFA15A\", \"#19d3f3\", \"#FF6692\", \"#B6E880\", \"#FF97FF\", \"#FECB52\"], \"font\": {\"color\": \"#2a3f5f\"}, \"geo\": {\"bgcolor\": \"white\", \"lakecolor\": \"white\", \"landcolor\": \"#E5ECF6\", \"showlakes\": true, \"showland\": true, \"subunitcolor\": \"white\"}, \"hoverlabel\": {\"align\": \"left\"}, \"hovermode\": \"closest\", \"mapbox\": {\"style\": \"light\"}, \"paper_bgcolor\": \"white\", \"plot_bgcolor\": \"#E5ECF6\", \"polar\": {\"angularaxis\": {\"gridcolor\": \"white\", \"linecolor\": \"white\", \"ticks\": \"\"}, \"bgcolor\": \"#E5ECF6\", \"radialaxis\": {\"gridcolor\": \"white\", \"linecolor\": \"white\", \"ticks\": \"\"}}, \"scene\": {\"xaxis\": {\"backgroundcolor\": \"#E5ECF6\", \"gridcolor\": \"white\", \"gridwidth\": 2, \"linecolor\": \"white\", \"showbackground\": true, \"ticks\": \"\", \"zerolinecolor\": \"white\"}, \"yaxis\": {\"backgroundcolor\": \"#E5ECF6\", \"gridcolor\": \"white\", \"gridwidth\": 2, \"linecolor\": \"white\", \"showbackground\": true, \"ticks\": \"\", \"zerolinecolor\": \"white\"}, \"zaxis\": {\"backgroundcolor\": \"#E5ECF6\", \"gridcolor\": \"white\", \"gridwidth\": 2, \"linecolor\": \"white\", \"showbackground\": true, \"ticks\": \"\", \"zerolinecolor\": \"white\"}}, \"shapedefaults\": {\"line\": {\"color\": \"#2a3f5f\"}}, \"ternary\": {\"aaxis\": {\"gridcolor\": \"white\", \"linecolor\": \"white\", \"ticks\": \"\"}, \"baxis\": {\"gridcolor\": \"white\", \"linecolor\": \"white\", \"ticks\": \"\"}, \"bgcolor\": \"#E5ECF6\", \"caxis\": {\"gridcolor\": \"white\", \"linecolor\": \"white\", \"ticks\": \"\"}}, \"title\": {\"x\": 0.05}, \"xaxis\": {\"automargin\": true, \"gridcolor\": \"white\", \"linecolor\": \"white\", \"ticks\": \"\", \"title\": {\"standoff\": 15}, \"zerolinecolor\": \"white\", \"zerolinewidth\": 2}, \"yaxis\": {\"automargin\": true, \"gridcolor\": \"white\", \"linecolor\": \"white\", \"ticks\": \"\", \"title\": {\"standoff\": 15}, \"zerolinecolor\": \"white\", \"zerolinewidth\": 2}}}, \"title\": {\"text\": \"Price Change vs Average Sentiment\"}, \"xaxis\": {\"anchor\": \"y\", \"domain\": [0.0, 1.0], \"title\": {\"text\": \"Price_Change\"}}, \"yaxis\": {\"anchor\": \"x\", \"domain\": [0.0, 1.0], \"title\": {\"text\": \"weighted_sentiment_v5_mean\"}}},                        {\"responsive\": true}                    ).then(function(){\n",
       "                            \n",
       "var gd = document.getElementById('cd1aa688-7ced-4553-a572-dbdc0fb978de');\n",
       "var x = new MutationObserver(function (mutations, observer) {{\n",
       "        var display = window.getComputedStyle(gd).display;\n",
       "        if (!display || display === 'none') {{\n",
       "            console.log([gd, 'removed!']);\n",
       "            Plotly.purge(gd);\n",
       "            observer.disconnect();\n",
       "        }}\n",
       "}});\n",
       "\n",
       "// Listen for the removal of the full notebook cells\n",
       "var notebookContainer = gd.closest('#notebook-container');\n",
       "if (notebookContainer) {{\n",
       "    x.observe(notebookContainer, {childList: true});\n",
       "}}\n",
       "\n",
       "// Listen for the clearing of the current output cell\n",
       "var outputEl = gd.closest('.output');\n",
       "if (outputEl) {{\n",
       "    x.observe(outputEl, {childList: true});\n",
       "}}\n",
       "\n",
       "                        })                };                });            </script>        </div>"
      ]
     },
     "metadata": {},
     "output_type": "display_data"
    }
   ],
   "source": [
    "## Scatter Plot \n",
    "\n",
    "x_axis = \"Price_Change\" # \"Price_Change%\"\n",
    "y_axis = \"weighted_sentiment_v5_mean\" # \"weighted_sentiment_v2_mean\"\n",
    "\n",
    "\n",
    "fig = px.scatter(df,\n",
    "                 x=x_axis, # Price_Change%\n",
    "                 y=y_axis, # weighted_sentiment_v1_mean\n",
    "                 color=\"cross_bounds\",\n",
    "                 color_discrete_sequence=[\"grey\", \"green\", \"red\"],\n",
    "                 hover_name=\"open_time_date\",\n",
    "                 title=\"Price Change vs Average Sentiment\")\n",
    "\n",
    "fig.show()"
   ]
  },
  {
   "cell_type": "code",
   "execution_count": 57,
   "id": "prostate-writing",
   "metadata": {},
   "outputs": [
    {
     "name": "stdout",
     "output_type": "stream",
     "text": [
      "Correlation between Price Change and Average Sentiment\n"
     ]
    },
    {
     "data": {
      "text/html": [
       "<div>\n",
       "<style scoped>\n",
       "    .dataframe tbody tr th:only-of-type {\n",
       "        vertical-align: middle;\n",
       "    }\n",
       "\n",
       "    .dataframe tbody tr th {\n",
       "        vertical-align: top;\n",
       "    }\n",
       "\n",
       "    .dataframe thead th {\n",
       "        text-align: right;\n",
       "    }\n",
       "</style>\n",
       "<table border=\"1\" class=\"dataframe\">\n",
       "  <thead>\n",
       "    <tr style=\"text-align: right;\">\n",
       "      <th></th>\n",
       "      <th>Price_Change</th>\n",
       "      <th>Price_Change%</th>\n",
       "      <th>sentiment_mean</th>\n",
       "      <th>weighted_sentiment_v1_mean</th>\n",
       "      <th>weighted_sentiment_v2_mean</th>\n",
       "      <th>weighted_sentiment_v3_mean</th>\n",
       "      <th>weighted_sentiment_v4_mean</th>\n",
       "      <th>weighted_sentiment_v5_mean</th>\n",
       "      <th>weighted_sentiment_v6_mean</th>\n",
       "    </tr>\n",
       "  </thead>\n",
       "  <tbody>\n",
       "    <tr>\n",
       "      <th>Price_Change</th>\n",
       "      <td>1.00000</td>\n",
       "      <td>0.95051</td>\n",
       "      <td>0.05861</td>\n",
       "      <td>0.08342</td>\n",
       "      <td>0.04313</td>\n",
       "      <td>-0.03010</td>\n",
       "      <td>0.01625</td>\n",
       "      <td>0.07050</td>\n",
       "      <td>0.05656</td>\n",
       "    </tr>\n",
       "    <tr>\n",
       "      <th>Price_Change%</th>\n",
       "      <td>0.95051</td>\n",
       "      <td>1.00000</td>\n",
       "      <td>0.05912</td>\n",
       "      <td>0.08009</td>\n",
       "      <td>0.03351</td>\n",
       "      <td>-0.02314</td>\n",
       "      <td>0.02624</td>\n",
       "      <td>0.07016</td>\n",
       "      <td>0.05730</td>\n",
       "    </tr>\n",
       "    <tr>\n",
       "      <th>sentiment_mean</th>\n",
       "      <td>0.05861</td>\n",
       "      <td>0.05912</td>\n",
       "      <td>1.00000</td>\n",
       "      <td>0.26233</td>\n",
       "      <td>0.13085</td>\n",
       "      <td>0.13192</td>\n",
       "      <td>0.18153</td>\n",
       "      <td>0.25194</td>\n",
       "      <td>0.24662</td>\n",
       "    </tr>\n",
       "    <tr>\n",
       "      <th>weighted_sentiment_v1_mean</th>\n",
       "      <td>0.08342</td>\n",
       "      <td>0.08009</td>\n",
       "      <td>0.26233</td>\n",
       "      <td>1.00000</td>\n",
       "      <td>0.60838</td>\n",
       "      <td>0.52412</td>\n",
       "      <td>0.82608</td>\n",
       "      <td>0.99145</td>\n",
       "      <td>0.97408</td>\n",
       "    </tr>\n",
       "    <tr>\n",
       "      <th>weighted_sentiment_v2_mean</th>\n",
       "      <td>0.04313</td>\n",
       "      <td>0.03351</td>\n",
       "      <td>0.13085</td>\n",
       "      <td>0.60838</td>\n",
       "      <td>1.00000</td>\n",
       "      <td>0.48766</td>\n",
       "      <td>0.52674</td>\n",
       "      <td>0.60877</td>\n",
       "      <td>0.64695</td>\n",
       "    </tr>\n",
       "    <tr>\n",
       "      <th>weighted_sentiment_v3_mean</th>\n",
       "      <td>-0.03010</td>\n",
       "      <td>-0.02314</td>\n",
       "      <td>0.13192</td>\n",
       "      <td>0.52412</td>\n",
       "      <td>0.48766</td>\n",
       "      <td>1.00000</td>\n",
       "      <td>0.56576</td>\n",
       "      <td>0.55039</td>\n",
       "      <td>0.67871</td>\n",
       "    </tr>\n",
       "    <tr>\n",
       "      <th>weighted_sentiment_v4_mean</th>\n",
       "      <td>0.01625</td>\n",
       "      <td>0.02624</td>\n",
       "      <td>0.18153</td>\n",
       "      <td>0.82608</td>\n",
       "      <td>0.52674</td>\n",
       "      <td>0.56576</td>\n",
       "      <td>1.00000</td>\n",
       "      <td>0.89256</td>\n",
       "      <td>0.89406</td>\n",
       "    </tr>\n",
       "    <tr>\n",
       "      <th>weighted_sentiment_v5_mean</th>\n",
       "      <td>0.07050</td>\n",
       "      <td>0.07016</td>\n",
       "      <td>0.25194</td>\n",
       "      <td>0.99145</td>\n",
       "      <td>0.60877</td>\n",
       "      <td>0.55039</td>\n",
       "      <td>0.89256</td>\n",
       "      <td>1.00000</td>\n",
       "      <td>0.98645</td>\n",
       "    </tr>\n",
       "    <tr>\n",
       "      <th>weighted_sentiment_v6_mean</th>\n",
       "      <td>0.05656</td>\n",
       "      <td>0.05730</td>\n",
       "      <td>0.24662</td>\n",
       "      <td>0.97408</td>\n",
       "      <td>0.64695</td>\n",
       "      <td>0.67871</td>\n",
       "      <td>0.89406</td>\n",
       "      <td>0.98645</td>\n",
       "      <td>1.00000</td>\n",
       "    </tr>\n",
       "  </tbody>\n",
       "</table>\n",
       "</div>"
      ],
      "text/plain": [
       "                            Price_Change  Price_Change%  sentiment_mean  \\\n",
       "Price_Change                     1.00000        0.95051         0.05861   \n",
       "Price_Change%                    0.95051        1.00000         0.05912   \n",
       "sentiment_mean                   0.05861        0.05912         1.00000   \n",
       "weighted_sentiment_v1_mean       0.08342        0.08009         0.26233   \n",
       "weighted_sentiment_v2_mean       0.04313        0.03351         0.13085   \n",
       "weighted_sentiment_v3_mean      -0.03010       -0.02314         0.13192   \n",
       "weighted_sentiment_v4_mean       0.01625        0.02624         0.18153   \n",
       "weighted_sentiment_v5_mean       0.07050        0.07016         0.25194   \n",
       "weighted_sentiment_v6_mean       0.05656        0.05730         0.24662   \n",
       "\n",
       "                            weighted_sentiment_v1_mean  \\\n",
       "Price_Change                                   0.08342   \n",
       "Price_Change%                                  0.08009   \n",
       "sentiment_mean                                 0.26233   \n",
       "weighted_sentiment_v1_mean                     1.00000   \n",
       "weighted_sentiment_v2_mean                     0.60838   \n",
       "weighted_sentiment_v3_mean                     0.52412   \n",
       "weighted_sentiment_v4_mean                     0.82608   \n",
       "weighted_sentiment_v5_mean                     0.99145   \n",
       "weighted_sentiment_v6_mean                     0.97408   \n",
       "\n",
       "                            weighted_sentiment_v2_mean  \\\n",
       "Price_Change                                   0.04313   \n",
       "Price_Change%                                  0.03351   \n",
       "sentiment_mean                                 0.13085   \n",
       "weighted_sentiment_v1_mean                     0.60838   \n",
       "weighted_sentiment_v2_mean                     1.00000   \n",
       "weighted_sentiment_v3_mean                     0.48766   \n",
       "weighted_sentiment_v4_mean                     0.52674   \n",
       "weighted_sentiment_v5_mean                     0.60877   \n",
       "weighted_sentiment_v6_mean                     0.64695   \n",
       "\n",
       "                            weighted_sentiment_v3_mean  \\\n",
       "Price_Change                                  -0.03010   \n",
       "Price_Change%                                 -0.02314   \n",
       "sentiment_mean                                 0.13192   \n",
       "weighted_sentiment_v1_mean                     0.52412   \n",
       "weighted_sentiment_v2_mean                     0.48766   \n",
       "weighted_sentiment_v3_mean                     1.00000   \n",
       "weighted_sentiment_v4_mean                     0.56576   \n",
       "weighted_sentiment_v5_mean                     0.55039   \n",
       "weighted_sentiment_v6_mean                     0.67871   \n",
       "\n",
       "                            weighted_sentiment_v4_mean  \\\n",
       "Price_Change                                   0.01625   \n",
       "Price_Change%                                  0.02624   \n",
       "sentiment_mean                                 0.18153   \n",
       "weighted_sentiment_v1_mean                     0.82608   \n",
       "weighted_sentiment_v2_mean                     0.52674   \n",
       "weighted_sentiment_v3_mean                     0.56576   \n",
       "weighted_sentiment_v4_mean                     1.00000   \n",
       "weighted_sentiment_v5_mean                     0.89256   \n",
       "weighted_sentiment_v6_mean                     0.89406   \n",
       "\n",
       "                            weighted_sentiment_v5_mean  \\\n",
       "Price_Change                                   0.07050   \n",
       "Price_Change%                                  0.07016   \n",
       "sentiment_mean                                 0.25194   \n",
       "weighted_sentiment_v1_mean                     0.99145   \n",
       "weighted_sentiment_v2_mean                     0.60877   \n",
       "weighted_sentiment_v3_mean                     0.55039   \n",
       "weighted_sentiment_v4_mean                     0.89256   \n",
       "weighted_sentiment_v5_mean                     1.00000   \n",
       "weighted_sentiment_v6_mean                     0.98645   \n",
       "\n",
       "                            weighted_sentiment_v6_mean  \n",
       "Price_Change                                   0.05656  \n",
       "Price_Change%                                  0.05730  \n",
       "sentiment_mean                                 0.24662  \n",
       "weighted_sentiment_v1_mean                     0.97408  \n",
       "weighted_sentiment_v2_mean                     0.64695  \n",
       "weighted_sentiment_v3_mean                     0.67871  \n",
       "weighted_sentiment_v4_mean                     0.89406  \n",
       "weighted_sentiment_v5_mean                     0.98645  \n",
       "weighted_sentiment_v6_mean                     1.00000  "
      ]
     },
     "execution_count": 57,
     "metadata": {},
     "output_type": "execute_result"
    }
   ],
   "source": [
    "print(\"Correlation between Price Change and Average Sentiment\")\n",
    "\n",
    "# df[[\"Price_Change\",\"sentiment_mean\"]].corr()\n",
    "df[[\"Price_Change\",\"Price_Change%\",\n",
    "    \"sentiment_mean\",\n",
    "    \"weighted_sentiment_v1_mean\",\"weighted_sentiment_v2_mean\",\"weighted_sentiment_v3_mean\",\n",
    "    \"weighted_sentiment_v4_mean\",\"weighted_sentiment_v5_mean\",\"weighted_sentiment_v6_mean\"]].corr()"
   ]
  },
  {
   "cell_type": "code",
   "execution_count": 58,
   "id": "divine-phoenix",
   "metadata": {},
   "outputs": [
    {
     "data": {
      "text/html": [
       "<div>\n",
       "<style scoped>\n",
       "    .dataframe tbody tr th:only-of-type {\n",
       "        vertical-align: middle;\n",
       "    }\n",
       "\n",
       "    .dataframe tbody tr th {\n",
       "        vertical-align: top;\n",
       "    }\n",
       "\n",
       "    .dataframe thead th {\n",
       "        text-align: right;\n",
       "    }\n",
       "</style>\n",
       "<table border=\"1\" class=\"dataframe\">\n",
       "  <thead>\n",
       "    <tr style=\"text-align: right;\">\n",
       "      <th></th>\n",
       "      <th>open_time_date</th>\n",
       "      <th>close</th>\n",
       "      <th>Price_Change</th>\n",
       "      <th>Price_Change%</th>\n",
       "      <th>cross_bounds</th>\n",
       "      <th>sentiment_mean</th>\n",
       "      <th>weighted_sentiment_v1_mean</th>\n",
       "    </tr>\n",
       "  </thead>\n",
       "  <tbody>\n",
       "    <tr>\n",
       "      <th>333</th>\n",
       "      <td>2021-07-18</td>\n",
       "      <td>30.56000</td>\n",
       "      <td>-0.05000</td>\n",
       "      <td>-0.17000</td>\n",
       "      <td>neutral</td>\n",
       "      <td>0.69409</td>\n",
       "      <td>0.27542</td>\n",
       "    </tr>\n",
       "    <tr>\n",
       "      <th>339</th>\n",
       "      <td>2021-07-24</td>\n",
       "      <td>32.82500</td>\n",
       "      <td>0.47000</td>\n",
       "      <td>1.44000</td>\n",
       "      <td>neutral</td>\n",
       "      <td>0.60896</td>\n",
       "      <td>0.46971</td>\n",
       "    </tr>\n",
       "    <tr>\n",
       "      <th>305</th>\n",
       "      <td>2021-06-20</td>\n",
       "      <td>36.70300</td>\n",
       "      <td>0.16000</td>\n",
       "      <td>0.43000</td>\n",
       "      <td>neutral</td>\n",
       "      <td>0.59028</td>\n",
       "      <td>1.93422</td>\n",
       "    </tr>\n",
       "    <tr>\n",
       "      <th>306</th>\n",
       "      <td>2021-06-21</td>\n",
       "      <td>30.39300</td>\n",
       "      <td>-6.31000</td>\n",
       "      <td>-17.19000</td>\n",
       "      <td>neutral</td>\n",
       "      <td>0.56299</td>\n",
       "      <td>0.41865</td>\n",
       "    </tr>\n",
       "    <tr>\n",
       "      <th>303</th>\n",
       "      <td>2021-06-18</td>\n",
       "      <td>38.64400</td>\n",
       "      <td>-0.01000</td>\n",
       "      <td>-0.03000</td>\n",
       "      <td>neutral</td>\n",
       "      <td>0.55674</td>\n",
       "      <td>5.19574</td>\n",
       "    </tr>\n",
       "    <tr>\n",
       "      <th>...</th>\n",
       "      <td>...</td>\n",
       "      <td>...</td>\n",
       "      <td>...</td>\n",
       "      <td>...</td>\n",
       "      <td>...</td>\n",
       "      <td>...</td>\n",
       "      <td>...</td>\n",
       "    </tr>\n",
       "    <tr>\n",
       "      <th>14</th>\n",
       "      <td>2020-09-02</td>\n",
       "      <td>48.99800</td>\n",
       "      <td>-1.89000</td>\n",
       "      <td>-3.72000</td>\n",
       "      <td>neutral</td>\n",
       "      <td>0.05612</td>\n",
       "      <td>-0.03948</td>\n",
       "    </tr>\n",
       "    <tr>\n",
       "      <th>222</th>\n",
       "      <td>2021-03-29</td>\n",
       "      <td>48.31800</td>\n",
       "      <td>2.51000</td>\n",
       "      <td>5.47000</td>\n",
       "      <td>neutral</td>\n",
       "      <td>0.04498</td>\n",
       "      <td>0.19985</td>\n",
       "    </tr>\n",
       "    <tr>\n",
       "      <th>73</th>\n",
       "      <td>2020-10-31</td>\n",
       "      <td>23.23300</td>\n",
       "      <td>-1.00000</td>\n",
       "      <td>-4.11000</td>\n",
       "      <td>neutral</td>\n",
       "      <td>0.03429</td>\n",
       "      <td>0.05591</td>\n",
       "    </tr>\n",
       "    <tr>\n",
       "      <th>59</th>\n",
       "      <td>2020-10-17</td>\n",
       "      <td>28.63600</td>\n",
       "      <td>0.32000</td>\n",
       "      <td>1.15000</td>\n",
       "      <td>neutral</td>\n",
       "      <td>0.02815</td>\n",
       "      <td>-0.33480</td>\n",
       "    </tr>\n",
       "    <tr>\n",
       "      <th>79</th>\n",
       "      <td>2020-11-06</td>\n",
       "      <td>24.09500</td>\n",
       "      <td>0.63000</td>\n",
       "      <td>2.67000</td>\n",
       "      <td>neutral</td>\n",
       "      <td>-0.05117</td>\n",
       "      <td>0.00063</td>\n",
       "    </tr>\n",
       "  </tbody>\n",
       "</table>\n",
       "<p>377 rows × 7 columns</p>\n",
       "</div>"
      ],
      "text/plain": [
       "    open_time_date    close  Price_Change  Price_Change% cross_bounds  \\\n",
       "333     2021-07-18 30.56000      -0.05000       -0.17000      neutral   \n",
       "339     2021-07-24 32.82500       0.47000        1.44000      neutral   \n",
       "305     2021-06-20 36.70300       0.16000        0.43000      neutral   \n",
       "306     2021-06-21 30.39300      -6.31000      -17.19000      neutral   \n",
       "303     2021-06-18 38.64400      -0.01000       -0.03000      neutral   \n",
       "..             ...      ...           ...            ...          ...   \n",
       "14      2020-09-02 48.99800      -1.89000       -3.72000      neutral   \n",
       "222     2021-03-29 48.31800       2.51000        5.47000      neutral   \n",
       "73      2020-10-31 23.23300      -1.00000       -4.11000      neutral   \n",
       "59      2020-10-17 28.63600       0.32000        1.15000      neutral   \n",
       "79      2020-11-06 24.09500       0.63000        2.67000      neutral   \n",
       "\n",
       "     sentiment_mean  weighted_sentiment_v1_mean  \n",
       "333         0.69409                     0.27542  \n",
       "339         0.60896                     0.46971  \n",
       "305         0.59028                     1.93422  \n",
       "306         0.56299                     0.41865  \n",
       "303         0.55674                     5.19574  \n",
       "..              ...                         ...  \n",
       "14          0.05612                    -0.03948  \n",
       "222         0.04498                     0.19985  \n",
       "73          0.03429                     0.05591  \n",
       "59          0.02815                    -0.33480  \n",
       "79         -0.05117                     0.00063  \n",
       "\n",
       "[377 rows x 7 columns]"
      ]
     },
     "execution_count": 58,
     "metadata": {},
     "output_type": "execute_result"
    }
   ],
   "source": [
    "## Price Change and Average sentiment per Day\n",
    "\n",
    "df2 = df[[\"open_time_date\",\n",
    "          \"close\", \"Price_Change\", \"Price_Change%\", \"cross_bounds\",\n",
    "          \"sentiment_mean\",\"weighted_sentiment_v1_mean\"]]\n",
    "\n",
    "## Sort days based on sentiment\n",
    "\n",
    "# \"sentiment_mean\", \"weighted_sentiment_v1_mean\"\n",
    "df2.sort_values(\"sentiment_mean\",ascending=False)"
   ]
  },
  {
   "cell_type": "code",
   "execution_count": 59,
   "id": "spectacular-render",
   "metadata": {
    "scrolled": true
   },
   "outputs": [],
   "source": [
    "# Table per day\n",
    "\n",
    "# - Days with Negative Price action\n",
    "# df2.query(\"cross_bounds=='below'\")\n",
    "\n",
    "# - Days with Positive Price action\n",
    "# df2.query(\"cross_bounds=='above'\").sort_values(\"sentiment_mean\")"
   ]
  },
  {
   "cell_type": "markdown",
   "id": "cheap-howard",
   "metadata": {},
   "source": [
    "## Intra day"
   ]
  },
  {
   "cell_type": "code",
   "execution_count": 63,
   "id": "forty-decrease",
   "metadata": {},
   "outputs": [],
   "source": [
    "select_date = \"2021-08-07\""
   ]
  },
  {
   "cell_type": "code",
   "execution_count": 64,
   "id": "pacific-filling",
   "metadata": {
    "scrolled": true
   },
   "outputs": [
    {
     "name": "stdout",
     "output_type": "stream",
     "text": [
      "There are 55 tweets for this date\n"
     ]
    }
   ],
   "source": [
    "# Extract tweets for specifc date\n",
    "intra_day_tweets = tweets_df.query(\"created_at_date == @select_date\")\n",
    "print(f\"There are {len(intra_day_tweets)} tweets for this date\")"
   ]
  },
  {
   "cell_type": "code",
   "execution_count": 65,
   "id": "radical-activation",
   "metadata": {},
   "outputs": [
    {
     "data": {
      "text/html": [
       "<div>\n",
       "<style scoped>\n",
       "    .dataframe tbody tr th:only-of-type {\n",
       "        vertical-align: middle;\n",
       "    }\n",
       "\n",
       "    .dataframe tbody tr th {\n",
       "        vertical-align: top;\n",
       "    }\n",
       "\n",
       "    .dataframe thead th {\n",
       "        text-align: right;\n",
       "    }\n",
       "</style>\n",
       "<table border=\"1\" class=\"dataframe\">\n",
       "  <thead>\n",
       "    <tr style=\"text-align: right;\">\n",
       "      <th></th>\n",
       "      <th>author_id</th>\n",
       "      <th>created_at</th>\n",
       "      <th>tweet_id</th>\n",
       "      <th>text</th>\n",
       "      <th>like_count</th>\n",
       "      <th>quote_count</th>\n",
       "      <th>reply_count</th>\n",
       "      <th>retweet_count</th>\n",
       "      <th>created_at_date</th>\n",
       "      <th>created_at_date_hour</th>\n",
       "      <th>sentiment</th>\n",
       "      <th>weighted_sentiment_v1</th>\n",
       "      <th>weighted_sentiment_v2</th>\n",
       "      <th>weighted_sentiment_v3</th>\n",
       "      <th>weighted_sentiment_v4</th>\n",
       "      <th>weighted_sentiment_v5</th>\n",
       "      <th>weighted_sentiment_v6</th>\n",
       "    </tr>\n",
       "  </thead>\n",
       "  <tbody>\n",
       "    <tr>\n",
       "      <th>1021</th>\n",
       "      <td>948551073387642880</td>\n",
       "      <td>2021-08-07 12:32:09+00:00</td>\n",
       "      <td>1423985311504293894</td>\n",
       "      <td>[scan results - 15m - #usdt pair]\\n\\nbinance top 5 bullish strength\\n1: $nmr\\n2: $uni\\n3: $ltc\\n4: $ksm\\n5: $wnxm\\n\\nbinance top 5 bullish reversal strength\\n1: $unfi\\n2: $super\\n3: $fio\\n4: $gtc\\n5: $rlc</td>\n",
       "      <td>5</td>\n",
       "      <td>0</td>\n",
       "      <td>0</td>\n",
       "      <td>1</td>\n",
       "      <td>2021-08-07</td>\n",
       "      <td>2021-08-07 12</td>\n",
       "      <td>0.91690</td>\n",
       "      <td>4.58450</td>\n",
       "      <td>0.00000</td>\n",
       "      <td>0.00000</td>\n",
       "      <td>0.91690</td>\n",
       "      <td>5.50140</td>\n",
       "      <td>5.50140</td>\n",
       "    </tr>\n",
       "    <tr>\n",
       "      <th>1004</th>\n",
       "      <td>948551073387642880</td>\n",
       "      <td>2021-08-07 16:47:01+00:00</td>\n",
       "      <td>1424049452369731586</td>\n",
       "      <td>[scan results - 15m - #usdt pair]\\n\\nbinance top 5 bullish strength\\n1: $mask\\n2: $doge\\n3: $ckb\\n4: $xvs\\n5: $nmr\\n\\nbinance top 5 bullish reversal strength\\n1: $nano\\n2: $mdx\\n3: $wnxm\\n4: $paxg\\n5: $bake</td>\n",
       "      <td>5</td>\n",
       "      <td>0</td>\n",
       "      <td>1</td>\n",
       "      <td>0</td>\n",
       "      <td>2021-08-07</td>\n",
       "      <td>2021-08-07 16</td>\n",
       "      <td>0.84020</td>\n",
       "      <td>4.20100</td>\n",
       "      <td>0.00000</td>\n",
       "      <td>0.84020</td>\n",
       "      <td>0.00000</td>\n",
       "      <td>4.20100</td>\n",
       "      <td>5.04120</td>\n",
       "    </tr>\n",
       "    <tr>\n",
       "      <th>1041</th>\n",
       "      <td>948551073387642880</td>\n",
       "      <td>2021-08-07 02:31:44+00:00</td>\n",
       "      <td>1423834213669867522</td>\n",
       "      <td>[scan results - 15m - #usdt pair]\\n\\nbinance top 5 bullish strength\\n1: $eth\\n2: $doge\\n3: $nmr\\n4: $sushi\\n5: $cvc\\n\\nbinance top 5 bullish reversal strength\\n1: $clv\\n2: $ocean\\n3: $qnt\\n4: $tomo\\n5: $tlm</td>\n",
       "      <td>4</td>\n",
       "      <td>0</td>\n",
       "      <td>1</td>\n",
       "      <td>0</td>\n",
       "      <td>2021-08-07</td>\n",
       "      <td>2021-08-07 2</td>\n",
       "      <td>0.84020</td>\n",
       "      <td>3.36080</td>\n",
       "      <td>0.00000</td>\n",
       "      <td>0.84020</td>\n",
       "      <td>0.00000</td>\n",
       "      <td>3.36080</td>\n",
       "      <td>4.20100</td>\n",
       "    </tr>\n",
       "    <tr>\n",
       "      <th>1031</th>\n",
       "      <td>948551073387642880</td>\n",
       "      <td>2021-08-07 06:46:53+00:00</td>\n",
       "      <td>1423898421719666690</td>\n",
       "      <td>[scan results - 15m - #usdt pair]\\n\\nbinance top 5 bullish strength\\n1: $ern\\n2: $chr\\n3: $nmr\\n4: $vet\\n5: $xvg\\n\\nbinance top 5 bullish reversal strength\\n1: $sun\\n2: $iotx\\n3: $nu\\n4: $knc\\n5: $rep</td>\n",
       "      <td>4</td>\n",
       "      <td>0</td>\n",
       "      <td>0</td>\n",
       "      <td>2</td>\n",
       "      <td>2021-08-07</td>\n",
       "      <td>2021-08-07 6</td>\n",
       "      <td>0.84020</td>\n",
       "      <td>3.36080</td>\n",
       "      <td>0.00000</td>\n",
       "      <td>0.00000</td>\n",
       "      <td>1.68040</td>\n",
       "      <td>5.04120</td>\n",
       "      <td>5.04120</td>\n",
       "    </tr>\n",
       "    <tr>\n",
       "      <th>996</th>\n",
       "      <td>948551073387642880</td>\n",
       "      <td>2021-08-07 19:17:04+00:00</td>\n",
       "      <td>1424087213164404745</td>\n",
       "      <td>[scan results - 15m - #usdt pair]\\n\\nbinance top 5 bullish strength\\n1: $torn\\n2: $nmr\\n3: $ctxc\\n4: $dodo\\n5: $xem\\n\\nbinance top 5 bullish reversal strength\\n1: $chr\\n2: $uni\\n3: $dego\\n4: $hbar\\n5: $kmd</td>\n",
       "      <td>3</td>\n",
       "      <td>0</td>\n",
       "      <td>0</td>\n",
       "      <td>0</td>\n",
       "      <td>2021-08-07</td>\n",
       "      <td>2021-08-07 19</td>\n",
       "      <td>0.79060</td>\n",
       "      <td>2.37180</td>\n",
       "      <td>0.00000</td>\n",
       "      <td>0.00000</td>\n",
       "      <td>0.00000</td>\n",
       "      <td>2.37180</td>\n",
       "      <td>2.37180</td>\n",
       "    </tr>\n",
       "  </tbody>\n",
       "</table>\n",
       "</div>"
      ],
      "text/plain": [
       "               author_id                 created_at             tweet_id  \\\n",
       "1021  948551073387642880  2021-08-07 12:32:09+00:00  1423985311504293894   \n",
       "1004  948551073387642880  2021-08-07 16:47:01+00:00  1424049452369731586   \n",
       "1041  948551073387642880  2021-08-07 02:31:44+00:00  1423834213669867522   \n",
       "1031  948551073387642880  2021-08-07 06:46:53+00:00  1423898421719666690   \n",
       "996   948551073387642880  2021-08-07 19:17:04+00:00  1424087213164404745   \n",
       "\n",
       "                                                                                                                                                                                                                text  \\\n",
       "1021    [scan results - 15m - #usdt pair]\\n\\nbinance top 5 bullish strength\\n1: $nmr\\n2: $uni\\n3: $ltc\\n4: $ksm\\n5: $wnxm\\n\\nbinance top 5 bullish reversal strength\\n1: $unfi\\n2: $super\\n3: $fio\\n4: $gtc\\n5: $rlc   \n",
       "1004  [scan results - 15m - #usdt pair]\\n\\nbinance top 5 bullish strength\\n1: $mask\\n2: $doge\\n3: $ckb\\n4: $xvs\\n5: $nmr\\n\\nbinance top 5 bullish reversal strength\\n1: $nano\\n2: $mdx\\n3: $wnxm\\n4: $paxg\\n5: $bake   \n",
       "1041  [scan results - 15m - #usdt pair]\\n\\nbinance top 5 bullish strength\\n1: $eth\\n2: $doge\\n3: $nmr\\n4: $sushi\\n5: $cvc\\n\\nbinance top 5 bullish reversal strength\\n1: $clv\\n2: $ocean\\n3: $qnt\\n4: $tomo\\n5: $tlm   \n",
       "1031        [scan results - 15m - #usdt pair]\\n\\nbinance top 5 bullish strength\\n1: $ern\\n2: $chr\\n3: $nmr\\n4: $vet\\n5: $xvg\\n\\nbinance top 5 bullish reversal strength\\n1: $sun\\n2: $iotx\\n3: $nu\\n4: $knc\\n5: $rep   \n",
       "996    [scan results - 15m - #usdt pair]\\n\\nbinance top 5 bullish strength\\n1: $torn\\n2: $nmr\\n3: $ctxc\\n4: $dodo\\n5: $xem\\n\\nbinance top 5 bullish reversal strength\\n1: $chr\\n2: $uni\\n3: $dego\\n4: $hbar\\n5: $kmd   \n",
       "\n",
       "      like_count  quote_count  reply_count  retweet_count created_at_date  \\\n",
       "1021           5            0            0              1      2021-08-07   \n",
       "1004           5            0            1              0      2021-08-07   \n",
       "1041           4            0            1              0      2021-08-07   \n",
       "1031           4            0            0              2      2021-08-07   \n",
       "996            3            0            0              0      2021-08-07   \n",
       "\n",
       "     created_at_date_hour  sentiment  weighted_sentiment_v1  \\\n",
       "1021        2021-08-07 12    0.91690                4.58450   \n",
       "1004        2021-08-07 16    0.84020                4.20100   \n",
       "1041         2021-08-07 2    0.84020                3.36080   \n",
       "1031         2021-08-07 6    0.84020                3.36080   \n",
       "996         2021-08-07 19    0.79060                2.37180   \n",
       "\n",
       "      weighted_sentiment_v2  weighted_sentiment_v3  weighted_sentiment_v4  \\\n",
       "1021                0.00000                0.00000                0.91690   \n",
       "1004                0.00000                0.84020                0.00000   \n",
       "1041                0.00000                0.84020                0.00000   \n",
       "1031                0.00000                0.00000                1.68040   \n",
       "996                 0.00000                0.00000                0.00000   \n",
       "\n",
       "      weighted_sentiment_v5  weighted_sentiment_v6  \n",
       "1021                5.50140                5.50140  \n",
       "1004                4.20100                5.04120  \n",
       "1041                3.36080                4.20100  \n",
       "1031                5.04120                5.04120  \n",
       "996                 2.37180                2.37180  "
      ]
     },
     "execution_count": 65,
     "metadata": {},
     "output_type": "execute_result"
    }
   ],
   "source": [
    "## Check day's tweets\n",
    "intra_day_tweets.sort_values(\"like_count\", ascending=False).head(5)"
   ]
  },
  {
   "cell_type": "code",
   "execution_count": 66,
   "id": "corrected-miami",
   "metadata": {},
   "outputs": [
    {
     "data": {
      "application/vnd.plotly.v1+json": {
       "config": {
        "plotlyServerURL": "https://plot.ly"
       },
       "data": [
        {
         "customdata": [
          [
           "2021-08-07 22:03:59+00:00",
           3,
           1424129218024194000,
           "[scan results - 1h - #usdt pair]\n\nbinance top 5 bullish strength\n1: $ckb\n2: $wtc\n3: $torn\n4: $cfx\n5: $xvs\n\nbinance top 5 bullish reversal strength\n1: $wtc\n2: $link\n3: $nmr\n4: $lpt\n5: $etc"
          ],
          [
           "2021-08-07 21:00:27+00:00",
           0,
           1424113230218104800,
           "📉 biggest losers (1 hr) 📉\ninternet computer $icp -3.51% ❄️\nconflux network $cfx -2.90% ❄️\nnumeraire $nmr -2.83% ❄️\narweave $ar -2.20% ❄️\nperpetual protocol $perp -1.35% ❄️"
          ],
          [
           "2021-08-07 20:51:47+00:00",
           0,
           1424111050451005400,
           "again a nice call🤑🤑🤑🔥\n@crypto_scofield\n\n$btc $rune $ust $nano $nxm\n$zen $bnt $zb $ant $nmr $xvs\n$cvt $rvn  $bcd $hot $iost $bot\n$twt $ftm $alpha $ppt $luna\n$scrt $akro $audio $fet $vidt\n$iris $hard $uni $yoyo $axs $sxp\n$zrx $unfi $matic $ftm $srm\n$sxp $ada $aave $skl $dock https://t.co/afwrkqxt92"
          ],
          [
           "2021-08-07 20:51:32+00:00",
           0,
           1424110984600461300,
           "again a nice call🤑🔥\n@crypto_scofield\n\n$btc $rune $ust $nano $nxm\n$zen $bnt $zb $ant $nmr $xvs\n$cvt $rvn  $bcd $hot $iost $bot\n\n$twt $ftm $alpha $ppt $luna\n$scrt $akro $audio $fet $vidt\n$iris $hard $uni $yoyo $axs $sxp\n$zrx $unfi $matic $ftm $srm\n$sxp $ada $aave $skl $dock https://t.co/atjguta4kh"
          ],
          [
           "2021-08-07 20:47:28+00:00",
           2,
           1424109963811688400,
           "[scan results - 15m - #usdt pair]\n\nbinance top 5 bullish strength\n1: $etc\n2: $mask\n3: $1inch\n4: $shib\n5: $xvs\n\nbinance top 5 bullish reversal strength\n1: $inj\n2: $nmr\n3: $mdt\n4: $lit\n5: $vtho"
          ],
          [
           "2021-08-07 20:32:06+00:00",
           2,
           1424106096625688600,
           "[scan results - 15m - #usdt pair]\n\nbinance top 5 bullish strength\n1: $shib\n2: $1inch\n3: $cfx\n4: $xrp\n5: $hard\n\nbinance top 5 bullish reversal strength\n1: $inj\n2: $atom\n3: $qnt\n4: $rep\n5: $nmr"
          ],
          [
           "2021-08-07 20:09:37+00:00",
           0,
           1424100436211028000,
           "$nmr\n✅  increased 3.60% in 4.1 hour(s)\n💵 price - 40.93800000 usdt\n⏱️ [7 aug] - 20:09:37 utc\n#nmr #nmrusdt #cryptobot"
          ],
          [
           "2021-08-07 19:28:06+00:00",
           2,
           1424089990523498500,
           "top 5 mentions updated every 15 minutes\n\n  [beta stage] except btc and eth  \n\n  1- $doge:742677 point 🚀\n\n  2- $ctxc:123552 point 🚀\n\n  3- $nmr:123552 point 🚀\n\n  4- $xem:62155 point 🚀\n\n  5- $wtc:61845 point 🚀"
          ],
          [
           "2021-08-07 19:17:04+00:00",
           1,
           1424087214108160000,
           "[scan results - 15m - #btc pair]\n\nbinance top 5 bullish strength\n1: $ctxc\n2: $snt\n3: $doge\n4: $nmr\n5: $lrc\n\nbinance top 5 bullish reversal strength\n1: $pivx\n2: $chr\n3: $auto\n4: $near\n5: $sol\n\nall results for free on https://t.co/vmsa8rwq1g website!"
          ],
          [
           "2021-08-07 19:17:04+00:00",
           3,
           1424087213164404700,
           "[scan results - 15m - #usdt pair]\n\nbinance top 5 bullish strength\n1: $torn\n2: $nmr\n3: $ctxc\n4: $dodo\n5: $xem\n\nbinance top 5 bullish reversal strength\n1: $chr\n2: $uni\n3: $dego\n4: $hbar\n5: $kmd"
          ],
          [
           "2021-08-07 19:08:59+00:00",
           0,
           1424085177093873700,
           "you can get high quality signals and huge profit in short time\n\nhuge profit / diffrent signals / easy life\n\nfree join : https://t.co/hp22zvjnm6\n\n$iris $renbtc $chr $paxg $wabi $ong $nano $xvg $doge $nkn $chz $mtl $nmr $jst $agi $oax $wnxm $poa $ost $troy $avax $brd $go $pnt"
          ],
          [
           "2021-08-07 19:02:37+00:00",
           0,
           1424083575494914000,
           "again a nice call🤑🤑🔥🔥\n@crypto_scofield\n\n$btc $rune $ust $nano $nxm\n$zen $bnt $zb $ant $nmr $xvs\n$cvt $rvn  $bcd $hot $iost $bot\n$twt $ftm $alpha $ppt $luna\n$scrt $akro $audio $fet $vidt\n$iris $hard $uni $yoyo $axs $sxp\n$zrx $unfi $matic $ftm $srm\n$sxp $ada $aave $skl $dock https://t.co/afwrkqxt92"
          ],
          [
           "2021-08-07 19:02:20+00:00",
           0,
           1424083505240281000,
           "again a nice call🤑🤑\n@crypto_scofield\n\n$btc $rune $ust $nano $nxm\n$zen $bnt $zb $ant $nmr $xvs\n\n$cvt $rvn  $bcd $hot $iost $bot\n$twt $ftm $alpha $ppt $luna\n$scrt $akro $audio $fet $vidt\n$iris $hard $uni $yoyo $axs $sxp\n$zrx $unfi $matic $ftm $srm\n$sxp $ada $aave $skl $dock https://t.co/atjguta4kh"
          ],
          [
           "2021-08-07 19:00:02+00:00",
           2,
           1424082926019481600,
           "570,232 $nmr is staked on numerai's main tournament, down 9,608 $nmr compared to yesterday. the average 3 month return is 25.46%, and 3551 staked models control numerai's hedge fund."
          ],
          [
           "2021-08-07 18:09:44+00:00",
           0,
           1424070268863991800,
           "did anyone realize monster group signals powerful gain shortly time frame\n\nshortly time frame but double gain\n\nfree join : https://t.co/hp22zvjnm6\n\n$xvg $doge $nkn $chz $mtl $nmr $jst $agi $oax $wnxm $poa $ost $troy $avax $brd $go $pnt $storj $req $sky $iotx $amb $xzc $ctsi"
          ],
          [
           "2021-08-07 17:18:11+00:00",
           0,
           1424057294736744400,
           "again a nice call🤑🤑🤑🤑\n@crypto_scofield\n\n$btc $rune $ust $nano $nxm\n$zen $bnt $zb $ant $nmr $xvs\n$cvt $rvn  $bcd $hot $iost $bot\n$twt $ftm $alpha $ppt $luna\n$scrt $akro $audio $fet $vidt\n$iris $hard $uni $yoyo $axs $sxp\n\n$zrx $unfi $matic $ftm $srm\n$sxp $ada $aave $skl $dock https://t.co/afwrkqxt92"
          ],
          [
           "2021-08-07 17:17:54+00:00",
           1,
           1424057221856571400,
           "again a nice call🤑🤑🤑\n@crypto_scofield\n\n$btc $rune $ust $nano $nxm\n$zen $bnt $zb $ant $nmr $xvs\n$cvt $rvn  $bcd $hot $iost $bot\n\n$twt $ftm $alpha $ppt $luna\n$scrt $akro $audio $fet $vidt\n$iris $hard $uni $yoyo $axs $sxp\n$zrx $unfi $matic $ftm $srm\n$sxp $ada $aave $skl $dock https://t.co/atjguta4kh"
          ],
          [
           "2021-08-07 16:47:01+00:00",
           5,
           1424049452369731600,
           "[scan results - 15m - #usdt pair]\n\nbinance top 5 bullish strength\n1: $mask\n2: $doge\n3: $ckb\n4: $xvs\n5: $nmr\n\nbinance top 5 bullish reversal strength\n1: $nano\n2: $mdx\n3: $wnxm\n4: $paxg\n5: $bake"
          ],
          [
           "2021-08-07 16:39:21+00:00",
           0,
           1424047523392458800,
           "did anyone realize monster group signals powerful gain shortly time frame\n\nshortly time frame but double gain\n\nfree join : https://t.co/x8ozork4qk\n\n$xvg $doge $nkn $chz $mtl $nmr $jst $agi $oax $wnxm $poa $ost $troy $avax $brd $go $pnt $storj $req $sky $iotx $amb $xzc $ctsi"
          ],
          [
           "2021-08-07 16:00:35+00:00",
           0,
           1424037768381014000,
           "$nmr had a good start of the month at $38.65. do you think it can get past $40 by the end of august? @numerai @namaste_ml @numeraipayouts @dlinkbull \n https://t.co/jpdnnnrlbt"
          ],
          [
           "2021-08-07 15:18:04+00:00",
           0,
           1424027065909719000,
           "$nmr liking this one. small supply"
          ],
          [
           "2021-08-07 15:15:36+00:00",
           0,
           1424026447447003100,
           "$nmr\n✅  increased 4.08% in 23.1 hour(s)\n💵 price - 41.00900000 usdt\n⏱️ [7 aug] - 15:15:36 utc\n#nmr #nmrusdt #cryptobot"
          ],
          [
           "2021-08-07 15:15:19+00:00",
           0,
           1424026372591206400,
           "$nmr/usdt ⬆\nprice: 40.948\nmarket cap: 280,643,223\n24hr volume: 36,486,421\ndate added: 23 jun, 2017\nprice change 1h: 1.63%\nprice change 24h: 4.47%\nprice change 7d: 6.11%\n#binance\nnext 7d events: 0\nmore events: https://t.co/tgszktvkui"
          ],
          [
           "2021-08-07 15:11:16+00:00",
           0,
           1424025357020192800,
           "again a nice call🤑\n@crypto_scofield\n\n$btc $rune $ust $nano $nxm\n$zen $bnt $zb $ant $nmr $xvs\n$cvt $rvn  $bcd $hot $iost $bot\n$twt $ftm $alpha $ppt $luna\n$scrt $akro $audio $fet $vidt\n\n$iris $hard $uni $yoyo $axs $sxp\n$zrx $unfi $matic $ftm $srm\n$sxp $ada $aave $skl $dock https://t.co/afwrkqxt92"
          ],
          [
           "2021-08-07 15:11:03+00:00",
           0,
           1424025300128653300,
           "again a nice call🤑🤑🤑\n@crypto_scofield\n\n$btc $rune $ust $nano $nxm\n$zen $bnt $zb $ant $nmr $xvs\n$cvt $rvn  $bcd $hot $iost $bot\n$twt $ftm $alpha $ppt $luna\n$scrt $akro $audio $fet $vidt\n$iris $hard $uni $yoyo $axs $sxp\n$zrx $unfi $matic $ftm $srm\n$sxp $ada $aave $skl $dock https://t.co/atjguta4kh"
          ],
          [
           "2021-08-07 14:31:45+00:00",
           1,
           1424015410064760800,
           "[scan results - 15m - #btc pair]\n\nbinance top 5 bullish strength\n1: $strax\n2: $evx\n3: $etc\n4: $ez\n5: $tct\n\nbinance top 5 bullish reversal strength\n1: $om\n2: $theta\n3: $gtc\n4: $nmr\n5: $lrc\n\nall results for free on https://t.co/vmsa8rwq1g website!"
          ],
          [
           "2021-08-07 14:19:36+00:00",
           0,
           1424012352580690000,
           "again a nice call🤑🤑\n@crypto_scofield\n\n$btc $rune $ust $nano $nxm\n$zen $bnt $zb $ant $nmr $xvs\n\n$cvt $rvn  $bcd $hot $iost $bot\n$twt $ftm $alpha $ppt $luna\n$scrt $akro $audio $fet $vidt\n$iris $hard $uni $yoyo $axs $sxp\n\n$zrx $unfi $matic $ftm $srm\n$sxp $ada $aave $skl $dock https://t.co/afwrkqxt92"
          ],
          [
           "2021-08-07 14:19:18+00:00",
           0,
           1424012278530183200,
           "again a nice call🤑\n@crypto_scofield\n\n$btc $rune $ust $nano $nxm\n$zen $bnt $zb $ant $nmr $xvs\n$cvt $rvn  $bcd $hot $iost $bot\n\n$twt $ftm $alpha $ppt $luna\n$scrt $akro $audio $fet $vidt\n$iris $hard $uni $yoyo $axs $sxp\n$zrx $unfi $matic $ftm $srm\n$sxp $ada $aave $skl $dock https://t.co/atjguta4kh"
          ],
          [
           "2021-08-07 14:16:50+00:00",
           3,
           1424011657819345000,
           "[scan results - 15m - #btc pair]\n\nbinance top 5 bullish strength\n1: $oxt\n2: $strax\n3: $amb\n4: $nano\n5: $eth\n\nbinance top 5 bullish reversal strength\n1: $ast\n2: $gtc\n3: $rose\n4: $ankr\n5: $nmr\n\nall results for free on https://t.co/vmsa8rwq1g website!"
          ],
          [
           "2021-08-07 14:11:07+00:00",
           0,
           1424010216933232600,
           "no.1 influential on crypto group don't miss to join chance\n\nfree join : https://t.co/hp22zvjnm6\n\n$wtc $for $ant $strax $ava $luna $steem $arpa $adx $akro $cos $kmd $bqx $beam $perl $dock $iris $renbtc $chr $paxg $wabi $ong $nano $xvg $doge $nkn $chz $mtl $nmr $jst $agi $oax"
          ],
          [
           "2021-08-07 13:58:37+00:00",
           0,
           1424007073411604500,
           "again a nice call🤑✅\n@crypto_scofield\n\n$btc $rune $ust $nano $nxm\n$zen $bnt $zb $ant $nmr $xvs\n$cvt $rvn  $bcd $hot $iost $bot\n$twt $ftm $alpha $ppt $luna\n$scrt $akro $audio $fet $vidt\n$iris $hard $uni $yoyo $axs $sxp\n$zrx $unfi $matic $ftm $srm\n$sxp $ada $aave $skl $dock https://t.co/afwrkqxt92"
          ],
          [
           "2021-08-07 13:58:24+00:00",
           0,
           1424007017014960000,
           "again a nice call🤑🤑🤑✅\n@crypto_scofield\n\n$btc $rune $ust $nano $nxm\n$zen $bnt $zb $ant $nmr $xvs\n$cvt $rvn  $bcd $hot $iost $bot\n$twt $ftm $alpha $ppt $luna\n$scrt $akro $audio $fet $vidt\n$iris $hard $uni $yoyo $axs $sxp\n$zrx $unfi $matic $ftm $srm\n$sxp $ada $aave $skl $dock https://t.co/atjguta4kh"
          ],
          [
           "2021-08-07 13:12:50+00:00",
           2,
           1423995549125169200,
           "how i has it ?      $rep $ocean $neo $ckb $sol $matic $near $lrg $rsr $pax $data $rune $zrx $husd $dx $ctc $ocean $nmr $nmr $ads $bat $qnt $adk $ampl $lsk $iost $uqc $dgb $crv $hex $ewt $ardr $luna $tusd $qnt $jul $lrc $zrx $dx $paxg $bal $mtc $qtum $wan $adx $rvn $dnt https://t.co/8zcbt1fi01"
          ],
          [
           "2021-08-07 13:10:51+00:00",
           2,
           1423995053329064000,
           "ads of future now !     $rep $ich $lsk $band $crv $matic $bts $zrx $ren $rsr $paxg $qtum $celo $hedg $stx $btm $uos $jul $scrt $dgb $oxt $abbc $bat $sushi $nmr $crv $bcd $egld $iost $rsr $enj $band $bts $wan $trb $rev $ckb $trat $btm $rune $uma $noia $ctc $stx $dx $kava $rvn https://t.co/qyxk7aynag"
          ],
          [
           "2021-08-07 12:32:09+00:00",
           5,
           1423985311504294000,
           "[scan results - 15m - #usdt pair]\n\nbinance top 5 bullish strength\n1: $nmr\n2: $uni\n3: $ltc\n4: $ksm\n5: $wnxm\n\nbinance top 5 bullish reversal strength\n1: $unfi\n2: $super\n3: $fio\n4: $gtc\n5: $rlc"
          ],
          [
           "2021-08-07 08:55:52+00:00",
           0,
           1423930881744515000,
           "again a nice call🤑✔✅\n@crypto_scofield\n\n$btc $rune $ust $nano $nxm\n$zen $bnt $zb $ant $nmr $xvs\n\n$cvt $rvn  $bcd $hot $iost $bot\n$twt $ftm $alpha $ppt $luna\n$scrt $akro $audio $fet $vidt\n\n$iris $hard $uni $yoyo $axs $sxp\n$zrx $unfi $matic $ftm $srm\n$sxp $ada $aave $skl $dock https://t.co/afwrkqxt92"
          ],
          [
           "2021-08-07 08:55:35+00:00",
           0,
           1423930809627680800,
           "again a nice call🤑🏆🏆🏆\n@crypto_scofield\n\n$btc $rune $ust $nano $nxm\n$zen $bnt $zb $ant $nmr $xvs\n$cvt $rvn  $bcd $hot $iost $bot\n$twt $ftm $alpha $ppt $luna\n$scrt $akro $audio $fet $vidt\n$iris $hard $uni $yoyo $axs $sxp\n$zrx $unfi $matic $ftm $srm\n$sxp $ada $aave $skl $dock https://t.co/atjguta4kh"
          ],
          [
           "2021-08-07 08:40:09+00:00",
           0,
           1423926926251491300,
           "you can get high quality signals and huge profit in short time\n\nhuge profit / diffrent signals / easy life\n\nfree join : https://t.co/hp22zvjnm6\n\n$iris $renbtc $chr $paxg $wabi $ong $nano $xvg $doge $nkn $chz $mtl $nmr $jst $agi $oax $wnxm $poa $ost $troy $avax $brd $go $pnt"
          ],
          [
           "2021-08-07 08:40:03+00:00",
           0,
           1423926904403292200,
           "you can get high quality signals and huge profit in short time\n\nhuge profit / diffrent signals / easy life\n\nfree join : https://t.co/x8ozork4qk\n\n$iris $renbtc $chr $paxg $wabi $ong $nano $xvg $doge $nkn $chz $mtl $nmr $jst $agi $oax $wnxm $poa $ost $troy $avax $brd $go $pnt"
          ],
          [
           "2021-08-07 08:14:14+00:00",
           0,
           1423920405312585700,
           "again a nice call🤑🔥🔥\n@crypto_scofield\n\n$btc $rune $ust $nano $nxm\n\n$zen $bnt $zb $ant $nmr $xvs\n$cvt $rvn  $bcd $hot $iost $bot\n$twt $ftm $alpha $ppt $luna\n$scrt $akro $audio $fet $vidt\n$iris $hard $uni $yoyo $axs $sxp\n$zrx $unfi $matic $ftm $srm\n$sxp $ada $aave $skl $dock https://t.co/afwrkqxt92"
          ],
          [
           "2021-08-07 08:13:56+00:00",
           0,
           1423920328720502800,
           "again a nice call🤑\n@crypto_scofield\n\n$btc $rune $ust $nano $nxm\n$zen $bnt $zb $ant $nmr $xvs\n$cvt $rvn  $bcd $hot $iost $bot\n\n$twt $ftm $alpha $ppt $luna\n$scrt $akro $audio $fet $vidt\n$iris $hard $uni $yoyo $axs $sxp\n\n$zrx $unfi $matic $ftm $srm\n$sxp $ada $aave $skl $dock https://t.co/atjguta4kh"
          ],
          [
           "2021-08-07 07:46:54+00:00",
           0,
           1423913526721192000,
           "again a nice call🤑🤑🤑\n@crypto_scofield\n\n$btc $rune $ust $nano $nxm\n$zen $bnt $zb $ant $nmr $xvs\n$cvt $rvn  $bcd $hot $iost $bot\n$twt $ftm $alpha $ppt $luna\n$scrt $akro $audio $fet $vidt\n$iris $hard $uni $yoyo $axs $sxp\n$zrx $unfi $matic $ftm $srm\n$sxp $ada $aave $skl $dock https://t.co/afwrkqxt92"
          ],
          [
           "2021-08-07 07:44:02+00:00",
           0,
           1423912806508867600,
           "again a nice call🤑🤑\n@crypto_scofield\n\n$btc $rune $ust $nano $nxm\n$zen $bnt $zb $ant $nmr $xvs\n\n$cvt $rvn  $bcd $hot $iost $bot\n$twt $ftm $alpha $ppt $luna\n$scrt $akro $audio $fet $vidt\n\n$iris $hard $uni $yoyo $axs $sxp\n$zrx $unfi $matic $ftm $srm\n$sxp $ada $aave $skl $dock https://t.co/atjguta4kh"
          ],
          [
           "2021-08-07 06:56:53+00:00",
           0,
           1423900939224862700,
           "$nmr nmr/usd(#coinbasepro)\nsell signal @ $40.49320\nmacd crossover\nshort term bear run\nex vol: 70,574.1630\n#investment #invest #forex #numeraire\n\ncurpay protects your assets and makes profit. any questions? @ https://t.co/7ugd2ocvpx"
          ],
          [
           "2021-08-07 06:46:53+00:00",
           4,
           1423898421719666700,
           "[scan results - 15m - #usdt pair]\n\nbinance top 5 bullish strength\n1: $ern\n2: $chr\n3: $nmr\n4: $vet\n5: $xvg\n\nbinance top 5 bullish reversal strength\n1: $sun\n2: $iotx\n3: $nu\n4: $knc\n5: $rep"
          ],
          [
           "2021-08-07 06:41:10+00:00",
           2,
           1423896983358644200,
           "do not miss $nmr ride guys 🔥🔥🔥🔥🔥🚀🚀🚀🚀🚀🚀🚀🚀🚀\n\n#cryptotrade #cryptocurency #cryptoworld #cryptonews #crypto #cryptotrading $btc $eth @whale_sniper @whale_alert"
          ],
          [
           "2021-08-07 06:40:30+00:00",
           0,
           1423896818476191700,
           "there is no better group than monster group.\n\nmore than 700%++ profit in a week !!\n\nfree join : https://t.co/x8ozork4qk\n\n$perl $dock $iris $renbtc $chr $paxg $wabi $ong $nano $xvg $doge $nkn $chz $mtl $nmr $jst $agi $oax $wnxm $poa $ost $troy $avax $brd $go $pnt $storj $req"
          ],
          [
           "2021-08-07 06:37:34+00:00",
           3,
           1423896079058325500,
           "sleeping people wake up call $nmr 🔥🔥🔥🔥🔥🚀🚀🚀🚀🚀🚀🚀🚀🚀🚀🚀🚀🚀🚀🚀🚀🚀🚀🚀\n\n#cryptotrade #cryptocurency #cryptoworld #cryptonews #crypto #cryptotrading $btc $eth @whale_sniper @whale_alert"
          ],
          [
           "2021-08-07 06:36:49+00:00",
           3,
           1423895891849752600,
           "$nmr guys looks amazing 🔥🔥🔥🔥🚀🚀🚀🚀🚀🚀🚀🚀🚀🚀🚀🚀🚀\n\n#cryptotrade #cryptocurency #cryptoworld #cryptonews #crypto #cryptotrading $btc $eth @whale_sniper @whale_alert"
          ],
          [
           "2021-08-07 06:31:20+00:00",
           1,
           1423894508035616800,
           "again a nice call🤑\n@crypto_scofield\n\n$btc $rune $ust $nano $nxm\n$zen $bnt $zb $ant $nmr $xvs\n$cvt $rvn  $bcd $hot $iost $bot\n$twt $ftm $alpha $ppt $luna\n$scrt $akro $audio $fet $vidt\n$iris $hard $uni $yoyo $axs $sxp\n$zrx $unfi $matic $ftm $srm\n$sxp $ada $aave $skl $dock https://t.co/afwrkqxt92"
          ],
          [
           "2021-08-07 06:31:02+00:00",
           0,
           1423894433779564500,
           "again a nice call🤑\n@crypto_scofield\n\n$btc $rune $ust $nano $nxm\n$zen $bnt $zb $ant $nmr $xvs\n$cvt $rvn  $bcd $hot $iost $bot\n$twt $ftm $alpha $ppt $luna\n$scrt $akro $audio $fet $vidt\n$iris $hard $uni $yoyo $axs $sxp\n$zrx $unfi $matic $ftm $srm\n$sxp $ada $aave $skl $dock https://t.co/atjguta4kh"
          ],
          [
           "2021-08-07 05:15:06+00:00",
           0,
           1423875324060786700,
           "📈 mover alert: numeraire ($38.87, -1%) gained 18 positions on coinmarketcap. its rank is now 148. @numerai $nmr"
          ],
          [
           "2021-08-07 04:12:56+00:00",
           0,
           1423859682205110300,
           "$nmr/usdt ⬆\nprice: 39.647\nmarket cap: 274,319,275\n24hr volume: 30,892,065\ndate added: 23 jun, 2017\nprice change 1h: 0.84%\nprice change 24h: 2.77%\nprice change 7d: 3.00%\n#binance\nnext 7d events: 0\nmore events: https://t.co/tgszktvkui"
          ],
          [
           "2021-08-07 03:08:56+00:00",
           0,
           1423843575603765200,
           "there is no better group than monster group.\n\nmore than 700%++ profit in a week !!\n\nfree join : https://t.co/hp22zvjnm6\n\n$perl $dock $iris $renbtc $chr $paxg $wabi $ong $nano $xvg $doge $nkn $chz $mtl $nmr $jst $agi $oax $wnxm $poa $ost $troy $avax $brd $go $pnt $storj $req"
          ],
          [
           "2021-08-07 02:31:44+00:00",
           4,
           1423834213669867500,
           "[scan results - 15m - #usdt pair]\n\nbinance top 5 bullish strength\n1: $eth\n2: $doge\n3: $nmr\n4: $sushi\n5: $cvc\n\nbinance top 5 bullish reversal strength\n1: $clv\n2: $ocean\n3: $qnt\n4: $tomo\n5: $tlm"
          ]
         ],
         "hovertemplate": "<b>%{hovertext}</b><br><br>created_at=%{customdata[0]}<br>like_count=%{customdata[1]}<br>tweet_id=%{customdata[2]}<br>text=%{customdata[3]}<extra></extra>",
         "hovertext": [
          948551073387642900,
          947953619726360600,
          1346854325658800000,
          1346854325658800000,
          948551073387642900,
          948551073387642900,
          1141208687001780200,
          2857923496,
          948551073387642900,
          948551073387642900,
          1329640297760911400,
          1346854325658800000,
          1346854325658800000,
          1192737727617343500,
          1329640297760911400,
          1346854325658800000,
          1346854325658800000,
          948551073387642900,
          1330051109638070300,
          1348636120301580300,
          594162137,
          1141208687001780200,
          1395475282463797200,
          1346854325658800000,
          1346854325658800000,
          948551073387642900,
          1346854325658800000,
          1346854325658800000,
          948551073387642900,
          1329640297760911400,
          1346854325658800000,
          1346854325658800000,
          1363255276732883000,
          1332702132588474400,
          948551073387642900,
          1346854325658800000,
          1346854325658800000,
          1329640297760911400,
          1330051109638070300,
          1346854325658800000,
          1346854325658800000,
          1346854325658800000,
          1346854325658800000,
          1336700907812253700,
          948551073387642900,
          1365817266013679600,
          1330051109638070300,
          1365817266013679600,
          1365817266013679600,
          1346854325658800000,
          1346854325658800000,
          1008381971951685600,
          1395475282463797200,
          1329640297760911400,
          948551073387642900
         ],
         "legendgroup": "",
         "line": {
          "color": "#636efa",
          "dash": "solid"
         },
         "mode": "lines",
         "name": "",
         "orientation": "v",
         "showlegend": false,
         "type": "scatter",
         "x": [
          "2021-08-07 22:03:59+00:00",
          "2021-08-07 21:00:27+00:00",
          "2021-08-07 20:51:47+00:00",
          "2021-08-07 20:51:32+00:00",
          "2021-08-07 20:47:28+00:00",
          "2021-08-07 20:32:06+00:00",
          "2021-08-07 20:09:37+00:00",
          "2021-08-07 19:28:06+00:00",
          "2021-08-07 19:17:04+00:00",
          "2021-08-07 19:17:04+00:00",
          "2021-08-07 19:08:59+00:00",
          "2021-08-07 19:02:37+00:00",
          "2021-08-07 19:02:20+00:00",
          "2021-08-07 19:00:02+00:00",
          "2021-08-07 18:09:44+00:00",
          "2021-08-07 17:18:11+00:00",
          "2021-08-07 17:17:54+00:00",
          "2021-08-07 16:47:01+00:00",
          "2021-08-07 16:39:21+00:00",
          "2021-08-07 16:00:35+00:00",
          "2021-08-07 15:18:04+00:00",
          "2021-08-07 15:15:36+00:00",
          "2021-08-07 15:15:19+00:00",
          "2021-08-07 15:11:16+00:00",
          "2021-08-07 15:11:03+00:00",
          "2021-08-07 14:31:45+00:00",
          "2021-08-07 14:19:36+00:00",
          "2021-08-07 14:19:18+00:00",
          "2021-08-07 14:16:50+00:00",
          "2021-08-07 14:11:07+00:00",
          "2021-08-07 13:58:37+00:00",
          "2021-08-07 13:58:24+00:00",
          "2021-08-07 13:12:50+00:00",
          "2021-08-07 13:10:51+00:00",
          "2021-08-07 12:32:09+00:00",
          "2021-08-07 08:55:52+00:00",
          "2021-08-07 08:55:35+00:00",
          "2021-08-07 08:40:09+00:00",
          "2021-08-07 08:40:03+00:00",
          "2021-08-07 08:14:14+00:00",
          "2021-08-07 08:13:56+00:00",
          "2021-08-07 07:46:54+00:00",
          "2021-08-07 07:44:02+00:00",
          "2021-08-07 06:56:53+00:00",
          "2021-08-07 06:46:53+00:00",
          "2021-08-07 06:41:10+00:00",
          "2021-08-07 06:40:30+00:00",
          "2021-08-07 06:37:34+00:00",
          "2021-08-07 06:36:49+00:00",
          "2021-08-07 06:31:20+00:00",
          "2021-08-07 06:31:02+00:00",
          "2021-08-07 05:15:06+00:00",
          "2021-08-07 04:12:56+00:00",
          "2021-08-07 03:08:56+00:00",
          "2021-08-07 02:31:44+00:00"
         ],
         "xaxis": "x",
         "y": [
          3,
          0,
          0,
          0,
          2,
          2,
          0,
          2,
          1,
          3,
          0,
          0,
          0,
          2,
          0,
          0,
          1,
          5,
          0,
          0,
          0,
          0,
          0,
          0,
          0,
          1,
          0,
          0,
          3,
          0,
          0,
          0,
          2,
          2,
          5,
          0,
          0,
          0,
          0,
          0,
          0,
          0,
          0,
          0,
          4,
          2,
          0,
          3,
          3,
          1,
          0,
          0,
          0,
          0,
          4
         ],
         "yaxis": "y"
        }
       ],
       "layout": {
        "legend": {
         "tracegroupgap": 0
        },
        "template": {
         "data": {
          "bar": [
           {
            "error_x": {
             "color": "#2a3f5f"
            },
            "error_y": {
             "color": "#2a3f5f"
            },
            "marker": {
             "line": {
              "color": "#E5ECF6",
              "width": 0.5
             }
            },
            "type": "bar"
           }
          ],
          "barpolar": [
           {
            "marker": {
             "line": {
              "color": "#E5ECF6",
              "width": 0.5
             }
            },
            "type": "barpolar"
           }
          ],
          "carpet": [
           {
            "aaxis": {
             "endlinecolor": "#2a3f5f",
             "gridcolor": "white",
             "linecolor": "white",
             "minorgridcolor": "white",
             "startlinecolor": "#2a3f5f"
            },
            "baxis": {
             "endlinecolor": "#2a3f5f",
             "gridcolor": "white",
             "linecolor": "white",
             "minorgridcolor": "white",
             "startlinecolor": "#2a3f5f"
            },
            "type": "carpet"
           }
          ],
          "choropleth": [
           {
            "colorbar": {
             "outlinewidth": 0,
             "ticks": ""
            },
            "type": "choropleth"
           }
          ],
          "contour": [
           {
            "colorbar": {
             "outlinewidth": 0,
             "ticks": ""
            },
            "colorscale": [
             [
              0,
              "#0d0887"
             ],
             [
              0.1111111111111111,
              "#46039f"
             ],
             [
              0.2222222222222222,
              "#7201a8"
             ],
             [
              0.3333333333333333,
              "#9c179e"
             ],
             [
              0.4444444444444444,
              "#bd3786"
             ],
             [
              0.5555555555555556,
              "#d8576b"
             ],
             [
              0.6666666666666666,
              "#ed7953"
             ],
             [
              0.7777777777777778,
              "#fb9f3a"
             ],
             [
              0.8888888888888888,
              "#fdca26"
             ],
             [
              1,
              "#f0f921"
             ]
            ],
            "type": "contour"
           }
          ],
          "contourcarpet": [
           {
            "colorbar": {
             "outlinewidth": 0,
             "ticks": ""
            },
            "type": "contourcarpet"
           }
          ],
          "heatmap": [
           {
            "colorbar": {
             "outlinewidth": 0,
             "ticks": ""
            },
            "colorscale": [
             [
              0,
              "#0d0887"
             ],
             [
              0.1111111111111111,
              "#46039f"
             ],
             [
              0.2222222222222222,
              "#7201a8"
             ],
             [
              0.3333333333333333,
              "#9c179e"
             ],
             [
              0.4444444444444444,
              "#bd3786"
             ],
             [
              0.5555555555555556,
              "#d8576b"
             ],
             [
              0.6666666666666666,
              "#ed7953"
             ],
             [
              0.7777777777777778,
              "#fb9f3a"
             ],
             [
              0.8888888888888888,
              "#fdca26"
             ],
             [
              1,
              "#f0f921"
             ]
            ],
            "type": "heatmap"
           }
          ],
          "heatmapgl": [
           {
            "colorbar": {
             "outlinewidth": 0,
             "ticks": ""
            },
            "colorscale": [
             [
              0,
              "#0d0887"
             ],
             [
              0.1111111111111111,
              "#46039f"
             ],
             [
              0.2222222222222222,
              "#7201a8"
             ],
             [
              0.3333333333333333,
              "#9c179e"
             ],
             [
              0.4444444444444444,
              "#bd3786"
             ],
             [
              0.5555555555555556,
              "#d8576b"
             ],
             [
              0.6666666666666666,
              "#ed7953"
             ],
             [
              0.7777777777777778,
              "#fb9f3a"
             ],
             [
              0.8888888888888888,
              "#fdca26"
             ],
             [
              1,
              "#f0f921"
             ]
            ],
            "type": "heatmapgl"
           }
          ],
          "histogram": [
           {
            "marker": {
             "colorbar": {
              "outlinewidth": 0,
              "ticks": ""
             }
            },
            "type": "histogram"
           }
          ],
          "histogram2d": [
           {
            "colorbar": {
             "outlinewidth": 0,
             "ticks": ""
            },
            "colorscale": [
             [
              0,
              "#0d0887"
             ],
             [
              0.1111111111111111,
              "#46039f"
             ],
             [
              0.2222222222222222,
              "#7201a8"
             ],
             [
              0.3333333333333333,
              "#9c179e"
             ],
             [
              0.4444444444444444,
              "#bd3786"
             ],
             [
              0.5555555555555556,
              "#d8576b"
             ],
             [
              0.6666666666666666,
              "#ed7953"
             ],
             [
              0.7777777777777778,
              "#fb9f3a"
             ],
             [
              0.8888888888888888,
              "#fdca26"
             ],
             [
              1,
              "#f0f921"
             ]
            ],
            "type": "histogram2d"
           }
          ],
          "histogram2dcontour": [
           {
            "colorbar": {
             "outlinewidth": 0,
             "ticks": ""
            },
            "colorscale": [
             [
              0,
              "#0d0887"
             ],
             [
              0.1111111111111111,
              "#46039f"
             ],
             [
              0.2222222222222222,
              "#7201a8"
             ],
             [
              0.3333333333333333,
              "#9c179e"
             ],
             [
              0.4444444444444444,
              "#bd3786"
             ],
             [
              0.5555555555555556,
              "#d8576b"
             ],
             [
              0.6666666666666666,
              "#ed7953"
             ],
             [
              0.7777777777777778,
              "#fb9f3a"
             ],
             [
              0.8888888888888888,
              "#fdca26"
             ],
             [
              1,
              "#f0f921"
             ]
            ],
            "type": "histogram2dcontour"
           }
          ],
          "mesh3d": [
           {
            "colorbar": {
             "outlinewidth": 0,
             "ticks": ""
            },
            "type": "mesh3d"
           }
          ],
          "parcoords": [
           {
            "line": {
             "colorbar": {
              "outlinewidth": 0,
              "ticks": ""
             }
            },
            "type": "parcoords"
           }
          ],
          "pie": [
           {
            "automargin": true,
            "type": "pie"
           }
          ],
          "scatter": [
           {
            "marker": {
             "colorbar": {
              "outlinewidth": 0,
              "ticks": ""
             }
            },
            "type": "scatter"
           }
          ],
          "scatter3d": [
           {
            "line": {
             "colorbar": {
              "outlinewidth": 0,
              "ticks": ""
             }
            },
            "marker": {
             "colorbar": {
              "outlinewidth": 0,
              "ticks": ""
             }
            },
            "type": "scatter3d"
           }
          ],
          "scattercarpet": [
           {
            "marker": {
             "colorbar": {
              "outlinewidth": 0,
              "ticks": ""
             }
            },
            "type": "scattercarpet"
           }
          ],
          "scattergeo": [
           {
            "marker": {
             "colorbar": {
              "outlinewidth": 0,
              "ticks": ""
             }
            },
            "type": "scattergeo"
           }
          ],
          "scattergl": [
           {
            "marker": {
             "colorbar": {
              "outlinewidth": 0,
              "ticks": ""
             }
            },
            "type": "scattergl"
           }
          ],
          "scattermapbox": [
           {
            "marker": {
             "colorbar": {
              "outlinewidth": 0,
              "ticks": ""
             }
            },
            "type": "scattermapbox"
           }
          ],
          "scatterpolar": [
           {
            "marker": {
             "colorbar": {
              "outlinewidth": 0,
              "ticks": ""
             }
            },
            "type": "scatterpolar"
           }
          ],
          "scatterpolargl": [
           {
            "marker": {
             "colorbar": {
              "outlinewidth": 0,
              "ticks": ""
             }
            },
            "type": "scatterpolargl"
           }
          ],
          "scatterternary": [
           {
            "marker": {
             "colorbar": {
              "outlinewidth": 0,
              "ticks": ""
             }
            },
            "type": "scatterternary"
           }
          ],
          "surface": [
           {
            "colorbar": {
             "outlinewidth": 0,
             "ticks": ""
            },
            "colorscale": [
             [
              0,
              "#0d0887"
             ],
             [
              0.1111111111111111,
              "#46039f"
             ],
             [
              0.2222222222222222,
              "#7201a8"
             ],
             [
              0.3333333333333333,
              "#9c179e"
             ],
             [
              0.4444444444444444,
              "#bd3786"
             ],
             [
              0.5555555555555556,
              "#d8576b"
             ],
             [
              0.6666666666666666,
              "#ed7953"
             ],
             [
              0.7777777777777778,
              "#fb9f3a"
             ],
             [
              0.8888888888888888,
              "#fdca26"
             ],
             [
              1,
              "#f0f921"
             ]
            ],
            "type": "surface"
           }
          ],
          "table": [
           {
            "cells": {
             "fill": {
              "color": "#EBF0F8"
             },
             "line": {
              "color": "white"
             }
            },
            "header": {
             "fill": {
              "color": "#C8D4E3"
             },
             "line": {
              "color": "white"
             }
            },
            "type": "table"
           }
          ]
         },
         "layout": {
          "annotationdefaults": {
           "arrowcolor": "#2a3f5f",
           "arrowhead": 0,
           "arrowwidth": 1
          },
          "coloraxis": {
           "colorbar": {
            "outlinewidth": 0,
            "ticks": ""
           }
          },
          "colorscale": {
           "diverging": [
            [
             0,
             "#8e0152"
            ],
            [
             0.1,
             "#c51b7d"
            ],
            [
             0.2,
             "#de77ae"
            ],
            [
             0.3,
             "#f1b6da"
            ],
            [
             0.4,
             "#fde0ef"
            ],
            [
             0.5,
             "#f7f7f7"
            ],
            [
             0.6,
             "#e6f5d0"
            ],
            [
             0.7,
             "#b8e186"
            ],
            [
             0.8,
             "#7fbc41"
            ],
            [
             0.9,
             "#4d9221"
            ],
            [
             1,
             "#276419"
            ]
           ],
           "sequential": [
            [
             0,
             "#0d0887"
            ],
            [
             0.1111111111111111,
             "#46039f"
            ],
            [
             0.2222222222222222,
             "#7201a8"
            ],
            [
             0.3333333333333333,
             "#9c179e"
            ],
            [
             0.4444444444444444,
             "#bd3786"
            ],
            [
             0.5555555555555556,
             "#d8576b"
            ],
            [
             0.6666666666666666,
             "#ed7953"
            ],
            [
             0.7777777777777778,
             "#fb9f3a"
            ],
            [
             0.8888888888888888,
             "#fdca26"
            ],
            [
             1,
             "#f0f921"
            ]
           ],
           "sequentialminus": [
            [
             0,
             "#0d0887"
            ],
            [
             0.1111111111111111,
             "#46039f"
            ],
            [
             0.2222222222222222,
             "#7201a8"
            ],
            [
             0.3333333333333333,
             "#9c179e"
            ],
            [
             0.4444444444444444,
             "#bd3786"
            ],
            [
             0.5555555555555556,
             "#d8576b"
            ],
            [
             0.6666666666666666,
             "#ed7953"
            ],
            [
             0.7777777777777778,
             "#fb9f3a"
            ],
            [
             0.8888888888888888,
             "#fdca26"
            ],
            [
             1,
             "#f0f921"
            ]
           ]
          },
          "colorway": [
           "#636efa",
           "#EF553B",
           "#00cc96",
           "#ab63fa",
           "#FFA15A",
           "#19d3f3",
           "#FF6692",
           "#B6E880",
           "#FF97FF",
           "#FECB52"
          ],
          "font": {
           "color": "#2a3f5f"
          },
          "geo": {
           "bgcolor": "white",
           "lakecolor": "white",
           "landcolor": "#E5ECF6",
           "showlakes": true,
           "showland": true,
           "subunitcolor": "white"
          },
          "hoverlabel": {
           "align": "left"
          },
          "hovermode": "closest",
          "mapbox": {
           "style": "light"
          },
          "paper_bgcolor": "white",
          "plot_bgcolor": "#E5ECF6",
          "polar": {
           "angularaxis": {
            "gridcolor": "white",
            "linecolor": "white",
            "ticks": ""
           },
           "bgcolor": "#E5ECF6",
           "radialaxis": {
            "gridcolor": "white",
            "linecolor": "white",
            "ticks": ""
           }
          },
          "scene": {
           "xaxis": {
            "backgroundcolor": "#E5ECF6",
            "gridcolor": "white",
            "gridwidth": 2,
            "linecolor": "white",
            "showbackground": true,
            "ticks": "",
            "zerolinecolor": "white"
           },
           "yaxis": {
            "backgroundcolor": "#E5ECF6",
            "gridcolor": "white",
            "gridwidth": 2,
            "linecolor": "white",
            "showbackground": true,
            "ticks": "",
            "zerolinecolor": "white"
           },
           "zaxis": {
            "backgroundcolor": "#E5ECF6",
            "gridcolor": "white",
            "gridwidth": 2,
            "linecolor": "white",
            "showbackground": true,
            "ticks": "",
            "zerolinecolor": "white"
           }
          },
          "shapedefaults": {
           "line": {
            "color": "#2a3f5f"
           }
          },
          "ternary": {
           "aaxis": {
            "gridcolor": "white",
            "linecolor": "white",
            "ticks": ""
           },
           "baxis": {
            "gridcolor": "white",
            "linecolor": "white",
            "ticks": ""
           },
           "bgcolor": "#E5ECF6",
           "caxis": {
            "gridcolor": "white",
            "linecolor": "white",
            "ticks": ""
           }
          },
          "title": {
           "x": 0.05
          },
          "xaxis": {
           "automargin": true,
           "gridcolor": "white",
           "linecolor": "white",
           "ticks": "",
           "title": {
            "standoff": 15
           },
           "zerolinecolor": "white",
           "zerolinewidth": 2
          },
          "yaxis": {
           "automargin": true,
           "gridcolor": "white",
           "linecolor": "white",
           "ticks": "",
           "title": {
            "standoff": 15
           },
           "zerolinecolor": "white",
           "zerolinewidth": 2
          }
         }
        },
        "title": {
         "text": "2021-08-07 | Intra-day Likes on tweets"
        },
        "xaxis": {
         "anchor": "y",
         "domain": [
          0,
          1
         ],
         "title": {
          "text": "created_at"
         }
        },
        "yaxis": {
         "anchor": "x",
         "domain": [
          0,
          1
         ],
         "title": {
          "text": "like_count"
         }
        }
       }
      },
      "text/html": [
       "<div>                            <div id=\"7b3552f1-e12e-4f4b-896b-68e82cba8a42\" class=\"plotly-graph-div\" style=\"height:525px; width:100%;\"></div>            <script type=\"text/javascript\">                require([\"plotly\"], function(Plotly) {                    window.PLOTLYENV=window.PLOTLYENV || {};                                    if (document.getElementById(\"7b3552f1-e12e-4f4b-896b-68e82cba8a42\")) {                    Plotly.newPlot(                        \"7b3552f1-e12e-4f4b-896b-68e82cba8a42\",                        [{\"customdata\": [[\"2021-08-07 22:03:59+00:00\", 3, 1424129218024194050, \"[scan results - 1h - #usdt pair]\\n\\nbinance top 5 bullish strength\\n1: $ckb\\n2: $wtc\\n3: $torn\\n4: $cfx\\n5: $xvs\\n\\nbinance top 5 bullish reversal strength\\n1: $wtc\\n2: $link\\n3: $nmr\\n4: $lpt\\n5: $etc\"], [\"2021-08-07 21:00:27+00:00\", 0, 1424113230218104832, \"\\ud83d\\udcc9 biggest losers (1 hr) \\ud83d\\udcc9\\ninternet computer $icp -3.51% \\u2744\\ufe0f\\nconflux network $cfx -2.90% \\u2744\\ufe0f\\nnumeraire $nmr -2.83% \\u2744\\ufe0f\\narweave $ar -2.20% \\u2744\\ufe0f\\nperpetual protocol $perp -1.35% \\u2744\\ufe0f\"], [\"2021-08-07 20:51:47+00:00\", 0, 1424111050451005440, \"again a nice call\\ud83e\\udd11\\ud83e\\udd11\\ud83e\\udd11\\ud83d\\udd25\\n@crypto_scofield\\n\\n$btc $rune $ust $nano $nxm\\n$zen $bnt $zb $ant $nmr $xvs\\n$cvt $rvn  $bcd $hot $iost $bot\\n$twt $ftm $alpha $ppt $luna\\n$scrt $akro $audio $fet $vidt\\n$iris $hard $uni $yoyo $axs $sxp\\n$zrx $unfi $matic $ftm $srm\\n$sxp $ada $aave $skl $dock https://t.co/afwrkqxt92\"], [\"2021-08-07 20:51:32+00:00\", 0, 1424110984600461313, \"again a nice call\\ud83e\\udd11\\ud83d\\udd25\\n@crypto_scofield\\n\\n$btc $rune $ust $nano $nxm\\n$zen $bnt $zb $ant $nmr $xvs\\n$cvt $rvn  $bcd $hot $iost $bot\\n\\n$twt $ftm $alpha $ppt $luna\\n$scrt $akro $audio $fet $vidt\\n$iris $hard $uni $yoyo $axs $sxp\\n$zrx $unfi $matic $ftm $srm\\n$sxp $ada $aave $skl $dock https://t.co/atjguta4kh\"], [\"2021-08-07 20:47:28+00:00\", 2, 1424109963811688454, \"[scan results - 15m - #usdt pair]\\n\\nbinance top 5 bullish strength\\n1: $etc\\n2: $mask\\n3: $1inch\\n4: $shib\\n5: $xvs\\n\\nbinance top 5 bullish reversal strength\\n1: $inj\\n2: $nmr\\n3: $mdt\\n4: $lit\\n5: $vtho\"], [\"2021-08-07 20:32:06+00:00\", 2, 1424106096625688576, \"[scan results - 15m - #usdt pair]\\n\\nbinance top 5 bullish strength\\n1: $shib\\n2: $1inch\\n3: $cfx\\n4: $xrp\\n5: $hard\\n\\nbinance top 5 bullish reversal strength\\n1: $inj\\n2: $atom\\n3: $qnt\\n4: $rep\\n5: $nmr\"], [\"2021-08-07 20:09:37+00:00\", 0, 1424100436211027971, \"$nmr\\n\\u2705  increased 3.60% in 4.1 hour(s)\\n\\ud83d\\udcb5 price - 40.93800000 usdt\\n\\u23f1\\ufe0f [7 aug] - 20:09:37 utc\\n#nmr #nmrusdt #cryptobot\"], [\"2021-08-07 19:28:06+00:00\", 2, 1424089990523498501, \"top 5 mentions updated every 15 minutes\\n\\n  [beta stage] except btc and eth  \\n\\n  1- $doge:742677 point \\ud83d\\ude80\\n\\n  2- $ctxc:123552 point \\ud83d\\ude80\\n\\n  3- $nmr:123552 point \\ud83d\\ude80\\n\\n  4- $xem:62155 point \\ud83d\\ude80\\n\\n  5- $wtc:61845 point \\ud83d\\ude80\"], [\"2021-08-07 19:17:04+00:00\", 1, 1424087214108160003, \"[scan results - 15m - #btc pair]\\n\\nbinance top 5 bullish strength\\n1: $ctxc\\n2: $snt\\n3: $doge\\n4: $nmr\\n5: $lrc\\n\\nbinance top 5 bullish reversal strength\\n1: $pivx\\n2: $chr\\n3: $auto\\n4: $near\\n5: $sol\\n\\nall results for free on https://t.co/vmsa8rwq1g website!\"], [\"2021-08-07 19:17:04+00:00\", 3, 1424087213164404745, \"[scan results - 15m - #usdt pair]\\n\\nbinance top 5 bullish strength\\n1: $torn\\n2: $nmr\\n3: $ctxc\\n4: $dodo\\n5: $xem\\n\\nbinance top 5 bullish reversal strength\\n1: $chr\\n2: $uni\\n3: $dego\\n4: $hbar\\n5: $kmd\"], [\"2021-08-07 19:08:59+00:00\", 0, 1424085177093873670, \"you can get high quality signals and huge profit in short time\\n\\nhuge profit / diffrent signals / easy life\\n\\nfree join : https://t.co/hp22zvjnm6\\n\\n$iris $renbtc $chr $paxg $wabi $ong $nano $xvg $doge $nkn $chz $mtl $nmr $jst $agi $oax $wnxm $poa $ost $troy $avax $brd $go $pnt\"], [\"2021-08-07 19:02:37+00:00\", 0, 1424083575494914054, \"again a nice call\\ud83e\\udd11\\ud83e\\udd11\\ud83d\\udd25\\ud83d\\udd25\\n@crypto_scofield\\n\\n$btc $rune $ust $nano $nxm\\n$zen $bnt $zb $ant $nmr $xvs\\n$cvt $rvn  $bcd $hot $iost $bot\\n$twt $ftm $alpha $ppt $luna\\n$scrt $akro $audio $fet $vidt\\n$iris $hard $uni $yoyo $axs $sxp\\n$zrx $unfi $matic $ftm $srm\\n$sxp $ada $aave $skl $dock https://t.co/afwrkqxt92\"], [\"2021-08-07 19:02:20+00:00\", 0, 1424083505240281090, \"again a nice call\\ud83e\\udd11\\ud83e\\udd11\\n@crypto_scofield\\n\\n$btc $rune $ust $nano $nxm\\n$zen $bnt $zb $ant $nmr $xvs\\n\\n$cvt $rvn  $bcd $hot $iost $bot\\n$twt $ftm $alpha $ppt $luna\\n$scrt $akro $audio $fet $vidt\\n$iris $hard $uni $yoyo $axs $sxp\\n$zrx $unfi $matic $ftm $srm\\n$sxp $ada $aave $skl $dock https://t.co/atjguta4kh\"], [\"2021-08-07 19:00:02+00:00\", 2, 1424082926019481615, \"570,232 $nmr is staked on numerai's main tournament, down 9,608 $nmr compared to yesterday. the average 3 month return is 25.46%, and 3551 staked models control numerai's hedge fund.\"], [\"2021-08-07 18:09:44+00:00\", 0, 1424070268863991811, \"did anyone realize monster group signals powerful gain shortly time frame\\n\\nshortly time frame but double gain\\n\\nfree join : https://t.co/hp22zvjnm6\\n\\n$xvg $doge $nkn $chz $mtl $nmr $jst $agi $oax $wnxm $poa $ost $troy $avax $brd $go $pnt $storj $req $sky $iotx $amb $xzc $ctsi\"], [\"2021-08-07 17:18:11+00:00\", 0, 1424057294736744460, \"again a nice call\\ud83e\\udd11\\ud83e\\udd11\\ud83e\\udd11\\ud83e\\udd11\\n@crypto_scofield\\n\\n$btc $rune $ust $nano $nxm\\n$zen $bnt $zb $ant $nmr $xvs\\n$cvt $rvn  $bcd $hot $iost $bot\\n$twt $ftm $alpha $ppt $luna\\n$scrt $akro $audio $fet $vidt\\n$iris $hard $uni $yoyo $axs $sxp\\n\\n$zrx $unfi $matic $ftm $srm\\n$sxp $ada $aave $skl $dock https://t.co/afwrkqxt92\"], [\"2021-08-07 17:17:54+00:00\", 1, 1424057221856571398, \"again a nice call\\ud83e\\udd11\\ud83e\\udd11\\ud83e\\udd11\\n@crypto_scofield\\n\\n$btc $rune $ust $nano $nxm\\n$zen $bnt $zb $ant $nmr $xvs\\n$cvt $rvn  $bcd $hot $iost $bot\\n\\n$twt $ftm $alpha $ppt $luna\\n$scrt $akro $audio $fet $vidt\\n$iris $hard $uni $yoyo $axs $sxp\\n$zrx $unfi $matic $ftm $srm\\n$sxp $ada $aave $skl $dock https://t.co/atjguta4kh\"], [\"2021-08-07 16:47:01+00:00\", 5, 1424049452369731586, \"[scan results - 15m - #usdt pair]\\n\\nbinance top 5 bullish strength\\n1: $mask\\n2: $doge\\n3: $ckb\\n4: $xvs\\n5: $nmr\\n\\nbinance top 5 bullish reversal strength\\n1: $nano\\n2: $mdx\\n3: $wnxm\\n4: $paxg\\n5: $bake\"], [\"2021-08-07 16:39:21+00:00\", 0, 1424047523392458754, \"did anyone realize monster group signals powerful gain shortly time frame\\n\\nshortly time frame but double gain\\n\\nfree join : https://t.co/x8ozork4qk\\n\\n$xvg $doge $nkn $chz $mtl $nmr $jst $agi $oax $wnxm $poa $ost $troy $avax $brd $go $pnt $storj $req $sky $iotx $amb $xzc $ctsi\"], [\"2021-08-07 16:00:35+00:00\", 0, 1424037768381014017, \"$nmr had a good start of the month at $38.65. do you think it can get past $40 by the end of august? @numerai @namaste_ml @numeraipayouts @dlinkbull \\n https://t.co/jpdnnnrlbt\"], [\"2021-08-07 15:18:04+00:00\", 0, 1424027065909719049, \"$nmr liking this one. small supply\"], [\"2021-08-07 15:15:36+00:00\", 0, 1424026447447003136, \"$nmr\\n\\u2705  increased 4.08% in 23.1 hour(s)\\n\\ud83d\\udcb5 price - 41.00900000 usdt\\n\\u23f1\\ufe0f [7 aug] - 15:15:36 utc\\n#nmr #nmrusdt #cryptobot\"], [\"2021-08-07 15:15:19+00:00\", 0, 1424026372591206406, \"$nmr/usdt \\u2b06\\nprice: 40.948\\nmarket cap: 280,643,223\\n24hr volume: 36,486,421\\ndate added: 23 jun, 2017\\nprice change 1h: 1.63%\\nprice change 24h: 4.47%\\nprice change 7d: 6.11%\\n#binance\\nnext 7d events: 0\\nmore events: https://t.co/tgszktvkui\"], [\"2021-08-07 15:11:16+00:00\", 0, 1424025357020192779, \"again a nice call\\ud83e\\udd11\\n@crypto_scofield\\n\\n$btc $rune $ust $nano $nxm\\n$zen $bnt $zb $ant $nmr $xvs\\n$cvt $rvn  $bcd $hot $iost $bot\\n$twt $ftm $alpha $ppt $luna\\n$scrt $akro $audio $fet $vidt\\n\\n$iris $hard $uni $yoyo $axs $sxp\\n$zrx $unfi $matic $ftm $srm\\n$sxp $ada $aave $skl $dock https://t.co/afwrkqxt92\"], [\"2021-08-07 15:11:03+00:00\", 0, 1424025300128653313, \"again a nice call\\ud83e\\udd11\\ud83e\\udd11\\ud83e\\udd11\\n@crypto_scofield\\n\\n$btc $rune $ust $nano $nxm\\n$zen $bnt $zb $ant $nmr $xvs\\n$cvt $rvn  $bcd $hot $iost $bot\\n$twt $ftm $alpha $ppt $luna\\n$scrt $akro $audio $fet $vidt\\n$iris $hard $uni $yoyo $axs $sxp\\n$zrx $unfi $matic $ftm $srm\\n$sxp $ada $aave $skl $dock https://t.co/atjguta4kh\"], [\"2021-08-07 14:31:45+00:00\", 1, 1424015410064760835, \"[scan results - 15m - #btc pair]\\n\\nbinance top 5 bullish strength\\n1: $strax\\n2: $evx\\n3: $etc\\n4: $ez\\n5: $tct\\n\\nbinance top 5 bullish reversal strength\\n1: $om\\n2: $theta\\n3: $gtc\\n4: $nmr\\n5: $lrc\\n\\nall results for free on https://t.co/vmsa8rwq1g website!\"], [\"2021-08-07 14:19:36+00:00\", 0, 1424012352580689925, \"again a nice call\\ud83e\\udd11\\ud83e\\udd11\\n@crypto_scofield\\n\\n$btc $rune $ust $nano $nxm\\n$zen $bnt $zb $ant $nmr $xvs\\n\\n$cvt $rvn  $bcd $hot $iost $bot\\n$twt $ftm $alpha $ppt $luna\\n$scrt $akro $audio $fet $vidt\\n$iris $hard $uni $yoyo $axs $sxp\\n\\n$zrx $unfi $matic $ftm $srm\\n$sxp $ada $aave $skl $dock https://t.co/afwrkqxt92\"], [\"2021-08-07 14:19:18+00:00\", 0, 1424012278530183172, \"again a nice call\\ud83e\\udd11\\n@crypto_scofield\\n\\n$btc $rune $ust $nano $nxm\\n$zen $bnt $zb $ant $nmr $xvs\\n$cvt $rvn  $bcd $hot $iost $bot\\n\\n$twt $ftm $alpha $ppt $luna\\n$scrt $akro $audio $fet $vidt\\n$iris $hard $uni $yoyo $axs $sxp\\n$zrx $unfi $matic $ftm $srm\\n$sxp $ada $aave $skl $dock https://t.co/atjguta4kh\"], [\"2021-08-07 14:16:50+00:00\", 3, 1424011657819344896, \"[scan results - 15m - #btc pair]\\n\\nbinance top 5 bullish strength\\n1: $oxt\\n2: $strax\\n3: $amb\\n4: $nano\\n5: $eth\\n\\nbinance top 5 bullish reversal strength\\n1: $ast\\n2: $gtc\\n3: $rose\\n4: $ankr\\n5: $nmr\\n\\nall results for free on https://t.co/vmsa8rwq1g website!\"], [\"2021-08-07 14:11:07+00:00\", 0, 1424010216933232648, \"no.1 influential on crypto group don't miss to join chance\\n\\nfree join : https://t.co/hp22zvjnm6\\n\\n$wtc $for $ant $strax $ava $luna $steem $arpa $adx $akro $cos $kmd $bqx $beam $perl $dock $iris $renbtc $chr $paxg $wabi $ong $nano $xvg $doge $nkn $chz $mtl $nmr $jst $agi $oax\"], [\"2021-08-07 13:58:37+00:00\", 0, 1424007073411604481, \"again a nice call\\ud83e\\udd11\\u2705\\n@crypto_scofield\\n\\n$btc $rune $ust $nano $nxm\\n$zen $bnt $zb $ant $nmr $xvs\\n$cvt $rvn  $bcd $hot $iost $bot\\n$twt $ftm $alpha $ppt $luna\\n$scrt $akro $audio $fet $vidt\\n$iris $hard $uni $yoyo $axs $sxp\\n$zrx $unfi $matic $ftm $srm\\n$sxp $ada $aave $skl $dock https://t.co/afwrkqxt92\"], [\"2021-08-07 13:58:24+00:00\", 0, 1424007017014960134, \"again a nice call\\ud83e\\udd11\\ud83e\\udd11\\ud83e\\udd11\\u2705\\n@crypto_scofield\\n\\n$btc $rune $ust $nano $nxm\\n$zen $bnt $zb $ant $nmr $xvs\\n$cvt $rvn  $bcd $hot $iost $bot\\n$twt $ftm $alpha $ppt $luna\\n$scrt $akro $audio $fet $vidt\\n$iris $hard $uni $yoyo $axs $sxp\\n$zrx $unfi $matic $ftm $srm\\n$sxp $ada $aave $skl $dock https://t.co/atjguta4kh\"], [\"2021-08-07 13:12:50+00:00\", 2, 1423995549125169155, \"how i has it ?      $rep $ocean $neo $ckb $sol $matic $near $lrg $rsr $pax $data $rune $zrx $husd $dx $ctc $ocean $nmr $nmr $ads $bat $qnt $adk $ampl $lsk $iost $uqc $dgb $crv $hex $ewt $ardr $luna $tusd $qnt $jul $lrc $zrx $dx $paxg $bal $mtc $qtum $wan $adx $rvn $dnt https://t.co/8zcbt1fi01\"], [\"2021-08-07 13:10:51+00:00\", 2, 1423995053329063942, \"ads of future now !     $rep $ich $lsk $band $crv $matic $bts $zrx $ren $rsr $paxg $qtum $celo $hedg $stx $btm $uos $jul $scrt $dgb $oxt $abbc $bat $sushi $nmr $crv $bcd $egld $iost $rsr $enj $band $bts $wan $trb $rev $ckb $trat $btm $rune $uma $noia $ctc $stx $dx $kava $rvn https://t.co/qyxk7aynag\"], [\"2021-08-07 12:32:09+00:00\", 5, 1423985311504293894, \"[scan results - 15m - #usdt pair]\\n\\nbinance top 5 bullish strength\\n1: $nmr\\n2: $uni\\n3: $ltc\\n4: $ksm\\n5: $wnxm\\n\\nbinance top 5 bullish reversal strength\\n1: $unfi\\n2: $super\\n3: $fio\\n4: $gtc\\n5: $rlc\"], [\"2021-08-07 08:55:52+00:00\", 0, 1423930881744515077, \"again a nice call\\ud83e\\udd11\\u2714\\u2705\\n@crypto_scofield\\n\\n$btc $rune $ust $nano $nxm\\n$zen $bnt $zb $ant $nmr $xvs\\n\\n$cvt $rvn  $bcd $hot $iost $bot\\n$twt $ftm $alpha $ppt $luna\\n$scrt $akro $audio $fet $vidt\\n\\n$iris $hard $uni $yoyo $axs $sxp\\n$zrx $unfi $matic $ftm $srm\\n$sxp $ada $aave $skl $dock https://t.co/afwrkqxt92\"], [\"2021-08-07 08:55:35+00:00\", 0, 1423930809627680769, \"again a nice call\\ud83e\\udd11\\ud83c\\udfc6\\ud83c\\udfc6\\ud83c\\udfc6\\n@crypto_scofield\\n\\n$btc $rune $ust $nano $nxm\\n$zen $bnt $zb $ant $nmr $xvs\\n$cvt $rvn  $bcd $hot $iost $bot\\n$twt $ftm $alpha $ppt $luna\\n$scrt $akro $audio $fet $vidt\\n$iris $hard $uni $yoyo $axs $sxp\\n$zrx $unfi $matic $ftm $srm\\n$sxp $ada $aave $skl $dock https://t.co/atjguta4kh\"], [\"2021-08-07 08:40:09+00:00\", 0, 1423926926251491332, \"you can get high quality signals and huge profit in short time\\n\\nhuge profit / diffrent signals / easy life\\n\\nfree join : https://t.co/hp22zvjnm6\\n\\n$iris $renbtc $chr $paxg $wabi $ong $nano $xvg $doge $nkn $chz $mtl $nmr $jst $agi $oax $wnxm $poa $ost $troy $avax $brd $go $pnt\"], [\"2021-08-07 08:40:03+00:00\", 0, 1423926904403292160, \"you can get high quality signals and huge profit in short time\\n\\nhuge profit / diffrent signals / easy life\\n\\nfree join : https://t.co/x8ozork4qk\\n\\n$iris $renbtc $chr $paxg $wabi $ong $nano $xvg $doge $nkn $chz $mtl $nmr $jst $agi $oax $wnxm $poa $ost $troy $avax $brd $go $pnt\"], [\"2021-08-07 08:14:14+00:00\", 0, 1423920405312585728, \"again a nice call\\ud83e\\udd11\\ud83d\\udd25\\ud83d\\udd25\\n@crypto_scofield\\n\\n$btc $rune $ust $nano $nxm\\n\\n$zen $bnt $zb $ant $nmr $xvs\\n$cvt $rvn  $bcd $hot $iost $bot\\n$twt $ftm $alpha $ppt $luna\\n$scrt $akro $audio $fet $vidt\\n$iris $hard $uni $yoyo $axs $sxp\\n$zrx $unfi $matic $ftm $srm\\n$sxp $ada $aave $skl $dock https://t.co/afwrkqxt92\"], [\"2021-08-07 08:13:56+00:00\", 0, 1423920328720502787, \"again a nice call\\ud83e\\udd11\\n@crypto_scofield\\n\\n$btc $rune $ust $nano $nxm\\n$zen $bnt $zb $ant $nmr $xvs\\n$cvt $rvn  $bcd $hot $iost $bot\\n\\n$twt $ftm $alpha $ppt $luna\\n$scrt $akro $audio $fet $vidt\\n$iris $hard $uni $yoyo $axs $sxp\\n\\n$zrx $unfi $matic $ftm $srm\\n$sxp $ada $aave $skl $dock https://t.co/atjguta4kh\"], [\"2021-08-07 07:46:54+00:00\", 0, 1423913526721191941, \"again a nice call\\ud83e\\udd11\\ud83e\\udd11\\ud83e\\udd11\\n@crypto_scofield\\n\\n$btc $rune $ust $nano $nxm\\n$zen $bnt $zb $ant $nmr $xvs\\n$cvt $rvn  $bcd $hot $iost $bot\\n$twt $ftm $alpha $ppt $luna\\n$scrt $akro $audio $fet $vidt\\n$iris $hard $uni $yoyo $axs $sxp\\n$zrx $unfi $matic $ftm $srm\\n$sxp $ada $aave $skl $dock https://t.co/afwrkqxt92\"], [\"2021-08-07 07:44:02+00:00\", 0, 1423912806508867588, \"again a nice call\\ud83e\\udd11\\ud83e\\udd11\\n@crypto_scofield\\n\\n$btc $rune $ust $nano $nxm\\n$zen $bnt $zb $ant $nmr $xvs\\n\\n$cvt $rvn  $bcd $hot $iost $bot\\n$twt $ftm $alpha $ppt $luna\\n$scrt $akro $audio $fet $vidt\\n\\n$iris $hard $uni $yoyo $axs $sxp\\n$zrx $unfi $matic $ftm $srm\\n$sxp $ada $aave $skl $dock https://t.co/atjguta4kh\"], [\"2021-08-07 06:56:53+00:00\", 0, 1423900939224862722, \"$nmr nmr/usd(#coinbasepro)\\nsell signal @ $40.49320\\nmacd crossover\\nshort term bear run\\nex vol: 70,574.1630\\n#investment #invest #forex #numeraire\\n\\ncurpay protects your assets and makes profit. any questions? @ https://t.co/7ugd2ocvpx\"], [\"2021-08-07 06:46:53+00:00\", 4, 1423898421719666690, \"[scan results - 15m - #usdt pair]\\n\\nbinance top 5 bullish strength\\n1: $ern\\n2: $chr\\n3: $nmr\\n4: $vet\\n5: $xvg\\n\\nbinance top 5 bullish reversal strength\\n1: $sun\\n2: $iotx\\n3: $nu\\n4: $knc\\n5: $rep\"], [\"2021-08-07 06:41:10+00:00\", 2, 1423896983358644230, \"do not miss $nmr ride guys \\ud83d\\udd25\\ud83d\\udd25\\ud83d\\udd25\\ud83d\\udd25\\ud83d\\udd25\\ud83d\\ude80\\ud83d\\ude80\\ud83d\\ude80\\ud83d\\ude80\\ud83d\\ude80\\ud83d\\ude80\\ud83d\\ude80\\ud83d\\ude80\\ud83d\\ude80\\n\\n#cryptotrade #cryptocurency #cryptoworld #cryptonews #crypto #cryptotrading $btc $eth @whale_sniper @whale_alert\"], [\"2021-08-07 06:40:30+00:00\", 0, 1423896818476191744, \"there is no better group than monster group.\\n\\nmore than 700%++ profit in a week !!\\n\\nfree join : https://t.co/x8ozork4qk\\n\\n$perl $dock $iris $renbtc $chr $paxg $wabi $ong $nano $xvg $doge $nkn $chz $mtl $nmr $jst $agi $oax $wnxm $poa $ost $troy $avax $brd $go $pnt $storj $req\"], [\"2021-08-07 06:37:34+00:00\", 3, 1423896079058325506, \"sleeping people wake up call $nmr \\ud83d\\udd25\\ud83d\\udd25\\ud83d\\udd25\\ud83d\\udd25\\ud83d\\udd25\\ud83d\\ude80\\ud83d\\ude80\\ud83d\\ude80\\ud83d\\ude80\\ud83d\\ude80\\ud83d\\ude80\\ud83d\\ude80\\ud83d\\ude80\\ud83d\\ude80\\ud83d\\ude80\\ud83d\\ude80\\ud83d\\ude80\\ud83d\\ude80\\ud83d\\ude80\\ud83d\\ude80\\ud83d\\ude80\\ud83d\\ude80\\ud83d\\ude80\\ud83d\\ude80\\n\\n#cryptotrade #cryptocurency #cryptoworld #cryptonews #crypto #cryptotrading $btc $eth @whale_sniper @whale_alert\"], [\"2021-08-07 06:36:49+00:00\", 3, 1423895891849752578, \"$nmr guys looks amazing \\ud83d\\udd25\\ud83d\\udd25\\ud83d\\udd25\\ud83d\\udd25\\ud83d\\ude80\\ud83d\\ude80\\ud83d\\ude80\\ud83d\\ude80\\ud83d\\ude80\\ud83d\\ude80\\ud83d\\ude80\\ud83d\\ude80\\ud83d\\ude80\\ud83d\\ude80\\ud83d\\ude80\\ud83d\\ude80\\ud83d\\ude80\\n\\n#cryptotrade #cryptocurency #cryptoworld #cryptonews #crypto #cryptotrading $btc $eth @whale_sniper @whale_alert\"], [\"2021-08-07 06:31:20+00:00\", 1, 1423894508035616773, \"again a nice call\\ud83e\\udd11\\n@crypto_scofield\\n\\n$btc $rune $ust $nano $nxm\\n$zen $bnt $zb $ant $nmr $xvs\\n$cvt $rvn  $bcd $hot $iost $bot\\n$twt $ftm $alpha $ppt $luna\\n$scrt $akro $audio $fet $vidt\\n$iris $hard $uni $yoyo $axs $sxp\\n$zrx $unfi $matic $ftm $srm\\n$sxp $ada $aave $skl $dock https://t.co/afwrkqxt92\"], [\"2021-08-07 06:31:02+00:00\", 0, 1423894433779564545, \"again a nice call\\ud83e\\udd11\\n@crypto_scofield\\n\\n$btc $rune $ust $nano $nxm\\n$zen $bnt $zb $ant $nmr $xvs\\n$cvt $rvn  $bcd $hot $iost $bot\\n$twt $ftm $alpha $ppt $luna\\n$scrt $akro $audio $fet $vidt\\n$iris $hard $uni $yoyo $axs $sxp\\n$zrx $unfi $matic $ftm $srm\\n$sxp $ada $aave $skl $dock https://t.co/atjguta4kh\"], [\"2021-08-07 05:15:06+00:00\", 0, 1423875324060786695, \"\\ud83d\\udcc8 mover alert: numeraire ($38.87, -1%) gained 18 positions on coinmarketcap. its rank is now 148. @numerai $nmr\"], [\"2021-08-07 04:12:56+00:00\", 0, 1423859682205110272, \"$nmr/usdt \\u2b06\\nprice: 39.647\\nmarket cap: 274,319,275\\n24hr volume: 30,892,065\\ndate added: 23 jun, 2017\\nprice change 1h: 0.84%\\nprice change 24h: 2.77%\\nprice change 7d: 3.00%\\n#binance\\nnext 7d events: 0\\nmore events: https://t.co/tgszktvkui\"], [\"2021-08-07 03:08:56+00:00\", 0, 1423843575603765253, \"there is no better group than monster group.\\n\\nmore than 700%++ profit in a week !!\\n\\nfree join : https://t.co/hp22zvjnm6\\n\\n$perl $dock $iris $renbtc $chr $paxg $wabi $ong $nano $xvg $doge $nkn $chz $mtl $nmr $jst $agi $oax $wnxm $poa $ost $troy $avax $brd $go $pnt $storj $req\"], [\"2021-08-07 02:31:44+00:00\", 4, 1423834213669867522, \"[scan results - 15m - #usdt pair]\\n\\nbinance top 5 bullish strength\\n1: $eth\\n2: $doge\\n3: $nmr\\n4: $sushi\\n5: $cvc\\n\\nbinance top 5 bullish reversal strength\\n1: $clv\\n2: $ocean\\n3: $qnt\\n4: $tomo\\n5: $tlm\"]], \"hovertemplate\": \"<b>%{hovertext}</b><br><br>created_at=%{customdata[0]}<br>like_count=%{customdata[1]}<br>tweet_id=%{customdata[2]}<br>text=%{customdata[3]}<extra></extra>\", \"hovertext\": [9.485510733876429e+17, 9.479536197263606e+17, 1.3468543256588e+18, 1.3468543256588e+18, 9.485510733876429e+17, 9.485510733876429e+17, 1.1412086870017802e+18, 2857923496.0, 9.485510733876429e+17, 9.485510733876429e+17, 1.3296402977609114e+18, 1.3468543256588e+18, 1.3468543256588e+18, 1.1927377276173435e+18, 1.3296402977609114e+18, 1.3468543256588e+18, 1.3468543256588e+18, 9.485510733876429e+17, 1.3300511096380703e+18, 1.3486361203015803e+18, 594162137.0, 1.1412086870017802e+18, 1.3954752824637972e+18, 1.3468543256588e+18, 1.3468543256588e+18, 9.485510733876429e+17, 1.3468543256588e+18, 1.3468543256588e+18, 9.485510733876429e+17, 1.3296402977609114e+18, 1.3468543256588e+18, 1.3468543256588e+18, 1.363255276732883e+18, 1.3327021325884744e+18, 9.485510733876429e+17, 1.3468543256588e+18, 1.3468543256588e+18, 1.3296402977609114e+18, 1.3300511096380703e+18, 1.3468543256588e+18, 1.3468543256588e+18, 1.3468543256588e+18, 1.3468543256588e+18, 1.3367009078122537e+18, 9.485510733876429e+17, 1.3658172660136796e+18, 1.3300511096380703e+18, 1.3658172660136796e+18, 1.3658172660136796e+18, 1.3468543256588e+18, 1.3468543256588e+18, 1.0083819719516856e+18, 1.3954752824637972e+18, 1.3296402977609114e+18, 9.485510733876429e+17], \"legendgroup\": \"\", \"line\": {\"color\": \"#636efa\", \"dash\": \"solid\"}, \"mode\": \"lines\", \"name\": \"\", \"orientation\": \"v\", \"showlegend\": false, \"type\": \"scatter\", \"x\": [\"2021-08-07 22:03:59+00:00\", \"2021-08-07 21:00:27+00:00\", \"2021-08-07 20:51:47+00:00\", \"2021-08-07 20:51:32+00:00\", \"2021-08-07 20:47:28+00:00\", \"2021-08-07 20:32:06+00:00\", \"2021-08-07 20:09:37+00:00\", \"2021-08-07 19:28:06+00:00\", \"2021-08-07 19:17:04+00:00\", \"2021-08-07 19:17:04+00:00\", \"2021-08-07 19:08:59+00:00\", \"2021-08-07 19:02:37+00:00\", \"2021-08-07 19:02:20+00:00\", \"2021-08-07 19:00:02+00:00\", \"2021-08-07 18:09:44+00:00\", \"2021-08-07 17:18:11+00:00\", \"2021-08-07 17:17:54+00:00\", \"2021-08-07 16:47:01+00:00\", \"2021-08-07 16:39:21+00:00\", \"2021-08-07 16:00:35+00:00\", \"2021-08-07 15:18:04+00:00\", \"2021-08-07 15:15:36+00:00\", \"2021-08-07 15:15:19+00:00\", \"2021-08-07 15:11:16+00:00\", \"2021-08-07 15:11:03+00:00\", \"2021-08-07 14:31:45+00:00\", \"2021-08-07 14:19:36+00:00\", \"2021-08-07 14:19:18+00:00\", \"2021-08-07 14:16:50+00:00\", \"2021-08-07 14:11:07+00:00\", \"2021-08-07 13:58:37+00:00\", \"2021-08-07 13:58:24+00:00\", \"2021-08-07 13:12:50+00:00\", \"2021-08-07 13:10:51+00:00\", \"2021-08-07 12:32:09+00:00\", \"2021-08-07 08:55:52+00:00\", \"2021-08-07 08:55:35+00:00\", \"2021-08-07 08:40:09+00:00\", \"2021-08-07 08:40:03+00:00\", \"2021-08-07 08:14:14+00:00\", \"2021-08-07 08:13:56+00:00\", \"2021-08-07 07:46:54+00:00\", \"2021-08-07 07:44:02+00:00\", \"2021-08-07 06:56:53+00:00\", \"2021-08-07 06:46:53+00:00\", \"2021-08-07 06:41:10+00:00\", \"2021-08-07 06:40:30+00:00\", \"2021-08-07 06:37:34+00:00\", \"2021-08-07 06:36:49+00:00\", \"2021-08-07 06:31:20+00:00\", \"2021-08-07 06:31:02+00:00\", \"2021-08-07 05:15:06+00:00\", \"2021-08-07 04:12:56+00:00\", \"2021-08-07 03:08:56+00:00\", \"2021-08-07 02:31:44+00:00\"], \"xaxis\": \"x\", \"y\": [3, 0, 0, 0, 2, 2, 0, 2, 1, 3, 0, 0, 0, 2, 0, 0, 1, 5, 0, 0, 0, 0, 0, 0, 0, 1, 0, 0, 3, 0, 0, 0, 2, 2, 5, 0, 0, 0, 0, 0, 0, 0, 0, 0, 4, 2, 0, 3, 3, 1, 0, 0, 0, 0, 4], \"yaxis\": \"y\"}],                        {\"legend\": {\"tracegroupgap\": 0}, \"template\": {\"data\": {\"bar\": [{\"error_x\": {\"color\": \"#2a3f5f\"}, \"error_y\": {\"color\": \"#2a3f5f\"}, \"marker\": {\"line\": {\"color\": \"#E5ECF6\", \"width\": 0.5}}, \"type\": \"bar\"}], \"barpolar\": [{\"marker\": {\"line\": {\"color\": \"#E5ECF6\", \"width\": 0.5}}, \"type\": \"barpolar\"}], \"carpet\": [{\"aaxis\": {\"endlinecolor\": \"#2a3f5f\", \"gridcolor\": \"white\", \"linecolor\": \"white\", \"minorgridcolor\": \"white\", \"startlinecolor\": \"#2a3f5f\"}, \"baxis\": {\"endlinecolor\": \"#2a3f5f\", \"gridcolor\": \"white\", \"linecolor\": \"white\", \"minorgridcolor\": \"white\", \"startlinecolor\": \"#2a3f5f\"}, \"type\": \"carpet\"}], \"choropleth\": [{\"colorbar\": {\"outlinewidth\": 0, \"ticks\": \"\"}, \"type\": \"choropleth\"}], \"contour\": [{\"colorbar\": {\"outlinewidth\": 0, \"ticks\": \"\"}, \"colorscale\": [[0.0, \"#0d0887\"], [0.1111111111111111, \"#46039f\"], [0.2222222222222222, \"#7201a8\"], [0.3333333333333333, \"#9c179e\"], [0.4444444444444444, \"#bd3786\"], [0.5555555555555556, \"#d8576b\"], [0.6666666666666666, \"#ed7953\"], [0.7777777777777778, \"#fb9f3a\"], [0.8888888888888888, \"#fdca26\"], [1.0, \"#f0f921\"]], \"type\": \"contour\"}], \"contourcarpet\": [{\"colorbar\": {\"outlinewidth\": 0, \"ticks\": \"\"}, \"type\": \"contourcarpet\"}], \"heatmap\": [{\"colorbar\": {\"outlinewidth\": 0, \"ticks\": \"\"}, \"colorscale\": [[0.0, \"#0d0887\"], [0.1111111111111111, \"#46039f\"], [0.2222222222222222, \"#7201a8\"], [0.3333333333333333, \"#9c179e\"], [0.4444444444444444, \"#bd3786\"], [0.5555555555555556, \"#d8576b\"], [0.6666666666666666, \"#ed7953\"], [0.7777777777777778, \"#fb9f3a\"], [0.8888888888888888, \"#fdca26\"], [1.0, \"#f0f921\"]], \"type\": \"heatmap\"}], \"heatmapgl\": [{\"colorbar\": {\"outlinewidth\": 0, \"ticks\": \"\"}, \"colorscale\": [[0.0, \"#0d0887\"], [0.1111111111111111, \"#46039f\"], [0.2222222222222222, \"#7201a8\"], [0.3333333333333333, \"#9c179e\"], [0.4444444444444444, \"#bd3786\"], [0.5555555555555556, \"#d8576b\"], [0.6666666666666666, \"#ed7953\"], [0.7777777777777778, \"#fb9f3a\"], [0.8888888888888888, \"#fdca26\"], [1.0, \"#f0f921\"]], \"type\": \"heatmapgl\"}], \"histogram\": [{\"marker\": {\"colorbar\": {\"outlinewidth\": 0, \"ticks\": \"\"}}, \"type\": \"histogram\"}], \"histogram2d\": [{\"colorbar\": {\"outlinewidth\": 0, \"ticks\": \"\"}, \"colorscale\": [[0.0, \"#0d0887\"], [0.1111111111111111, \"#46039f\"], [0.2222222222222222, \"#7201a8\"], [0.3333333333333333, \"#9c179e\"], [0.4444444444444444, \"#bd3786\"], [0.5555555555555556, \"#d8576b\"], [0.6666666666666666, \"#ed7953\"], [0.7777777777777778, \"#fb9f3a\"], [0.8888888888888888, \"#fdca26\"], [1.0, \"#f0f921\"]], \"type\": \"histogram2d\"}], \"histogram2dcontour\": [{\"colorbar\": {\"outlinewidth\": 0, \"ticks\": \"\"}, \"colorscale\": [[0.0, \"#0d0887\"], [0.1111111111111111, \"#46039f\"], [0.2222222222222222, \"#7201a8\"], [0.3333333333333333, \"#9c179e\"], [0.4444444444444444, \"#bd3786\"], [0.5555555555555556, \"#d8576b\"], [0.6666666666666666, \"#ed7953\"], [0.7777777777777778, \"#fb9f3a\"], [0.8888888888888888, \"#fdca26\"], [1.0, \"#f0f921\"]], \"type\": \"histogram2dcontour\"}], \"mesh3d\": [{\"colorbar\": {\"outlinewidth\": 0, \"ticks\": \"\"}, \"type\": \"mesh3d\"}], \"parcoords\": [{\"line\": {\"colorbar\": {\"outlinewidth\": 0, \"ticks\": \"\"}}, \"type\": \"parcoords\"}], \"pie\": [{\"automargin\": true, \"type\": \"pie\"}], \"scatter\": [{\"marker\": {\"colorbar\": {\"outlinewidth\": 0, \"ticks\": \"\"}}, \"type\": \"scatter\"}], \"scatter3d\": [{\"line\": {\"colorbar\": {\"outlinewidth\": 0, \"ticks\": \"\"}}, \"marker\": {\"colorbar\": {\"outlinewidth\": 0, \"ticks\": \"\"}}, \"type\": \"scatter3d\"}], \"scattercarpet\": [{\"marker\": {\"colorbar\": {\"outlinewidth\": 0, \"ticks\": \"\"}}, \"type\": \"scattercarpet\"}], \"scattergeo\": [{\"marker\": {\"colorbar\": {\"outlinewidth\": 0, \"ticks\": \"\"}}, \"type\": \"scattergeo\"}], \"scattergl\": [{\"marker\": {\"colorbar\": {\"outlinewidth\": 0, \"ticks\": \"\"}}, \"type\": \"scattergl\"}], \"scattermapbox\": [{\"marker\": {\"colorbar\": {\"outlinewidth\": 0, \"ticks\": \"\"}}, \"type\": \"scattermapbox\"}], \"scatterpolar\": [{\"marker\": {\"colorbar\": {\"outlinewidth\": 0, \"ticks\": \"\"}}, \"type\": \"scatterpolar\"}], \"scatterpolargl\": [{\"marker\": {\"colorbar\": {\"outlinewidth\": 0, \"ticks\": \"\"}}, \"type\": \"scatterpolargl\"}], \"scatterternary\": [{\"marker\": {\"colorbar\": {\"outlinewidth\": 0, \"ticks\": \"\"}}, \"type\": \"scatterternary\"}], \"surface\": [{\"colorbar\": {\"outlinewidth\": 0, \"ticks\": \"\"}, \"colorscale\": [[0.0, \"#0d0887\"], [0.1111111111111111, \"#46039f\"], [0.2222222222222222, \"#7201a8\"], [0.3333333333333333, \"#9c179e\"], [0.4444444444444444, \"#bd3786\"], [0.5555555555555556, \"#d8576b\"], [0.6666666666666666, \"#ed7953\"], [0.7777777777777778, \"#fb9f3a\"], [0.8888888888888888, \"#fdca26\"], [1.0, \"#f0f921\"]], \"type\": \"surface\"}], \"table\": [{\"cells\": {\"fill\": {\"color\": \"#EBF0F8\"}, \"line\": {\"color\": \"white\"}}, \"header\": {\"fill\": {\"color\": \"#C8D4E3\"}, \"line\": {\"color\": \"white\"}}, \"type\": \"table\"}]}, \"layout\": {\"annotationdefaults\": {\"arrowcolor\": \"#2a3f5f\", \"arrowhead\": 0, \"arrowwidth\": 1}, \"coloraxis\": {\"colorbar\": {\"outlinewidth\": 0, \"ticks\": \"\"}}, \"colorscale\": {\"diverging\": [[0, \"#8e0152\"], [0.1, \"#c51b7d\"], [0.2, \"#de77ae\"], [0.3, \"#f1b6da\"], [0.4, \"#fde0ef\"], [0.5, \"#f7f7f7\"], [0.6, \"#e6f5d0\"], [0.7, \"#b8e186\"], [0.8, \"#7fbc41\"], [0.9, \"#4d9221\"], [1, \"#276419\"]], \"sequential\": [[0.0, \"#0d0887\"], [0.1111111111111111, \"#46039f\"], [0.2222222222222222, \"#7201a8\"], [0.3333333333333333, \"#9c179e\"], [0.4444444444444444, \"#bd3786\"], [0.5555555555555556, \"#d8576b\"], [0.6666666666666666, \"#ed7953\"], [0.7777777777777778, \"#fb9f3a\"], [0.8888888888888888, \"#fdca26\"], [1.0, \"#f0f921\"]], \"sequentialminus\": [[0.0, \"#0d0887\"], [0.1111111111111111, \"#46039f\"], [0.2222222222222222, \"#7201a8\"], [0.3333333333333333, \"#9c179e\"], [0.4444444444444444, \"#bd3786\"], [0.5555555555555556, \"#d8576b\"], [0.6666666666666666, \"#ed7953\"], [0.7777777777777778, \"#fb9f3a\"], [0.8888888888888888, \"#fdca26\"], [1.0, \"#f0f921\"]]}, \"colorway\": [\"#636efa\", \"#EF553B\", \"#00cc96\", \"#ab63fa\", \"#FFA15A\", \"#19d3f3\", \"#FF6692\", \"#B6E880\", \"#FF97FF\", \"#FECB52\"], \"font\": {\"color\": \"#2a3f5f\"}, \"geo\": {\"bgcolor\": \"white\", \"lakecolor\": \"white\", \"landcolor\": \"#E5ECF6\", \"showlakes\": true, \"showland\": true, \"subunitcolor\": \"white\"}, \"hoverlabel\": {\"align\": \"left\"}, \"hovermode\": \"closest\", \"mapbox\": {\"style\": \"light\"}, \"paper_bgcolor\": \"white\", \"plot_bgcolor\": \"#E5ECF6\", \"polar\": {\"angularaxis\": {\"gridcolor\": \"white\", \"linecolor\": \"white\", \"ticks\": \"\"}, \"bgcolor\": \"#E5ECF6\", \"radialaxis\": {\"gridcolor\": \"white\", \"linecolor\": \"white\", \"ticks\": \"\"}}, \"scene\": {\"xaxis\": {\"backgroundcolor\": \"#E5ECF6\", \"gridcolor\": \"white\", \"gridwidth\": 2, \"linecolor\": \"white\", \"showbackground\": true, \"ticks\": \"\", \"zerolinecolor\": \"white\"}, \"yaxis\": {\"backgroundcolor\": \"#E5ECF6\", \"gridcolor\": \"white\", \"gridwidth\": 2, \"linecolor\": \"white\", \"showbackground\": true, \"ticks\": \"\", \"zerolinecolor\": \"white\"}, \"zaxis\": {\"backgroundcolor\": \"#E5ECF6\", \"gridcolor\": \"white\", \"gridwidth\": 2, \"linecolor\": \"white\", \"showbackground\": true, \"ticks\": \"\", \"zerolinecolor\": \"white\"}}, \"shapedefaults\": {\"line\": {\"color\": \"#2a3f5f\"}}, \"ternary\": {\"aaxis\": {\"gridcolor\": \"white\", \"linecolor\": \"white\", \"ticks\": \"\"}, \"baxis\": {\"gridcolor\": \"white\", \"linecolor\": \"white\", \"ticks\": \"\"}, \"bgcolor\": \"#E5ECF6\", \"caxis\": {\"gridcolor\": \"white\", \"linecolor\": \"white\", \"ticks\": \"\"}}, \"title\": {\"x\": 0.05}, \"xaxis\": {\"automargin\": true, \"gridcolor\": \"white\", \"linecolor\": \"white\", \"ticks\": \"\", \"title\": {\"standoff\": 15}, \"zerolinecolor\": \"white\", \"zerolinewidth\": 2}, \"yaxis\": {\"automargin\": true, \"gridcolor\": \"white\", \"linecolor\": \"white\", \"ticks\": \"\", \"title\": {\"standoff\": 15}, \"zerolinecolor\": \"white\", \"zerolinewidth\": 2}}}, \"title\": {\"text\": \"2021-08-07 | Intra-day Likes on tweets\"}, \"xaxis\": {\"anchor\": \"y\", \"domain\": [0.0, 1.0], \"title\": {\"text\": \"created_at\"}}, \"yaxis\": {\"anchor\": \"x\", \"domain\": [0.0, 1.0], \"title\": {\"text\": \"like_count\"}}},                        {\"responsive\": true}                    ).then(function(){\n",
       "                            \n",
       "var gd = document.getElementById('7b3552f1-e12e-4f4b-896b-68e82cba8a42');\n",
       "var x = new MutationObserver(function (mutations, observer) {{\n",
       "        var display = window.getComputedStyle(gd).display;\n",
       "        if (!display || display === 'none') {{\n",
       "            console.log([gd, 'removed!']);\n",
       "            Plotly.purge(gd);\n",
       "            observer.disconnect();\n",
       "        }}\n",
       "}});\n",
       "\n",
       "// Listen for the removal of the full notebook cells\n",
       "var notebookContainer = gd.closest('#notebook-container');\n",
       "if (notebookContainer) {{\n",
       "    x.observe(notebookContainer, {childList: true});\n",
       "}}\n",
       "\n",
       "// Listen for the clearing of the current output cell\n",
       "var outputEl = gd.closest('.output');\n",
       "if (outputEl) {{\n",
       "    x.observe(outputEl, {childList: true});\n",
       "}}\n",
       "\n",
       "                        })                };                });            </script>        </div>"
      ]
     },
     "metadata": {},
     "output_type": "display_data"
    }
   ],
   "source": [
    "# Plot: Check most liked tweets\n",
    "\n",
    "y_axis = \"like_count\" # 'quote_count', ''\n",
    "\n",
    "fig = px.line(intra_day_tweets,\n",
    "              x=\"created_at\", y=,\n",
    "              title=f'{select_date} | Intra-day Likes on tweets',\n",
    "              hover_name=\"author_id\", # username\n",
    "              hover_data=[\"created_at\", \"like_count\",\"tweet_id\",\"text\"])\n",
    "fig.show()"
   ]
  },
  {
   "cell_type": "code",
   "execution_count": 41,
   "id": "coastal-video",
   "metadata": {},
   "outputs": [],
   "source": [
    "### Save the plot in the path you want! \n",
    "# fig.write_html(\"../outcome/Intra-day Likes on tweets.html\")"
   ]
  },
  {
   "cell_type": "code",
   "execution_count": 67,
   "id": "acoustic-smith",
   "metadata": {},
   "outputs": [
    {
     "data": {
      "application/vnd.plotly.v1+json": {
       "config": {
        "plotlyServerURL": "https://plot.ly"
       },
       "data": [
        {
         "customdata": [
          [
           "2021-08-07 22:03:59+00:00",
           3,
           1424129218024194000,
           "[scan results - 1h - #usdt pair]\n\nbinance top 5 bullish strength\n1: $ckb\n2: $wtc\n3: $torn\n4: $cfx\n5: $xvs\n\nbinance top 5 bullish reversal strength\n1: $wtc\n2: $link\n3: $nmr\n4: $lpt\n5: $etc"
          ],
          [
           "2021-08-07 21:00:27+00:00",
           0,
           1424113230218104800,
           "📉 biggest losers (1 hr) 📉\ninternet computer $icp -3.51% ❄️\nconflux network $cfx -2.90% ❄️\nnumeraire $nmr -2.83% ❄️\narweave $ar -2.20% ❄️\nperpetual protocol $perp -1.35% ❄️"
          ],
          [
           "2021-08-07 20:51:47+00:00",
           0,
           1424111050451005400,
           "again a nice call🤑🤑🤑🔥\n@crypto_scofield\n\n$btc $rune $ust $nano $nxm\n$zen $bnt $zb $ant $nmr $xvs\n$cvt $rvn  $bcd $hot $iost $bot\n$twt $ftm $alpha $ppt $luna\n$scrt $akro $audio $fet $vidt\n$iris $hard $uni $yoyo $axs $sxp\n$zrx $unfi $matic $ftm $srm\n$sxp $ada $aave $skl $dock https://t.co/afwrkqxt92"
          ],
          [
           "2021-08-07 20:51:32+00:00",
           0,
           1424110984600461300,
           "again a nice call🤑🔥\n@crypto_scofield\n\n$btc $rune $ust $nano $nxm\n$zen $bnt $zb $ant $nmr $xvs\n$cvt $rvn  $bcd $hot $iost $bot\n\n$twt $ftm $alpha $ppt $luna\n$scrt $akro $audio $fet $vidt\n$iris $hard $uni $yoyo $axs $sxp\n$zrx $unfi $matic $ftm $srm\n$sxp $ada $aave $skl $dock https://t.co/atjguta4kh"
          ],
          [
           "2021-08-07 20:47:28+00:00",
           2,
           1424109963811688400,
           "[scan results - 15m - #usdt pair]\n\nbinance top 5 bullish strength\n1: $etc\n2: $mask\n3: $1inch\n4: $shib\n5: $xvs\n\nbinance top 5 bullish reversal strength\n1: $inj\n2: $nmr\n3: $mdt\n4: $lit\n5: $vtho"
          ],
          [
           "2021-08-07 20:32:06+00:00",
           2,
           1424106096625688600,
           "[scan results - 15m - #usdt pair]\n\nbinance top 5 bullish strength\n1: $shib\n2: $1inch\n3: $cfx\n4: $xrp\n5: $hard\n\nbinance top 5 bullish reversal strength\n1: $inj\n2: $atom\n3: $qnt\n4: $rep\n5: $nmr"
          ],
          [
           "2021-08-07 20:09:37+00:00",
           0,
           1424100436211028000,
           "$nmr\n✅  increased 3.60% in 4.1 hour(s)\n💵 price - 40.93800000 usdt\n⏱️ [7 aug] - 20:09:37 utc\n#nmr #nmrusdt #cryptobot"
          ],
          [
           "2021-08-07 19:28:06+00:00",
           2,
           1424089990523498500,
           "top 5 mentions updated every 15 minutes\n\n  [beta stage] except btc and eth  \n\n  1- $doge:742677 point 🚀\n\n  2- $ctxc:123552 point 🚀\n\n  3- $nmr:123552 point 🚀\n\n  4- $xem:62155 point 🚀\n\n  5- $wtc:61845 point 🚀"
          ],
          [
           "2021-08-07 19:17:04+00:00",
           1,
           1424087214108160000,
           "[scan results - 15m - #btc pair]\n\nbinance top 5 bullish strength\n1: $ctxc\n2: $snt\n3: $doge\n4: $nmr\n5: $lrc\n\nbinance top 5 bullish reversal strength\n1: $pivx\n2: $chr\n3: $auto\n4: $near\n5: $sol\n\nall results for free on https://t.co/vmsa8rwq1g website!"
          ],
          [
           "2021-08-07 19:17:04+00:00",
           3,
           1424087213164404700,
           "[scan results - 15m - #usdt pair]\n\nbinance top 5 bullish strength\n1: $torn\n2: $nmr\n3: $ctxc\n4: $dodo\n5: $xem\n\nbinance top 5 bullish reversal strength\n1: $chr\n2: $uni\n3: $dego\n4: $hbar\n5: $kmd"
          ],
          [
           "2021-08-07 19:08:59+00:00",
           0,
           1424085177093873700,
           "you can get high quality signals and huge profit in short time\n\nhuge profit / diffrent signals / easy life\n\nfree join : https://t.co/hp22zvjnm6\n\n$iris $renbtc $chr $paxg $wabi $ong $nano $xvg $doge $nkn $chz $mtl $nmr $jst $agi $oax $wnxm $poa $ost $troy $avax $brd $go $pnt"
          ],
          [
           "2021-08-07 19:02:37+00:00",
           0,
           1424083575494914000,
           "again a nice call🤑🤑🔥🔥\n@crypto_scofield\n\n$btc $rune $ust $nano $nxm\n$zen $bnt $zb $ant $nmr $xvs\n$cvt $rvn  $bcd $hot $iost $bot\n$twt $ftm $alpha $ppt $luna\n$scrt $akro $audio $fet $vidt\n$iris $hard $uni $yoyo $axs $sxp\n$zrx $unfi $matic $ftm $srm\n$sxp $ada $aave $skl $dock https://t.co/afwrkqxt92"
          ],
          [
           "2021-08-07 19:02:20+00:00",
           0,
           1424083505240281000,
           "again a nice call🤑🤑\n@crypto_scofield\n\n$btc $rune $ust $nano $nxm\n$zen $bnt $zb $ant $nmr $xvs\n\n$cvt $rvn  $bcd $hot $iost $bot\n$twt $ftm $alpha $ppt $luna\n$scrt $akro $audio $fet $vidt\n$iris $hard $uni $yoyo $axs $sxp\n$zrx $unfi $matic $ftm $srm\n$sxp $ada $aave $skl $dock https://t.co/atjguta4kh"
          ],
          [
           "2021-08-07 19:00:02+00:00",
           2,
           1424082926019481600,
           "570,232 $nmr is staked on numerai's main tournament, down 9,608 $nmr compared to yesterday. the average 3 month return is 25.46%, and 3551 staked models control numerai's hedge fund."
          ],
          [
           "2021-08-07 18:09:44+00:00",
           0,
           1424070268863991800,
           "did anyone realize monster group signals powerful gain shortly time frame\n\nshortly time frame but double gain\n\nfree join : https://t.co/hp22zvjnm6\n\n$xvg $doge $nkn $chz $mtl $nmr $jst $agi $oax $wnxm $poa $ost $troy $avax $brd $go $pnt $storj $req $sky $iotx $amb $xzc $ctsi"
          ],
          [
           "2021-08-07 17:18:11+00:00",
           0,
           1424057294736744400,
           "again a nice call🤑🤑🤑🤑\n@crypto_scofield\n\n$btc $rune $ust $nano $nxm\n$zen $bnt $zb $ant $nmr $xvs\n$cvt $rvn  $bcd $hot $iost $bot\n$twt $ftm $alpha $ppt $luna\n$scrt $akro $audio $fet $vidt\n$iris $hard $uni $yoyo $axs $sxp\n\n$zrx $unfi $matic $ftm $srm\n$sxp $ada $aave $skl $dock https://t.co/afwrkqxt92"
          ],
          [
           "2021-08-07 17:17:54+00:00",
           1,
           1424057221856571400,
           "again a nice call🤑🤑🤑\n@crypto_scofield\n\n$btc $rune $ust $nano $nxm\n$zen $bnt $zb $ant $nmr $xvs\n$cvt $rvn  $bcd $hot $iost $bot\n\n$twt $ftm $alpha $ppt $luna\n$scrt $akro $audio $fet $vidt\n$iris $hard $uni $yoyo $axs $sxp\n$zrx $unfi $matic $ftm $srm\n$sxp $ada $aave $skl $dock https://t.co/atjguta4kh"
          ],
          [
           "2021-08-07 16:47:01+00:00",
           5,
           1424049452369731600,
           "[scan results - 15m - #usdt pair]\n\nbinance top 5 bullish strength\n1: $mask\n2: $doge\n3: $ckb\n4: $xvs\n5: $nmr\n\nbinance top 5 bullish reversal strength\n1: $nano\n2: $mdx\n3: $wnxm\n4: $paxg\n5: $bake"
          ],
          [
           "2021-08-07 16:39:21+00:00",
           0,
           1424047523392458800,
           "did anyone realize monster group signals powerful gain shortly time frame\n\nshortly time frame but double gain\n\nfree join : https://t.co/x8ozork4qk\n\n$xvg $doge $nkn $chz $mtl $nmr $jst $agi $oax $wnxm $poa $ost $troy $avax $brd $go $pnt $storj $req $sky $iotx $amb $xzc $ctsi"
          ],
          [
           "2021-08-07 16:00:35+00:00",
           0,
           1424037768381014000,
           "$nmr had a good start of the month at $38.65. do you think it can get past $40 by the end of august? @numerai @namaste_ml @numeraipayouts @dlinkbull \n https://t.co/jpdnnnrlbt"
          ],
          [
           "2021-08-07 15:18:04+00:00",
           0,
           1424027065909719000,
           "$nmr liking this one. small supply"
          ],
          [
           "2021-08-07 15:15:36+00:00",
           0,
           1424026447447003100,
           "$nmr\n✅  increased 4.08% in 23.1 hour(s)\n💵 price - 41.00900000 usdt\n⏱️ [7 aug] - 15:15:36 utc\n#nmr #nmrusdt #cryptobot"
          ],
          [
           "2021-08-07 15:15:19+00:00",
           0,
           1424026372591206400,
           "$nmr/usdt ⬆\nprice: 40.948\nmarket cap: 280,643,223\n24hr volume: 36,486,421\ndate added: 23 jun, 2017\nprice change 1h: 1.63%\nprice change 24h: 4.47%\nprice change 7d: 6.11%\n#binance\nnext 7d events: 0\nmore events: https://t.co/tgszktvkui"
          ],
          [
           "2021-08-07 15:11:16+00:00",
           0,
           1424025357020192800,
           "again a nice call🤑\n@crypto_scofield\n\n$btc $rune $ust $nano $nxm\n$zen $bnt $zb $ant $nmr $xvs\n$cvt $rvn  $bcd $hot $iost $bot\n$twt $ftm $alpha $ppt $luna\n$scrt $akro $audio $fet $vidt\n\n$iris $hard $uni $yoyo $axs $sxp\n$zrx $unfi $matic $ftm $srm\n$sxp $ada $aave $skl $dock https://t.co/afwrkqxt92"
          ],
          [
           "2021-08-07 15:11:03+00:00",
           0,
           1424025300128653300,
           "again a nice call🤑🤑🤑\n@crypto_scofield\n\n$btc $rune $ust $nano $nxm\n$zen $bnt $zb $ant $nmr $xvs\n$cvt $rvn  $bcd $hot $iost $bot\n$twt $ftm $alpha $ppt $luna\n$scrt $akro $audio $fet $vidt\n$iris $hard $uni $yoyo $axs $sxp\n$zrx $unfi $matic $ftm $srm\n$sxp $ada $aave $skl $dock https://t.co/atjguta4kh"
          ],
          [
           "2021-08-07 14:31:45+00:00",
           1,
           1424015410064760800,
           "[scan results - 15m - #btc pair]\n\nbinance top 5 bullish strength\n1: $strax\n2: $evx\n3: $etc\n4: $ez\n5: $tct\n\nbinance top 5 bullish reversal strength\n1: $om\n2: $theta\n3: $gtc\n4: $nmr\n5: $lrc\n\nall results for free on https://t.co/vmsa8rwq1g website!"
          ],
          [
           "2021-08-07 14:19:36+00:00",
           0,
           1424012352580690000,
           "again a nice call🤑🤑\n@crypto_scofield\n\n$btc $rune $ust $nano $nxm\n$zen $bnt $zb $ant $nmr $xvs\n\n$cvt $rvn  $bcd $hot $iost $bot\n$twt $ftm $alpha $ppt $luna\n$scrt $akro $audio $fet $vidt\n$iris $hard $uni $yoyo $axs $sxp\n\n$zrx $unfi $matic $ftm $srm\n$sxp $ada $aave $skl $dock https://t.co/afwrkqxt92"
          ],
          [
           "2021-08-07 14:19:18+00:00",
           0,
           1424012278530183200,
           "again a nice call🤑\n@crypto_scofield\n\n$btc $rune $ust $nano $nxm\n$zen $bnt $zb $ant $nmr $xvs\n$cvt $rvn  $bcd $hot $iost $bot\n\n$twt $ftm $alpha $ppt $luna\n$scrt $akro $audio $fet $vidt\n$iris $hard $uni $yoyo $axs $sxp\n$zrx $unfi $matic $ftm $srm\n$sxp $ada $aave $skl $dock https://t.co/atjguta4kh"
          ],
          [
           "2021-08-07 14:16:50+00:00",
           3,
           1424011657819345000,
           "[scan results - 15m - #btc pair]\n\nbinance top 5 bullish strength\n1: $oxt\n2: $strax\n3: $amb\n4: $nano\n5: $eth\n\nbinance top 5 bullish reversal strength\n1: $ast\n2: $gtc\n3: $rose\n4: $ankr\n5: $nmr\n\nall results for free on https://t.co/vmsa8rwq1g website!"
          ],
          [
           "2021-08-07 14:11:07+00:00",
           0,
           1424010216933232600,
           "no.1 influential on crypto group don't miss to join chance\n\nfree join : https://t.co/hp22zvjnm6\n\n$wtc $for $ant $strax $ava $luna $steem $arpa $adx $akro $cos $kmd $bqx $beam $perl $dock $iris $renbtc $chr $paxg $wabi $ong $nano $xvg $doge $nkn $chz $mtl $nmr $jst $agi $oax"
          ],
          [
           "2021-08-07 13:58:37+00:00",
           0,
           1424007073411604500,
           "again a nice call🤑✅\n@crypto_scofield\n\n$btc $rune $ust $nano $nxm\n$zen $bnt $zb $ant $nmr $xvs\n$cvt $rvn  $bcd $hot $iost $bot\n$twt $ftm $alpha $ppt $luna\n$scrt $akro $audio $fet $vidt\n$iris $hard $uni $yoyo $axs $sxp\n$zrx $unfi $matic $ftm $srm\n$sxp $ada $aave $skl $dock https://t.co/afwrkqxt92"
          ],
          [
           "2021-08-07 13:58:24+00:00",
           0,
           1424007017014960000,
           "again a nice call🤑🤑🤑✅\n@crypto_scofield\n\n$btc $rune $ust $nano $nxm\n$zen $bnt $zb $ant $nmr $xvs\n$cvt $rvn  $bcd $hot $iost $bot\n$twt $ftm $alpha $ppt $luna\n$scrt $akro $audio $fet $vidt\n$iris $hard $uni $yoyo $axs $sxp\n$zrx $unfi $matic $ftm $srm\n$sxp $ada $aave $skl $dock https://t.co/atjguta4kh"
          ],
          [
           "2021-08-07 13:12:50+00:00",
           2,
           1423995549125169200,
           "how i has it ?      $rep $ocean $neo $ckb $sol $matic $near $lrg $rsr $pax $data $rune $zrx $husd $dx $ctc $ocean $nmr $nmr $ads $bat $qnt $adk $ampl $lsk $iost $uqc $dgb $crv $hex $ewt $ardr $luna $tusd $qnt $jul $lrc $zrx $dx $paxg $bal $mtc $qtum $wan $adx $rvn $dnt https://t.co/8zcbt1fi01"
          ],
          [
           "2021-08-07 13:10:51+00:00",
           2,
           1423995053329064000,
           "ads of future now !     $rep $ich $lsk $band $crv $matic $bts $zrx $ren $rsr $paxg $qtum $celo $hedg $stx $btm $uos $jul $scrt $dgb $oxt $abbc $bat $sushi $nmr $crv $bcd $egld $iost $rsr $enj $band $bts $wan $trb $rev $ckb $trat $btm $rune $uma $noia $ctc $stx $dx $kava $rvn https://t.co/qyxk7aynag"
          ],
          [
           "2021-08-07 12:32:09+00:00",
           5,
           1423985311504294000,
           "[scan results - 15m - #usdt pair]\n\nbinance top 5 bullish strength\n1: $nmr\n2: $uni\n3: $ltc\n4: $ksm\n5: $wnxm\n\nbinance top 5 bullish reversal strength\n1: $unfi\n2: $super\n3: $fio\n4: $gtc\n5: $rlc"
          ],
          [
           "2021-08-07 08:55:52+00:00",
           0,
           1423930881744515000,
           "again a nice call🤑✔✅\n@crypto_scofield\n\n$btc $rune $ust $nano $nxm\n$zen $bnt $zb $ant $nmr $xvs\n\n$cvt $rvn  $bcd $hot $iost $bot\n$twt $ftm $alpha $ppt $luna\n$scrt $akro $audio $fet $vidt\n\n$iris $hard $uni $yoyo $axs $sxp\n$zrx $unfi $matic $ftm $srm\n$sxp $ada $aave $skl $dock https://t.co/afwrkqxt92"
          ],
          [
           "2021-08-07 08:55:35+00:00",
           0,
           1423930809627680800,
           "again a nice call🤑🏆🏆🏆\n@crypto_scofield\n\n$btc $rune $ust $nano $nxm\n$zen $bnt $zb $ant $nmr $xvs\n$cvt $rvn  $bcd $hot $iost $bot\n$twt $ftm $alpha $ppt $luna\n$scrt $akro $audio $fet $vidt\n$iris $hard $uni $yoyo $axs $sxp\n$zrx $unfi $matic $ftm $srm\n$sxp $ada $aave $skl $dock https://t.co/atjguta4kh"
          ],
          [
           "2021-08-07 08:40:09+00:00",
           0,
           1423926926251491300,
           "you can get high quality signals and huge profit in short time\n\nhuge profit / diffrent signals / easy life\n\nfree join : https://t.co/hp22zvjnm6\n\n$iris $renbtc $chr $paxg $wabi $ong $nano $xvg $doge $nkn $chz $mtl $nmr $jst $agi $oax $wnxm $poa $ost $troy $avax $brd $go $pnt"
          ],
          [
           "2021-08-07 08:40:03+00:00",
           0,
           1423926904403292200,
           "you can get high quality signals and huge profit in short time\n\nhuge profit / diffrent signals / easy life\n\nfree join : https://t.co/x8ozork4qk\n\n$iris $renbtc $chr $paxg $wabi $ong $nano $xvg $doge $nkn $chz $mtl $nmr $jst $agi $oax $wnxm $poa $ost $troy $avax $brd $go $pnt"
          ],
          [
           "2021-08-07 08:14:14+00:00",
           0,
           1423920405312585700,
           "again a nice call🤑🔥🔥\n@crypto_scofield\n\n$btc $rune $ust $nano $nxm\n\n$zen $bnt $zb $ant $nmr $xvs\n$cvt $rvn  $bcd $hot $iost $bot\n$twt $ftm $alpha $ppt $luna\n$scrt $akro $audio $fet $vidt\n$iris $hard $uni $yoyo $axs $sxp\n$zrx $unfi $matic $ftm $srm\n$sxp $ada $aave $skl $dock https://t.co/afwrkqxt92"
          ],
          [
           "2021-08-07 08:13:56+00:00",
           0,
           1423920328720502800,
           "again a nice call🤑\n@crypto_scofield\n\n$btc $rune $ust $nano $nxm\n$zen $bnt $zb $ant $nmr $xvs\n$cvt $rvn  $bcd $hot $iost $bot\n\n$twt $ftm $alpha $ppt $luna\n$scrt $akro $audio $fet $vidt\n$iris $hard $uni $yoyo $axs $sxp\n\n$zrx $unfi $matic $ftm $srm\n$sxp $ada $aave $skl $dock https://t.co/atjguta4kh"
          ],
          [
           "2021-08-07 07:46:54+00:00",
           0,
           1423913526721192000,
           "again a nice call🤑🤑🤑\n@crypto_scofield\n\n$btc $rune $ust $nano $nxm\n$zen $bnt $zb $ant $nmr $xvs\n$cvt $rvn  $bcd $hot $iost $bot\n$twt $ftm $alpha $ppt $luna\n$scrt $akro $audio $fet $vidt\n$iris $hard $uni $yoyo $axs $sxp\n$zrx $unfi $matic $ftm $srm\n$sxp $ada $aave $skl $dock https://t.co/afwrkqxt92"
          ],
          [
           "2021-08-07 07:44:02+00:00",
           0,
           1423912806508867600,
           "again a nice call🤑🤑\n@crypto_scofield\n\n$btc $rune $ust $nano $nxm\n$zen $bnt $zb $ant $nmr $xvs\n\n$cvt $rvn  $bcd $hot $iost $bot\n$twt $ftm $alpha $ppt $luna\n$scrt $akro $audio $fet $vidt\n\n$iris $hard $uni $yoyo $axs $sxp\n$zrx $unfi $matic $ftm $srm\n$sxp $ada $aave $skl $dock https://t.co/atjguta4kh"
          ],
          [
           "2021-08-07 06:56:53+00:00",
           0,
           1423900939224862700,
           "$nmr nmr/usd(#coinbasepro)\nsell signal @ $40.49320\nmacd crossover\nshort term bear run\nex vol: 70,574.1630\n#investment #invest #forex #numeraire\n\ncurpay protects your assets and makes profit. any questions? @ https://t.co/7ugd2ocvpx"
          ],
          [
           "2021-08-07 06:46:53+00:00",
           4,
           1423898421719666700,
           "[scan results - 15m - #usdt pair]\n\nbinance top 5 bullish strength\n1: $ern\n2: $chr\n3: $nmr\n4: $vet\n5: $xvg\n\nbinance top 5 bullish reversal strength\n1: $sun\n2: $iotx\n3: $nu\n4: $knc\n5: $rep"
          ],
          [
           "2021-08-07 06:41:10+00:00",
           2,
           1423896983358644200,
           "do not miss $nmr ride guys 🔥🔥🔥🔥🔥🚀🚀🚀🚀🚀🚀🚀🚀🚀\n\n#cryptotrade #cryptocurency #cryptoworld #cryptonews #crypto #cryptotrading $btc $eth @whale_sniper @whale_alert"
          ],
          [
           "2021-08-07 06:40:30+00:00",
           0,
           1423896818476191700,
           "there is no better group than monster group.\n\nmore than 700%++ profit in a week !!\n\nfree join : https://t.co/x8ozork4qk\n\n$perl $dock $iris $renbtc $chr $paxg $wabi $ong $nano $xvg $doge $nkn $chz $mtl $nmr $jst $agi $oax $wnxm $poa $ost $troy $avax $brd $go $pnt $storj $req"
          ],
          [
           "2021-08-07 06:37:34+00:00",
           3,
           1423896079058325500,
           "sleeping people wake up call $nmr 🔥🔥🔥🔥🔥🚀🚀🚀🚀🚀🚀🚀🚀🚀🚀🚀🚀🚀🚀🚀🚀🚀🚀🚀\n\n#cryptotrade #cryptocurency #cryptoworld #cryptonews #crypto #cryptotrading $btc $eth @whale_sniper @whale_alert"
          ],
          [
           "2021-08-07 06:36:49+00:00",
           3,
           1423895891849752600,
           "$nmr guys looks amazing 🔥🔥🔥🔥🚀🚀🚀🚀🚀🚀🚀🚀🚀🚀🚀🚀🚀\n\n#cryptotrade #cryptocurency #cryptoworld #cryptonews #crypto #cryptotrading $btc $eth @whale_sniper @whale_alert"
          ],
          [
           "2021-08-07 06:31:20+00:00",
           1,
           1423894508035616800,
           "again a nice call🤑\n@crypto_scofield\n\n$btc $rune $ust $nano $nxm\n$zen $bnt $zb $ant $nmr $xvs\n$cvt $rvn  $bcd $hot $iost $bot\n$twt $ftm $alpha $ppt $luna\n$scrt $akro $audio $fet $vidt\n$iris $hard $uni $yoyo $axs $sxp\n$zrx $unfi $matic $ftm $srm\n$sxp $ada $aave $skl $dock https://t.co/afwrkqxt92"
          ],
          [
           "2021-08-07 06:31:02+00:00",
           0,
           1423894433779564500,
           "again a nice call🤑\n@crypto_scofield\n\n$btc $rune $ust $nano $nxm\n$zen $bnt $zb $ant $nmr $xvs\n$cvt $rvn  $bcd $hot $iost $bot\n$twt $ftm $alpha $ppt $luna\n$scrt $akro $audio $fet $vidt\n$iris $hard $uni $yoyo $axs $sxp\n$zrx $unfi $matic $ftm $srm\n$sxp $ada $aave $skl $dock https://t.co/atjguta4kh"
          ],
          [
           "2021-08-07 05:15:06+00:00",
           0,
           1423875324060786700,
           "📈 mover alert: numeraire ($38.87, -1%) gained 18 positions on coinmarketcap. its rank is now 148. @numerai $nmr"
          ],
          [
           "2021-08-07 04:12:56+00:00",
           0,
           1423859682205110300,
           "$nmr/usdt ⬆\nprice: 39.647\nmarket cap: 274,319,275\n24hr volume: 30,892,065\ndate added: 23 jun, 2017\nprice change 1h: 0.84%\nprice change 24h: 2.77%\nprice change 7d: 3.00%\n#binance\nnext 7d events: 0\nmore events: https://t.co/tgszktvkui"
          ],
          [
           "2021-08-07 03:08:56+00:00",
           0,
           1423843575603765200,
           "there is no better group than monster group.\n\nmore than 700%++ profit in a week !!\n\nfree join : https://t.co/hp22zvjnm6\n\n$perl $dock $iris $renbtc $chr $paxg $wabi $ong $nano $xvg $doge $nkn $chz $mtl $nmr $jst $agi $oax $wnxm $poa $ost $troy $avax $brd $go $pnt $storj $req"
          ],
          [
           "2021-08-07 02:31:44+00:00",
           4,
           1423834213669867500,
           "[scan results - 15m - #usdt pair]\n\nbinance top 5 bullish strength\n1: $eth\n2: $doge\n3: $nmr\n4: $sushi\n5: $cvc\n\nbinance top 5 bullish reversal strength\n1: $clv\n2: $ocean\n3: $qnt\n4: $tomo\n5: $tlm"
          ]
         ],
         "hovertemplate": "<b>%{hovertext}</b><br><br>sentiment=%{x}<br>like_count=%{customdata[1]}<br>created_at=%{customdata[0]}<br>tweet_id=%{customdata[2]}<br>text=%{customdata[3]}<extra></extra>",
         "hovertext": [
          948551073387642900,
          947953619726360600,
          1346854325658800000,
          1346854325658800000,
          948551073387642900,
          948551073387642900,
          1141208687001780200,
          2857923496,
          948551073387642900,
          948551073387642900,
          1329640297760911400,
          1346854325658800000,
          1346854325658800000,
          1192737727617343500,
          1329640297760911400,
          1346854325658800000,
          1346854325658800000,
          948551073387642900,
          1330051109638070300,
          1348636120301580300,
          594162137,
          1141208687001780200,
          1395475282463797200,
          1346854325658800000,
          1346854325658800000,
          948551073387642900,
          1346854325658800000,
          1346854325658800000,
          948551073387642900,
          1329640297760911400,
          1346854325658800000,
          1346854325658800000,
          1363255276732883000,
          1332702132588474400,
          948551073387642900,
          1346854325658800000,
          1346854325658800000,
          1329640297760911400,
          1330051109638070300,
          1346854325658800000,
          1346854325658800000,
          1346854325658800000,
          1346854325658800000,
          1336700907812253700,
          948551073387642900,
          1365817266013679600,
          1330051109638070300,
          1365817266013679600,
          1365817266013679600,
          1346854325658800000,
          1346854325658800000,
          1008381971951685600,
          1395475282463797200,
          1329640297760911400,
          948551073387642900
         ],
         "legendgroup": "",
         "marker": {
          "color": "#636efa",
          "symbol": "circle"
         },
         "mode": "markers",
         "name": "",
         "orientation": "v",
         "showlegend": false,
         "type": "scatter",
         "x": [
          0.7906,
          -0.5267,
          0.1027,
          0.1027,
          0.8402,
          0.8225,
          0.2732,
          0.2023,
          0.9117,
          0.7906,
          0.9501,
          -0.25,
          0.4215,
          0,
          0.9294,
          0.4215,
          0.4215,
          0.8402,
          0.9294,
          0.4404,
          0.4019,
          0.2732,
          0,
          0.4215,
          0.4215,
          0.9117,
          0.4215,
          0.4215,
          0.9117,
          0.8383,
          0.4215,
          0.4215,
          0,
          0,
          0.9169,
          0.4215,
          0.4215,
          0.9501,
          0.9501,
          -0.25,
          0.4215,
          0.4215,
          0.4215,
          0.7096,
          0.8402,
          -0.861,
          0.7809,
          -0.875,
          -0.5859,
          0.4215,
          0.4215,
          0.5859,
          0,
          0.7809,
          0.8402
         ],
         "xaxis": "x",
         "y": [
          3,
          0,
          0,
          0,
          2,
          2,
          0,
          2,
          1,
          3,
          0,
          0,
          0,
          2,
          0,
          0,
          1,
          5,
          0,
          0,
          0,
          0,
          0,
          0,
          0,
          1,
          0,
          0,
          3,
          0,
          0,
          0,
          2,
          2,
          5,
          0,
          0,
          0,
          0,
          0,
          0,
          0,
          0,
          0,
          4,
          2,
          0,
          3,
          3,
          1,
          0,
          0,
          0,
          0,
          4
         ],
         "yaxis": "y"
        }
       ],
       "layout": {
        "legend": {
         "tracegroupgap": 0
        },
        "template": {
         "data": {
          "bar": [
           {
            "error_x": {
             "color": "#2a3f5f"
            },
            "error_y": {
             "color": "#2a3f5f"
            },
            "marker": {
             "line": {
              "color": "#E5ECF6",
              "width": 0.5
             }
            },
            "type": "bar"
           }
          ],
          "barpolar": [
           {
            "marker": {
             "line": {
              "color": "#E5ECF6",
              "width": 0.5
             }
            },
            "type": "barpolar"
           }
          ],
          "carpet": [
           {
            "aaxis": {
             "endlinecolor": "#2a3f5f",
             "gridcolor": "white",
             "linecolor": "white",
             "minorgridcolor": "white",
             "startlinecolor": "#2a3f5f"
            },
            "baxis": {
             "endlinecolor": "#2a3f5f",
             "gridcolor": "white",
             "linecolor": "white",
             "minorgridcolor": "white",
             "startlinecolor": "#2a3f5f"
            },
            "type": "carpet"
           }
          ],
          "choropleth": [
           {
            "colorbar": {
             "outlinewidth": 0,
             "ticks": ""
            },
            "type": "choropleth"
           }
          ],
          "contour": [
           {
            "colorbar": {
             "outlinewidth": 0,
             "ticks": ""
            },
            "colorscale": [
             [
              0,
              "#0d0887"
             ],
             [
              0.1111111111111111,
              "#46039f"
             ],
             [
              0.2222222222222222,
              "#7201a8"
             ],
             [
              0.3333333333333333,
              "#9c179e"
             ],
             [
              0.4444444444444444,
              "#bd3786"
             ],
             [
              0.5555555555555556,
              "#d8576b"
             ],
             [
              0.6666666666666666,
              "#ed7953"
             ],
             [
              0.7777777777777778,
              "#fb9f3a"
             ],
             [
              0.8888888888888888,
              "#fdca26"
             ],
             [
              1,
              "#f0f921"
             ]
            ],
            "type": "contour"
           }
          ],
          "contourcarpet": [
           {
            "colorbar": {
             "outlinewidth": 0,
             "ticks": ""
            },
            "type": "contourcarpet"
           }
          ],
          "heatmap": [
           {
            "colorbar": {
             "outlinewidth": 0,
             "ticks": ""
            },
            "colorscale": [
             [
              0,
              "#0d0887"
             ],
             [
              0.1111111111111111,
              "#46039f"
             ],
             [
              0.2222222222222222,
              "#7201a8"
             ],
             [
              0.3333333333333333,
              "#9c179e"
             ],
             [
              0.4444444444444444,
              "#bd3786"
             ],
             [
              0.5555555555555556,
              "#d8576b"
             ],
             [
              0.6666666666666666,
              "#ed7953"
             ],
             [
              0.7777777777777778,
              "#fb9f3a"
             ],
             [
              0.8888888888888888,
              "#fdca26"
             ],
             [
              1,
              "#f0f921"
             ]
            ],
            "type": "heatmap"
           }
          ],
          "heatmapgl": [
           {
            "colorbar": {
             "outlinewidth": 0,
             "ticks": ""
            },
            "colorscale": [
             [
              0,
              "#0d0887"
             ],
             [
              0.1111111111111111,
              "#46039f"
             ],
             [
              0.2222222222222222,
              "#7201a8"
             ],
             [
              0.3333333333333333,
              "#9c179e"
             ],
             [
              0.4444444444444444,
              "#bd3786"
             ],
             [
              0.5555555555555556,
              "#d8576b"
             ],
             [
              0.6666666666666666,
              "#ed7953"
             ],
             [
              0.7777777777777778,
              "#fb9f3a"
             ],
             [
              0.8888888888888888,
              "#fdca26"
             ],
             [
              1,
              "#f0f921"
             ]
            ],
            "type": "heatmapgl"
           }
          ],
          "histogram": [
           {
            "marker": {
             "colorbar": {
              "outlinewidth": 0,
              "ticks": ""
             }
            },
            "type": "histogram"
           }
          ],
          "histogram2d": [
           {
            "colorbar": {
             "outlinewidth": 0,
             "ticks": ""
            },
            "colorscale": [
             [
              0,
              "#0d0887"
             ],
             [
              0.1111111111111111,
              "#46039f"
             ],
             [
              0.2222222222222222,
              "#7201a8"
             ],
             [
              0.3333333333333333,
              "#9c179e"
             ],
             [
              0.4444444444444444,
              "#bd3786"
             ],
             [
              0.5555555555555556,
              "#d8576b"
             ],
             [
              0.6666666666666666,
              "#ed7953"
             ],
             [
              0.7777777777777778,
              "#fb9f3a"
             ],
             [
              0.8888888888888888,
              "#fdca26"
             ],
             [
              1,
              "#f0f921"
             ]
            ],
            "type": "histogram2d"
           }
          ],
          "histogram2dcontour": [
           {
            "colorbar": {
             "outlinewidth": 0,
             "ticks": ""
            },
            "colorscale": [
             [
              0,
              "#0d0887"
             ],
             [
              0.1111111111111111,
              "#46039f"
             ],
             [
              0.2222222222222222,
              "#7201a8"
             ],
             [
              0.3333333333333333,
              "#9c179e"
             ],
             [
              0.4444444444444444,
              "#bd3786"
             ],
             [
              0.5555555555555556,
              "#d8576b"
             ],
             [
              0.6666666666666666,
              "#ed7953"
             ],
             [
              0.7777777777777778,
              "#fb9f3a"
             ],
             [
              0.8888888888888888,
              "#fdca26"
             ],
             [
              1,
              "#f0f921"
             ]
            ],
            "type": "histogram2dcontour"
           }
          ],
          "mesh3d": [
           {
            "colorbar": {
             "outlinewidth": 0,
             "ticks": ""
            },
            "type": "mesh3d"
           }
          ],
          "parcoords": [
           {
            "line": {
             "colorbar": {
              "outlinewidth": 0,
              "ticks": ""
             }
            },
            "type": "parcoords"
           }
          ],
          "pie": [
           {
            "automargin": true,
            "type": "pie"
           }
          ],
          "scatter": [
           {
            "marker": {
             "colorbar": {
              "outlinewidth": 0,
              "ticks": ""
             }
            },
            "type": "scatter"
           }
          ],
          "scatter3d": [
           {
            "line": {
             "colorbar": {
              "outlinewidth": 0,
              "ticks": ""
             }
            },
            "marker": {
             "colorbar": {
              "outlinewidth": 0,
              "ticks": ""
             }
            },
            "type": "scatter3d"
           }
          ],
          "scattercarpet": [
           {
            "marker": {
             "colorbar": {
              "outlinewidth": 0,
              "ticks": ""
             }
            },
            "type": "scattercarpet"
           }
          ],
          "scattergeo": [
           {
            "marker": {
             "colorbar": {
              "outlinewidth": 0,
              "ticks": ""
             }
            },
            "type": "scattergeo"
           }
          ],
          "scattergl": [
           {
            "marker": {
             "colorbar": {
              "outlinewidth": 0,
              "ticks": ""
             }
            },
            "type": "scattergl"
           }
          ],
          "scattermapbox": [
           {
            "marker": {
             "colorbar": {
              "outlinewidth": 0,
              "ticks": ""
             }
            },
            "type": "scattermapbox"
           }
          ],
          "scatterpolar": [
           {
            "marker": {
             "colorbar": {
              "outlinewidth": 0,
              "ticks": ""
             }
            },
            "type": "scatterpolar"
           }
          ],
          "scatterpolargl": [
           {
            "marker": {
             "colorbar": {
              "outlinewidth": 0,
              "ticks": ""
             }
            },
            "type": "scatterpolargl"
           }
          ],
          "scatterternary": [
           {
            "marker": {
             "colorbar": {
              "outlinewidth": 0,
              "ticks": ""
             }
            },
            "type": "scatterternary"
           }
          ],
          "surface": [
           {
            "colorbar": {
             "outlinewidth": 0,
             "ticks": ""
            },
            "colorscale": [
             [
              0,
              "#0d0887"
             ],
             [
              0.1111111111111111,
              "#46039f"
             ],
             [
              0.2222222222222222,
              "#7201a8"
             ],
             [
              0.3333333333333333,
              "#9c179e"
             ],
             [
              0.4444444444444444,
              "#bd3786"
             ],
             [
              0.5555555555555556,
              "#d8576b"
             ],
             [
              0.6666666666666666,
              "#ed7953"
             ],
             [
              0.7777777777777778,
              "#fb9f3a"
             ],
             [
              0.8888888888888888,
              "#fdca26"
             ],
             [
              1,
              "#f0f921"
             ]
            ],
            "type": "surface"
           }
          ],
          "table": [
           {
            "cells": {
             "fill": {
              "color": "#EBF0F8"
             },
             "line": {
              "color": "white"
             }
            },
            "header": {
             "fill": {
              "color": "#C8D4E3"
             },
             "line": {
              "color": "white"
             }
            },
            "type": "table"
           }
          ]
         },
         "layout": {
          "annotationdefaults": {
           "arrowcolor": "#2a3f5f",
           "arrowhead": 0,
           "arrowwidth": 1
          },
          "coloraxis": {
           "colorbar": {
            "outlinewidth": 0,
            "ticks": ""
           }
          },
          "colorscale": {
           "diverging": [
            [
             0,
             "#8e0152"
            ],
            [
             0.1,
             "#c51b7d"
            ],
            [
             0.2,
             "#de77ae"
            ],
            [
             0.3,
             "#f1b6da"
            ],
            [
             0.4,
             "#fde0ef"
            ],
            [
             0.5,
             "#f7f7f7"
            ],
            [
             0.6,
             "#e6f5d0"
            ],
            [
             0.7,
             "#b8e186"
            ],
            [
             0.8,
             "#7fbc41"
            ],
            [
             0.9,
             "#4d9221"
            ],
            [
             1,
             "#276419"
            ]
           ],
           "sequential": [
            [
             0,
             "#0d0887"
            ],
            [
             0.1111111111111111,
             "#46039f"
            ],
            [
             0.2222222222222222,
             "#7201a8"
            ],
            [
             0.3333333333333333,
             "#9c179e"
            ],
            [
             0.4444444444444444,
             "#bd3786"
            ],
            [
             0.5555555555555556,
             "#d8576b"
            ],
            [
             0.6666666666666666,
             "#ed7953"
            ],
            [
             0.7777777777777778,
             "#fb9f3a"
            ],
            [
             0.8888888888888888,
             "#fdca26"
            ],
            [
             1,
             "#f0f921"
            ]
           ],
           "sequentialminus": [
            [
             0,
             "#0d0887"
            ],
            [
             0.1111111111111111,
             "#46039f"
            ],
            [
             0.2222222222222222,
             "#7201a8"
            ],
            [
             0.3333333333333333,
             "#9c179e"
            ],
            [
             0.4444444444444444,
             "#bd3786"
            ],
            [
             0.5555555555555556,
             "#d8576b"
            ],
            [
             0.6666666666666666,
             "#ed7953"
            ],
            [
             0.7777777777777778,
             "#fb9f3a"
            ],
            [
             0.8888888888888888,
             "#fdca26"
            ],
            [
             1,
             "#f0f921"
            ]
           ]
          },
          "colorway": [
           "#636efa",
           "#EF553B",
           "#00cc96",
           "#ab63fa",
           "#FFA15A",
           "#19d3f3",
           "#FF6692",
           "#B6E880",
           "#FF97FF",
           "#FECB52"
          ],
          "font": {
           "color": "#2a3f5f"
          },
          "geo": {
           "bgcolor": "white",
           "lakecolor": "white",
           "landcolor": "#E5ECF6",
           "showlakes": true,
           "showland": true,
           "subunitcolor": "white"
          },
          "hoverlabel": {
           "align": "left"
          },
          "hovermode": "closest",
          "mapbox": {
           "style": "light"
          },
          "paper_bgcolor": "white",
          "plot_bgcolor": "#E5ECF6",
          "polar": {
           "angularaxis": {
            "gridcolor": "white",
            "linecolor": "white",
            "ticks": ""
           },
           "bgcolor": "#E5ECF6",
           "radialaxis": {
            "gridcolor": "white",
            "linecolor": "white",
            "ticks": ""
           }
          },
          "scene": {
           "xaxis": {
            "backgroundcolor": "#E5ECF6",
            "gridcolor": "white",
            "gridwidth": 2,
            "linecolor": "white",
            "showbackground": true,
            "ticks": "",
            "zerolinecolor": "white"
           },
           "yaxis": {
            "backgroundcolor": "#E5ECF6",
            "gridcolor": "white",
            "gridwidth": 2,
            "linecolor": "white",
            "showbackground": true,
            "ticks": "",
            "zerolinecolor": "white"
           },
           "zaxis": {
            "backgroundcolor": "#E5ECF6",
            "gridcolor": "white",
            "gridwidth": 2,
            "linecolor": "white",
            "showbackground": true,
            "ticks": "",
            "zerolinecolor": "white"
           }
          },
          "shapedefaults": {
           "line": {
            "color": "#2a3f5f"
           }
          },
          "ternary": {
           "aaxis": {
            "gridcolor": "white",
            "linecolor": "white",
            "ticks": ""
           },
           "baxis": {
            "gridcolor": "white",
            "linecolor": "white",
            "ticks": ""
           },
           "bgcolor": "#E5ECF6",
           "caxis": {
            "gridcolor": "white",
            "linecolor": "white",
            "ticks": ""
           }
          },
          "title": {
           "x": 0.05
          },
          "xaxis": {
           "automargin": true,
           "gridcolor": "white",
           "linecolor": "white",
           "ticks": "",
           "title": {
            "standoff": 15
           },
           "zerolinecolor": "white",
           "zerolinewidth": 2
          },
          "yaxis": {
           "automargin": true,
           "gridcolor": "white",
           "linecolor": "white",
           "ticks": "",
           "title": {
            "standoff": 15
           },
           "zerolinecolor": "white",
           "zerolinewidth": 2
          }
         }
        },
        "title": {
         "text": "2021-08-07 | Sentiment vs Likes"
        },
        "xaxis": {
         "anchor": "y",
         "domain": [
          0,
          1
         ],
         "title": {
          "text": "sentiment"
         }
        },
        "yaxis": {
         "anchor": "x",
         "domain": [
          0,
          1
         ],
         "title": {
          "text": "like_count"
         }
        }
       }
      },
      "text/html": [
       "<div>                            <div id=\"0fc4988d-4474-4de4-88b2-409597eecc42\" class=\"plotly-graph-div\" style=\"height:525px; width:100%;\"></div>            <script type=\"text/javascript\">                require([\"plotly\"], function(Plotly) {                    window.PLOTLYENV=window.PLOTLYENV || {};                                    if (document.getElementById(\"0fc4988d-4474-4de4-88b2-409597eecc42\")) {                    Plotly.newPlot(                        \"0fc4988d-4474-4de4-88b2-409597eecc42\",                        [{\"customdata\": [[\"2021-08-07 22:03:59+00:00\", 3, 1424129218024194050, \"[scan results - 1h - #usdt pair]\\n\\nbinance top 5 bullish strength\\n1: $ckb\\n2: $wtc\\n3: $torn\\n4: $cfx\\n5: $xvs\\n\\nbinance top 5 bullish reversal strength\\n1: $wtc\\n2: $link\\n3: $nmr\\n4: $lpt\\n5: $etc\"], [\"2021-08-07 21:00:27+00:00\", 0, 1424113230218104832, \"\\ud83d\\udcc9 biggest losers (1 hr) \\ud83d\\udcc9\\ninternet computer $icp -3.51% \\u2744\\ufe0f\\nconflux network $cfx -2.90% \\u2744\\ufe0f\\nnumeraire $nmr -2.83% \\u2744\\ufe0f\\narweave $ar -2.20% \\u2744\\ufe0f\\nperpetual protocol $perp -1.35% \\u2744\\ufe0f\"], [\"2021-08-07 20:51:47+00:00\", 0, 1424111050451005440, \"again a nice call\\ud83e\\udd11\\ud83e\\udd11\\ud83e\\udd11\\ud83d\\udd25\\n@crypto_scofield\\n\\n$btc $rune $ust $nano $nxm\\n$zen $bnt $zb $ant $nmr $xvs\\n$cvt $rvn  $bcd $hot $iost $bot\\n$twt $ftm $alpha $ppt $luna\\n$scrt $akro $audio $fet $vidt\\n$iris $hard $uni $yoyo $axs $sxp\\n$zrx $unfi $matic $ftm $srm\\n$sxp $ada $aave $skl $dock https://t.co/afwrkqxt92\"], [\"2021-08-07 20:51:32+00:00\", 0, 1424110984600461313, \"again a nice call\\ud83e\\udd11\\ud83d\\udd25\\n@crypto_scofield\\n\\n$btc $rune $ust $nano $nxm\\n$zen $bnt $zb $ant $nmr $xvs\\n$cvt $rvn  $bcd $hot $iost $bot\\n\\n$twt $ftm $alpha $ppt $luna\\n$scrt $akro $audio $fet $vidt\\n$iris $hard $uni $yoyo $axs $sxp\\n$zrx $unfi $matic $ftm $srm\\n$sxp $ada $aave $skl $dock https://t.co/atjguta4kh\"], [\"2021-08-07 20:47:28+00:00\", 2, 1424109963811688454, \"[scan results - 15m - #usdt pair]\\n\\nbinance top 5 bullish strength\\n1: $etc\\n2: $mask\\n3: $1inch\\n4: $shib\\n5: $xvs\\n\\nbinance top 5 bullish reversal strength\\n1: $inj\\n2: $nmr\\n3: $mdt\\n4: $lit\\n5: $vtho\"], [\"2021-08-07 20:32:06+00:00\", 2, 1424106096625688576, \"[scan results - 15m - #usdt pair]\\n\\nbinance top 5 bullish strength\\n1: $shib\\n2: $1inch\\n3: $cfx\\n4: $xrp\\n5: $hard\\n\\nbinance top 5 bullish reversal strength\\n1: $inj\\n2: $atom\\n3: $qnt\\n4: $rep\\n5: $nmr\"], [\"2021-08-07 20:09:37+00:00\", 0, 1424100436211027971, \"$nmr\\n\\u2705  increased 3.60% in 4.1 hour(s)\\n\\ud83d\\udcb5 price - 40.93800000 usdt\\n\\u23f1\\ufe0f [7 aug] - 20:09:37 utc\\n#nmr #nmrusdt #cryptobot\"], [\"2021-08-07 19:28:06+00:00\", 2, 1424089990523498501, \"top 5 mentions updated every 15 minutes\\n\\n  [beta stage] except btc and eth  \\n\\n  1- $doge:742677 point \\ud83d\\ude80\\n\\n  2- $ctxc:123552 point \\ud83d\\ude80\\n\\n  3- $nmr:123552 point \\ud83d\\ude80\\n\\n  4- $xem:62155 point \\ud83d\\ude80\\n\\n  5- $wtc:61845 point \\ud83d\\ude80\"], [\"2021-08-07 19:17:04+00:00\", 1, 1424087214108160003, \"[scan results - 15m - #btc pair]\\n\\nbinance top 5 bullish strength\\n1: $ctxc\\n2: $snt\\n3: $doge\\n4: $nmr\\n5: $lrc\\n\\nbinance top 5 bullish reversal strength\\n1: $pivx\\n2: $chr\\n3: $auto\\n4: $near\\n5: $sol\\n\\nall results for free on https://t.co/vmsa8rwq1g website!\"], [\"2021-08-07 19:17:04+00:00\", 3, 1424087213164404745, \"[scan results - 15m - #usdt pair]\\n\\nbinance top 5 bullish strength\\n1: $torn\\n2: $nmr\\n3: $ctxc\\n4: $dodo\\n5: $xem\\n\\nbinance top 5 bullish reversal strength\\n1: $chr\\n2: $uni\\n3: $dego\\n4: $hbar\\n5: $kmd\"], [\"2021-08-07 19:08:59+00:00\", 0, 1424085177093873670, \"you can get high quality signals and huge profit in short time\\n\\nhuge profit / diffrent signals / easy life\\n\\nfree join : https://t.co/hp22zvjnm6\\n\\n$iris $renbtc $chr $paxg $wabi $ong $nano $xvg $doge $nkn $chz $mtl $nmr $jst $agi $oax $wnxm $poa $ost $troy $avax $brd $go $pnt\"], [\"2021-08-07 19:02:37+00:00\", 0, 1424083575494914054, \"again a nice call\\ud83e\\udd11\\ud83e\\udd11\\ud83d\\udd25\\ud83d\\udd25\\n@crypto_scofield\\n\\n$btc $rune $ust $nano $nxm\\n$zen $bnt $zb $ant $nmr $xvs\\n$cvt $rvn  $bcd $hot $iost $bot\\n$twt $ftm $alpha $ppt $luna\\n$scrt $akro $audio $fet $vidt\\n$iris $hard $uni $yoyo $axs $sxp\\n$zrx $unfi $matic $ftm $srm\\n$sxp $ada $aave $skl $dock https://t.co/afwrkqxt92\"], [\"2021-08-07 19:02:20+00:00\", 0, 1424083505240281090, \"again a nice call\\ud83e\\udd11\\ud83e\\udd11\\n@crypto_scofield\\n\\n$btc $rune $ust $nano $nxm\\n$zen $bnt $zb $ant $nmr $xvs\\n\\n$cvt $rvn  $bcd $hot $iost $bot\\n$twt $ftm $alpha $ppt $luna\\n$scrt $akro $audio $fet $vidt\\n$iris $hard $uni $yoyo $axs $sxp\\n$zrx $unfi $matic $ftm $srm\\n$sxp $ada $aave $skl $dock https://t.co/atjguta4kh\"], [\"2021-08-07 19:00:02+00:00\", 2, 1424082926019481615, \"570,232 $nmr is staked on numerai's main tournament, down 9,608 $nmr compared to yesterday. the average 3 month return is 25.46%, and 3551 staked models control numerai's hedge fund.\"], [\"2021-08-07 18:09:44+00:00\", 0, 1424070268863991811, \"did anyone realize monster group signals powerful gain shortly time frame\\n\\nshortly time frame but double gain\\n\\nfree join : https://t.co/hp22zvjnm6\\n\\n$xvg $doge $nkn $chz $mtl $nmr $jst $agi $oax $wnxm $poa $ost $troy $avax $brd $go $pnt $storj $req $sky $iotx $amb $xzc $ctsi\"], [\"2021-08-07 17:18:11+00:00\", 0, 1424057294736744460, \"again a nice call\\ud83e\\udd11\\ud83e\\udd11\\ud83e\\udd11\\ud83e\\udd11\\n@crypto_scofield\\n\\n$btc $rune $ust $nano $nxm\\n$zen $bnt $zb $ant $nmr $xvs\\n$cvt $rvn  $bcd $hot $iost $bot\\n$twt $ftm $alpha $ppt $luna\\n$scrt $akro $audio $fet $vidt\\n$iris $hard $uni $yoyo $axs $sxp\\n\\n$zrx $unfi $matic $ftm $srm\\n$sxp $ada $aave $skl $dock https://t.co/afwrkqxt92\"], [\"2021-08-07 17:17:54+00:00\", 1, 1424057221856571398, \"again a nice call\\ud83e\\udd11\\ud83e\\udd11\\ud83e\\udd11\\n@crypto_scofield\\n\\n$btc $rune $ust $nano $nxm\\n$zen $bnt $zb $ant $nmr $xvs\\n$cvt $rvn  $bcd $hot $iost $bot\\n\\n$twt $ftm $alpha $ppt $luna\\n$scrt $akro $audio $fet $vidt\\n$iris $hard $uni $yoyo $axs $sxp\\n$zrx $unfi $matic $ftm $srm\\n$sxp $ada $aave $skl $dock https://t.co/atjguta4kh\"], [\"2021-08-07 16:47:01+00:00\", 5, 1424049452369731586, \"[scan results - 15m - #usdt pair]\\n\\nbinance top 5 bullish strength\\n1: $mask\\n2: $doge\\n3: $ckb\\n4: $xvs\\n5: $nmr\\n\\nbinance top 5 bullish reversal strength\\n1: $nano\\n2: $mdx\\n3: $wnxm\\n4: $paxg\\n5: $bake\"], [\"2021-08-07 16:39:21+00:00\", 0, 1424047523392458754, \"did anyone realize monster group signals powerful gain shortly time frame\\n\\nshortly time frame but double gain\\n\\nfree join : https://t.co/x8ozork4qk\\n\\n$xvg $doge $nkn $chz $mtl $nmr $jst $agi $oax $wnxm $poa $ost $troy $avax $brd $go $pnt $storj $req $sky $iotx $amb $xzc $ctsi\"], [\"2021-08-07 16:00:35+00:00\", 0, 1424037768381014017, \"$nmr had a good start of the month at $38.65. do you think it can get past $40 by the end of august? @numerai @namaste_ml @numeraipayouts @dlinkbull \\n https://t.co/jpdnnnrlbt\"], [\"2021-08-07 15:18:04+00:00\", 0, 1424027065909719049, \"$nmr liking this one. small supply\"], [\"2021-08-07 15:15:36+00:00\", 0, 1424026447447003136, \"$nmr\\n\\u2705  increased 4.08% in 23.1 hour(s)\\n\\ud83d\\udcb5 price - 41.00900000 usdt\\n\\u23f1\\ufe0f [7 aug] - 15:15:36 utc\\n#nmr #nmrusdt #cryptobot\"], [\"2021-08-07 15:15:19+00:00\", 0, 1424026372591206406, \"$nmr/usdt \\u2b06\\nprice: 40.948\\nmarket cap: 280,643,223\\n24hr volume: 36,486,421\\ndate added: 23 jun, 2017\\nprice change 1h: 1.63%\\nprice change 24h: 4.47%\\nprice change 7d: 6.11%\\n#binance\\nnext 7d events: 0\\nmore events: https://t.co/tgszktvkui\"], [\"2021-08-07 15:11:16+00:00\", 0, 1424025357020192779, \"again a nice call\\ud83e\\udd11\\n@crypto_scofield\\n\\n$btc $rune $ust $nano $nxm\\n$zen $bnt $zb $ant $nmr $xvs\\n$cvt $rvn  $bcd $hot $iost $bot\\n$twt $ftm $alpha $ppt $luna\\n$scrt $akro $audio $fet $vidt\\n\\n$iris $hard $uni $yoyo $axs $sxp\\n$zrx $unfi $matic $ftm $srm\\n$sxp $ada $aave $skl $dock https://t.co/afwrkqxt92\"], [\"2021-08-07 15:11:03+00:00\", 0, 1424025300128653313, \"again a nice call\\ud83e\\udd11\\ud83e\\udd11\\ud83e\\udd11\\n@crypto_scofield\\n\\n$btc $rune $ust $nano $nxm\\n$zen $bnt $zb $ant $nmr $xvs\\n$cvt $rvn  $bcd $hot $iost $bot\\n$twt $ftm $alpha $ppt $luna\\n$scrt $akro $audio $fet $vidt\\n$iris $hard $uni $yoyo $axs $sxp\\n$zrx $unfi $matic $ftm $srm\\n$sxp $ada $aave $skl $dock https://t.co/atjguta4kh\"], [\"2021-08-07 14:31:45+00:00\", 1, 1424015410064760835, \"[scan results - 15m - #btc pair]\\n\\nbinance top 5 bullish strength\\n1: $strax\\n2: $evx\\n3: $etc\\n4: $ez\\n5: $tct\\n\\nbinance top 5 bullish reversal strength\\n1: $om\\n2: $theta\\n3: $gtc\\n4: $nmr\\n5: $lrc\\n\\nall results for free on https://t.co/vmsa8rwq1g website!\"], [\"2021-08-07 14:19:36+00:00\", 0, 1424012352580689925, \"again a nice call\\ud83e\\udd11\\ud83e\\udd11\\n@crypto_scofield\\n\\n$btc $rune $ust $nano $nxm\\n$zen $bnt $zb $ant $nmr $xvs\\n\\n$cvt $rvn  $bcd $hot $iost $bot\\n$twt $ftm $alpha $ppt $luna\\n$scrt $akro $audio $fet $vidt\\n$iris $hard $uni $yoyo $axs $sxp\\n\\n$zrx $unfi $matic $ftm $srm\\n$sxp $ada $aave $skl $dock https://t.co/afwrkqxt92\"], [\"2021-08-07 14:19:18+00:00\", 0, 1424012278530183172, \"again a nice call\\ud83e\\udd11\\n@crypto_scofield\\n\\n$btc $rune $ust $nano $nxm\\n$zen $bnt $zb $ant $nmr $xvs\\n$cvt $rvn  $bcd $hot $iost $bot\\n\\n$twt $ftm $alpha $ppt $luna\\n$scrt $akro $audio $fet $vidt\\n$iris $hard $uni $yoyo $axs $sxp\\n$zrx $unfi $matic $ftm $srm\\n$sxp $ada $aave $skl $dock https://t.co/atjguta4kh\"], [\"2021-08-07 14:16:50+00:00\", 3, 1424011657819344896, \"[scan results - 15m - #btc pair]\\n\\nbinance top 5 bullish strength\\n1: $oxt\\n2: $strax\\n3: $amb\\n4: $nano\\n5: $eth\\n\\nbinance top 5 bullish reversal strength\\n1: $ast\\n2: $gtc\\n3: $rose\\n4: $ankr\\n5: $nmr\\n\\nall results for free on https://t.co/vmsa8rwq1g website!\"], [\"2021-08-07 14:11:07+00:00\", 0, 1424010216933232648, \"no.1 influential on crypto group don't miss to join chance\\n\\nfree join : https://t.co/hp22zvjnm6\\n\\n$wtc $for $ant $strax $ava $luna $steem $arpa $adx $akro $cos $kmd $bqx $beam $perl $dock $iris $renbtc $chr $paxg $wabi $ong $nano $xvg $doge $nkn $chz $mtl $nmr $jst $agi $oax\"], [\"2021-08-07 13:58:37+00:00\", 0, 1424007073411604481, \"again a nice call\\ud83e\\udd11\\u2705\\n@crypto_scofield\\n\\n$btc $rune $ust $nano $nxm\\n$zen $bnt $zb $ant $nmr $xvs\\n$cvt $rvn  $bcd $hot $iost $bot\\n$twt $ftm $alpha $ppt $luna\\n$scrt $akro $audio $fet $vidt\\n$iris $hard $uni $yoyo $axs $sxp\\n$zrx $unfi $matic $ftm $srm\\n$sxp $ada $aave $skl $dock https://t.co/afwrkqxt92\"], [\"2021-08-07 13:58:24+00:00\", 0, 1424007017014960134, \"again a nice call\\ud83e\\udd11\\ud83e\\udd11\\ud83e\\udd11\\u2705\\n@crypto_scofield\\n\\n$btc $rune $ust $nano $nxm\\n$zen $bnt $zb $ant $nmr $xvs\\n$cvt $rvn  $bcd $hot $iost $bot\\n$twt $ftm $alpha $ppt $luna\\n$scrt $akro $audio $fet $vidt\\n$iris $hard $uni $yoyo $axs $sxp\\n$zrx $unfi $matic $ftm $srm\\n$sxp $ada $aave $skl $dock https://t.co/atjguta4kh\"], [\"2021-08-07 13:12:50+00:00\", 2, 1423995549125169155, \"how i has it ?      $rep $ocean $neo $ckb $sol $matic $near $lrg $rsr $pax $data $rune $zrx $husd $dx $ctc $ocean $nmr $nmr $ads $bat $qnt $adk $ampl $lsk $iost $uqc $dgb $crv $hex $ewt $ardr $luna $tusd $qnt $jul $lrc $zrx $dx $paxg $bal $mtc $qtum $wan $adx $rvn $dnt https://t.co/8zcbt1fi01\"], [\"2021-08-07 13:10:51+00:00\", 2, 1423995053329063942, \"ads of future now !     $rep $ich $lsk $band $crv $matic $bts $zrx $ren $rsr $paxg $qtum $celo $hedg $stx $btm $uos $jul $scrt $dgb $oxt $abbc $bat $sushi $nmr $crv $bcd $egld $iost $rsr $enj $band $bts $wan $trb $rev $ckb $trat $btm $rune $uma $noia $ctc $stx $dx $kava $rvn https://t.co/qyxk7aynag\"], [\"2021-08-07 12:32:09+00:00\", 5, 1423985311504293894, \"[scan results - 15m - #usdt pair]\\n\\nbinance top 5 bullish strength\\n1: $nmr\\n2: $uni\\n3: $ltc\\n4: $ksm\\n5: $wnxm\\n\\nbinance top 5 bullish reversal strength\\n1: $unfi\\n2: $super\\n3: $fio\\n4: $gtc\\n5: $rlc\"], [\"2021-08-07 08:55:52+00:00\", 0, 1423930881744515077, \"again a nice call\\ud83e\\udd11\\u2714\\u2705\\n@crypto_scofield\\n\\n$btc $rune $ust $nano $nxm\\n$zen $bnt $zb $ant $nmr $xvs\\n\\n$cvt $rvn  $bcd $hot $iost $bot\\n$twt $ftm $alpha $ppt $luna\\n$scrt $akro $audio $fet $vidt\\n\\n$iris $hard $uni $yoyo $axs $sxp\\n$zrx $unfi $matic $ftm $srm\\n$sxp $ada $aave $skl $dock https://t.co/afwrkqxt92\"], [\"2021-08-07 08:55:35+00:00\", 0, 1423930809627680769, \"again a nice call\\ud83e\\udd11\\ud83c\\udfc6\\ud83c\\udfc6\\ud83c\\udfc6\\n@crypto_scofield\\n\\n$btc $rune $ust $nano $nxm\\n$zen $bnt $zb $ant $nmr $xvs\\n$cvt $rvn  $bcd $hot $iost $bot\\n$twt $ftm $alpha $ppt $luna\\n$scrt $akro $audio $fet $vidt\\n$iris $hard $uni $yoyo $axs $sxp\\n$zrx $unfi $matic $ftm $srm\\n$sxp $ada $aave $skl $dock https://t.co/atjguta4kh\"], [\"2021-08-07 08:40:09+00:00\", 0, 1423926926251491332, \"you can get high quality signals and huge profit in short time\\n\\nhuge profit / diffrent signals / easy life\\n\\nfree join : https://t.co/hp22zvjnm6\\n\\n$iris $renbtc $chr $paxg $wabi $ong $nano $xvg $doge $nkn $chz $mtl $nmr $jst $agi $oax $wnxm $poa $ost $troy $avax $brd $go $pnt\"], [\"2021-08-07 08:40:03+00:00\", 0, 1423926904403292160, \"you can get high quality signals and huge profit in short time\\n\\nhuge profit / diffrent signals / easy life\\n\\nfree join : https://t.co/x8ozork4qk\\n\\n$iris $renbtc $chr $paxg $wabi $ong $nano $xvg $doge $nkn $chz $mtl $nmr $jst $agi $oax $wnxm $poa $ost $troy $avax $brd $go $pnt\"], [\"2021-08-07 08:14:14+00:00\", 0, 1423920405312585728, \"again a nice call\\ud83e\\udd11\\ud83d\\udd25\\ud83d\\udd25\\n@crypto_scofield\\n\\n$btc $rune $ust $nano $nxm\\n\\n$zen $bnt $zb $ant $nmr $xvs\\n$cvt $rvn  $bcd $hot $iost $bot\\n$twt $ftm $alpha $ppt $luna\\n$scrt $akro $audio $fet $vidt\\n$iris $hard $uni $yoyo $axs $sxp\\n$zrx $unfi $matic $ftm $srm\\n$sxp $ada $aave $skl $dock https://t.co/afwrkqxt92\"], [\"2021-08-07 08:13:56+00:00\", 0, 1423920328720502787, \"again a nice call\\ud83e\\udd11\\n@crypto_scofield\\n\\n$btc $rune $ust $nano $nxm\\n$zen $bnt $zb $ant $nmr $xvs\\n$cvt $rvn  $bcd $hot $iost $bot\\n\\n$twt $ftm $alpha $ppt $luna\\n$scrt $akro $audio $fet $vidt\\n$iris $hard $uni $yoyo $axs $sxp\\n\\n$zrx $unfi $matic $ftm $srm\\n$sxp $ada $aave $skl $dock https://t.co/atjguta4kh\"], [\"2021-08-07 07:46:54+00:00\", 0, 1423913526721191941, \"again a nice call\\ud83e\\udd11\\ud83e\\udd11\\ud83e\\udd11\\n@crypto_scofield\\n\\n$btc $rune $ust $nano $nxm\\n$zen $bnt $zb $ant $nmr $xvs\\n$cvt $rvn  $bcd $hot $iost $bot\\n$twt $ftm $alpha $ppt $luna\\n$scrt $akro $audio $fet $vidt\\n$iris $hard $uni $yoyo $axs $sxp\\n$zrx $unfi $matic $ftm $srm\\n$sxp $ada $aave $skl $dock https://t.co/afwrkqxt92\"], [\"2021-08-07 07:44:02+00:00\", 0, 1423912806508867588, \"again a nice call\\ud83e\\udd11\\ud83e\\udd11\\n@crypto_scofield\\n\\n$btc $rune $ust $nano $nxm\\n$zen $bnt $zb $ant $nmr $xvs\\n\\n$cvt $rvn  $bcd $hot $iost $bot\\n$twt $ftm $alpha $ppt $luna\\n$scrt $akro $audio $fet $vidt\\n\\n$iris $hard $uni $yoyo $axs $sxp\\n$zrx $unfi $matic $ftm $srm\\n$sxp $ada $aave $skl $dock https://t.co/atjguta4kh\"], [\"2021-08-07 06:56:53+00:00\", 0, 1423900939224862722, \"$nmr nmr/usd(#coinbasepro)\\nsell signal @ $40.49320\\nmacd crossover\\nshort term bear run\\nex vol: 70,574.1630\\n#investment #invest #forex #numeraire\\n\\ncurpay protects your assets and makes profit. any questions? @ https://t.co/7ugd2ocvpx\"], [\"2021-08-07 06:46:53+00:00\", 4, 1423898421719666690, \"[scan results - 15m - #usdt pair]\\n\\nbinance top 5 bullish strength\\n1: $ern\\n2: $chr\\n3: $nmr\\n4: $vet\\n5: $xvg\\n\\nbinance top 5 bullish reversal strength\\n1: $sun\\n2: $iotx\\n3: $nu\\n4: $knc\\n5: $rep\"], [\"2021-08-07 06:41:10+00:00\", 2, 1423896983358644230, \"do not miss $nmr ride guys \\ud83d\\udd25\\ud83d\\udd25\\ud83d\\udd25\\ud83d\\udd25\\ud83d\\udd25\\ud83d\\ude80\\ud83d\\ude80\\ud83d\\ude80\\ud83d\\ude80\\ud83d\\ude80\\ud83d\\ude80\\ud83d\\ude80\\ud83d\\ude80\\ud83d\\ude80\\n\\n#cryptotrade #cryptocurency #cryptoworld #cryptonews #crypto #cryptotrading $btc $eth @whale_sniper @whale_alert\"], [\"2021-08-07 06:40:30+00:00\", 0, 1423896818476191744, \"there is no better group than monster group.\\n\\nmore than 700%++ profit in a week !!\\n\\nfree join : https://t.co/x8ozork4qk\\n\\n$perl $dock $iris $renbtc $chr $paxg $wabi $ong $nano $xvg $doge $nkn $chz $mtl $nmr $jst $agi $oax $wnxm $poa $ost $troy $avax $brd $go $pnt $storj $req\"], [\"2021-08-07 06:37:34+00:00\", 3, 1423896079058325506, \"sleeping people wake up call $nmr \\ud83d\\udd25\\ud83d\\udd25\\ud83d\\udd25\\ud83d\\udd25\\ud83d\\udd25\\ud83d\\ude80\\ud83d\\ude80\\ud83d\\ude80\\ud83d\\ude80\\ud83d\\ude80\\ud83d\\ude80\\ud83d\\ude80\\ud83d\\ude80\\ud83d\\ude80\\ud83d\\ude80\\ud83d\\ude80\\ud83d\\ude80\\ud83d\\ude80\\ud83d\\ude80\\ud83d\\ude80\\ud83d\\ude80\\ud83d\\ude80\\ud83d\\ude80\\ud83d\\ude80\\n\\n#cryptotrade #cryptocurency #cryptoworld #cryptonews #crypto #cryptotrading $btc $eth @whale_sniper @whale_alert\"], [\"2021-08-07 06:36:49+00:00\", 3, 1423895891849752578, \"$nmr guys looks amazing \\ud83d\\udd25\\ud83d\\udd25\\ud83d\\udd25\\ud83d\\udd25\\ud83d\\ude80\\ud83d\\ude80\\ud83d\\ude80\\ud83d\\ude80\\ud83d\\ude80\\ud83d\\ude80\\ud83d\\ude80\\ud83d\\ude80\\ud83d\\ude80\\ud83d\\ude80\\ud83d\\ude80\\ud83d\\ude80\\ud83d\\ude80\\n\\n#cryptotrade #cryptocurency #cryptoworld #cryptonews #crypto #cryptotrading $btc $eth @whale_sniper @whale_alert\"], [\"2021-08-07 06:31:20+00:00\", 1, 1423894508035616773, \"again a nice call\\ud83e\\udd11\\n@crypto_scofield\\n\\n$btc $rune $ust $nano $nxm\\n$zen $bnt $zb $ant $nmr $xvs\\n$cvt $rvn  $bcd $hot $iost $bot\\n$twt $ftm $alpha $ppt $luna\\n$scrt $akro $audio $fet $vidt\\n$iris $hard $uni $yoyo $axs $sxp\\n$zrx $unfi $matic $ftm $srm\\n$sxp $ada $aave $skl $dock https://t.co/afwrkqxt92\"], [\"2021-08-07 06:31:02+00:00\", 0, 1423894433779564545, \"again a nice call\\ud83e\\udd11\\n@crypto_scofield\\n\\n$btc $rune $ust $nano $nxm\\n$zen $bnt $zb $ant $nmr $xvs\\n$cvt $rvn  $bcd $hot $iost $bot\\n$twt $ftm $alpha $ppt $luna\\n$scrt $akro $audio $fet $vidt\\n$iris $hard $uni $yoyo $axs $sxp\\n$zrx $unfi $matic $ftm $srm\\n$sxp $ada $aave $skl $dock https://t.co/atjguta4kh\"], [\"2021-08-07 05:15:06+00:00\", 0, 1423875324060786695, \"\\ud83d\\udcc8 mover alert: numeraire ($38.87, -1%) gained 18 positions on coinmarketcap. its rank is now 148. @numerai $nmr\"], [\"2021-08-07 04:12:56+00:00\", 0, 1423859682205110272, \"$nmr/usdt \\u2b06\\nprice: 39.647\\nmarket cap: 274,319,275\\n24hr volume: 30,892,065\\ndate added: 23 jun, 2017\\nprice change 1h: 0.84%\\nprice change 24h: 2.77%\\nprice change 7d: 3.00%\\n#binance\\nnext 7d events: 0\\nmore events: https://t.co/tgszktvkui\"], [\"2021-08-07 03:08:56+00:00\", 0, 1423843575603765253, \"there is no better group than monster group.\\n\\nmore than 700%++ profit in a week !!\\n\\nfree join : https://t.co/hp22zvjnm6\\n\\n$perl $dock $iris $renbtc $chr $paxg $wabi $ong $nano $xvg $doge $nkn $chz $mtl $nmr $jst $agi $oax $wnxm $poa $ost $troy $avax $brd $go $pnt $storj $req\"], [\"2021-08-07 02:31:44+00:00\", 4, 1423834213669867522, \"[scan results - 15m - #usdt pair]\\n\\nbinance top 5 bullish strength\\n1: $eth\\n2: $doge\\n3: $nmr\\n4: $sushi\\n5: $cvc\\n\\nbinance top 5 bullish reversal strength\\n1: $clv\\n2: $ocean\\n3: $qnt\\n4: $tomo\\n5: $tlm\"]], \"hovertemplate\": \"<b>%{hovertext}</b><br><br>sentiment=%{x}<br>like_count=%{customdata[1]}<br>created_at=%{customdata[0]}<br>tweet_id=%{customdata[2]}<br>text=%{customdata[3]}<extra></extra>\", \"hovertext\": [9.485510733876429e+17, 9.479536197263606e+17, 1.3468543256588e+18, 1.3468543256588e+18, 9.485510733876429e+17, 9.485510733876429e+17, 1.1412086870017802e+18, 2857923496.0, 9.485510733876429e+17, 9.485510733876429e+17, 1.3296402977609114e+18, 1.3468543256588e+18, 1.3468543256588e+18, 1.1927377276173435e+18, 1.3296402977609114e+18, 1.3468543256588e+18, 1.3468543256588e+18, 9.485510733876429e+17, 1.3300511096380703e+18, 1.3486361203015803e+18, 594162137.0, 1.1412086870017802e+18, 1.3954752824637972e+18, 1.3468543256588e+18, 1.3468543256588e+18, 9.485510733876429e+17, 1.3468543256588e+18, 1.3468543256588e+18, 9.485510733876429e+17, 1.3296402977609114e+18, 1.3468543256588e+18, 1.3468543256588e+18, 1.363255276732883e+18, 1.3327021325884744e+18, 9.485510733876429e+17, 1.3468543256588e+18, 1.3468543256588e+18, 1.3296402977609114e+18, 1.3300511096380703e+18, 1.3468543256588e+18, 1.3468543256588e+18, 1.3468543256588e+18, 1.3468543256588e+18, 1.3367009078122537e+18, 9.485510733876429e+17, 1.3658172660136796e+18, 1.3300511096380703e+18, 1.3658172660136796e+18, 1.3658172660136796e+18, 1.3468543256588e+18, 1.3468543256588e+18, 1.0083819719516856e+18, 1.3954752824637972e+18, 1.3296402977609114e+18, 9.485510733876429e+17], \"legendgroup\": \"\", \"marker\": {\"color\": \"#636efa\", \"symbol\": \"circle\"}, \"mode\": \"markers\", \"name\": \"\", \"orientation\": \"v\", \"showlegend\": false, \"type\": \"scatter\", \"x\": [0.7906, -0.5267, 0.1027, 0.1027, 0.8402, 0.8225, 0.2732, 0.2023, 0.9117, 0.7906, 0.9501, -0.25, 0.4215, 0.0, 0.9294, 0.4215, 0.4215, 0.8402, 0.9294, 0.4404, 0.4019, 0.2732, 0.0, 0.4215, 0.4215, 0.9117, 0.4215, 0.4215, 0.9117, 0.8383, 0.4215, 0.4215, 0.0, 0.0, 0.9169, 0.4215, 0.4215, 0.9501, 0.9501, -0.25, 0.4215, 0.4215, 0.4215, 0.7096, 0.8402, -0.861, 0.7809, -0.875, -0.5859, 0.4215, 0.4215, 0.5859, 0.0, 0.7809, 0.8402], \"xaxis\": \"x\", \"y\": [3, 0, 0, 0, 2, 2, 0, 2, 1, 3, 0, 0, 0, 2, 0, 0, 1, 5, 0, 0, 0, 0, 0, 0, 0, 1, 0, 0, 3, 0, 0, 0, 2, 2, 5, 0, 0, 0, 0, 0, 0, 0, 0, 0, 4, 2, 0, 3, 3, 1, 0, 0, 0, 0, 4], \"yaxis\": \"y\"}],                        {\"legend\": {\"tracegroupgap\": 0}, \"template\": {\"data\": {\"bar\": [{\"error_x\": {\"color\": \"#2a3f5f\"}, \"error_y\": {\"color\": \"#2a3f5f\"}, \"marker\": {\"line\": {\"color\": \"#E5ECF6\", \"width\": 0.5}}, \"type\": \"bar\"}], \"barpolar\": [{\"marker\": {\"line\": {\"color\": \"#E5ECF6\", \"width\": 0.5}}, \"type\": \"barpolar\"}], \"carpet\": [{\"aaxis\": {\"endlinecolor\": \"#2a3f5f\", \"gridcolor\": \"white\", \"linecolor\": \"white\", \"minorgridcolor\": \"white\", \"startlinecolor\": \"#2a3f5f\"}, \"baxis\": {\"endlinecolor\": \"#2a3f5f\", \"gridcolor\": \"white\", \"linecolor\": \"white\", \"minorgridcolor\": \"white\", \"startlinecolor\": \"#2a3f5f\"}, \"type\": \"carpet\"}], \"choropleth\": [{\"colorbar\": {\"outlinewidth\": 0, \"ticks\": \"\"}, \"type\": \"choropleth\"}], \"contour\": [{\"colorbar\": {\"outlinewidth\": 0, \"ticks\": \"\"}, \"colorscale\": [[0.0, \"#0d0887\"], [0.1111111111111111, \"#46039f\"], [0.2222222222222222, \"#7201a8\"], [0.3333333333333333, \"#9c179e\"], [0.4444444444444444, \"#bd3786\"], [0.5555555555555556, \"#d8576b\"], [0.6666666666666666, \"#ed7953\"], [0.7777777777777778, \"#fb9f3a\"], [0.8888888888888888, \"#fdca26\"], [1.0, \"#f0f921\"]], \"type\": \"contour\"}], \"contourcarpet\": [{\"colorbar\": {\"outlinewidth\": 0, \"ticks\": \"\"}, \"type\": \"contourcarpet\"}], \"heatmap\": [{\"colorbar\": {\"outlinewidth\": 0, \"ticks\": \"\"}, \"colorscale\": [[0.0, \"#0d0887\"], [0.1111111111111111, \"#46039f\"], [0.2222222222222222, \"#7201a8\"], [0.3333333333333333, \"#9c179e\"], [0.4444444444444444, \"#bd3786\"], [0.5555555555555556, \"#d8576b\"], [0.6666666666666666, \"#ed7953\"], [0.7777777777777778, \"#fb9f3a\"], [0.8888888888888888, \"#fdca26\"], [1.0, \"#f0f921\"]], \"type\": \"heatmap\"}], \"heatmapgl\": [{\"colorbar\": {\"outlinewidth\": 0, \"ticks\": \"\"}, \"colorscale\": [[0.0, \"#0d0887\"], [0.1111111111111111, \"#46039f\"], [0.2222222222222222, \"#7201a8\"], [0.3333333333333333, \"#9c179e\"], [0.4444444444444444, \"#bd3786\"], [0.5555555555555556, \"#d8576b\"], [0.6666666666666666, \"#ed7953\"], [0.7777777777777778, \"#fb9f3a\"], [0.8888888888888888, \"#fdca26\"], [1.0, \"#f0f921\"]], \"type\": \"heatmapgl\"}], \"histogram\": [{\"marker\": {\"colorbar\": {\"outlinewidth\": 0, \"ticks\": \"\"}}, \"type\": \"histogram\"}], \"histogram2d\": [{\"colorbar\": {\"outlinewidth\": 0, \"ticks\": \"\"}, \"colorscale\": [[0.0, \"#0d0887\"], [0.1111111111111111, \"#46039f\"], [0.2222222222222222, \"#7201a8\"], [0.3333333333333333, \"#9c179e\"], [0.4444444444444444, \"#bd3786\"], [0.5555555555555556, \"#d8576b\"], [0.6666666666666666, \"#ed7953\"], [0.7777777777777778, \"#fb9f3a\"], [0.8888888888888888, \"#fdca26\"], [1.0, \"#f0f921\"]], \"type\": \"histogram2d\"}], \"histogram2dcontour\": [{\"colorbar\": {\"outlinewidth\": 0, \"ticks\": \"\"}, \"colorscale\": [[0.0, \"#0d0887\"], [0.1111111111111111, \"#46039f\"], [0.2222222222222222, \"#7201a8\"], [0.3333333333333333, \"#9c179e\"], [0.4444444444444444, \"#bd3786\"], [0.5555555555555556, \"#d8576b\"], [0.6666666666666666, \"#ed7953\"], [0.7777777777777778, \"#fb9f3a\"], [0.8888888888888888, \"#fdca26\"], [1.0, \"#f0f921\"]], \"type\": \"histogram2dcontour\"}], \"mesh3d\": [{\"colorbar\": {\"outlinewidth\": 0, \"ticks\": \"\"}, \"type\": \"mesh3d\"}], \"parcoords\": [{\"line\": {\"colorbar\": {\"outlinewidth\": 0, \"ticks\": \"\"}}, \"type\": \"parcoords\"}], \"pie\": [{\"automargin\": true, \"type\": \"pie\"}], \"scatter\": [{\"marker\": {\"colorbar\": {\"outlinewidth\": 0, \"ticks\": \"\"}}, \"type\": \"scatter\"}], \"scatter3d\": [{\"line\": {\"colorbar\": {\"outlinewidth\": 0, \"ticks\": \"\"}}, \"marker\": {\"colorbar\": {\"outlinewidth\": 0, \"ticks\": \"\"}}, \"type\": \"scatter3d\"}], \"scattercarpet\": [{\"marker\": {\"colorbar\": {\"outlinewidth\": 0, \"ticks\": \"\"}}, \"type\": \"scattercarpet\"}], \"scattergeo\": [{\"marker\": {\"colorbar\": {\"outlinewidth\": 0, \"ticks\": \"\"}}, \"type\": \"scattergeo\"}], \"scattergl\": [{\"marker\": {\"colorbar\": {\"outlinewidth\": 0, \"ticks\": \"\"}}, \"type\": \"scattergl\"}], \"scattermapbox\": [{\"marker\": {\"colorbar\": {\"outlinewidth\": 0, \"ticks\": \"\"}}, \"type\": \"scattermapbox\"}], \"scatterpolar\": [{\"marker\": {\"colorbar\": {\"outlinewidth\": 0, \"ticks\": \"\"}}, \"type\": \"scatterpolar\"}], \"scatterpolargl\": [{\"marker\": {\"colorbar\": {\"outlinewidth\": 0, \"ticks\": \"\"}}, \"type\": \"scatterpolargl\"}], \"scatterternary\": [{\"marker\": {\"colorbar\": {\"outlinewidth\": 0, \"ticks\": \"\"}}, \"type\": \"scatterternary\"}], \"surface\": [{\"colorbar\": {\"outlinewidth\": 0, \"ticks\": \"\"}, \"colorscale\": [[0.0, \"#0d0887\"], [0.1111111111111111, \"#46039f\"], [0.2222222222222222, \"#7201a8\"], [0.3333333333333333, \"#9c179e\"], [0.4444444444444444, \"#bd3786\"], [0.5555555555555556, \"#d8576b\"], [0.6666666666666666, \"#ed7953\"], [0.7777777777777778, \"#fb9f3a\"], [0.8888888888888888, \"#fdca26\"], [1.0, \"#f0f921\"]], \"type\": \"surface\"}], \"table\": [{\"cells\": {\"fill\": {\"color\": \"#EBF0F8\"}, \"line\": {\"color\": \"white\"}}, \"header\": {\"fill\": {\"color\": \"#C8D4E3\"}, \"line\": {\"color\": \"white\"}}, \"type\": \"table\"}]}, \"layout\": {\"annotationdefaults\": {\"arrowcolor\": \"#2a3f5f\", \"arrowhead\": 0, \"arrowwidth\": 1}, \"coloraxis\": {\"colorbar\": {\"outlinewidth\": 0, \"ticks\": \"\"}}, \"colorscale\": {\"diverging\": [[0, \"#8e0152\"], [0.1, \"#c51b7d\"], [0.2, \"#de77ae\"], [0.3, \"#f1b6da\"], [0.4, \"#fde0ef\"], [0.5, \"#f7f7f7\"], [0.6, \"#e6f5d0\"], [0.7, \"#b8e186\"], [0.8, \"#7fbc41\"], [0.9, \"#4d9221\"], [1, \"#276419\"]], \"sequential\": [[0.0, \"#0d0887\"], [0.1111111111111111, \"#46039f\"], [0.2222222222222222, \"#7201a8\"], [0.3333333333333333, \"#9c179e\"], [0.4444444444444444, \"#bd3786\"], [0.5555555555555556, \"#d8576b\"], [0.6666666666666666, \"#ed7953\"], [0.7777777777777778, \"#fb9f3a\"], [0.8888888888888888, \"#fdca26\"], [1.0, \"#f0f921\"]], \"sequentialminus\": [[0.0, \"#0d0887\"], [0.1111111111111111, \"#46039f\"], [0.2222222222222222, \"#7201a8\"], [0.3333333333333333, \"#9c179e\"], [0.4444444444444444, \"#bd3786\"], [0.5555555555555556, \"#d8576b\"], [0.6666666666666666, \"#ed7953\"], [0.7777777777777778, \"#fb9f3a\"], [0.8888888888888888, \"#fdca26\"], [1.0, \"#f0f921\"]]}, \"colorway\": [\"#636efa\", \"#EF553B\", \"#00cc96\", \"#ab63fa\", \"#FFA15A\", \"#19d3f3\", \"#FF6692\", \"#B6E880\", \"#FF97FF\", \"#FECB52\"], \"font\": {\"color\": \"#2a3f5f\"}, \"geo\": {\"bgcolor\": \"white\", \"lakecolor\": \"white\", \"landcolor\": \"#E5ECF6\", \"showlakes\": true, \"showland\": true, \"subunitcolor\": \"white\"}, \"hoverlabel\": {\"align\": \"left\"}, \"hovermode\": \"closest\", \"mapbox\": {\"style\": \"light\"}, \"paper_bgcolor\": \"white\", \"plot_bgcolor\": \"#E5ECF6\", \"polar\": {\"angularaxis\": {\"gridcolor\": \"white\", \"linecolor\": \"white\", \"ticks\": \"\"}, \"bgcolor\": \"#E5ECF6\", \"radialaxis\": {\"gridcolor\": \"white\", \"linecolor\": \"white\", \"ticks\": \"\"}}, \"scene\": {\"xaxis\": {\"backgroundcolor\": \"#E5ECF6\", \"gridcolor\": \"white\", \"gridwidth\": 2, \"linecolor\": \"white\", \"showbackground\": true, \"ticks\": \"\", \"zerolinecolor\": \"white\"}, \"yaxis\": {\"backgroundcolor\": \"#E5ECF6\", \"gridcolor\": \"white\", \"gridwidth\": 2, \"linecolor\": \"white\", \"showbackground\": true, \"ticks\": \"\", \"zerolinecolor\": \"white\"}, \"zaxis\": {\"backgroundcolor\": \"#E5ECF6\", \"gridcolor\": \"white\", \"gridwidth\": 2, \"linecolor\": \"white\", \"showbackground\": true, \"ticks\": \"\", \"zerolinecolor\": \"white\"}}, \"shapedefaults\": {\"line\": {\"color\": \"#2a3f5f\"}}, \"ternary\": {\"aaxis\": {\"gridcolor\": \"white\", \"linecolor\": \"white\", \"ticks\": \"\"}, \"baxis\": {\"gridcolor\": \"white\", \"linecolor\": \"white\", \"ticks\": \"\"}, \"bgcolor\": \"#E5ECF6\", \"caxis\": {\"gridcolor\": \"white\", \"linecolor\": \"white\", \"ticks\": \"\"}}, \"title\": {\"x\": 0.05}, \"xaxis\": {\"automargin\": true, \"gridcolor\": \"white\", \"linecolor\": \"white\", \"ticks\": \"\", \"title\": {\"standoff\": 15}, \"zerolinecolor\": \"white\", \"zerolinewidth\": 2}, \"yaxis\": {\"automargin\": true, \"gridcolor\": \"white\", \"linecolor\": \"white\", \"ticks\": \"\", \"title\": {\"standoff\": 15}, \"zerolinecolor\": \"white\", \"zerolinewidth\": 2}}}, \"title\": {\"text\": \"2021-08-07 | Sentiment vs Likes\"}, \"xaxis\": {\"anchor\": \"y\", \"domain\": [0.0, 1.0], \"title\": {\"text\": \"sentiment\"}}, \"yaxis\": {\"anchor\": \"x\", \"domain\": [0.0, 1.0], \"title\": {\"text\": \"like_count\"}}},                        {\"responsive\": true}                    ).then(function(){\n",
       "                            \n",
       "var gd = document.getElementById('0fc4988d-4474-4de4-88b2-409597eecc42');\n",
       "var x = new MutationObserver(function (mutations, observer) {{\n",
       "        var display = window.getComputedStyle(gd).display;\n",
       "        if (!display || display === 'none') {{\n",
       "            console.log([gd, 'removed!']);\n",
       "            Plotly.purge(gd);\n",
       "            observer.disconnect();\n",
       "        }}\n",
       "}});\n",
       "\n",
       "// Listen for the removal of the full notebook cells\n",
       "var notebookContainer = gd.closest('#notebook-container');\n",
       "if (notebookContainer) {{\n",
       "    x.observe(notebookContainer, {childList: true});\n",
       "}}\n",
       "\n",
       "// Listen for the clearing of the current output cell\n",
       "var outputEl = gd.closest('.output');\n",
       "if (outputEl) {{\n",
       "    x.observe(outputEl, {childList: true});\n",
       "}}\n",
       "\n",
       "                        })                };                });            </script>        </div>"
      ]
     },
     "metadata": {},
     "output_type": "display_data"
    }
   ],
   "source": [
    "## Plot: Sentiment vs Likes\n",
    "\n",
    "fig = px.scatter(intra_day_tweets,\n",
    "                 x=\"sentiment\", y=\"like_count\",\n",
    "                 title=f'{select_date} | Sentiment vs Likes',\n",
    "                 hover_name=\"author_id\", # username\n",
    "                 hover_data=[\"created_at\", \"like_count\",\"tweet_id\",\"text\"])\n",
    "fig.show()"
   ]
  },
  {
   "cell_type": "code",
   "execution_count": 43,
   "id": "welsh-creativity",
   "metadata": {},
   "outputs": [],
   "source": [
    "### Save the plot in the path you want! \n",
    "# fig.write_html(\"../outcome/sentiment_vs_likes.html\")"
   ]
  },
  {
   "cell_type": "code",
   "execution_count": 68,
   "id": "naval-stress",
   "metadata": {},
   "outputs": [
    {
     "data": {
      "text/html": [
       "<div>\n",
       "<style scoped>\n",
       "    .dataframe tbody tr th:only-of-type {\n",
       "        vertical-align: middle;\n",
       "    }\n",
       "\n",
       "    .dataframe tbody tr th {\n",
       "        vertical-align: top;\n",
       "    }\n",
       "\n",
       "    .dataframe thead th {\n",
       "        text-align: right;\n",
       "    }\n",
       "</style>\n",
       "<table border=\"1\" class=\"dataframe\">\n",
       "  <thead>\n",
       "    <tr style=\"text-align: right;\">\n",
       "      <th></th>\n",
       "      <th>like_count</th>\n",
       "      <th>sentiment</th>\n",
       "    </tr>\n",
       "  </thead>\n",
       "  <tbody>\n",
       "    <tr>\n",
       "      <th>like_count</th>\n",
       "      <td>1.00000</td>\n",
       "      <td>0.05450</td>\n",
       "    </tr>\n",
       "    <tr>\n",
       "      <th>sentiment</th>\n",
       "      <td>0.05450</td>\n",
       "      <td>1.00000</td>\n",
       "    </tr>\n",
       "  </tbody>\n",
       "</table>\n",
       "</div>"
      ],
      "text/plain": [
       "            like_count  sentiment\n",
       "like_count     1.00000    0.05450\n",
       "sentiment      0.05450    1.00000"
      ]
     },
     "execution_count": 68,
     "metadata": {},
     "output_type": "execute_result"
    }
   ],
   "source": [
    "## Intra-day likes vs sentiment correlation\n",
    "intra_day_tweets[[\"like_count\",\"sentiment\"]].corr()"
   ]
  },
  {
   "cell_type": "markdown",
   "id": "opening-family",
   "metadata": {},
   "source": [
    "## App"
   ]
  },
  {
   "cell_type": "markdown",
   "id": "silver-newcastle",
   "metadata": {},
   "source": [
    "**TODO**\n",
    "\n",
    "1. About, Introduction, Description (formulas, design document, etc)\n",
    "2. Filter, Sort, Select in pd DataFrame in Stremlit app\n",
    "3. Connect Plotly graph with tweets table (click plotly app and update tweets table)"
   ]
  }
 ],
 "metadata": {
  "kernelspec": {
   "display_name": "Python 3",
   "language": "python",
   "name": "python3"
  },
  "language_info": {
   "codemirror_mode": {
    "name": "ipython",
    "version": 3
   },
   "file_extension": ".py",
   "mimetype": "text/x-python",
   "name": "python",
   "nbconvert_exporter": "python",
   "pygments_lexer": "ipython3",
   "version": "3.7.9"
  },
  "toc": {
   "base_numbering": 1,
   "nav_menu": {},
   "number_sections": true,
   "sideBar": true,
   "skip_h1_title": false,
   "title_cell": "Table of Contents",
   "title_sidebar": "Contents",
   "toc_cell": false,
   "toc_position": {
    "height": "calc(100% - 180px)",
    "left": "10px",
    "top": "150px",
    "width": "384px"
   },
   "toc_section_display": true,
   "toc_window_display": true
  }
 },
 "nbformat": 4,
 "nbformat_minor": 5
}
