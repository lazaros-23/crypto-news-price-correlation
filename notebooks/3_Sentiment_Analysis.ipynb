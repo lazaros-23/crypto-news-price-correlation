{
 "cells": [
  {
   "cell_type": "markdown",
   "id": "limiting-nickname",
   "metadata": {},
   "source": [
    "# Twitter Sentiment Analysis"
   ]
  },
  {
   "cell_type": "markdown",
   "id": "global-valuation",
   "metadata": {},
   "source": [
    "**Useful links**\n",
    "\n",
    "* Twitter Developers: https://developer.twitter.com/en/portal/dashboard\n",
    "\n",
    "* Check specific tweet based on tweet_id: https://twitter.com/papaemman_pan/status/tweet_id\n",
    "\n",
    "* Find user name based on author_id: https://tweeterid.com/\n",
    "\n",
    "* Similar use-case: https://github.com/julesz12345/Cryptocurrency-Prediction/blob/main/Code.ipynb"
   ]
  },
  {
   "cell_type": "code",
   "execution_count": 1,
   "id": "upset-improvement",
   "metadata": {},
   "outputs": [],
   "source": [
    "# Load libraries\n",
    "import numpy as np\n",
    "import pandas as pd\n",
    "from pandas import json_normalize\n",
    "from tqdm import tqdm\n",
    "tqdm.pandas()\n",
    "\n",
    "import matplotlib.pyplot as plt\n",
    "import seaborn as sns\n",
    "sns.set(rc={'figure.figsize':(13,6)})\n",
    "\n",
    "import plotly.express as px"
   ]
  },
  {
   "cell_type": "markdown",
   "id": "dying-linux",
   "metadata": {},
   "source": [
    "## Load data"
   ]
  },
  {
   "cell_type": "code",
   "execution_count": 2,
   "id": "portable-smoke",
   "metadata": {},
   "outputs": [],
   "source": [
    "# Load dataset\n",
    "\n",
    "# datafile = \"../data/twitter_data.csv\"\n",
    "# datafile = \"../data/twitter_data_full.csv\"\n",
    "datafile = \"../data/twitter_data_hourly_full.csv\"\n",
    "\n",
    "tweets_df = pd.read_csv(datafile)"
   ]
  },
  {
   "cell_type": "code",
   "execution_count": 3,
   "id": "massive-mexico",
   "metadata": {},
   "outputs": [],
   "source": [
    "tweets_df = tweets_df.drop_duplicates()"
   ]
  },
  {
   "cell_type": "code",
   "execution_count": 4,
   "id": "toxic-semiconductor",
   "metadata": {},
   "outputs": [
    {
     "data": {
      "text/plain": [
       "(1689943, 8)"
      ]
     },
     "execution_count": 4,
     "metadata": {},
     "output_type": "execute_result"
    }
   ],
   "source": [
    "# Check shape\n",
    "tweets_df.shape"
   ]
  },
  {
   "cell_type": "code",
   "execution_count": 5,
   "id": "dense-blues",
   "metadata": {},
   "outputs": [
    {
     "data": {
      "text/html": [
       "<div>\n",
       "<style scoped>\n",
       "    .dataframe tbody tr th:only-of-type {\n",
       "        vertical-align: middle;\n",
       "    }\n",
       "\n",
       "    .dataframe tbody tr th {\n",
       "        vertical-align: top;\n",
       "    }\n",
       "\n",
       "    .dataframe thead th {\n",
       "        text-align: right;\n",
       "    }\n",
       "</style>\n",
       "<table border=\"1\" class=\"dataframe\">\n",
       "  <thead>\n",
       "    <tr style=\"text-align: right;\">\n",
       "      <th></th>\n",
       "      <th>author_id</th>\n",
       "      <th>created_at</th>\n",
       "      <th>tweet_id</th>\n",
       "      <th>text</th>\n",
       "      <th>like_count</th>\n",
       "      <th>quote_count</th>\n",
       "      <th>reply_count</th>\n",
       "      <th>retweet_count</th>\n",
       "    </tr>\n",
       "  </thead>\n",
       "  <tbody>\n",
       "    <tr>\n",
       "      <th>0</th>\n",
       "      <td>1334365558259679238</td>\n",
       "      <td>2021-01-01 00:59:21+00:00</td>\n",
       "      <td>1344810410805919745</td>\n",
       "      <td>I've got a discount running on the nootropic I...</td>\n",
       "      <td>0</td>\n",
       "      <td>0</td>\n",
       "      <td>0</td>\n",
       "      <td>0</td>\n",
       "    </tr>\n",
       "    <tr>\n",
       "      <th>1</th>\n",
       "      <td>862148214</td>\n",
       "      <td>2021-01-01 00:59:17+00:00</td>\n",
       "      <td>1344810392594202624</td>\n",
       "      <td>Happy new year everyone. \\n\\nhttps://t.co/v0yx...</td>\n",
       "      <td>0</td>\n",
       "      <td>0</td>\n",
       "      <td>0</td>\n",
       "      <td>0</td>\n",
       "    </tr>\n",
       "    <tr>\n",
       "      <th>2</th>\n",
       "      <td>1339254429862727681</td>\n",
       "      <td>2021-01-01 00:59:14+00:00</td>\n",
       "      <td>1344810380909043717</td>\n",
       "      <td>2020 recap\\n\\n3 artists (Roberto Hernández, 3p...</td>\n",
       "      <td>1</td>\n",
       "      <td>0</td>\n",
       "      <td>0</td>\n",
       "      <td>0</td>\n",
       "    </tr>\n",
       "    <tr>\n",
       "      <th>3</th>\n",
       "      <td>1129381702407741441</td>\n",
       "      <td>2021-01-01 00:58:52+00:00</td>\n",
       "      <td>1344810289204764674</td>\n",
       "      <td>Analytics Firm Reveals That Whales are Startin...</td>\n",
       "      <td>0</td>\n",
       "      <td>0</td>\n",
       "      <td>0</td>\n",
       "      <td>0</td>\n",
       "    </tr>\n",
       "    <tr>\n",
       "      <th>4</th>\n",
       "      <td>2933596550</td>\n",
       "      <td>2021-01-01 00:58:47+00:00</td>\n",
       "      <td>1344810265884430336</td>\n",
       "      <td>Happy New Year #Swapfolio Community!\\n\\nThanks...</td>\n",
       "      <td>9</td>\n",
       "      <td>0</td>\n",
       "      <td>0</td>\n",
       "      <td>4</td>\n",
       "    </tr>\n",
       "  </tbody>\n",
       "</table>\n",
       "</div>"
      ],
      "text/plain": [
       "             author_id                 created_at             tweet_id  \\\n",
       "0  1334365558259679238  2021-01-01 00:59:21+00:00  1344810410805919745   \n",
       "1            862148214  2021-01-01 00:59:17+00:00  1344810392594202624   \n",
       "2  1339254429862727681  2021-01-01 00:59:14+00:00  1344810380909043717   \n",
       "3  1129381702407741441  2021-01-01 00:58:52+00:00  1344810289204764674   \n",
       "4           2933596550  2021-01-01 00:58:47+00:00  1344810265884430336   \n",
       "\n",
       "                                                text  like_count  quote_count  \\\n",
       "0  I've got a discount running on the nootropic I...           0            0   \n",
       "1  Happy new year everyone. \\n\\nhttps://t.co/v0yx...           0            0   \n",
       "2  2020 recap\\n\\n3 artists (Roberto Hernández, 3p...           1            0   \n",
       "3  Analytics Firm Reveals That Whales are Startin...           0            0   \n",
       "4  Happy New Year #Swapfolio Community!\\n\\nThanks...           9            0   \n",
       "\n",
       "   reply_count  retweet_count  \n",
       "0            0              0  \n",
       "1            0              0  \n",
       "2            0              0  \n",
       "3            0              0  \n",
       "4            0              4  "
      ]
     },
     "execution_count": 5,
     "metadata": {},
     "output_type": "execute_result"
    }
   ],
   "source": [
    "# Check dataset\n",
    "tweets_df.head()"
   ]
  },
  {
   "cell_type": "code",
   "execution_count": 6,
   "id": "applicable-harbor",
   "metadata": {},
   "outputs": [
    {
     "data": {
      "text/html": [
       "<div>\n",
       "<style scoped>\n",
       "    .dataframe tbody tr th:only-of-type {\n",
       "        vertical-align: middle;\n",
       "    }\n",
       "\n",
       "    .dataframe tbody tr th {\n",
       "        vertical-align: top;\n",
       "    }\n",
       "\n",
       "    .dataframe thead th {\n",
       "        text-align: right;\n",
       "    }\n",
       "</style>\n",
       "<table border=\"1\" class=\"dataframe\">\n",
       "  <thead>\n",
       "    <tr style=\"text-align: right;\">\n",
       "      <th></th>\n",
       "      <th>author_id</th>\n",
       "      <th>created_at</th>\n",
       "      <th>tweet_id</th>\n",
       "      <th>text</th>\n",
       "      <th>like_count</th>\n",
       "      <th>quote_count</th>\n",
       "      <th>reply_count</th>\n",
       "      <th>retweet_count</th>\n",
       "    </tr>\n",
       "  </thead>\n",
       "  <tbody>\n",
       "    <tr>\n",
       "      <th>1690747</th>\n",
       "      <td>1350995121387483136</td>\n",
       "      <td>2021-08-31 22:51:30+00:00</td>\n",
       "      <td>1432838485271064579</td>\n",
       "      <td>I want more BTC and ETH 🥰😍\\n\\nCrypto sends hav...</td>\n",
       "      <td>1</td>\n",
       "      <td>0</td>\n",
       "      <td>0</td>\n",
       "      <td>1</td>\n",
       "    </tr>\n",
       "    <tr>\n",
       "      <th>1690748</th>\n",
       "      <td>1428429570349289475</td>\n",
       "      <td>2021-08-31 22:51:29+00:00</td>\n",
       "      <td>1432838483094147073</td>\n",
       "      <td>Space Pogger 10069 bought for 0.078 ETH ($264....</td>\n",
       "      <td>1</td>\n",
       "      <td>0</td>\n",
       "      <td>0</td>\n",
       "      <td>1</td>\n",
       "    </tr>\n",
       "    <tr>\n",
       "      <th>1690749</th>\n",
       "      <td>1638928778</td>\n",
       "      <td>2021-08-31 22:51:29+00:00</td>\n",
       "      <td>1432838482456612870</td>\n",
       "      <td>Ghostpandarx found #ethereum in a User vault a...</td>\n",
       "      <td>4</td>\n",
       "      <td>0</td>\n",
       "      <td>1</td>\n",
       "      <td>0</td>\n",
       "    </tr>\n",
       "    <tr>\n",
       "      <th>1690750</th>\n",
       "      <td>1328160804223545344</td>\n",
       "      <td>2021-08-31 22:51:29+00:00</td>\n",
       "      <td>1432838480774696962</td>\n",
       "      <td>A wild Mango #01 has appeared for only 0.75 ET...</td>\n",
       "      <td>1</td>\n",
       "      <td>0</td>\n",
       "      <td>1</td>\n",
       "      <td>0</td>\n",
       "    </tr>\n",
       "    <tr>\n",
       "      <th>1690751</th>\n",
       "      <td>1352694919576616962</td>\n",
       "      <td>2021-08-31 22:51:26+00:00</td>\n",
       "      <td>1432838468720336901</td>\n",
       "      <td>Free to use. No sign up fee.\\n\\nSIGN UP!!\\n\\nH...</td>\n",
       "      <td>0</td>\n",
       "      <td>0</td>\n",
       "      <td>0</td>\n",
       "      <td>0</td>\n",
       "    </tr>\n",
       "  </tbody>\n",
       "</table>\n",
       "</div>"
      ],
      "text/plain": [
       "                   author_id                 created_at             tweet_id  \\\n",
       "1690747  1350995121387483136  2021-08-31 22:51:30+00:00  1432838485271064579   \n",
       "1690748  1428429570349289475  2021-08-31 22:51:29+00:00  1432838483094147073   \n",
       "1690749           1638928778  2021-08-31 22:51:29+00:00  1432838482456612870   \n",
       "1690750  1328160804223545344  2021-08-31 22:51:29+00:00  1432838480774696962   \n",
       "1690751  1352694919576616962  2021-08-31 22:51:26+00:00  1432838468720336901   \n",
       "\n",
       "                                                      text  like_count  \\\n",
       "1690747  I want more BTC and ETH 🥰😍\\n\\nCrypto sends hav...           1   \n",
       "1690748  Space Pogger 10069 bought for 0.078 ETH ($264....           1   \n",
       "1690749  Ghostpandarx found #ethereum in a User vault a...           4   \n",
       "1690750  A wild Mango #01 has appeared for only 0.75 ET...           1   \n",
       "1690751  Free to use. No sign up fee.\\n\\nSIGN UP!!\\n\\nH...           0   \n",
       "\n",
       "         quote_count  reply_count  retweet_count  \n",
       "1690747            0            0              1  \n",
       "1690748            0            0              1  \n",
       "1690749            0            1              0  \n",
       "1690750            0            1              0  \n",
       "1690751            0            0              0  "
      ]
     },
     "execution_count": 6,
     "metadata": {},
     "output_type": "execute_result"
    }
   ],
   "source": [
    "# Check dataset\n",
    "tweets_df.tail()"
   ]
  },
  {
   "cell_type": "code",
   "execution_count": 7,
   "id": "coated-empire",
   "metadata": {},
   "outputs": [
    {
     "name": "stdout",
     "output_type": "stream",
     "text": [
      "First date: 2021-01-01 00:00:02+00:00\n",
      "Last date: 2021-08-31 22:59:59+00:00\n"
     ]
    }
   ],
   "source": [
    "print(\"First date:\", tweets_df[\"created_at\"].min())\n",
    "print(\"Last date:\", tweets_df[\"created_at\"].max())"
   ]
  },
  {
   "cell_type": "code",
   "execution_count": 8,
   "id": "driving-pressing",
   "metadata": {},
   "outputs": [
    {
     "data": {
      "text/plain": [
       "author_id         int64\n",
       "created_at       object\n",
       "tweet_id          int64\n",
       "text             object\n",
       "like_count        int64\n",
       "quote_count       int64\n",
       "reply_count       int64\n",
       "retweet_count     int64\n",
       "dtype: object"
      ]
     },
     "execution_count": 8,
     "metadata": {},
     "output_type": "execute_result"
    }
   ],
   "source": [
    "# Check Datatypes\n",
    "tweets_df.dtypes"
   ]
  },
  {
   "cell_type": "code",
   "execution_count": 9,
   "id": "legal-corpus",
   "metadata": {},
   "outputs": [],
   "source": [
    "# Fix Data types\n",
    "tweets_df[\"created_at\"] = pd.to_datetime(tweets_df[\"created_at\"], format =\"%Y-%m-%d %H:%M:%S\")"
   ]
  },
  {
   "cell_type": "code",
   "execution_count": 10,
   "id": "behavioral-queensland",
   "metadata": {},
   "outputs": [],
   "source": [
    "# Create new columns\n",
    "tweets_df[\"created_at_date\"] = tweets_df[\"created_at\"].dt.date\n",
    "tweets_df[\"created_at_date_hour\"] = tweets_df[\"created_at\"].dt.date.astype(str) + \" \" + tweets_df[\"created_at\"].dt.hour.astype(str)"
   ]
  },
  {
   "cell_type": "markdown",
   "id": "vocational-sally",
   "metadata": {},
   "source": [
    "**Notes**\n",
    "\n",
    "* The API respond data based on `created_at` timestamp. I can't query tweetes based on popularity using the Twitter API v2 (`result_type=popular` is not available)."
   ]
  },
  {
   "cell_type": "markdown",
   "id": "ultimate-thing",
   "metadata": {
    "heading_collapsed": true
   },
   "source": [
    "## Add usernames"
   ]
  },
  {
   "cell_type": "code",
   "execution_count": null,
   "id": "acting-banner",
   "metadata": {
    "hidden": true
   },
   "outputs": [],
   "source": [
    "import yaml\n",
    "import requests\n",
    "import json\n",
    "\n",
    "def auth():\n",
    "    with open(\"../config.yaml\") as file:\n",
    "        passwords = yaml.safe_load(file)\n",
    "    return passwords[\"search_tweets_api\"][\"bearer_token\"]\n",
    "\n",
    "def bearer_oauth(r):\n",
    "    \"\"\"\n",
    "    Method required by bearer token authentication.\n",
    "    \"\"\"\n",
    "\n",
    "    r.headers[\"Authorization\"] = f\"Bearer {bearer_token}\"\n",
    "    r.headers[\"User-Agent\"] = \"v2UserLookupPython\"\n",
    "    return r\n",
    "\n",
    "def connect_to_endpoint(url):\n",
    "    response = requests.request(\"GET\", url, auth=bearer_oauth,)\n",
    "    # print(response.status_code)\n",
    "    if response.status_code != 200:\n",
    "        raise Exception(\n",
    "            \"Request returned an error: {} {}\".format(\n",
    "                response.status_code, response.text\n",
    "            )\n",
    "        )\n",
    "    return response.json()\n",
    "\n",
    "def create_url(author_id):\n",
    "    url = f\"https://api.twitter.com/2/users/{author_id}?&user.fields=created_at,verified,public_metrics\"\n",
    "    return url"
   ]
  },
  {
   "cell_type": "code",
   "execution_count": null,
   "id": "developing-contest",
   "metadata": {
    "hidden": true
   },
   "outputs": [],
   "source": [
    "## DEV \n",
    "bearer_token = auth()\n",
    "url = create_url(1334365558259679238)\n",
    "json_response = connect_to_endpoint(url)\n",
    "print(json.dumps(json_response, indent=4, sort_keys=True))"
   ]
  },
  {
   "cell_type": "code",
   "execution_count": null,
   "id": "skilled-trace",
   "metadata": {
    "hidden": true,
    "scrolled": true
   },
   "outputs": [],
   "source": [
    "## Create the authors_df with info about author_id\n",
    "\n",
    "unique_authors = tweets_df[\"author_id\"].unique()\n",
    "\n",
    "authors_df = pd.DataFrame()\n",
    "\n",
    "for author_id in tqdm(unique_authors):\n",
    "    url = create_url(author_id)\n",
    "    json_response = connect_to_endpoint(url)\n",
    "    author_id_row = json_normalize(json_response['data'])\n",
    "    authors_df = authors_df.append(author_id_row)"
   ]
  },
  {
   "cell_type": "code",
   "execution_count": null,
   "id": "occupational-quebec",
   "metadata": {
    "hidden": true
   },
   "outputs": [],
   "source": [
    "# Pre-process dataset\n",
    "authors_df = authors_df[['id', 'username', 'name', 'verified',\n",
    "                        'public_metrics.followers_count', 'public_metrics.following_count',\n",
    "                        'public_metrics.tweet_count', 'public_metrics.listed_count',\n",
    "                        'created_at']]\n",
    "\n",
    "authors_df = authors_df.rename(columns={\"id\":\"author_id\", \"created_at\":\"user_created_at\"})\n",
    "\n",
    "authors_df[\"author_id\"] = authors_df[\"author_id\"].astype(int)"
   ]
  },
  {
   "cell_type": "code",
   "execution_count": null,
   "id": "athletic-forth",
   "metadata": {
    "hidden": true
   },
   "outputs": [],
   "source": [
    "authors_df.head()"
   ]
  },
  {
   "cell_type": "code",
   "execution_count": null,
   "id": "empirical-corps",
   "metadata": {
    "hidden": true,
    "scrolled": true
   },
   "outputs": [],
   "source": [
    "# Merge authors_df with tweets_df dataset\n",
    "tweets_df = tweets_df.merge(authors_df, on = \"author_id\", how=\"left\")"
   ]
  },
  {
   "cell_type": "markdown",
   "id": "psychological-stylus",
   "metadata": {},
   "source": [
    "## EDA"
   ]
  },
  {
   "cell_type": "code",
   "execution_count": 11,
   "id": "inside-edition",
   "metadata": {},
   "outputs": [
    {
     "data": {
      "text/plain": [
       "Index(['author_id', 'created_at', 'tweet_id', 'text', 'like_count',\n",
       "       'quote_count', 'reply_count', 'retweet_count', 'created_at_date',\n",
       "       'created_at_date_hour'],\n",
       "      dtype='object')"
      ]
     },
     "execution_count": 11,
     "metadata": {},
     "output_type": "execute_result"
    }
   ],
   "source": [
    "# Check columns\n",
    "tweets_df.columns"
   ]
  },
  {
   "cell_type": "code",
   "execution_count": 12,
   "id": "caring-strain",
   "metadata": {},
   "outputs": [
    {
     "name": "stdout",
     "output_type": "stream",
     "text": [
      "There are 424078 unique accounts, on 1689943 tweets (0.25%).\n"
     ]
    }
   ],
   "source": [
    "# What is the proportion of unique accounts\n",
    "total_unique_accounts = tweets_df[\"author_id\"].nunique()\n",
    "print(f\"There are {total_unique_accounts} unique accounts, on {len(tweets_df)} tweets ({np.round(total_unique_accounts/len(tweets_df),2)}%).\")"
   ]
  },
  {
   "cell_type": "code",
   "execution_count": 13,
   "id": "engaging-skating",
   "metadata": {
    "scrolled": true
   },
   "outputs": [
    {
     "name": "stdout",
     "output_type": "stream",
     "text": [
      "Total number of tweets per Minute\n"
     ]
    },
    {
     "data": {
      "text/plain": [
       "59    106660\n",
       "58     99021\n",
       "57    103363\n",
       "56     99295\n",
       "55    109097\n",
       "54     99760\n",
       "53     96084\n",
       "52     97757\n",
       "51     94511\n",
       "50     92890\n",
       "49     76482\n",
       "48     72950\n",
       "47     66048\n",
       "46     61711\n",
       "45     65544\n",
       "44     48795\n",
       "43     43257\n",
       "42     39809\n",
       "41     33953\n",
       "40     32097\n",
       "39     24464\n",
       "38     19767\n",
       "37     17501\n",
       "36     16241\n",
       "35     12437\n",
       "34     10024\n",
       "33      8773\n",
       "32      7702\n",
       "31      5698\n",
       "30      8872\n",
       "29      3509\n",
       "28      2468\n",
       "27      2045\n",
       "26      1666\n",
       "25      1480\n",
       "24      1219\n",
       "23      1095\n",
       "22       956\n",
       "21       736\n",
       "20       628\n",
       "19       480\n",
       "18       410\n",
       "17       347\n",
       "16       259\n",
       "15       223\n",
       "14       228\n",
       "13       172\n",
       "12       157\n",
       "11       155\n",
       "10       151\n",
       "9        110\n",
       "8         97\n",
       "7         89\n",
       "6         84\n",
       "5         97\n",
       "4         60\n",
       "3         70\n",
       "2         63\n",
       "1         89\n",
       "0        237\n",
       "Name: created_at, dtype: int64"
      ]
     },
     "execution_count": 13,
     "metadata": {},
     "output_type": "execute_result"
    }
   ],
   "source": [
    "# Total number of tweets per Minute\n",
    "print(\"Total number of tweets per Minute\")\n",
    "tweets_df[\"created_at\"].dt.minute.value_counts().sort_index(ascending=False)"
   ]
  },
  {
   "cell_type": "code",
   "execution_count": 14,
   "id": "defensive-sharp",
   "metadata": {},
   "outputs": [
    {
     "data": {
      "image/png": "[encoded data removed]",
      "text/plain": [
       "<Figure size 936x432 with 1 Axes>"
      ]
     },
     "metadata": {},
     "output_type": "display_data"
    }
   ],
   "source": [
    "(tweets_df[\"created_at\"]\n",
    " .dt.minute\n",
    " .value_counts()\n",
    " .sort_index(ascending=False)\n",
    " .plot.bar(title=\"Total tweets per Minute\"));"
   ]
  },
  {
   "cell_type": "markdown",
   "id": "american-engagement",
   "metadata": {},
   "source": [
    "**Non-uniform distribution per hour**\n",
    "\n",
    "I query ~300 tweets per hour, using the Twitter API v2,\n",
    "based on a certain keywords and conditions.\n",
    "This means that for every hour I gather the relevant tweets but with chronological order, not based on popularity. So, as one can see in the distribution, the vast majority of tweets lies in the later half of the hour and I don't have much information about the first half.\n",
    "\n",
    "\n",
    "**Possible Work-arounds:**\n",
    "\n",
    "* Query based on popularity and not chronologicaly (doesn't supported in Twitter API v2).\n",
    "* write more specific queries to exclude irrelevant tweets\n",
    "* Query tweets from specific accounts only\n",
    "* Query all tweets"
   ]
  },
  {
   "cell_type": "code",
   "execution_count": 15,
   "id": "pleasant-congress",
   "metadata": {
    "scrolled": true
   },
   "outputs": [
    {
     "name": "stdout",
     "output_type": "stream",
     "text": [
      "Total number of tweets per Hour\n"
     ]
    },
    {
     "data": {
      "text/plain": [
       "0     70667\n",
       "1     70703\n",
       "2     70505\n",
       "3     70332\n",
       "4     70512\n",
       "5     70642\n",
       "6     70394\n",
       "7     70445\n",
       "8     70776\n",
       "9     70359\n",
       "10    70380\n",
       "11    70519\n",
       "12    70338\n",
       "13    70058\n",
       "14    70192\n",
       "15    70237\n",
       "16    70448\n",
       "17    70417\n",
       "18    70576\n",
       "19    70538\n",
       "20    70327\n",
       "21    70395\n",
       "22    70589\n",
       "23    69594\n",
       "Name: created_at, dtype: int64"
      ]
     },
     "execution_count": 15,
     "metadata": {},
     "output_type": "execute_result"
    }
   ],
   "source": [
    "# Total number of tweets per Hour\n",
    "print(\"Total number of tweets per Hour\")\n",
    "tweets_df[\"created_at\"].dt.hour.value_counts().sort_index(ascending=True)"
   ]
  },
  {
   "cell_type": "code",
   "execution_count": 16,
   "id": "distributed-scientist",
   "metadata": {},
   "outputs": [
    {
     "data": {
      "image/png": "[encoded data removed]",
      "text/plain": [
       "<Figure size 936x432 with 1 Axes>"
      ]
     },
     "metadata": {},
     "output_type": "display_data"
    }
   ],
   "source": [
    "(tweets_df[\"created_at\"]\n",
    " .dt.hour\n",
    " .value_counts()\n",
    " .sort_index(ascending=False)\n",
    " .plot.bar(title=\"Total tweets per Hour\"));"
   ]
  },
  {
   "cell_type": "code",
   "execution_count": 17,
   "id": "standing-column",
   "metadata": {
    "scrolled": true
   },
   "outputs": [
    {
     "name": "stdout",
     "output_type": "stream",
     "text": [
      "Total number of tweets per Date\n"
     ]
    },
    {
     "data": {
      "text/plain": [
       "2021-01-01    6741\n",
       "2021-01-02    6635\n",
       "2021-01-03    6500\n",
       "2021-01-04    6376\n",
       "2021-01-05    6409\n",
       "              ... \n",
       "2021-08-27    7062\n",
       "2021-08-28    7062\n",
       "2021-08-29    7040\n",
       "2021-08-30    7063\n",
       "2021-08-31    6780\n",
       "Name: created_at, Length: 243, dtype: int64"
      ]
     },
     "execution_count": 17,
     "metadata": {},
     "output_type": "execute_result"
    }
   ],
   "source": [
    "# Total number of tweets per Date\n",
    "print(\"Total number of tweets per Date\")\n",
    "tweets_df[\"created_at\"].dt.date.value_counts().sort_index()"
   ]
  },
  {
   "cell_type": "code",
   "execution_count": 18,
   "id": "subsequent-turkish",
   "metadata": {},
   "outputs": [
    {
     "data": {
      "image/png": "[encoded data removed]",
      "text/plain": [
       "<Figure size 936x432 with 1 Axes>"
      ]
     },
     "metadata": {},
     "output_type": "display_data"
    }
   ],
   "source": [
    "(tweets_df[\"created_at\"]\n",
    " .dt.date\n",
    " .value_counts()\n",
    " .sort_index(ascending=True)\n",
    " .plot.line(title=\"Total tweets per Date\", rot=70));"
   ]
  },
  {
   "cell_type": "code",
   "execution_count": 19,
   "id": "quality-martin",
   "metadata": {},
   "outputs": [
    {
     "name": "stdout",
     "output_type": "stream",
     "text": [
      "Total number of tweets per Month\n"
     ]
    },
    {
     "data": {
      "text/plain": [
       "1    198738\n",
       "2    187131\n",
       "3    217888\n",
       "4    214139\n",
       "5    221183\n",
       "6    213323\n",
       "7    219699\n",
       "8    217842\n",
       "Name: created_at, dtype: int64"
      ]
     },
     "execution_count": 19,
     "metadata": {},
     "output_type": "execute_result"
    }
   ],
   "source": [
    "# Total number of tweets per Date\n",
    "print(\"Total number of tweets per Month\")\n",
    "tweets_df[\"created_at\"].dt.month.value_counts().sort_index()"
   ]
  },
  {
   "cell_type": "code",
   "execution_count": 20,
   "id": "covered-enterprise",
   "metadata": {},
   "outputs": [
    {
     "data": {
      "image/png": "[encoded data removed]",
      "text/plain": [
       "<Figure size 936x432 with 1 Axes>"
      ]
     },
     "metadata": {},
     "output_type": "display_data"
    }
   ],
   "source": [
    "(tweets_df[\"created_at\"]\n",
    " .dt.month\n",
    " .value_counts()\n",
    " .sort_index(ascending=True)\n",
    " .plot.bar(title=\"Total tweets per Month\"));"
   ]
  },
  {
   "cell_type": "code",
   "execution_count": 21,
   "id": "passive-richardson",
   "metadata": {},
   "outputs": [
    {
     "data": {
      "text/html": [
       "<div>\n",
       "<style scoped>\n",
       "    .dataframe tbody tr th:only-of-type {\n",
       "        vertical-align: middle;\n",
       "    }\n",
       "\n",
       "    .dataframe tbody tr th {\n",
       "        vertical-align: top;\n",
       "    }\n",
       "\n",
       "    .dataframe thead th {\n",
       "        text-align: right;\n",
       "    }\n",
       "</style>\n",
       "<table border=\"1\" class=\"dataframe\">\n",
       "  <thead>\n",
       "    <tr style=\"text-align: right;\">\n",
       "      <th></th>\n",
       "      <th>like_count</th>\n",
       "      <th>quote_count</th>\n",
       "      <th>reply_count</th>\n",
       "      <th>retweet_count</th>\n",
       "    </tr>\n",
       "  </thead>\n",
       "  <tbody>\n",
       "    <tr>\n",
       "      <th>count</th>\n",
       "      <td>1.689943e+06</td>\n",
       "      <td>1.689943e+06</td>\n",
       "      <td>1.689943e+06</td>\n",
       "      <td>1.689943e+06</td>\n",
       "    </tr>\n",
       "    <tr>\n",
       "      <th>mean</th>\n",
       "      <td>9.670482e+00</td>\n",
       "      <td>4.139264e-01</td>\n",
       "      <td>1.585697e+00</td>\n",
       "      <td>2.943078e+00</td>\n",
       "    </tr>\n",
       "    <tr>\n",
       "      <th>std</th>\n",
       "      <td>1.411310e+02</td>\n",
       "      <td>4.097717e+01</td>\n",
       "      <td>4.846184e+01</td>\n",
       "      <td>1.030875e+02</td>\n",
       "    </tr>\n",
       "    <tr>\n",
       "      <th>min</th>\n",
       "      <td>0.000000e+00</td>\n",
       "      <td>0.000000e+00</td>\n",
       "      <td>0.000000e+00</td>\n",
       "      <td>0.000000e+00</td>\n",
       "    </tr>\n",
       "    <tr>\n",
       "      <th>0%</th>\n",
       "      <td>0.000000e+00</td>\n",
       "      <td>0.000000e+00</td>\n",
       "      <td>0.000000e+00</td>\n",
       "      <td>0.000000e+00</td>\n",
       "    </tr>\n",
       "    <tr>\n",
       "      <th>10%</th>\n",
       "      <td>0.000000e+00</td>\n",
       "      <td>0.000000e+00</td>\n",
       "      <td>0.000000e+00</td>\n",
       "      <td>0.000000e+00</td>\n",
       "    </tr>\n",
       "    <tr>\n",
       "      <th>20%</th>\n",
       "      <td>0.000000e+00</td>\n",
       "      <td>0.000000e+00</td>\n",
       "      <td>0.000000e+00</td>\n",
       "      <td>0.000000e+00</td>\n",
       "    </tr>\n",
       "    <tr>\n",
       "      <th>30%</th>\n",
       "      <td>0.000000e+00</td>\n",
       "      <td>0.000000e+00</td>\n",
       "      <td>0.000000e+00</td>\n",
       "      <td>0.000000e+00</td>\n",
       "    </tr>\n",
       "    <tr>\n",
       "      <th>40%</th>\n",
       "      <td>0.000000e+00</td>\n",
       "      <td>0.000000e+00</td>\n",
       "      <td>0.000000e+00</td>\n",
       "      <td>0.000000e+00</td>\n",
       "    </tr>\n",
       "    <tr>\n",
       "      <th>50%</th>\n",
       "      <td>0.000000e+00</td>\n",
       "      <td>0.000000e+00</td>\n",
       "      <td>0.000000e+00</td>\n",
       "      <td>0.000000e+00</td>\n",
       "    </tr>\n",
       "    <tr>\n",
       "      <th>60%</th>\n",
       "      <td>1.000000e+00</td>\n",
       "      <td>0.000000e+00</td>\n",
       "      <td>0.000000e+00</td>\n",
       "      <td>0.000000e+00</td>\n",
       "    </tr>\n",
       "    <tr>\n",
       "      <th>70%</th>\n",
       "      <td>1.000000e+00</td>\n",
       "      <td>0.000000e+00</td>\n",
       "      <td>0.000000e+00</td>\n",
       "      <td>0.000000e+00</td>\n",
       "    </tr>\n",
       "    <tr>\n",
       "      <th>80%</th>\n",
       "      <td>3.000000e+00</td>\n",
       "      <td>0.000000e+00</td>\n",
       "      <td>0.000000e+00</td>\n",
       "      <td>1.000000e+00</td>\n",
       "    </tr>\n",
       "    <tr>\n",
       "      <th>90%</th>\n",
       "      <td>8.000000e+00</td>\n",
       "      <td>0.000000e+00</td>\n",
       "      <td>1.000000e+00</td>\n",
       "      <td>2.000000e+00</td>\n",
       "    </tr>\n",
       "    <tr>\n",
       "      <th>max</th>\n",
       "      <td>5.692300e+04</td>\n",
       "      <td>3.972800e+04</td>\n",
       "      <td>3.968500e+04</td>\n",
       "      <td>5.111300e+04</td>\n",
       "    </tr>\n",
       "  </tbody>\n",
       "</table>\n",
       "</div>"
      ],
      "text/plain": [
       "         like_count   quote_count   reply_count  retweet_count\n",
       "count  1.689943e+06  1.689943e+06  1.689943e+06   1.689943e+06\n",
       "mean   9.670482e+00  4.139264e-01  1.585697e+00   2.943078e+00\n",
       "std    1.411310e+02  4.097717e+01  4.846184e+01   1.030875e+02\n",
       "min    0.000000e+00  0.000000e+00  0.000000e+00   0.000000e+00\n",
       "0%     0.000000e+00  0.000000e+00  0.000000e+00   0.000000e+00\n",
       "10%    0.000000e+00  0.000000e+00  0.000000e+00   0.000000e+00\n",
       "20%    0.000000e+00  0.000000e+00  0.000000e+00   0.000000e+00\n",
       "30%    0.000000e+00  0.000000e+00  0.000000e+00   0.000000e+00\n",
       "40%    0.000000e+00  0.000000e+00  0.000000e+00   0.000000e+00\n",
       "50%    0.000000e+00  0.000000e+00  0.000000e+00   0.000000e+00\n",
       "60%    1.000000e+00  0.000000e+00  0.000000e+00   0.000000e+00\n",
       "70%    1.000000e+00  0.000000e+00  0.000000e+00   0.000000e+00\n",
       "80%    3.000000e+00  0.000000e+00  0.000000e+00   1.000000e+00\n",
       "90%    8.000000e+00  0.000000e+00  1.000000e+00   2.000000e+00\n",
       "max    5.692300e+04  3.972800e+04  3.968500e+04   5.111300e+04"
      ]
     },
     "execution_count": 21,
     "metadata": {},
     "output_type": "execute_result"
    }
   ],
   "source": [
    "# Descriptive Statistics: Tweet metrics\n",
    "(tweets_df\n",
    " [[\"like_count\", \"quote_count\", \"reply_count\", \"retweet_count\"]]\n",
    " .describe(percentiles=[x/100 for x in range(0,100,10)]))"
   ]
  },
  {
   "cell_type": "markdown",
   "id": "failing-solution",
   "metadata": {},
   "source": [
    "**Conclusions**\n",
    "\n",
    "Most of the tweets have **low to none impression** to community (likes, quotes, replies, retweets). But there are few tweets that are influencials and they attract the vast majority of community's attention."
   ]
  },
  {
   "cell_type": "code",
   "execution_count": 22,
   "id": "active-mainstream",
   "metadata": {},
   "outputs": [],
   "source": [
    "# What's the minimum minute for every hour.\n",
    "# If the minute is too high, we can conclude that there are many tweets this hour."
   ]
  },
  {
   "cell_type": "markdown",
   "id": "vocational-sperm",
   "metadata": {
    "heading_collapsed": true
   },
   "source": [
    "## WordCloud"
   ]
  },
  {
   "cell_type": "code",
   "execution_count": null,
   "id": "gentle-river",
   "metadata": {
    "hidden": true
   },
   "outputs": [],
   "source": [
    "from wordcloud import WordCloud, STOPWORDS, ImageColorGenerator"
   ]
  },
  {
   "cell_type": "code",
   "execution_count": null,
   "id": "labeled-argument",
   "metadata": {
    "hidden": true
   },
   "outputs": [],
   "source": [
    "# WordCloud?"
   ]
  },
  {
   "cell_type": "code",
   "execution_count": null,
   "id": "other-miracle",
   "metadata": {
    "hidden": true
   },
   "outputs": [],
   "source": [
    "# Concatanate tweets on a single string\n",
    "text = \" \".join(review for review in tweets_df[\"text\"])\n",
    "total_words = len(text)\n",
    "print (f\"There are {total_words} words in the combination of all tweets.\")\n",
    "\n",
    "# Lower case the words\n",
    "text = text.lower()\n",
    "\n",
    "unique_words = set(text)\n",
    "total_unique_words = len(unique_words)\n",
    "print (f\"The unique words are {total_unique_words}\")"
   ]
  },
  {
   "cell_type": "code",
   "execution_count": null,
   "id": "vietnamese-maria",
   "metadata": {
    "hidden": true
   },
   "outputs": [],
   "source": [
    "# unique_words"
   ]
  },
  {
   "cell_type": "code",
   "execution_count": null,
   "id": "polish-turkey",
   "metadata": {
    "hidden": true
   },
   "outputs": [],
   "source": [
    "# Create stopword list and update it with other common words\n",
    "stopwords = set(STOPWORDS)\n",
    "stopwords.update([\"ethereum\",\"ether\",\"eth\", \"bitcoin\",\"btc\",\n",
    "                  \"https\",\"t\", \"u\", \"b s\", \"m\", \"gt\",\"co\",\n",
    "                  \"s\",\"amp\"])\n",
    "\n",
    "# Generate a word cloud image\n",
    "wordcloud = WordCloud(stopwords=stopwords, background_color=\"white\").generate(text)\n",
    "\n",
    "# Display the generated image:\n",
    "# the matplotlib way:\n",
    "plt.imshow(wordcloud, interpolation='bilinear')\n",
    "plt.axis(\"off\")\n",
    "plt.show()"
   ]
  },
  {
   "cell_type": "code",
   "execution_count": null,
   "id": "jewish-journal",
   "metadata": {
    "hidden": true,
    "scrolled": false
   },
   "outputs": [],
   "source": [
    "# Most common words\n",
    "wordcloud.words_"
   ]
  },
  {
   "cell_type": "code",
   "execution_count": null,
   "id": "cardiac-louisville",
   "metadata": {
    "hidden": true
   },
   "outputs": [],
   "source": [
    "# from plotly_wordcloud import plotly_wordcloud as pwc\n",
    "# from plotly.offline import iplot, init_notebook_mode\n",
    "# init_notebook_mode(connected=True)\n",
    "# iplot(pwc(text))"
   ]
  },
  {
   "cell_type": "markdown",
   "id": "scheduled-association",
   "metadata": {
    "heading_collapsed": true
   },
   "source": [
    "## Find Influencers"
   ]
  },
  {
   "cell_type": "code",
   "execution_count": null,
   "id": "south-completion",
   "metadata": {
    "hidden": true,
    "scrolled": false
   },
   "outputs": [],
   "source": [
    "# \"like_count\", \"quote_count\", \"reply_count\", \"retweet_count\"\n",
    "tweets_df.sort_values(\"like_count\", ascending=False).head(5)"
   ]
  },
  {
   "cell_type": "markdown",
   "id": "blocked-residence",
   "metadata": {
    "hidden": true
   },
   "source": [
    "* There are plenty of popular tweets, which doesn't belong to colleted accounts in `twitter_accounts.txt` dataset.\n",
    "* Check specific tweet based on tweet_id: https://twitter.com/papaemman_pan/status/tweet_id"
   ]
  },
  {
   "cell_type": "code",
   "execution_count": null,
   "id": "monetary-worker",
   "metadata": {
    "hidden": true
   },
   "outputs": [],
   "source": [
    "# Filter tweets with low impression (without likes, retweets, retweets, replies)\n",
    "threshold = 1_000\n",
    "var = \"like_count\"\n",
    "\n",
    "influencial_tweets_df = tweets_df.query(f\" {var} > {threshold}\")\n",
    "print(f\"There are {len(influencial_tweets_df)} tweets with more than {threshold} {var}\")"
   ]
  },
  {
   "cell_type": "code",
   "execution_count": null,
   "id": "finnish-marriage",
   "metadata": {
    "hidden": true,
    "scrolled": false
   },
   "outputs": [],
   "source": [
    "fig = px.line(influencial_tweets_df,\n",
    "              x=\"created_at\", y=\"like_count\",\n",
    "              title='Total likes for influencial tweets',\n",
    "              hover_name=\"author_id\", # username\n",
    "              hover_data=[\"created_at\", \"like_count\",\"tweet_id\",\"text\"])\n",
    "fig.show()"
   ]
  },
  {
   "cell_type": "markdown",
   "id": "special-short",
   "metadata": {},
   "source": [
    "# NLP"
   ]
  },
  {
   "cell_type": "code",
   "execution_count": 23,
   "id": "regulated-understanding",
   "metadata": {},
   "outputs": [],
   "source": [
    "import nltk\n",
    "from nltk.corpus import stopwords\n",
    "from nltk.tokenize import word_tokenize\n",
    "from nltk.stem import WordNetLemmatizer\n",
    "from nltk.sentiment.vader import SentimentIntensityAnalyzer\n",
    "from vaderSentiment.vaderSentiment import SentimentIntensityAnalyzer\n",
    "# nltk.download('vader_lexicon')"
   ]
  },
  {
   "cell_type": "code",
   "execution_count": 24,
   "id": "attempted-phone",
   "metadata": {},
   "outputs": [],
   "source": [
    "## Text preprocesing\n",
    "\n",
    "# 1. lower_case\n",
    "tweets_df['text'] = tweets_df['text'].str.lower()"
   ]
  },
  {
   "cell_type": "markdown",
   "id": "internal-strategy",
   "metadata": {},
   "source": [
    "## VADER"
   ]
  },
  {
   "cell_type": "markdown",
   "id": "blessed-objective",
   "metadata": {},
   "source": [
    "**Sentiment Analysis using VADER**\n",
    "\n",
    "https://github.com/cjhutto/vaderSentiment\n",
    "\n",
    "**`VADER` (Valence Aware Dictionary and sEntiment Reasoner)** is a lexicon and rule-based sentiment analysis tool that is specifically attuned to sentiments expressed in social media. It is fully open-sourced under the [MIT License] (we sincerely appreciate all attributions and readily accept most contributions, but please don't hold us liable).\n",
    "\n",
    "The **`compound score`** is computed by summing the valence scores of each word in the lexicon, adjusted according to the rules, and then normalized to be between **-1 (most extreme negative) and +1 (most extreme positive)**. This is the most useful metric if you want a single unidimensional measure of sentiment for a given sentence. Calling it a 'normalized, weighted composite score' is accurate.\n",
    "\n",
    "It is also useful for researchers who would like to **set standardized thresholds** for classifying sentences as either positive, neutral, or negative. Typical threshold values (used in the literature cited on this page) are:\n",
    "\n",
    "* **positive sentiment**: `compound score >= 0.05`\n",
    "* **neutral sentiment**: `(compound score > -0.05) and (compound score < 0.05)`\n",
    "* **negative sentiment**: `compound score <= -0.05`\n",
    "\n",
    "NOTE: The compound score is the one most commonly used for sentiment analysis by most researchers, including the authors."
   ]
  },
  {
   "cell_type": "code",
   "execution_count": 25,
   "id": "different-gibraltar",
   "metadata": {},
   "outputs": [
    {
     "name": "stdout",
     "output_type": "stream",
     "text": [
      "🚨 we are excited to announce our despace spacedrop! 😱 $50,000 worth of prizes! 🎁\n",
      "\n",
      "📢 for your chance to be one of 2,000 lucky $des token winners, please follow the steps outlined in our medium article below👇\n",
      "\n",
      "➡️https://t.co/rrdpnonfjo\n",
      "\n",
      "#airdrop #airdropalert #defi #nft $eth\n",
      "Overall sentiment dictionary is :  {'neg': 0.081, 'neu': 0.627, 'pos': 0.292, 'compound': 0.9214}\n",
      "sentence was rated as  8.1 % Negative\n",
      "sentence was rated as  62.7 % Neutral\n",
      "sentence was rated as  29.2 % Positive\n"
     ]
    }
   ],
   "source": [
    "## // DEV: Experiment with VADER //\n",
    "\n",
    "## Extract a sentense\n",
    "sentence = (tweets_df\n",
    "            .sort_values(\"like_count\", ascending=False)\n",
    "            .iloc[2][\"text\"])\n",
    "\n",
    "print(sentence)\n",
    "\n",
    "## VADER\n",
    "sid_obj = SentimentIntensityAnalyzer()\n",
    "sentiment_dict = sid_obj.polarity_scores(sentence)\n",
    "print(\"Overall sentiment dictionary is : \", sentiment_dict)\n",
    "print(\"sentence was rated as \", sentiment_dict['neg']*100, \"% Negative\")\n",
    "print(\"sentence was rated as \", sentiment_dict['neu']*100, \"% Neutral\")\n",
    "print(\"sentence was rated as \", sentiment_dict['pos']*100, \"% Positive\")"
   ]
  },
  {
   "cell_type": "code",
   "execution_count": 26,
   "id": "married-eating",
   "metadata": {},
   "outputs": [
    {
     "data": {
      "text/html": [
       "<div>\n",
       "<style scoped>\n",
       "    .dataframe tbody tr th:only-of-type {\n",
       "        vertical-align: middle;\n",
       "    }\n",
       "\n",
       "    .dataframe tbody tr th {\n",
       "        vertical-align: top;\n",
       "    }\n",
       "\n",
       "    .dataframe thead th {\n",
       "        text-align: right;\n",
       "    }\n",
       "</style>\n",
       "<table border=\"1\" class=\"dataframe\">\n",
       "  <thead>\n",
       "    <tr style=\"text-align: right;\">\n",
       "      <th></th>\n",
       "      <th>author_id</th>\n",
       "      <th>created_at</th>\n",
       "      <th>tweet_id</th>\n",
       "      <th>text</th>\n",
       "      <th>like_count</th>\n",
       "      <th>quote_count</th>\n",
       "      <th>reply_count</th>\n",
       "      <th>retweet_count</th>\n",
       "      <th>created_at_date</th>\n",
       "      <th>created_at_date_hour</th>\n",
       "    </tr>\n",
       "  </thead>\n",
       "  <tbody>\n",
       "    <tr>\n",
       "      <th>0</th>\n",
       "      <td>1334365558259679238</td>\n",
       "      <td>2021-01-01 00:59:21+00:00</td>\n",
       "      <td>1344810410805919745</td>\n",
       "      <td>i've got a discount running on the nootropic i...</td>\n",
       "      <td>0</td>\n",
       "      <td>0</td>\n",
       "      <td>0</td>\n",
       "      <td>0</td>\n",
       "      <td>2021-01-01</td>\n",
       "      <td>2021-01-01 0</td>\n",
       "    </tr>\n",
       "    <tr>\n",
       "      <th>1</th>\n",
       "      <td>862148214</td>\n",
       "      <td>2021-01-01 00:59:17+00:00</td>\n",
       "      <td>1344810392594202624</td>\n",
       "      <td>happy new year everyone. \\n\\nhttps://t.co/v0yx...</td>\n",
       "      <td>0</td>\n",
       "      <td>0</td>\n",
       "      <td>0</td>\n",
       "      <td>0</td>\n",
       "      <td>2021-01-01</td>\n",
       "      <td>2021-01-01 0</td>\n",
       "    </tr>\n",
       "    <tr>\n",
       "      <th>2</th>\n",
       "      <td>1339254429862727681</td>\n",
       "      <td>2021-01-01 00:59:14+00:00</td>\n",
       "      <td>1344810380909043717</td>\n",
       "      <td>2020 recap\\n\\n3 artists (roberto hernández, 3p...</td>\n",
       "      <td>1</td>\n",
       "      <td>0</td>\n",
       "      <td>0</td>\n",
       "      <td>0</td>\n",
       "      <td>2021-01-01</td>\n",
       "      <td>2021-01-01 0</td>\n",
       "    </tr>\n",
       "    <tr>\n",
       "      <th>3</th>\n",
       "      <td>1129381702407741441</td>\n",
       "      <td>2021-01-01 00:58:52+00:00</td>\n",
       "      <td>1344810289204764674</td>\n",
       "      <td>analytics firm reveals that whales are startin...</td>\n",
       "      <td>0</td>\n",
       "      <td>0</td>\n",
       "      <td>0</td>\n",
       "      <td>0</td>\n",
       "      <td>2021-01-01</td>\n",
       "      <td>2021-01-01 0</td>\n",
       "    </tr>\n",
       "    <tr>\n",
       "      <th>4</th>\n",
       "      <td>2933596550</td>\n",
       "      <td>2021-01-01 00:58:47+00:00</td>\n",
       "      <td>1344810265884430336</td>\n",
       "      <td>happy new year #swapfolio community!\\n\\nthanks...</td>\n",
       "      <td>9</td>\n",
       "      <td>0</td>\n",
       "      <td>0</td>\n",
       "      <td>4</td>\n",
       "      <td>2021-01-01</td>\n",
       "      <td>2021-01-01 0</td>\n",
       "    </tr>\n",
       "  </tbody>\n",
       "</table>\n",
       "</div>"
      ],
      "text/plain": [
       "             author_id                created_at             tweet_id  \\\n",
       "0  1334365558259679238 2021-01-01 00:59:21+00:00  1344810410805919745   \n",
       "1            862148214 2021-01-01 00:59:17+00:00  1344810392594202624   \n",
       "2  1339254429862727681 2021-01-01 00:59:14+00:00  1344810380909043717   \n",
       "3  1129381702407741441 2021-01-01 00:58:52+00:00  1344810289204764674   \n",
       "4           2933596550 2021-01-01 00:58:47+00:00  1344810265884430336   \n",
       "\n",
       "                                                text  like_count  quote_count  \\\n",
       "0  i've got a discount running on the nootropic i...           0            0   \n",
       "1  happy new year everyone. \\n\\nhttps://t.co/v0yx...           0            0   \n",
       "2  2020 recap\\n\\n3 artists (roberto hernández, 3p...           1            0   \n",
       "3  analytics firm reveals that whales are startin...           0            0   \n",
       "4  happy new year #swapfolio community!\\n\\nthanks...           9            0   \n",
       "\n",
       "   reply_count  retweet_count created_at_date created_at_date_hour  \n",
       "0            0              0      2021-01-01         2021-01-01 0  \n",
       "1            0              0      2021-01-01         2021-01-01 0  \n",
       "2            0              0      2021-01-01         2021-01-01 0  \n",
       "3            0              0      2021-01-01         2021-01-01 0  \n",
       "4            0              4      2021-01-01         2021-01-01 0  "
      ]
     },
     "execution_count": 26,
     "metadata": {},
     "output_type": "execute_result"
    }
   ],
   "source": [
    "tweets_df.head()"
   ]
  },
  {
   "cell_type": "code",
   "execution_count": 27,
   "id": "cellular-mattress",
   "metadata": {},
   "outputs": [],
   "source": [
    "# import swifter"
   ]
  },
  {
   "cell_type": "markdown",
   "id": "double-intranet",
   "metadata": {},
   "source": [
    "Note that `swifter` will not work automatically for **string columns**. When using strings, Swifter will fallback to a “simple” Pandas apply, which will not be parallel. In this case, even forcing it to use dask will not create performance improvements, and you would be better off just splitting your dataset manually and parallelizing using multiprocessing."
   ]
  },
  {
   "cell_type": "code",
   "execution_count": null,
   "id": "material-stage",
   "metadata": {
    "scrolled": true
   },
   "outputs": [
    {
     "name": "stderr",
     "output_type": "stream",
     "text": [
      " 37%|███▋      | 627798/1689943 [1:27:52<3:15:43, 90.45it/s] "
     ]
    }
   ],
   "source": [
    "## Calculate sentiment for each tweet\n",
    "\n",
    "def extract_sentiment(sentence):\n",
    "    sid_obj = SentimentIntensityAnalyzer()\n",
    "    sentiment_dict = sid_obj.polarity_scores(sentence)\n",
    "    return sentiment_dict[\"compound\"]\n",
    "\n",
    "# Extract a sample of tweets\n",
    "# tweets_df = tweets_df.sample(1000)\n",
    "# tweets_df = tweets_df[:10_000]\n",
    "\n",
    "tweets_df['sentiment'] = (tweets_df['text']\n",
    "                          # .swifter.apply(lambda x: extract_sentiment(x))\n",
    "                          .progress_apply(lambda x: extract_sentiment(x))\n",
    "                         )"
   ]
  },
  {
   "cell_type": "code",
   "execution_count": null,
   "id": "declared-comfort",
   "metadata": {},
   "outputs": [],
   "source": [
    "## Work-around: Create a random sentiment column\n",
    "tweets_df['sentiment'] = np.random.uniform(low=-1,high=1, size=len(tweets_df))"
   ]
  },
  {
   "cell_type": "code",
   "execution_count": null,
   "id": "civilian-royalty",
   "metadata": {
    "scrolled": true
   },
   "outputs": [],
   "source": [
    "# Most positive tweets\n",
    "positive_tweets_df = (tweets_df\n",
    "                      .sort_values(\"sentiment\", ascending=False)\n",
    "                      .head(5)\n",
    "                      .sort_values(\"created_at\")\n",
    "                      [[\"author_id\", \"created_at\", \"text\", \"sentiment\"]])\n",
    "positive_tweets_df"
   ]
  },
  {
   "cell_type": "code",
   "execution_count": null,
   "id": "dramatic-bangladesh",
   "metadata": {
    "scrolled": true
   },
   "outputs": [],
   "source": [
    "# Most negative tweets\n",
    "negative_tweets_df = (tweets_df\n",
    "                      .sort_values(\"sentiment\")\n",
    "                      .head(5)\n",
    "                      .sort_values(\"created_at\")\n",
    "                      [[\"author_id\",\"created_at\", \"text\", \"sentiment\"]])\n",
    "negative_tweets_df"
   ]
  },
  {
   "cell_type": "markdown",
   "id": "periodic-romance",
   "metadata": {},
   "source": [
    "## Plots"
   ]
  },
  {
   "cell_type": "code",
   "execution_count": null,
   "id": "proper-planning",
   "metadata": {},
   "outputs": [],
   "source": [
    "# Extract most positive and most negative tweets and plot them\n",
    "import plotly.graph_objects as go\n",
    "\n",
    "fig = go.Figure()\n",
    "\n",
    "fig.add_trace(go.Scatter(x=negative_tweets_df[\"created_at\"],\n",
    "                         y=negative_tweets_df[\"sentiment\"],\n",
    "                         mode='lines+markers',\n",
    "                         text=negative_tweets_df['text'],\n",
    "                         hovertemplate=\"<p>%{text}</p>\",\n",
    "                         name='Most Negative tweets',\n",
    "                         line=dict(color='red')))\n",
    "\n",
    "fig.add_trace(go.Scatter(x=positive_tweets_df[\"created_at\"],\n",
    "                         y=positive_tweets_df[\"sentiment\"],\n",
    "                         mode='lines+markers',\n",
    "                         name='Most Positive tweets',\n",
    "                         line=dict(color='green')))\n",
    "\n",
    "\n",
    "fig.show()"
   ]
  },
  {
   "cell_type": "code",
   "execution_count": null,
   "id": "opened-syntax",
   "metadata": {},
   "outputs": [],
   "source": [
    "# Γράφημα stacked bar plot για κάθε ημέρα πόσο είναι θετικό, πόσο αρνητικό, πόσο neutral\n",
    "tweets_df[\"sentiment_val\"] = pd.cut(tweets_df[\"sentiment\"], bins = [-1, -0.05, 0.05, 1],\n",
    "                                    labels=['negative', 'neutral', 'positive'])\n",
    "\n",
    "sentiment_proportions = (tweets_df\n",
    "                         .groupby(\"created_at_date_hour\")\n",
    "                         [\"sentiment_val\"]\n",
    "                         .value_counts(normalize=True)\n",
    "                         .to_frame())\n",
    "\n",
    "sentiment_proportions = sentiment_proportions.rename(columns={\"sentiment_val\":\"sentiment_proportions\"})\n",
    "sentiment_proportions = sentiment_proportions.reset_index()"
   ]
  },
  {
   "cell_type": "code",
   "execution_count": null,
   "id": "processed-finger",
   "metadata": {},
   "outputs": [],
   "source": [
    "sentiment_proportions.head(6)"
   ]
  },
  {
   "cell_type": "code",
   "execution_count": null,
   "id": "nasty-malpractice",
   "metadata": {},
   "outputs": [],
   "source": [
    "fig = px.bar(sentiment_proportions[:3*22],\n",
    "             x=\"created_at_date_hour\",\n",
    "             y=\"sentiment_proportions\", color=\"sentiment_val\",\n",
    "             title=\"Proportion of sentiment per day\",\n",
    "            color_discrete_sequence=[\"lightgreen\", \"royalblue\", \"red\"])\n",
    "\n",
    "fig.show()"
   ]
  },
  {
   "cell_type": "code",
   "execution_count": null,
   "id": "offshore-satisfaction",
   "metadata": {},
   "outputs": [],
   "source": [
    "fig = go.Figure()\n",
    "\n",
    "fig.add_trace(go.Scatter(x=sentiment_proportions.query(\"sentiment_val=='positive'\")[\"created_at_date_hour\"],\n",
    "                         y=sentiment_proportions.query(\"sentiment_val=='positive'\")[\"sentiment_proportions\"],\n",
    "                         mode='lines+markers',\n",
    "                         name='Positive tweets',\n",
    "                         line=dict(color='lightgreen')))\n",
    "\n",
    "fig.add_trace(go.Scatter(x=sentiment_proportions.query(\"sentiment_val=='neutral'\")[\"created_at_date_hour\"],\n",
    "                         y=sentiment_proportions.query(\"sentiment_val=='neutral'\")[\"sentiment_proportions\"],\n",
    "                         mode='lines+markers',\n",
    "                         name='Neutral tweets',\n",
    "                         line=dict(color='royalblue')))\n",
    "\n",
    "\n",
    "fig.add_trace(go.Scatter(x=sentiment_proportions.query(\"sentiment_val=='negative'\")[\"created_at_date_hour\"],\n",
    "                         y=sentiment_proportions.query(\"sentiment_val=='negative'\")[\"sentiment_proportions\"],\n",
    "                         mode='lines+markers',\n",
    "                         name='Negative tweets',\n",
    "                         line=dict(color='red')))\n",
    "\n",
    "fig.update_layout(title='Proportion of sentiment in tweets',\n",
    "                   xaxis_title='Date',\n",
    "                   yaxis_title='Proportion')\n",
    "\n",
    "fig.show()"
   ]
  },
  {
   "cell_type": "markdown",
   "id": "brief-brief",
   "metadata": {},
   "source": [
    "# Store Final Dataset"
   ]
  },
  {
   "cell_type": "code",
   "execution_count": null,
   "id": "partial-sculpture",
   "metadata": {},
   "outputs": [],
   "source": [
    "tweets_df.head()"
   ]
  },
  {
   "cell_type": "code",
   "execution_count": null,
   "id": "governing-energy",
   "metadata": {},
   "outputs": [],
   "source": [
    "# Store the final dataset (Try parquet)\n",
    "tweets_df.to_pickle(\"../data/tweets_df_sentiment.pkl\")"
   ]
  }
 ],
 "metadata": {
  "kernelspec": {
   "display_name": "Python 3",
   "language": "python",
   "name": "python3"
  },
  "language_info": {
   "codemirror_mode": {
    "name": "ipython",
    "version": 3
   },
   "file_extension": ".py",
   "mimetype": "text/x-python",
   "name": "python",
   "nbconvert_exporter": "python",
   "pygments_lexer": "ipython3",
   "version": "3.7.9"
  },
  "toc": {
   "base_numbering": 1,
   "nav_menu": {},
   "number_sections": true,
   "sideBar": true,
   "skip_h1_title": false,
   "title_cell": "Table of Contents",
   "title_sidebar": "Contents",
   "toc_cell": false,
   "toc_position": {
    "height": "calc(100% - 180px)",
    "left": "10px",
    "top": "150px",
    "width": "384px"
   },
   "toc_section_display": true,
   "toc_window_display": true
  }
 },
 "nbformat": 4,
 "nbformat_minor": 5
}
